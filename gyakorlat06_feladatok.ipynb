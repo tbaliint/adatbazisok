{
    "metadata": {
        "kernelspec": {
            "name": "SQL",
            "display_name": "SQL",
            "language": "sql"
        },
        "language_info": {
            "name": "sql",
            "version": ""
        }
    },
    "nbformat_minor": 2,
    "nbformat": 4,
    "cells": [
        {
            "cell_type": "markdown",
            "source": [
                "1. <span style=\"background-color: rgb(255, 255, 255); color: rgb(0, 0, 0); font-family: &quot;Open Sans&quot;, sans-serif; font-size: 14.44px;\">Készítsünk sorszámozott listát a szálláshelyek adatairól!&nbsp;</span> \n",
                "\n",
                "a. A lista legyen a szálláshely típusa szerint, azon belül hely szerint, majd a neve szerint növekvően rendezve! \n",
                "\n",
                "b. A számozás típusonként kezdődjön újra!"
            ],
            "metadata": {
                "azdata_cell_guid": "363cd270-6577-449b-9c89-d4b7c7972d52"
            },
            "attachments": {}
        },
        {
            "cell_type": "code",
            "source": [
                "SELECT ROW_NUMBER() OVER(partition by tipus order by sz.SZALLAS_NEV ASC),\r\n",
                "        ROW_number() over(partition by hely order by sz.szallas_nev asc),\r\n",
                "        *\r\n",
                "\r\n",
                "FROM Szallashely sz"
            ],
            "metadata": {
                "azdata_cell_guid": "6ab9f633-a3b5-48c9-a1dc-4fb8235ae85b",
                "language": "sql"
            },
            "outputs": [
                {
                    "output_type": "display_data",
                    "data": {
                        "text/html": "(21 rows affected)"
                    },
                    "metadata": {}
                },
                {
                    "output_type": "display_data",
                    "data": {
                        "text/html": "Total execution time: 00:00:00.068"
                    },
                    "metadata": {}
                },
                {
                    "output_type": "execute_result",
                    "execution_count": 2,
                    "data": {
                        "application/vnd.dataresource+json": {
                            "schema": {
                                "fields": [
                                    {
                                        "name": "(No column name)"
                                    },
                                    {
                                        "name": "(No column name)"
                                    },
                                    {
                                        "name": "SZALLAS_ID"
                                    },
                                    {
                                        "name": "SZALLAS_NEV"
                                    },
                                    {
                                        "name": "HELY"
                                    },
                                    {
                                        "name": "CSILLAGOK_SZAMA"
                                    },
                                    {
                                        "name": "TIPUS"
                                    },
                                    {
                                        "name": "ROGZITETTE"
                                    },
                                    {
                                        "name": "ROGZ_IDO"
                                    },
                                    {
                                        "name": "CIM"
                                    }
                                ]
                            },
                            "data": [
                                {
                                    "(No column name)": "1",
                                    "SZALLAS_ID": "2",
                                    "SZALLAS_NEV": "Családi Ház",
                                    "HELY": "Balaton-dél",
                                    "CSILLAGOK_SZAMA": "0",
                                    "TIPUS": "vendégház",
                                    "ROGZITETTE": "Béla",
                                    "ROGZ_IDO": "2016-03-02",
                                    "CIM": "8630 Balatonboglár, József Attila utca 25"
                                },
                                {
                                    "(No column name)": "2",
                                    "SZALLAS_ID": "8",
                                    "SZALLAS_NEV": "Hotel Három Hattyú",
                                    "HELY": "Balaton-dél",
                                    "CSILLAGOK_SZAMA": "4",
                                    "TIPUS": "Hotel",
                                    "ROGZITETTE": "Béla",
                                    "ROGZ_IDO": "2016-03-13",
                                    "CIM": "8623 Balatonföldvár, Rákóczi Ferenc út 45."
                                },
                                {
                                    "(No column name)": "3",
                                    "SZALLAS_ID": "9",
                                    "SZALLAS_NEV": "Jáde panzió",
                                    "HELY": "Balaton-dél",
                                    "CSILLAGOK_SZAMA": "3",
                                    "TIPUS": "panzió",
                                    "ROGZITETTE": "Mari",
                                    "ROGZ_IDO": "2016-03-16",
                                    "CIM": "8624 Balatonföldvár, Kiss u.2."
                                },
                                {
                                    "(No column name)": "4",
                                    "SZALLAS_ID": "6",
                                    "SZALLAS_NEV": "Kentaur Hotel",
                                    "HELY": "Balaton-dél",
                                    "CSILLAGOK_SZAMA": "3",
                                    "TIPUS": "Hotel",
                                    "ROGZITETTE": "Béla",
                                    "ROGZ_IDO": "2016-03-08",
                                    "CIM": "8600 Siófok (Széplak), Akácfa utca 1"
                                },
                                {
                                    "(No column name)": "5",
                                    "SZALLAS_ID": "1",
                                    "SZALLAS_NEV": "Sába-Ház",
                                    "HELY": "Balaton-dél",
                                    "CSILLAGOK_SZAMA": "0",
                                    "TIPUS": "vendégház",
                                    "ROGZITETTE": "Béla",
                                    "ROGZ_IDO": "2016-02-28",
                                    "CIM": "8630 Balatonboglár, Radnóti Miklós utca 8"
                                },
                                {
                                    "(No column name)": "6",
                                    "SZALLAS_ID": "7",
                                    "SZALLAS_NEV": "Szieszta Apartmanház",
                                    "HELY": "Balaton-dél",
                                    "CSILLAGOK_SZAMA": "0",
                                    "TIPUS": "Apartman",
                                    "ROGZITETTE": "Mari",
                                    "ROGZ_IDO": "2016-03-11",
                                    "CIM": "8630 Balatonboglár, Dózsa György utca 108"
                                },
                                {
                                    "(No column name)": "7",
                                    "SZALLAS_ID": "15",
                                    "SZALLAS_NEV": "Tímárház Panzió",
                                    "HELY": "Balaton-dél",
                                    "CSILLAGOK_SZAMA": "3",
                                    "TIPUS": "panzió",
                                    "ROGZITETTE": "Béla",
                                    "ROGZ_IDO": "2016-03-29",
                                    "CIM": "8600 Siófok, Virág utca 1"
                                },
                                {
                                    "(No column name)": "1",
                                    "SZALLAS_ID": "11",
                                    "SZALLAS_NEV": "Partiszél Vendégház",
                                    "HELY": "Balaton-észak",
                                    "CSILLAGOK_SZAMA": "0",
                                    "TIPUS": "vendégház",
                                    "ROGZITETTE": "Béla",
                                    "ROGZ_IDO": "2016-03-22",
                                    "CIM": "8220 Balatonalmádi Neptun u. 23."
                                },
                                {
                                    "(No column name)": "1",
                                    "SZALLAS_ID": "5",
                                    "SZALLAS_NEV": "Fortuna Panzió",
                                    "HELY": "Békés megye",
                                    "CSILLAGOK_SZAMA": "3",
                                    "TIPUS": "panzió",
                                    "ROGZITETTE": "Sára",
                                    "ROGZ_IDO": "2016-03-08",
                                    "CIM": "5900 Orosháza, Gyopárosfürdő Tópart utca 3."
                                },
                                {
                                    "(No column name)": "1",
                                    "SZALLAS_ID": "4",
                                    "SZALLAS_NEV": "Fortuna panzió",
                                    "HELY": "Budapest",
                                    "CSILLAGOK_SZAMA": "3",
                                    "TIPUS": "panzió",
                                    "ROGZITETTE": "Béla",
                                    "ROGZ_IDO": "2016-03-07",
                                    "CIM": "1019 Budapest XIV. Cinkotai út 86."
                                },
                                {
                                    "(No column name)": "2",
                                    "SZALLAS_ID": "12",
                                    "SZALLAS_NEV": "Gold Hotel",
                                    "HELY": "Budapest",
                                    "CSILLAGOK_SZAMA": "3",
                                    "TIPUS": "Hotel",
                                    "ROGZITETTE": "Béla",
                                    "ROGZ_IDO": "2016-03-24",
                                    "CIM": "1016 Budapest, Hegyalja út 12"
                                },
                                {
                                    "(No column name)": "3",
                                    "SZALLAS_ID": "20",
                                    "SZALLAS_NEV": "Kollégium",
                                    "HELY": "Budapest",
                                    "CSILLAGOK_SZAMA": "0",
                                    "TIPUS": "Diákszálló",
                                    "ROGZITETTE": "Sára",
                                    "ROGZ_IDO": "2016-04-07",
                                    "CIM": "1146 Budapest, Ajtósi Dürer sor 23."
                                },
                                {
                                    "(No column name)": "4",
                                    "SZALLAS_ID": "10",
                                    "SZALLAS_NEV": "Lagúna Hotel",
                                    "HELY": "Budapest",
                                    "CSILLAGOK_SZAMA": "4",
                                    "TIPUS": "Hotel",
                                    "ROGZITETTE": "Sára",
                                    "ROGZ_IDO": "2016-03-20",
                                    "CIM": "1097 Budapest, Albert Flórián út 3"
                                },
                                {
                                    "(No column name)": "1",
                                    "SZALLAS_ID": "14",
                                    "SZALLAS_NEV": "Nyárfás Vendégház",
                                    "HELY": "Csongrád megye",
                                    "CSILLAGOK_SZAMA": "0",
                                    "TIPUS": "vendégház",
                                    "ROGZITETTE": "Béla",
                                    "ROGZ_IDO": "2016-03-27",
                                    "CIM": "6723 Szeged, Nagy u. 12."
                                },
                                {
                                    "(No column name)": "2",
                                    "SZALLAS_ID": "13",
                                    "SZALLAS_NEV": "Riviéra Panzió",
                                    "HELY": "Csongrád megye",
                                    "CSILLAGOK_SZAMA": "3",
                                    "TIPUS": "panzió",
                                    "ROGZITETTE": "Sára",
                                    "ROGZ_IDO": "2016-03-27",
                                    "CIM": "6722 Szeged, Petőfi Sándor út 3."
                                },
                                {
                                    "(No column name)": "1",
                                    "SZALLAS_ID": "18",
                                    "SZALLAS_NEV": "Fortuna Apartman",
                                    "HELY": "Dél-Somogy",
                                    "CSILLAGOK_SZAMA": "0",
                                    "TIPUS": "Apartman",
                                    "ROGZITETTE": "Béla",
                                    "ROGZ_IDO": "2016-04-07",
                                    "CIM": "7570 Barcs, Kossuth u. 13."
                                },
                                {
                                    "(No column name)": "2",
                                    "SZALLAS_ID": "21",
                                    "SZALLAS_NEV": "Müller Vendégház",
                                    "HELY": "Dél-Somogy",
                                    "CSILLAGOK_SZAMA": "0",
                                    "TIPUS": "vendégház",
                                    "ROGZITETTE": "Béla",
                                    "ROGZ_IDO": "2016-04-07",
                                    "CIM": "7570 Barcs, Magyar u. 10."
                                },
                                {
                                    "(No column name)": "3",
                                    "SZALLAS_ID": "19",
                                    "SZALLAS_NEV": "Nyárfás Vendégház",
                                    "HELY": "Dél-Somogy",
                                    "CSILLAGOK_SZAMA": "0",
                                    "TIPUS": "vendégház",
                                    "ROGZITETTE": "Sára",
                                    "ROGZ_IDO": "2016-04-07",
                                    "CIM": "7570 Barcs, Bajcsy-Zs. u. 53"
                                },
                                {
                                    "(No column name)": "1",
                                    "SZALLAS_ID": "3",
                                    "SZALLAS_NEV": "Fortuna Apartman",
                                    "HELY": "Hajdúbihar megye",
                                    "CSILLAGOK_SZAMA": "0",
                                    "TIPUS": "Apartman",
                                    "ROGZITETTE": "Sára",
                                    "ROGZ_IDO": "2016-03-06",
                                    "CIM": "4200 Hajdúszoboszló, Wesselényi utca 56."
                                },
                                {
                                    "(No column name)": "1",
                                    "SZALLAS_ID": "16",
                                    "SZALLAS_NEV": "Bagoly Hotel",
                                    "HELY": "Pest megye",
                                    "CSILLAGOK_SZAMA": "3",
                                    "TIPUS": "Hotel",
                                    "ROGZITETTE": "Mari",
                                    "ROGZ_IDO": "2016-04-01",
                                    "CIM": "2230 Gyömrő, Bergszász u. 5."
                                },
                                {
                                    "(No column name)": "1",
                                    "SZALLAS_ID": "17",
                                    "SZALLAS_NEV": "Szarvas Hotel",
                                    "HELY": "Tolna megye",
                                    "CSILLAGOK_SZAMA": "4",
                                    "TIPUS": "Hotel",
                                    "ROGZITETTE": "Béla",
                                    "ROGZ_IDO": "2016-04-04",
                                    "CIM": "7121 Szálka, Petőfi Sándor u."
                                }
                            ]
                        },
                        "text/html": "<table><tr><th>(No column name)</th><th>(No column name)</th><th>SZALLAS_ID</th><th>SZALLAS_NEV</th><th>HELY</th><th>CSILLAGOK_SZAMA</th><th>TIPUS</th><th>ROGZITETTE</th><th>ROGZ_IDO</th><th>CIM</th></tr><tr><td>1</td><td>1</td><td>2</td><td>Családi Ház</td><td>Balaton-dél</td><td>0</td><td>vendégház</td><td>Béla</td><td>2016-03-02</td><td>8630 Balatonboglár, József Attila utca 25</td></tr><tr><td>3</td><td>2</td><td>8</td><td>Hotel Három Hattyú</td><td>Balaton-dél</td><td>4</td><td>Hotel</td><td>Béla</td><td>2016-03-13</td><td>8623 Balatonföldvár, Rákóczi Ferenc út 45.</td></tr><tr><td>3</td><td>3</td><td>9</td><td>Jáde panzió</td><td>Balaton-dél</td><td>3</td><td>panzió</td><td>Mari</td><td>2016-03-16</td><td>8624 Balatonföldvár, Kiss u.2.</td></tr><tr><td>4</td><td>4</td><td>6</td><td>Kentaur Hotel</td><td>Balaton-dél</td><td>3</td><td>Hotel</td><td>Béla</td><td>2016-03-08</td><td>8600 Siófok (Széplak), Akácfa utca 1</td></tr><tr><td>6</td><td>5</td><td>1</td><td>Sába-Ház</td><td>Balaton-dél</td><td>0</td><td>vendégház</td><td>Béla</td><td>2016-02-28</td><td>8630 Balatonboglár, Radnóti Miklós utca 8</td></tr><tr><td>3</td><td>6</td><td>7</td><td>Szieszta Apartmanház</td><td>Balaton-dél</td><td>0</td><td>Apartman</td><td>Mari</td><td>2016-03-11</td><td>8630 Balatonboglár, Dózsa György utca 108</td></tr><tr><td>5</td><td>7</td><td>15</td><td>Tímárház Panzió</td><td>Balaton-dél</td><td>3</td><td>panzió</td><td>Béla</td><td>2016-03-29</td><td>8600 Siófok, Virág utca 1</td></tr><tr><td>5</td><td>1</td><td>11</td><td>Partiszél Vendégház</td><td>Balaton-észak</td><td>0</td><td>vendégház</td><td>Béla</td><td>2016-03-22</td><td>8220 Balatonalmádi Neptun u. 23.</td></tr><tr><td>2</td><td>1</td><td>5</td><td>Fortuna Panzió</td><td>Békés megye</td><td>3</td><td>panzió</td><td>Sára</td><td>2016-03-08</td><td>5900 Orosháza, Gyopárosfürdő Tópart utca 3.</td></tr><tr><td>1</td><td>1</td><td>4</td><td>Fortuna panzió</td><td>Budapest</td><td>3</td><td>panzió</td><td>Béla</td><td>2016-03-07</td><td>1019 Budapest XIV. Cinkotai út 86.</td></tr><tr><td>2</td><td>2</td><td>12</td><td>Gold Hotel</td><td>Budapest</td><td>3</td><td>Hotel</td><td>Béla</td><td>2016-03-24</td><td>1016 Budapest, Hegyalja út 12</td></tr><tr><td>1</td><td>3</td><td>20</td><td>Kollégium</td><td>Budapest</td><td>0</td><td>Diákszálló</td><td>Sára</td><td>2016-04-07</td><td>1146 Budapest, Ajtósi Dürer sor 23.</td></tr><tr><td>5</td><td>4</td><td>10</td><td>Lagúna Hotel</td><td>Budapest</td><td>4</td><td>Hotel</td><td>Sára</td><td>2016-03-20</td><td>1097 Budapest, Albert Flórián út 3</td></tr><tr><td>3</td><td>1</td><td>14</td><td>Nyárfás Vendégház</td><td>Csongrád megye</td><td>0</td><td>vendégház</td><td>Béla</td><td>2016-03-27</td><td>6723 Szeged, Nagy u. 12.</td></tr><tr><td>4</td><td>2</td><td>13</td><td>Riviéra Panzió</td><td>Csongrád megye</td><td>3</td><td>panzió</td><td>Sára</td><td>2016-03-27</td><td>6722 Szeged, Petőfi Sándor út 3.</td></tr><tr><td>2</td><td>1</td><td>18</td><td>Fortuna Apartman</td><td>Dél-Somogy</td><td>0</td><td>Apartman</td><td>Béla</td><td>2016-04-07</td><td>7570 Barcs, Kossuth u. 13.</td></tr><tr><td>2</td><td>2</td><td>21</td><td>Müller Vendégház</td><td>Dél-Somogy</td><td>0</td><td>vendégház</td><td>Béla</td><td>2016-04-07</td><td>7570 Barcs, Magyar u. 10.</td></tr><tr><td>4</td><td>3</td><td>19</td><td>Nyárfás Vendégház</td><td>Dél-Somogy</td><td>0</td><td>vendégház</td><td>Sára</td><td>2016-04-07</td><td>7570 Barcs, Bajcsy-Zs. u. 53</td></tr><tr><td>1</td><td>1</td><td>3</td><td>Fortuna Apartman</td><td>Hajdúbihar megye</td><td>0</td><td>Apartman</td><td>Sára</td><td>2016-03-06</td><td>4200 Hajdúszoboszló, Wesselényi utca 56.</td></tr><tr><td>1</td><td>1</td><td>16</td><td>Bagoly Hotel</td><td>Pest megye</td><td>3</td><td>Hotel</td><td>Mari</td><td>2016-04-01</td><td>2230 Gyömrő, Bergszász u. 5.</td></tr><tr><td>6</td><td>1</td><td>17</td><td>Szarvas Hotel</td><td>Tolna megye</td><td>4</td><td>Hotel</td><td>Béla</td><td>2016-04-04</td><td>7121 Szálka, Petőfi Sándor u.</td></tr></table>"
                    },
                    "metadata": {}
                }
            ],
            "execution_count": 2
        },
        {
            "cell_type": "markdown",
            "source": [
                "2. <span style=\"background-color: rgb(255, 255, 255); color: rgb(0, 0, 0); font-family: &quot;Open Sans&quot;, sans-serif; font-size: 14.44px;\">Készítsünk lekérdezést, amely a foglalások adatait jeleníti meg!&nbsp;</span> \n",
                "\n",
                "a. A lista tartalmazzon két új oszlopot, amelyek az adott ügyfél legrövidebb, illetve leghosszabb foglalásának hosszát (a foglalt napok számát) mutatják meg! \n",
                "\n",
                "b. Az oszlopokat nevezzük el értelemszerűen!"
            ],
            "metadata": {
                "azdata_cell_guid": "ea75c103-911f-41a3-a32c-3d40fb3e4e4a"
            },
            "attachments": {}
        },
        {
            "cell_type": "code",
            "source": [
                "SELECT v.usernev,\r\n",
                "        MIN(DATEDIFF(day, mettol, meddig)) OVER(PARTITION BY v.usernev) AS 'Legrövidebb foglalás',\r\n",
                "        MAX(DATEDIFF(day, mettol, meddig)) OVER(PARTITION BY v.usernev) AS 'Leghosszabb foglalás'\r\n",
                "\r\n",
                "FROM Foglalas f join Vendeg v on f.ugyfel_fk = v.usernev"
            ],
            "metadata": {
                "azdata_cell_guid": "e38164f7-225f-4cad-b833-720a40088ce2",
                "language": "sql"
            },
            "outputs": [
                {
                    "output_type": "display_data",
                    "data": {
                        "text/html": "(1027 rows affected)"
                    },
                    "metadata": {}
                },
                {
                    "output_type": "display_data",
                    "data": {
                        "text/html": "Total execution time: 00:00:00.066"
                    },
                    "metadata": {}
                },
                {
                    "output_type": "execute_result",
                    "execution_count": 6,
                    "data": {
                        "application/vnd.dataresource+json": {
                            "schema": {
                                "fields": [
                                    {
                                        "name": "usernev"
                                    },
                                    {
                                        "name": "Legrövidebb foglalás"
                                    },
                                    {
                                        "name": "Leghosszabb foglalás"
                                    }
                                ]
                            },
                            "data": [
                                {
                                    "usernev": "adam1",
                                    "Legrövidebb foglalás": "4",
                                    "Leghosszabb foglalás": "6"
                                },
                                {
                                    "usernev": "adam1",
                                    "Legrövidebb foglalás": "4",
                                    "Leghosszabb foglalás": "6"
                                },
                                {
                                    "usernev": "adam1",
                                    "Legrövidebb foglalás": "4",
                                    "Leghosszabb foglalás": "6"
                                },
                                {
                                    "usernev": "adam3",
                                    "Legrövidebb foglalás": "4",
                                    "Leghosszabb foglalás": "4"
                                },
                                {
                                    "usernev": "adam3",
                                    "Legrövidebb foglalás": "4",
                                    "Leghosszabb foglalás": "4"
                                },
                                {
                                    "usernev": "adam4",
                                    "Legrövidebb foglalás": "2",
                                    "Leghosszabb foglalás": "7"
                                },
                                {
                                    "usernev": "adam4",
                                    "Legrövidebb foglalás": "2",
                                    "Leghosszabb foglalás": "7"
                                },
                                {
                                    "usernev": "adam4",
                                    "Legrövidebb foglalás": "2",
                                    "Leghosszabb foglalás": "7"
                                },
                                {
                                    "usernev": "adam4",
                                    "Legrövidebb foglalás": "2",
                                    "Leghosszabb foglalás": "7"
                                },
                                {
                                    "usernev": "adam4",
                                    "Legrövidebb foglalás": "2",
                                    "Leghosszabb foglalás": "7"
                                },
                                {
                                    "usernev": "adam4",
                                    "Legrövidebb foglalás": "2",
                                    "Leghosszabb foglalás": "7"
                                },
                                {
                                    "usernev": "agnes",
                                    "Legrövidebb foglalás": "2",
                                    "Leghosszabb foglalás": "7"
                                },
                                {
                                    "usernev": "agnes",
                                    "Legrövidebb foglalás": "2",
                                    "Leghosszabb foglalás": "7"
                                },
                                {
                                    "usernev": "agnes",
                                    "Legrövidebb foglalás": "2",
                                    "Leghosszabb foglalás": "7"
                                },
                                {
                                    "usernev": "agnes",
                                    "Legrövidebb foglalás": "2",
                                    "Leghosszabb foglalás": "7"
                                },
                                {
                                    "usernev": "agnes",
                                    "Legrövidebb foglalás": "2",
                                    "Leghosszabb foglalás": "7"
                                },
                                {
                                    "usernev": "agnes3",
                                    "Legrövidebb foglalás": "1",
                                    "Leghosszabb foglalás": "6"
                                },
                                {
                                    "usernev": "agnes3",
                                    "Legrövidebb foglalás": "1",
                                    "Leghosszabb foglalás": "6"
                                },
                                {
                                    "usernev": "agnes3",
                                    "Legrövidebb foglalás": "1",
                                    "Leghosszabb foglalás": "6"
                                },
                                {
                                    "usernev": "AGNESH",
                                    "Legrövidebb foglalás": "1",
                                    "Leghosszabb foglalás": "7"
                                },
                                {
                                    "usernev": "AGNESH",
                                    "Legrövidebb foglalás": "1",
                                    "Leghosszabb foglalás": "7"
                                },
                                {
                                    "usernev": "AGNESH",
                                    "Legrövidebb foglalás": "1",
                                    "Leghosszabb foglalás": "7"
                                },
                                {
                                    "usernev": "AGNESH",
                                    "Legrövidebb foglalás": "1",
                                    "Leghosszabb foglalás": "7"
                                },
                                {
                                    "usernev": "AGNESH",
                                    "Legrövidebb foglalás": "1",
                                    "Leghosszabb foglalás": "7"
                                },
                                {
                                    "usernev": "AGNESH",
                                    "Legrövidebb foglalás": "1",
                                    "Leghosszabb foglalás": "7"
                                },
                                {
                                    "usernev": "AGNESK",
                                    "Legrövidebb foglalás": "1",
                                    "Leghosszabb foglalás": "3"
                                },
                                {
                                    "usernev": "AGNESK",
                                    "Legrövidebb foglalás": "1",
                                    "Leghosszabb foglalás": "3"
                                },
                                {
                                    "usernev": "AGNESK",
                                    "Legrövidebb foglalás": "1",
                                    "Leghosszabb foglalás": "3"
                                },
                                {
                                    "usernev": "akos",
                                    "Legrövidebb foglalás": "1",
                                    "Leghosszabb foglalás": "6"
                                },
                                {
                                    "usernev": "akos",
                                    "Legrövidebb foglalás": "1",
                                    "Leghosszabb foglalás": "6"
                                },
                                {
                                    "usernev": "akos",
                                    "Legrövidebb foglalás": "1",
                                    "Leghosszabb foglalás": "6"
                                },
                                {
                                    "usernev": "akos",
                                    "Legrövidebb foglalás": "1",
                                    "Leghosszabb foglalás": "6"
                                },
                                {
                                    "usernev": "akos",
                                    "Legrövidebb foglalás": "1",
                                    "Leghosszabb foglalás": "6"
                                },
                                {
                                    "usernev": "akos",
                                    "Legrövidebb foglalás": "1",
                                    "Leghosszabb foglalás": "6"
                                },
                                {
                                    "usernev": "akos",
                                    "Legrövidebb foglalás": "1",
                                    "Leghosszabb foglalás": "6"
                                },
                                {
                                    "usernev": "akos",
                                    "Legrövidebb foglalás": "1",
                                    "Leghosszabb foglalás": "6"
                                },
                                {
                                    "usernev": "akos",
                                    "Legrövidebb foglalás": "1",
                                    "Leghosszabb foglalás": "6"
                                },
                                {
                                    "usernev": "akos",
                                    "Legrövidebb foglalás": "1",
                                    "Leghosszabb foglalás": "6"
                                },
                                {
                                    "usernev": "aladar",
                                    "Legrövidebb foglalás": "1",
                                    "Leghosszabb foglalás": "7"
                                },
                                {
                                    "usernev": "aladar",
                                    "Legrövidebb foglalás": "1",
                                    "Leghosszabb foglalás": "7"
                                },
                                {
                                    "usernev": "aladar",
                                    "Legrövidebb foglalás": "1",
                                    "Leghosszabb foglalás": "7"
                                },
                                {
                                    "usernev": "alexandra",
                                    "Legrövidebb foglalás": "1",
                                    "Leghosszabb foglalás": "7"
                                },
                                {
                                    "usernev": "alexandra",
                                    "Legrövidebb foglalás": "1",
                                    "Leghosszabb foglalás": "7"
                                },
                                {
                                    "usernev": "alexandra",
                                    "Legrövidebb foglalás": "1",
                                    "Leghosszabb foglalás": "7"
                                },
                                {
                                    "usernev": "alexandra",
                                    "Legrövidebb foglalás": "1",
                                    "Leghosszabb foglalás": "7"
                                },
                                {
                                    "usernev": "alexandra",
                                    "Legrövidebb foglalás": "1",
                                    "Leghosszabb foglalás": "7"
                                },
                                {
                                    "usernev": "alexandra",
                                    "Legrövidebb foglalás": "1",
                                    "Leghosszabb foglalás": "7"
                                },
                                {
                                    "usernev": "alexandra",
                                    "Legrövidebb foglalás": "1",
                                    "Leghosszabb foglalás": "7"
                                },
                                {
                                    "usernev": "andi",
                                    "Legrövidebb foglalás": "1",
                                    "Leghosszabb foglalás": "6"
                                },
                                {
                                    "usernev": "andi",
                                    "Legrövidebb foglalás": "1",
                                    "Leghosszabb foglalás": "6"
                                },
                                {
                                    "usernev": "andi",
                                    "Legrövidebb foglalás": "1",
                                    "Leghosszabb foglalás": "6"
                                },
                                {
                                    "usernev": "andi",
                                    "Legrövidebb foglalás": "1",
                                    "Leghosszabb foglalás": "6"
                                },
                                {
                                    "usernev": "andi",
                                    "Legrövidebb foglalás": "1",
                                    "Leghosszabb foglalás": "6"
                                },
                                {
                                    "usernev": "andras2",
                                    "Legrövidebb foglalás": "2",
                                    "Leghosszabb foglalás": "5"
                                },
                                {
                                    "usernev": "andras2",
                                    "Legrövidebb foglalás": "2",
                                    "Leghosszabb foglalás": "5"
                                },
                                {
                                    "usernev": "andras2",
                                    "Legrövidebb foglalás": "2",
                                    "Leghosszabb foglalás": "5"
                                },
                                {
                                    "usernev": "andras2",
                                    "Legrövidebb foglalás": "2",
                                    "Leghosszabb foglalás": "5"
                                },
                                {
                                    "usernev": "andras2",
                                    "Legrövidebb foglalás": "2",
                                    "Leghosszabb foglalás": "5"
                                },
                                {
                                    "usernev": "andras21",
                                    "Legrövidebb foglalás": "1",
                                    "Leghosszabb foglalás": "7"
                                },
                                {
                                    "usernev": "andras21",
                                    "Legrövidebb foglalás": "1",
                                    "Leghosszabb foglalás": "7"
                                },
                                {
                                    "usernev": "andras21",
                                    "Legrövidebb foglalás": "1",
                                    "Leghosszabb foglalás": "7"
                                },
                                {
                                    "usernev": "andras21",
                                    "Legrövidebb foglalás": "1",
                                    "Leghosszabb foglalás": "7"
                                },
                                {
                                    "usernev": "andras21",
                                    "Legrövidebb foglalás": "1",
                                    "Leghosszabb foglalás": "7"
                                },
                                {
                                    "usernev": "andras21",
                                    "Legrövidebb foglalás": "1",
                                    "Leghosszabb foglalás": "7"
                                },
                                {
                                    "usernev": "andras21",
                                    "Legrövidebb foglalás": "1",
                                    "Leghosszabb foglalás": "7"
                                },
                                {
                                    "usernev": "andras3",
                                    "Legrövidebb foglalás": "1",
                                    "Leghosszabb foglalás": "6"
                                },
                                {
                                    "usernev": "andras3",
                                    "Legrövidebb foglalás": "1",
                                    "Leghosszabb foglalás": "6"
                                },
                                {
                                    "usernev": "andras3",
                                    "Legrövidebb foglalás": "1",
                                    "Leghosszabb foglalás": "6"
                                },
                                {
                                    "usernev": "andras3",
                                    "Legrövidebb foglalás": "1",
                                    "Leghosszabb foglalás": "6"
                                },
                                {
                                    "usernev": "andras3",
                                    "Legrövidebb foglalás": "1",
                                    "Leghosszabb foglalás": "6"
                                },
                                {
                                    "usernev": "andras3",
                                    "Legrövidebb foglalás": "1",
                                    "Leghosszabb foglalás": "6"
                                },
                                {
                                    "usernev": "andras3",
                                    "Legrövidebb foglalás": "1",
                                    "Leghosszabb foglalás": "6"
                                },
                                {
                                    "usernev": "andras3",
                                    "Legrövidebb foglalás": "1",
                                    "Leghosszabb foglalás": "6"
                                },
                                {
                                    "usernev": "andras4",
                                    "Legrövidebb foglalás": "1",
                                    "Leghosszabb foglalás": "3"
                                },
                                {
                                    "usernev": "andras4",
                                    "Legrövidebb foglalás": "1",
                                    "Leghosszabb foglalás": "3"
                                },
                                {
                                    "usernev": "andras4",
                                    "Legrövidebb foglalás": "1",
                                    "Leghosszabb foglalás": "3"
                                },
                                {
                                    "usernev": "andras41",
                                    "Legrövidebb foglalás": "1",
                                    "Leghosszabb foglalás": "7"
                                },
                                {
                                    "usernev": "andras41",
                                    "Legrövidebb foglalás": "1",
                                    "Leghosszabb foglalás": "7"
                                },
                                {
                                    "usernev": "andras41",
                                    "Legrövidebb foglalás": "1",
                                    "Leghosszabb foglalás": "7"
                                },
                                {
                                    "usernev": "andras41",
                                    "Legrövidebb foglalás": "1",
                                    "Leghosszabb foglalás": "7"
                                },
                                {
                                    "usernev": "andras41",
                                    "Legrövidebb foglalás": "1",
                                    "Leghosszabb foglalás": "7"
                                },
                                {
                                    "usernev": "andras41",
                                    "Legrövidebb foglalás": "1",
                                    "Leghosszabb foglalás": "7"
                                },
                                {
                                    "usernev": "andras41",
                                    "Legrövidebb foglalás": "1",
                                    "Leghosszabb foglalás": "7"
                                },
                                {
                                    "usernev": "andras41",
                                    "Legrövidebb foglalás": "1",
                                    "Leghosszabb foglalás": "7"
                                },
                                {
                                    "usernev": "andras41",
                                    "Legrövidebb foglalás": "1",
                                    "Leghosszabb foglalás": "7"
                                },
                                {
                                    "usernev": "andras41",
                                    "Legrövidebb foglalás": "1",
                                    "Leghosszabb foglalás": "7"
                                },
                                {
                                    "usernev": "andras41",
                                    "Legrövidebb foglalás": "1",
                                    "Leghosszabb foglalás": "7"
                                },
                                {
                                    "usernev": "andras41",
                                    "Legrövidebb foglalás": "1",
                                    "Leghosszabb foglalás": "7"
                                },
                                {
                                    "usernev": "andras41",
                                    "Legrövidebb foglalás": "1",
                                    "Leghosszabb foglalás": "7"
                                },
                                {
                                    "usernev": "ANDRASE",
                                    "Legrövidebb foglalás": "1",
                                    "Leghosszabb foglalás": "7"
                                },
                                {
                                    "usernev": "ANDRASE",
                                    "Legrövidebb foglalás": "1",
                                    "Leghosszabb foglalás": "7"
                                },
                                {
                                    "usernev": "ANDRASE",
                                    "Legrövidebb foglalás": "1",
                                    "Leghosszabb foglalás": "7"
                                },
                                {
                                    "usernev": "ANDRASE",
                                    "Legrövidebb foglalás": "1",
                                    "Leghosszabb foglalás": "7"
                                },
                                {
                                    "usernev": "ANDRASE",
                                    "Legrövidebb foglalás": "1",
                                    "Leghosszabb foglalás": "7"
                                },
                                {
                                    "usernev": "ANDRASN",
                                    "Legrövidebb foglalás": "6",
                                    "Leghosszabb foglalás": "6"
                                },
                                {
                                    "usernev": "andrea",
                                    "Legrövidebb foglalás": "1",
                                    "Leghosszabb foglalás": "6"
                                },
                                {
                                    "usernev": "andrea",
                                    "Legrövidebb foglalás": "1",
                                    "Leghosszabb foglalás": "6"
                                },
                                {
                                    "usernev": "andrea",
                                    "Legrövidebb foglalás": "1",
                                    "Leghosszabb foglalás": "6"
                                },
                                {
                                    "usernev": "andrea",
                                    "Legrövidebb foglalás": "1",
                                    "Leghosszabb foglalás": "6"
                                },
                                {
                                    "usernev": "andrea",
                                    "Legrövidebb foglalás": "1",
                                    "Leghosszabb foglalás": "6"
                                },
                                {
                                    "usernev": "andrea",
                                    "Legrövidebb foglalás": "1",
                                    "Leghosszabb foglalás": "6"
                                },
                                {
                                    "usernev": "andrea3",
                                    "Legrövidebb foglalás": "2",
                                    "Leghosszabb foglalás": "2"
                                },
                                {
                                    "usernev": "andrea4",
                                    "Legrövidebb foglalás": "2",
                                    "Leghosszabb foglalás": "7"
                                },
                                {
                                    "usernev": "andrea4",
                                    "Legrövidebb foglalás": "2",
                                    "Leghosszabb foglalás": "7"
                                },
                                {
                                    "usernev": "andrea4",
                                    "Legrövidebb foglalás": "2",
                                    "Leghosszabb foglalás": "7"
                                },
                                {
                                    "usernev": "andrea4",
                                    "Legrövidebb foglalás": "2",
                                    "Leghosszabb foglalás": "7"
                                },
                                {
                                    "usernev": "ANDREAT",
                                    "Legrövidebb foglalás": "1",
                                    "Leghosszabb foglalás": "5"
                                },
                                {
                                    "usernev": "ANDREAT",
                                    "Legrövidebb foglalás": "1",
                                    "Leghosszabb foglalás": "5"
                                },
                                {
                                    "usernev": "ANDREAT",
                                    "Legrövidebb foglalás": "1",
                                    "Leghosszabb foglalás": "5"
                                },
                                {
                                    "usernev": "anett3",
                                    "Legrövidebb foglalás": "1",
                                    "Leghosszabb foglalás": "7"
                                },
                                {
                                    "usernev": "anett3",
                                    "Legrövidebb foglalás": "1",
                                    "Leghosszabb foglalás": "7"
                                },
                                {
                                    "usernev": "anett3",
                                    "Legrövidebb foglalás": "1",
                                    "Leghosszabb foglalás": "7"
                                },
                                {
                                    "usernev": "anett3",
                                    "Legrövidebb foglalás": "1",
                                    "Leghosszabb foglalás": "7"
                                },
                                {
                                    "usernev": "anett3",
                                    "Legrövidebb foglalás": "1",
                                    "Leghosszabb foglalás": "7"
                                },
                                {
                                    "usernev": "anett3",
                                    "Legrövidebb foglalás": "1",
                                    "Leghosszabb foglalás": "7"
                                },
                                {
                                    "usernev": "anett3",
                                    "Legrövidebb foglalás": "1",
                                    "Leghosszabb foglalás": "7"
                                },
                                {
                                    "usernev": "anett3",
                                    "Legrövidebb foglalás": "1",
                                    "Leghosszabb foglalás": "7"
                                },
                                {
                                    "usernev": "aniko",
                                    "Legrövidebb foglalás": "1",
                                    "Leghosszabb foglalás": "5"
                                },
                                {
                                    "usernev": "aniko",
                                    "Legrövidebb foglalás": "1",
                                    "Leghosszabb foglalás": "5"
                                },
                                {
                                    "usernev": "aniko",
                                    "Legrövidebb foglalás": "1",
                                    "Leghosszabb foglalás": "5"
                                },
                                {
                                    "usernev": "aniko4",
                                    "Legrövidebb foglalás": "2",
                                    "Leghosszabb foglalás": "7"
                                },
                                {
                                    "usernev": "aniko4",
                                    "Legrövidebb foglalás": "2",
                                    "Leghosszabb foglalás": "7"
                                },
                                {
                                    "usernev": "aniko4",
                                    "Legrövidebb foglalás": "2",
                                    "Leghosszabb foglalás": "7"
                                },
                                {
                                    "usernev": "aniko4",
                                    "Legrövidebb foglalás": "2",
                                    "Leghosszabb foglalás": "7"
                                },
                                {
                                    "usernev": "ANIKOS",
                                    "Legrövidebb foglalás": "1",
                                    "Leghosszabb foglalás": "7"
                                },
                                {
                                    "usernev": "ANIKOS",
                                    "Legrövidebb foglalás": "1",
                                    "Leghosszabb foglalás": "7"
                                },
                                {
                                    "usernev": "ANIKOS",
                                    "Legrövidebb foglalás": "1",
                                    "Leghosszabb foglalás": "7"
                                },
                                {
                                    "usernev": "ANIKOS",
                                    "Legrövidebb foglalás": "1",
                                    "Leghosszabb foglalás": "7"
                                },
                                {
                                    "usernev": "ANIKOS",
                                    "Legrövidebb foglalás": "1",
                                    "Leghosszabb foglalás": "7"
                                },
                                {
                                    "usernev": "ANIKOS",
                                    "Legrövidebb foglalás": "1",
                                    "Leghosszabb foglalás": "7"
                                },
                                {
                                    "usernev": "ANIKOS",
                                    "Legrövidebb foglalás": "1",
                                    "Leghosszabb foglalás": "7"
                                },
                                {
                                    "usernev": "ANIKOS",
                                    "Legrövidebb foglalás": "1",
                                    "Leghosszabb foglalás": "7"
                                },
                                {
                                    "usernev": "ANIKOS",
                                    "Legrövidebb foglalás": "1",
                                    "Leghosszabb foglalás": "7"
                                },
                                {
                                    "usernev": "anita",
                                    "Legrövidebb foglalás": "3",
                                    "Leghosszabb foglalás": "5"
                                },
                                {
                                    "usernev": "anita",
                                    "Legrövidebb foglalás": "3",
                                    "Leghosszabb foglalás": "5"
                                },
                                {
                                    "usernev": "anita",
                                    "Legrövidebb foglalás": "3",
                                    "Leghosszabb foglalás": "5"
                                },
                                {
                                    "usernev": "anita",
                                    "Legrövidebb foglalás": "3",
                                    "Leghosszabb foglalás": "5"
                                },
                                {
                                    "usernev": "annamaria1",
                                    "Legrövidebb foglalás": "1",
                                    "Leghosszabb foglalás": "1"
                                },
                                {
                                    "usernev": "annamaria1",
                                    "Legrövidebb foglalás": "1",
                                    "Leghosszabb foglalás": "1"
                                },
                                {
                                    "usernev": "ANNAMARIAR",
                                    "Legrövidebb foglalás": "1",
                                    "Leghosszabb foglalás": "4"
                                },
                                {
                                    "usernev": "ANNAMARIAR",
                                    "Legrövidebb foglalás": "1",
                                    "Leghosszabb foglalás": "4"
                                },
                                {
                                    "usernev": "ANNAMARIAR",
                                    "Legrövidebb foglalás": "1",
                                    "Leghosszabb foglalás": "4"
                                },
                                {
                                    "usernev": "ANNAMARIAR",
                                    "Legrövidebb foglalás": "1",
                                    "Leghosszabb foglalás": "4"
                                },
                                {
                                    "usernev": "ANNAMARIAR",
                                    "Legrövidebb foglalás": "1",
                                    "Leghosszabb foglalás": "4"
                                },
                                {
                                    "usernev": "ANNAMARIAR",
                                    "Legrövidebb foglalás": "1",
                                    "Leghosszabb foglalás": "4"
                                },
                                {
                                    "usernev": "aron2",
                                    "Legrövidebb foglalás": "1",
                                    "Leghosszabb foglalás": "4"
                                },
                                {
                                    "usernev": "aron2",
                                    "Legrövidebb foglalás": "1",
                                    "Leghosszabb foglalás": "4"
                                },
                                {
                                    "usernev": "aron2",
                                    "Legrövidebb foglalás": "1",
                                    "Leghosszabb foglalás": "4"
                                },
                                {
                                    "usernev": "aron2",
                                    "Legrövidebb foglalás": "1",
                                    "Leghosszabb foglalás": "4"
                                },
                                {
                                    "usernev": "aron2",
                                    "Legrövidebb foglalás": "1",
                                    "Leghosszabb foglalás": "4"
                                },
                                {
                                    "usernev": "aron2",
                                    "Legrövidebb foglalás": "1",
                                    "Leghosszabb foglalás": "4"
                                },
                                {
                                    "usernev": "ARONK",
                                    "Legrövidebb foglalás": "2",
                                    "Leghosszabb foglalás": "7"
                                },
                                {
                                    "usernev": "ARONK",
                                    "Legrövidebb foglalás": "2",
                                    "Leghosszabb foglalás": "7"
                                },
                                {
                                    "usernev": "ARONK",
                                    "Legrövidebb foglalás": "2",
                                    "Leghosszabb foglalás": "7"
                                },
                                {
                                    "usernev": "ARONK",
                                    "Legrövidebb foglalás": "2",
                                    "Leghosszabb foglalás": "7"
                                },
                                {
                                    "usernev": "ARONK",
                                    "Legrövidebb foglalás": "2",
                                    "Leghosszabb foglalás": "7"
                                },
                                {
                                    "usernev": "ARONK",
                                    "Legrövidebb foglalás": "2",
                                    "Leghosszabb foglalás": "7"
                                },
                                {
                                    "usernev": "ARONK",
                                    "Legrövidebb foglalás": "2",
                                    "Leghosszabb foglalás": "7"
                                },
                                {
                                    "usernev": "ARONK",
                                    "Legrövidebb foglalás": "2",
                                    "Leghosszabb foglalás": "7"
                                },
                                {
                                    "usernev": "ARONK",
                                    "Legrövidebb foglalás": "2",
                                    "Leghosszabb foglalás": "7"
                                },
                                {
                                    "usernev": "ARONK",
                                    "Legrövidebb foglalás": "2",
                                    "Leghosszabb foglalás": "7"
                                },
                                {
                                    "usernev": "ARONK",
                                    "Legrövidebb foglalás": "2",
                                    "Leghosszabb foglalás": "7"
                                },
                                {
                                    "usernev": "ARONK",
                                    "Legrövidebb foglalás": "2",
                                    "Leghosszabb foglalás": "7"
                                },
                                {
                                    "usernev": "ARONK",
                                    "Legrövidebb foglalás": "2",
                                    "Leghosszabb foglalás": "7"
                                },
                                {
                                    "usernev": "arpad2",
                                    "Legrövidebb foglalás": "1",
                                    "Leghosszabb foglalás": "6"
                                },
                                {
                                    "usernev": "arpad2",
                                    "Legrövidebb foglalás": "1",
                                    "Leghosszabb foglalás": "6"
                                },
                                {
                                    "usernev": "arpad2",
                                    "Legrövidebb foglalás": "1",
                                    "Leghosszabb foglalás": "6"
                                },
                                {
                                    "usernev": "arpad2",
                                    "Legrövidebb foglalás": "1",
                                    "Leghosszabb foglalás": "6"
                                },
                                {
                                    "usernev": "arpad2",
                                    "Legrövidebb foglalás": "1",
                                    "Leghosszabb foglalás": "6"
                                },
                                {
                                    "usernev": "arpad2",
                                    "Legrövidebb foglalás": "1",
                                    "Leghosszabb foglalás": "6"
                                },
                                {
                                    "usernev": "arpad2",
                                    "Legrövidebb foglalás": "1",
                                    "Leghosszabb foglalás": "6"
                                },
                                {
                                    "usernev": "ARPADH",
                                    "Legrövidebb foglalás": "1",
                                    "Leghosszabb foglalás": "7"
                                },
                                {
                                    "usernev": "ARPADH",
                                    "Legrövidebb foglalás": "1",
                                    "Leghosszabb foglalás": "7"
                                },
                                {
                                    "usernev": "ARPADH",
                                    "Legrövidebb foglalás": "1",
                                    "Leghosszabb foglalás": "7"
                                },
                                {
                                    "usernev": "ARPADH",
                                    "Legrövidebb foglalás": "1",
                                    "Leghosszabb foglalás": "7"
                                },
                                {
                                    "usernev": "ARPADH",
                                    "Legrövidebb foglalás": "1",
                                    "Leghosszabb foglalás": "7"
                                },
                                {
                                    "usernev": "ARPADH",
                                    "Legrövidebb foglalás": "1",
                                    "Leghosszabb foglalás": "7"
                                },
                                {
                                    "usernev": "ARPADH",
                                    "Legrövidebb foglalás": "1",
                                    "Leghosszabb foglalás": "7"
                                },
                                {
                                    "usernev": "ARPADM",
                                    "Legrövidebb foglalás": "2",
                                    "Leghosszabb foglalás": "5"
                                },
                                {
                                    "usernev": "ARPADM",
                                    "Legrövidebb foglalás": "2",
                                    "Leghosszabb foglalás": "5"
                                },
                                {
                                    "usernev": "ARPADM",
                                    "Legrövidebb foglalás": "2",
                                    "Leghosszabb foglalás": "5"
                                },
                                {
                                    "usernev": "ARPADM",
                                    "Legrövidebb foglalás": "2",
                                    "Leghosszabb foglalás": "5"
                                },
                                {
                                    "usernev": "ARPADM",
                                    "Legrövidebb foglalás": "2",
                                    "Leghosszabb foglalás": "5"
                                },
                                {
                                    "usernev": "ARPADM",
                                    "Legrövidebb foglalás": "2",
                                    "Leghosszabb foglalás": "5"
                                },
                                {
                                    "usernev": "attila",
                                    "Legrövidebb foglalás": "4",
                                    "Leghosszabb foglalás": "7"
                                },
                                {
                                    "usernev": "attila",
                                    "Legrövidebb foglalás": "4",
                                    "Leghosszabb foglalás": "7"
                                },
                                {
                                    "usernev": "attila",
                                    "Legrövidebb foglalás": "4",
                                    "Leghosszabb foglalás": "7"
                                },
                                {
                                    "usernev": "attila1",
                                    "Legrövidebb foglalás": "1",
                                    "Leghosszabb foglalás": "7"
                                },
                                {
                                    "usernev": "attila1",
                                    "Legrövidebb foglalás": "1",
                                    "Leghosszabb foglalás": "7"
                                },
                                {
                                    "usernev": "attila1",
                                    "Legrövidebb foglalás": "1",
                                    "Leghosszabb foglalás": "7"
                                },
                                {
                                    "usernev": "attila1",
                                    "Legrövidebb foglalás": "1",
                                    "Leghosszabb foglalás": "7"
                                },
                                {
                                    "usernev": "attila1",
                                    "Legrövidebb foglalás": "1",
                                    "Leghosszabb foglalás": "7"
                                },
                                {
                                    "usernev": "attila1",
                                    "Legrövidebb foglalás": "1",
                                    "Leghosszabb foglalás": "7"
                                },
                                {
                                    "usernev": "attila4",
                                    "Legrövidebb foglalás": "1",
                                    "Leghosszabb foglalás": "7"
                                },
                                {
                                    "usernev": "attila4",
                                    "Legrövidebb foglalás": "1",
                                    "Leghosszabb foglalás": "7"
                                },
                                {
                                    "usernev": "attila4",
                                    "Legrövidebb foglalás": "1",
                                    "Leghosszabb foglalás": "7"
                                },
                                {
                                    "usernev": "ATTILAO",
                                    "Legrövidebb foglalás": "3",
                                    "Leghosszabb foglalás": "7"
                                },
                                {
                                    "usernev": "ATTILAO",
                                    "Legrövidebb foglalás": "3",
                                    "Leghosszabb foglalás": "7"
                                },
                                {
                                    "usernev": "ATTILAO",
                                    "Legrövidebb foglalás": "3",
                                    "Leghosszabb foglalás": "7"
                                },
                                {
                                    "usernev": "ATTILAO",
                                    "Legrövidebb foglalás": "3",
                                    "Leghosszabb foglalás": "7"
                                },
                                {
                                    "usernev": "balazs1",
                                    "Legrövidebb foglalás": "2",
                                    "Leghosszabb foglalás": "7"
                                },
                                {
                                    "usernev": "balazs1",
                                    "Legrövidebb foglalás": "2",
                                    "Leghosszabb foglalás": "7"
                                },
                                {
                                    "usernev": "balazs1",
                                    "Legrövidebb foglalás": "2",
                                    "Leghosszabb foglalás": "7"
                                },
                                {
                                    "usernev": "balazs1",
                                    "Legrövidebb foglalás": "2",
                                    "Leghosszabb foglalás": "7"
                                },
                                {
                                    "usernev": "balazs1",
                                    "Legrövidebb foglalás": "2",
                                    "Leghosszabb foglalás": "7"
                                },
                                {
                                    "usernev": "balazs1",
                                    "Legrövidebb foglalás": "2",
                                    "Leghosszabb foglalás": "7"
                                },
                                {
                                    "usernev": "balazs2",
                                    "Legrövidebb foglalás": "1",
                                    "Leghosszabb foglalás": "7"
                                },
                                {
                                    "usernev": "balazs2",
                                    "Legrövidebb foglalás": "1",
                                    "Leghosszabb foglalás": "7"
                                },
                                {
                                    "usernev": "balazs2",
                                    "Legrövidebb foglalás": "1",
                                    "Leghosszabb foglalás": "7"
                                },
                                {
                                    "usernev": "balazs2",
                                    "Legrövidebb foglalás": "1",
                                    "Leghosszabb foglalás": "7"
                                },
                                {
                                    "usernev": "balazs2",
                                    "Legrövidebb foglalás": "1",
                                    "Leghosszabb foglalás": "7"
                                },
                                {
                                    "usernev": "balazs2",
                                    "Legrövidebb foglalás": "1",
                                    "Leghosszabb foglalás": "7"
                                },
                                {
                                    "usernev": "balazs2",
                                    "Legrövidebb foglalás": "1",
                                    "Leghosszabb foglalás": "7"
                                },
                                {
                                    "usernev": "balazs2",
                                    "Legrövidebb foglalás": "1",
                                    "Leghosszabb foglalás": "7"
                                },
                                {
                                    "usernev": "balazs2",
                                    "Legrövidebb foglalás": "1",
                                    "Leghosszabb foglalás": "7"
                                },
                                {
                                    "usernev": "balazs2",
                                    "Legrövidebb foglalás": "1",
                                    "Leghosszabb foglalás": "7"
                                },
                                {
                                    "usernev": "balazs3",
                                    "Legrövidebb foglalás": "1",
                                    "Leghosszabb foglalás": "6"
                                },
                                {
                                    "usernev": "balazs3",
                                    "Legrövidebb foglalás": "1",
                                    "Leghosszabb foglalás": "6"
                                },
                                {
                                    "usernev": "balazs3",
                                    "Legrövidebb foglalás": "1",
                                    "Leghosszabb foglalás": "6"
                                },
                                {
                                    "usernev": "balazs3",
                                    "Legrövidebb foglalás": "1",
                                    "Leghosszabb foglalás": "6"
                                },
                                {
                                    "usernev": "balazs3",
                                    "Legrövidebb foglalás": "1",
                                    "Leghosszabb foglalás": "6"
                                },
                                {
                                    "usernev": "balazs3",
                                    "Legrövidebb foglalás": "1",
                                    "Leghosszabb foglalás": "6"
                                },
                                {
                                    "usernev": "balint",
                                    "Legrövidebb foglalás": "2",
                                    "Leghosszabb foglalás": "7"
                                },
                                {
                                    "usernev": "balint",
                                    "Legrövidebb foglalás": "2",
                                    "Leghosszabb foglalás": "7"
                                },
                                {
                                    "usernev": "balint",
                                    "Legrövidebb foglalás": "2",
                                    "Leghosszabb foglalás": "7"
                                },
                                {
                                    "usernev": "balint1",
                                    "Legrövidebb foglalás": "2",
                                    "Leghosszabb foglalás": "5"
                                },
                                {
                                    "usernev": "balint1",
                                    "Legrövidebb foglalás": "2",
                                    "Leghosszabb foglalás": "5"
                                },
                                {
                                    "usernev": "balint1",
                                    "Legrövidebb foglalás": "2",
                                    "Leghosszabb foglalás": "5"
                                },
                                {
                                    "usernev": "balint1",
                                    "Legrövidebb foglalás": "2",
                                    "Leghosszabb foglalás": "5"
                                },
                                {
                                    "usernev": "balint1",
                                    "Legrövidebb foglalás": "2",
                                    "Leghosszabb foglalás": "5"
                                },
                                {
                                    "usernev": "balint1",
                                    "Legrövidebb foglalás": "2",
                                    "Leghosszabb foglalás": "5"
                                },
                                {
                                    "usernev": "balint1",
                                    "Legrövidebb foglalás": "2",
                                    "Leghosszabb foglalás": "5"
                                },
                                {
                                    "usernev": "balint1",
                                    "Legrövidebb foglalás": "2",
                                    "Leghosszabb foglalás": "5"
                                },
                                {
                                    "usernev": "balint1",
                                    "Legrövidebb foglalás": "2",
                                    "Leghosszabb foglalás": "5"
                                },
                                {
                                    "usernev": "balint1",
                                    "Legrövidebb foglalás": "2",
                                    "Leghosszabb foglalás": "5"
                                },
                                {
                                    "usernev": "balint2",
                                    "Legrövidebb foglalás": "2",
                                    "Leghosszabb foglalás": "5"
                                },
                                {
                                    "usernev": "balint2",
                                    "Legrövidebb foglalás": "2",
                                    "Leghosszabb foglalás": "5"
                                },
                                {
                                    "usernev": "balu",
                                    "Legrövidebb foglalás": "1",
                                    "Leghosszabb foglalás": "4"
                                },
                                {
                                    "usernev": "balu",
                                    "Legrövidebb foglalás": "1",
                                    "Leghosszabb foglalás": "4"
                                },
                                {
                                    "usernev": "beata4",
                                    "Legrövidebb foglalás": "1",
                                    "Leghosszabb foglalás": "4"
                                },
                                {
                                    "usernev": "beata4",
                                    "Legrövidebb foglalás": "1",
                                    "Leghosszabb foglalás": "4"
                                },
                                {
                                    "usernev": "beata4",
                                    "Legrövidebb foglalás": "1",
                                    "Leghosszabb foglalás": "4"
                                },
                                {
                                    "usernev": "beata4",
                                    "Legrövidebb foglalás": "1",
                                    "Leghosszabb foglalás": "4"
                                },
                                {
                                    "usernev": "beata4",
                                    "Legrövidebb foglalás": "1",
                                    "Leghosszabb foglalás": "4"
                                },
                                {
                                    "usernev": "beata4",
                                    "Legrövidebb foglalás": "1",
                                    "Leghosszabb foglalás": "4"
                                },
                                {
                                    "usernev": "BEATRIXK",
                                    "Legrövidebb foglalás": "1",
                                    "Leghosszabb foglalás": "6"
                                },
                                {
                                    "usernev": "BEATRIXK",
                                    "Legrövidebb foglalás": "1",
                                    "Leghosszabb foglalás": "6"
                                },
                                {
                                    "usernev": "BEATRIXK",
                                    "Legrövidebb foglalás": "1",
                                    "Leghosszabb foglalás": "6"
                                },
                                {
                                    "usernev": "BEATRIXK",
                                    "Legrövidebb foglalás": "1",
                                    "Leghosszabb foglalás": "6"
                                },
                                {
                                    "usernev": "BEATRIXK",
                                    "Legrövidebb foglalás": "1",
                                    "Leghosszabb foglalás": "6"
                                },
                                {
                                    "usernev": "BEATRIXK",
                                    "Legrövidebb foglalás": "1",
                                    "Leghosszabb foglalás": "6"
                                },
                                {
                                    "usernev": "BEATRIXK",
                                    "Legrövidebb foglalás": "1",
                                    "Leghosszabb foglalás": "6"
                                },
                                {
                                    "usernev": "BEATRIXK",
                                    "Legrövidebb foglalás": "1",
                                    "Leghosszabb foglalás": "6"
                                },
                                {
                                    "usernev": "BEATRIXK",
                                    "Legrövidebb foglalás": "1",
                                    "Leghosszabb foglalás": "6"
                                },
                                {
                                    "usernev": "BEATRIXS",
                                    "Legrövidebb foglalás": "1",
                                    "Leghosszabb foglalás": "6"
                                },
                                {
                                    "usernev": "BEATRIXS",
                                    "Legrövidebb foglalás": "1",
                                    "Leghosszabb foglalás": "6"
                                },
                                {
                                    "usernev": "BEATRIXS",
                                    "Legrövidebb foglalás": "1",
                                    "Leghosszabb foglalás": "6"
                                },
                                {
                                    "usernev": "BEATRIXS",
                                    "Legrövidebb foglalás": "1",
                                    "Leghosszabb foglalás": "6"
                                },
                                {
                                    "usernev": "BEATRIXS",
                                    "Legrövidebb foglalás": "1",
                                    "Leghosszabb foglalás": "6"
                                },
                                {
                                    "usernev": "BEATRIXS",
                                    "Legrövidebb foglalás": "1",
                                    "Leghosszabb foglalás": "6"
                                },
                                {
                                    "usernev": "BELAF",
                                    "Legrövidebb foglalás": "2",
                                    "Leghosszabb foglalás": "6"
                                },
                                {
                                    "usernev": "BELAF",
                                    "Legrövidebb foglalás": "2",
                                    "Leghosszabb foglalás": "6"
                                },
                                {
                                    "usernev": "BELAF",
                                    "Legrövidebb foglalás": "2",
                                    "Leghosszabb foglalás": "6"
                                },
                                {
                                    "usernev": "BELAF",
                                    "Legrövidebb foglalás": "2",
                                    "Leghosszabb foglalás": "6"
                                },
                                {
                                    "usernev": "BELAF",
                                    "Legrövidebb foglalás": "2",
                                    "Leghosszabb foglalás": "6"
                                },
                                {
                                    "usernev": "BELAF",
                                    "Legrövidebb foglalás": "2",
                                    "Leghosszabb foglalás": "6"
                                },
                                {
                                    "usernev": "bence",
                                    "Legrövidebb foglalás": "1",
                                    "Leghosszabb foglalás": "7"
                                },
                                {
                                    "usernev": "bence",
                                    "Legrövidebb foglalás": "1",
                                    "Leghosszabb foglalás": "7"
                                },
                                {
                                    "usernev": "bence",
                                    "Legrövidebb foglalás": "1",
                                    "Leghosszabb foglalás": "7"
                                },
                                {
                                    "usernev": "bence",
                                    "Legrövidebb foglalás": "1",
                                    "Leghosszabb foglalás": "7"
                                },
                                {
                                    "usernev": "bence",
                                    "Legrövidebb foglalás": "1",
                                    "Leghosszabb foglalás": "7"
                                },
                                {
                                    "usernev": "bence",
                                    "Legrövidebb foglalás": "1",
                                    "Leghosszabb foglalás": "7"
                                },
                                {
                                    "usernev": "bence",
                                    "Legrövidebb foglalás": "1",
                                    "Leghosszabb foglalás": "7"
                                },
                                {
                                    "usernev": "bence",
                                    "Legrövidebb foglalás": "1",
                                    "Leghosszabb foglalás": "7"
                                },
                                {
                                    "usernev": "bence",
                                    "Legrövidebb foglalás": "1",
                                    "Leghosszabb foglalás": "7"
                                },
                                {
                                    "usernev": "BENCEB",
                                    "Legrövidebb foglalás": "1",
                                    "Leghosszabb foglalás": "7"
                                },
                                {
                                    "usernev": "BENCEB",
                                    "Legrövidebb foglalás": "1",
                                    "Leghosszabb foglalás": "7"
                                },
                                {
                                    "usernev": "BENCEB",
                                    "Legrövidebb foglalás": "1",
                                    "Leghosszabb foglalás": "7"
                                },
                                {
                                    "usernev": "BENCEB",
                                    "Legrövidebb foglalás": "1",
                                    "Leghosszabb foglalás": "7"
                                },
                                {
                                    "usernev": "BENCEB",
                                    "Legrövidebb foglalás": "1",
                                    "Leghosszabb foglalás": "7"
                                },
                                {
                                    "usernev": "BENCEB",
                                    "Legrövidebb foglalás": "1",
                                    "Leghosszabb foglalás": "7"
                                },
                                {
                                    "usernev": "bernadett1",
                                    "Legrövidebb foglalás": "1",
                                    "Leghosszabb foglalás": "7"
                                },
                                {
                                    "usernev": "bernadett1",
                                    "Legrövidebb foglalás": "1",
                                    "Leghosszabb foglalás": "7"
                                },
                                {
                                    "usernev": "bernadett1",
                                    "Legrövidebb foglalás": "1",
                                    "Leghosszabb foglalás": "7"
                                },
                                {
                                    "usernev": "bernadett1",
                                    "Legrövidebb foglalás": "1",
                                    "Leghosszabb foglalás": "7"
                                },
                                {
                                    "usernev": "bernadett1",
                                    "Legrövidebb foglalás": "1",
                                    "Leghosszabb foglalás": "7"
                                },
                                {
                                    "usernev": "bernadett1",
                                    "Legrövidebb foglalás": "1",
                                    "Leghosszabb foglalás": "7"
                                },
                                {
                                    "usernev": "bernadett1",
                                    "Legrövidebb foglalás": "1",
                                    "Leghosszabb foglalás": "7"
                                },
                                {
                                    "usernev": "bernadett2",
                                    "Legrövidebb foglalás": "2",
                                    "Leghosszabb foglalás": "7"
                                },
                                {
                                    "usernev": "bernadett2",
                                    "Legrövidebb foglalás": "2",
                                    "Leghosszabb foglalás": "7"
                                },
                                {
                                    "usernev": "bernadett2",
                                    "Legrövidebb foglalás": "2",
                                    "Leghosszabb foglalás": "7"
                                },
                                {
                                    "usernev": "bernadett2",
                                    "Legrövidebb foglalás": "2",
                                    "Leghosszabb foglalás": "7"
                                },
                                {
                                    "usernev": "bernadett2",
                                    "Legrövidebb foglalás": "2",
                                    "Leghosszabb foglalás": "7"
                                },
                                {
                                    "usernev": "bernadett2",
                                    "Legrövidebb foglalás": "2",
                                    "Leghosszabb foglalás": "7"
                                },
                                {
                                    "usernev": "bernadett2",
                                    "Legrövidebb foglalás": "2",
                                    "Leghosszabb foglalás": "7"
                                },
                                {
                                    "usernev": "bernadett2",
                                    "Legrövidebb foglalás": "2",
                                    "Leghosszabb foglalás": "7"
                                },
                                {
                                    "usernev": "BERNADETTO",
                                    "Legrövidebb foglalás": "1",
                                    "Leghosszabb foglalás": "7"
                                },
                                {
                                    "usernev": "BERNADETTO",
                                    "Legrövidebb foglalás": "1",
                                    "Leghosszabb foglalás": "7"
                                },
                                {
                                    "usernev": "BERNADETTO",
                                    "Legrövidebb foglalás": "1",
                                    "Leghosszabb foglalás": "7"
                                },
                                {
                                    "usernev": "BERNADETTO",
                                    "Legrövidebb foglalás": "1",
                                    "Leghosszabb foglalás": "7"
                                },
                                {
                                    "usernev": "BERNADETTO",
                                    "Legrövidebb foglalás": "1",
                                    "Leghosszabb foglalás": "7"
                                },
                                {
                                    "usernev": "BERNADETTO",
                                    "Legrövidebb foglalás": "1",
                                    "Leghosszabb foglalás": "7"
                                },
                                {
                                    "usernev": "BERNADETTO",
                                    "Legrövidebb foglalás": "1",
                                    "Leghosszabb foglalás": "7"
                                },
                                {
                                    "usernev": "bertalan",
                                    "Legrövidebb foglalás": "1",
                                    "Leghosszabb foglalás": "7"
                                },
                                {
                                    "usernev": "bertalan",
                                    "Legrövidebb foglalás": "1",
                                    "Leghosszabb foglalás": "7"
                                },
                                {
                                    "usernev": "bertalan",
                                    "Legrövidebb foglalás": "1",
                                    "Leghosszabb foglalás": "7"
                                },
                                {
                                    "usernev": "bertalan",
                                    "Legrövidebb foglalás": "1",
                                    "Leghosszabb foglalás": "7"
                                },
                                {
                                    "usernev": "bertalan",
                                    "Legrövidebb foglalás": "1",
                                    "Leghosszabb foglalás": "7"
                                },
                                {
                                    "usernev": "bertalan",
                                    "Legrövidebb foglalás": "1",
                                    "Leghosszabb foglalás": "7"
                                },
                                {
                                    "usernev": "brigitta",
                                    "Legrövidebb foglalás": "2",
                                    "Leghosszabb foglalás": "7"
                                },
                                {
                                    "usernev": "brigitta",
                                    "Legrövidebb foglalás": "2",
                                    "Leghosszabb foglalás": "7"
                                },
                                {
                                    "usernev": "brigitta",
                                    "Legrövidebb foglalás": "2",
                                    "Leghosszabb foglalás": "7"
                                },
                                {
                                    "usernev": "brigitta",
                                    "Legrövidebb foglalás": "2",
                                    "Leghosszabb foglalás": "7"
                                },
                                {
                                    "usernev": "brigitta",
                                    "Legrövidebb foglalás": "2",
                                    "Leghosszabb foglalás": "7"
                                },
                                {
                                    "usernev": "brigitta3",
                                    "Legrövidebb foglalás": "4",
                                    "Leghosszabb foglalás": "7"
                                },
                                {
                                    "usernev": "brigitta3",
                                    "Legrövidebb foglalás": "4",
                                    "Leghosszabb foglalás": "7"
                                },
                                {
                                    "usernev": "brigitta3",
                                    "Legrövidebb foglalás": "4",
                                    "Leghosszabb foglalás": "7"
                                },
                                {
                                    "usernev": "brigitta3",
                                    "Legrövidebb foglalás": "4",
                                    "Leghosszabb foglalás": "7"
                                },
                                {
                                    "usernev": "brigitta3",
                                    "Legrövidebb foglalás": "4",
                                    "Leghosszabb foglalás": "7"
                                },
                                {
                                    "usernev": "csongor3",
                                    "Legrövidebb foglalás": "1",
                                    "Leghosszabb foglalás": "7"
                                },
                                {
                                    "usernev": "csongor3",
                                    "Legrövidebb foglalás": "1",
                                    "Leghosszabb foglalás": "7"
                                },
                                {
                                    "usernev": "csongor3",
                                    "Legrövidebb foglalás": "1",
                                    "Leghosszabb foglalás": "7"
                                },
                                {
                                    "usernev": "csongor3",
                                    "Legrövidebb foglalás": "1",
                                    "Leghosszabb foglalás": "7"
                                },
                                {
                                    "usernev": "csongor3",
                                    "Legrövidebb foglalás": "1",
                                    "Leghosszabb foglalás": "7"
                                },
                                {
                                    "usernev": "csongor3",
                                    "Legrövidebb foglalás": "1",
                                    "Leghosszabb foglalás": "7"
                                },
                                {
                                    "usernev": "csongor3",
                                    "Legrövidebb foglalás": "1",
                                    "Leghosszabb foglalás": "7"
                                },
                                {
                                    "usernev": "csongor3",
                                    "Legrövidebb foglalás": "1",
                                    "Leghosszabb foglalás": "7"
                                },
                                {
                                    "usernev": "dani",
                                    "Legrövidebb foglalás": "1",
                                    "Leghosszabb foglalás": "7"
                                },
                                {
                                    "usernev": "dani",
                                    "Legrövidebb foglalás": "1",
                                    "Leghosszabb foglalás": "7"
                                },
                                {
                                    "usernev": "dani",
                                    "Legrövidebb foglalás": "1",
                                    "Leghosszabb foglalás": "7"
                                },
                                {
                                    "usernev": "dani",
                                    "Legrövidebb foglalás": "1",
                                    "Leghosszabb foglalás": "7"
                                },
                                {
                                    "usernev": "dani",
                                    "Legrövidebb foglalás": "1",
                                    "Leghosszabb foglalás": "7"
                                },
                                {
                                    "usernev": "dani",
                                    "Legrövidebb foglalás": "1",
                                    "Leghosszabb foglalás": "7"
                                },
                                {
                                    "usernev": "dani",
                                    "Legrövidebb foglalás": "1",
                                    "Leghosszabb foglalás": "7"
                                },
                                {
                                    "usernev": "dani",
                                    "Legrövidebb foglalás": "1",
                                    "Leghosszabb foglalás": "7"
                                },
                                {
                                    "usernev": "dani",
                                    "Legrövidebb foglalás": "1",
                                    "Leghosszabb foglalás": "7"
                                },
                                {
                                    "usernev": "daniel",
                                    "Legrövidebb foglalás": "1",
                                    "Leghosszabb foglalás": "6"
                                },
                                {
                                    "usernev": "daniel",
                                    "Legrövidebb foglalás": "1",
                                    "Leghosszabb foglalás": "6"
                                },
                                {
                                    "usernev": "daniel",
                                    "Legrövidebb foglalás": "1",
                                    "Leghosszabb foglalás": "6"
                                },
                                {
                                    "usernev": "daniel",
                                    "Legrövidebb foglalás": "1",
                                    "Leghosszabb foglalás": "6"
                                },
                                {
                                    "usernev": "daniel",
                                    "Legrövidebb foglalás": "1",
                                    "Leghosszabb foglalás": "6"
                                },
                                {
                                    "usernev": "daniel",
                                    "Legrövidebb foglalás": "1",
                                    "Leghosszabb foglalás": "6"
                                },
                                {
                                    "usernev": "daniel",
                                    "Legrövidebb foglalás": "1",
                                    "Leghosszabb foglalás": "6"
                                },
                                {
                                    "usernev": "daniel",
                                    "Legrövidebb foglalás": "1",
                                    "Leghosszabb foglalás": "6"
                                },
                                {
                                    "usernev": "daniel",
                                    "Legrövidebb foglalás": "1",
                                    "Leghosszabb foglalás": "6"
                                },
                                {
                                    "usernev": "daniel1",
                                    "Legrövidebb foglalás": "1",
                                    "Leghosszabb foglalás": "5"
                                },
                                {
                                    "usernev": "daniel1",
                                    "Legrövidebb foglalás": "1",
                                    "Leghosszabb foglalás": "5"
                                },
                                {
                                    "usernev": "daniel1",
                                    "Legrövidebb foglalás": "1",
                                    "Leghosszabb foglalás": "5"
                                },
                                {
                                    "usernev": "daniel1",
                                    "Legrövidebb foglalás": "1",
                                    "Leghosszabb foglalás": "5"
                                },
                                {
                                    "usernev": "daniel1",
                                    "Legrövidebb foglalás": "1",
                                    "Leghosszabb foglalás": "5"
                                },
                                {
                                    "usernev": "daniel1",
                                    "Legrövidebb foglalás": "1",
                                    "Leghosszabb foglalás": "5"
                                },
                                {
                                    "usernev": "daniel1",
                                    "Legrövidebb foglalás": "1",
                                    "Leghosszabb foglalás": "5"
                                },
                                {
                                    "usernev": "david",
                                    "Legrövidebb foglalás": "1",
                                    "Leghosszabb foglalás": "7"
                                },
                                {
                                    "usernev": "david",
                                    "Legrövidebb foglalás": "1",
                                    "Leghosszabb foglalás": "7"
                                },
                                {
                                    "usernev": "david",
                                    "Legrövidebb foglalás": "1",
                                    "Leghosszabb foglalás": "7"
                                },
                                {
                                    "usernev": "david",
                                    "Legrövidebb foglalás": "1",
                                    "Leghosszabb foglalás": "7"
                                },
                                {
                                    "usernev": "david",
                                    "Legrövidebb foglalás": "1",
                                    "Leghosszabb foglalás": "7"
                                },
                                {
                                    "usernev": "david",
                                    "Legrövidebb foglalás": "1",
                                    "Leghosszabb foglalás": "7"
                                },
                                {
                                    "usernev": "david",
                                    "Legrövidebb foglalás": "1",
                                    "Leghosszabb foglalás": "7"
                                },
                                {
                                    "usernev": "david",
                                    "Legrövidebb foglalás": "1",
                                    "Leghosszabb foglalás": "7"
                                },
                                {
                                    "usernev": "david",
                                    "Legrövidebb foglalás": "1",
                                    "Leghosszabb foglalás": "7"
                                },
                                {
                                    "usernev": "david1",
                                    "Legrövidebb foglalás": "1",
                                    "Leghosszabb foglalás": "7"
                                },
                                {
                                    "usernev": "david1",
                                    "Legrövidebb foglalás": "1",
                                    "Leghosszabb foglalás": "7"
                                },
                                {
                                    "usernev": "david1",
                                    "Legrövidebb foglalás": "1",
                                    "Leghosszabb foglalás": "7"
                                },
                                {
                                    "usernev": "david1",
                                    "Legrövidebb foglalás": "1",
                                    "Leghosszabb foglalás": "7"
                                },
                                {
                                    "usernev": "david1",
                                    "Legrövidebb foglalás": "1",
                                    "Leghosszabb foglalás": "7"
                                },
                                {
                                    "usernev": "david1",
                                    "Legrövidebb foglalás": "1",
                                    "Leghosszabb foglalás": "7"
                                },
                                {
                                    "usernev": "david4",
                                    "Legrövidebb foglalás": "3",
                                    "Leghosszabb foglalás": "3"
                                },
                                {
                                    "usernev": "debora",
                                    "Legrövidebb foglalás": "2",
                                    "Leghosszabb foglalás": "5"
                                },
                                {
                                    "usernev": "debora",
                                    "Legrövidebb foglalás": "2",
                                    "Leghosszabb foglalás": "5"
                                },
                                {
                                    "usernev": "debora",
                                    "Legrövidebb foglalás": "2",
                                    "Leghosszabb foglalás": "5"
                                },
                                {
                                    "usernev": "debora",
                                    "Legrövidebb foglalás": "2",
                                    "Leghosszabb foglalás": "5"
                                },
                                {
                                    "usernev": "denes",
                                    "Legrövidebb foglalás": "4",
                                    "Leghosszabb foglalás": "7"
                                },
                                {
                                    "usernev": "denes",
                                    "Legrövidebb foglalás": "4",
                                    "Leghosszabb foglalás": "7"
                                },
                                {
                                    "usernev": "denes",
                                    "Legrövidebb foglalás": "4",
                                    "Leghosszabb foglalás": "7"
                                },
                                {
                                    "usernev": "denes",
                                    "Legrövidebb foglalás": "4",
                                    "Leghosszabb foglalás": "7"
                                },
                                {
                                    "usernev": "denes",
                                    "Legrövidebb foglalás": "4",
                                    "Leghosszabb foglalás": "7"
                                },
                                {
                                    "usernev": "denes",
                                    "Legrövidebb foglalás": "4",
                                    "Leghosszabb foglalás": "7"
                                },
                                {
                                    "usernev": "dora3",
                                    "Legrövidebb foglalás": "3",
                                    "Leghosszabb foglalás": "7"
                                },
                                {
                                    "usernev": "dora3",
                                    "Legrövidebb foglalás": "3",
                                    "Leghosszabb foglalás": "7"
                                },
                                {
                                    "usernev": "dora3",
                                    "Legrövidebb foglalás": "3",
                                    "Leghosszabb foglalás": "7"
                                },
                                {
                                    "usernev": "dora3",
                                    "Legrövidebb foglalás": "3",
                                    "Leghosszabb foglalás": "7"
                                },
                                {
                                    "usernev": "dora3",
                                    "Legrövidebb foglalás": "3",
                                    "Leghosszabb foglalás": "7"
                                },
                                {
                                    "usernev": "edit",
                                    "Legrövidebb foglalás": "2",
                                    "Leghosszabb foglalás": "7"
                                },
                                {
                                    "usernev": "edit",
                                    "Legrövidebb foglalás": "2",
                                    "Leghosszabb foglalás": "7"
                                },
                                {
                                    "usernev": "edit",
                                    "Legrövidebb foglalás": "2",
                                    "Leghosszabb foglalás": "7"
                                },
                                {
                                    "usernev": "edit",
                                    "Legrövidebb foglalás": "2",
                                    "Leghosszabb foglalás": "7"
                                },
                                {
                                    "usernev": "edit",
                                    "Legrövidebb foglalás": "2",
                                    "Leghosszabb foglalás": "7"
                                },
                                {
                                    "usernev": "edit",
                                    "Legrövidebb foglalás": "2",
                                    "Leghosszabb foglalás": "7"
                                },
                                {
                                    "usernev": "edit",
                                    "Legrövidebb foglalás": "2",
                                    "Leghosszabb foglalás": "7"
                                },
                                {
                                    "usernev": "emese",
                                    "Legrövidebb foglalás": "1",
                                    "Leghosszabb foglalás": "4"
                                },
                                {
                                    "usernev": "emese",
                                    "Legrövidebb foglalás": "1",
                                    "Leghosszabb foglalás": "4"
                                },
                                {
                                    "usernev": "emese",
                                    "Legrövidebb foglalás": "1",
                                    "Leghosszabb foglalás": "4"
                                },
                                {
                                    "usernev": "emese",
                                    "Legrövidebb foglalás": "1",
                                    "Leghosszabb foglalás": "4"
                                },
                                {
                                    "usernev": "emese",
                                    "Legrövidebb foglalás": "1",
                                    "Leghosszabb foglalás": "4"
                                },
                                {
                                    "usernev": "emese",
                                    "Legrövidebb foglalás": "1",
                                    "Leghosszabb foglalás": "4"
                                },
                                {
                                    "usernev": "emese",
                                    "Legrövidebb foglalás": "1",
                                    "Leghosszabb foglalás": "4"
                                },
                                {
                                    "usernev": "eszter",
                                    "Legrövidebb foglalás": "5",
                                    "Leghosszabb foglalás": "6"
                                },
                                {
                                    "usernev": "eszter",
                                    "Legrövidebb foglalás": "5",
                                    "Leghosszabb foglalás": "6"
                                },
                                {
                                    "usernev": "eszter",
                                    "Legrövidebb foglalás": "5",
                                    "Leghosszabb foglalás": "6"
                                },
                                {
                                    "usernev": "eszter",
                                    "Legrövidebb foglalás": "5",
                                    "Leghosszabb foglalás": "6"
                                },
                                {
                                    "usernev": "eszter2",
                                    "Legrövidebb foglalás": "1",
                                    "Leghosszabb foglalás": "37"
                                },
                                {
                                    "usernev": "eszter2",
                                    "Legrövidebb foglalás": "1",
                                    "Leghosszabb foglalás": "37"
                                },
                                {
                                    "usernev": "eszter2",
                                    "Legrövidebb foglalás": "1",
                                    "Leghosszabb foglalás": "37"
                                },
                                {
                                    "usernev": "eszter2",
                                    "Legrövidebb foglalás": "1",
                                    "Leghosszabb foglalás": "37"
                                },
                                {
                                    "usernev": "eszter2",
                                    "Legrövidebb foglalás": "1",
                                    "Leghosszabb foglalás": "37"
                                },
                                {
                                    "usernev": "eszter2",
                                    "Legrövidebb foglalás": "1",
                                    "Leghosszabb foglalás": "37"
                                },
                                {
                                    "usernev": "eszter2",
                                    "Legrövidebb foglalás": "1",
                                    "Leghosszabb foglalás": "37"
                                },
                                {
                                    "usernev": "eszter2",
                                    "Legrövidebb foglalás": "1",
                                    "Leghosszabb foglalás": "37"
                                },
                                {
                                    "usernev": "eszter2",
                                    "Legrövidebb foglalás": "1",
                                    "Leghosszabb foglalás": "37"
                                },
                                {
                                    "usernev": "eszter2",
                                    "Legrövidebb foglalás": "1",
                                    "Leghosszabb foglalás": "37"
                                },
                                {
                                    "usernev": "eszter4",
                                    "Legrövidebb foglalás": "1",
                                    "Leghosszabb foglalás": "7"
                                },
                                {
                                    "usernev": "eszter4",
                                    "Legrövidebb foglalás": "1",
                                    "Leghosszabb foglalás": "7"
                                },
                                {
                                    "usernev": "eszter4",
                                    "Legrövidebb foglalás": "1",
                                    "Leghosszabb foglalás": "7"
                                },
                                {
                                    "usernev": "ESZTERE",
                                    "Legrövidebb foglalás": "2",
                                    "Leghosszabb foglalás": "7"
                                },
                                {
                                    "usernev": "ESZTERE",
                                    "Legrövidebb foglalás": "2",
                                    "Leghosszabb foglalás": "7"
                                },
                                {
                                    "usernev": "ESZTERE",
                                    "Legrövidebb foglalás": "2",
                                    "Leghosszabb foglalás": "7"
                                },
                                {
                                    "usernev": "ESZTERE",
                                    "Legrövidebb foglalás": "2",
                                    "Leghosszabb foglalás": "7"
                                },
                                {
                                    "usernev": "eva",
                                    "Legrövidebb foglalás": "2",
                                    "Leghosszabb foglalás": "3"
                                },
                                {
                                    "usernev": "eva",
                                    "Legrövidebb foglalás": "2",
                                    "Leghosszabb foglalás": "3"
                                },
                                {
                                    "usernev": "eva2",
                                    "Legrövidebb foglalás": "1",
                                    "Leghosszabb foglalás": "7"
                                },
                                {
                                    "usernev": "eva2",
                                    "Legrövidebb foglalás": "1",
                                    "Leghosszabb foglalás": "7"
                                },
                                {
                                    "usernev": "eva2",
                                    "Legrövidebb foglalás": "1",
                                    "Leghosszabb foglalás": "7"
                                },
                                {
                                    "usernev": "eva2",
                                    "Legrövidebb foglalás": "1",
                                    "Leghosszabb foglalás": "7"
                                },
                                {
                                    "usernev": "EVAV",
                                    "Legrövidebb foglalás": "4",
                                    "Leghosszabb foglalás": "7"
                                },
                                {
                                    "usernev": "EVAV",
                                    "Legrövidebb foglalás": "4",
                                    "Leghosszabb foglalás": "7"
                                },
                                {
                                    "usernev": "EVAV",
                                    "Legrövidebb foglalás": "4",
                                    "Leghosszabb foglalás": "7"
                                },
                                {
                                    "usernev": "EVAV",
                                    "Legrövidebb foglalás": "4",
                                    "Leghosszabb foglalás": "7"
                                },
                                {
                                    "usernev": "EVAV",
                                    "Legrövidebb foglalás": "4",
                                    "Leghosszabb foglalás": "7"
                                },
                                {
                                    "usernev": "ferenc1",
                                    "Legrövidebb foglalás": "1",
                                    "Leghosszabb foglalás": "6"
                                },
                                {
                                    "usernev": "ferenc1",
                                    "Legrövidebb foglalás": "1",
                                    "Leghosszabb foglalás": "6"
                                },
                                {
                                    "usernev": "ferenc1",
                                    "Legrövidebb foglalás": "1",
                                    "Leghosszabb foglalás": "6"
                                },
                                {
                                    "usernev": "ferenc1",
                                    "Legrövidebb foglalás": "1",
                                    "Leghosszabb foglalás": "6"
                                },
                                {
                                    "usernev": "fruzsina4",
                                    "Legrövidebb foglalás": "2",
                                    "Leghosszabb foglalás": "6"
                                },
                                {
                                    "usernev": "fruzsina4",
                                    "Legrövidebb foglalás": "2",
                                    "Leghosszabb foglalás": "6"
                                },
                                {
                                    "usernev": "fruzsina4",
                                    "Legrövidebb foglalás": "2",
                                    "Leghosszabb foglalás": "6"
                                },
                                {
                                    "usernev": "fruzsina4",
                                    "Legrövidebb foglalás": "2",
                                    "Leghosszabb foglalás": "6"
                                },
                                {
                                    "usernev": "fruzsina4",
                                    "Legrövidebb foglalás": "2",
                                    "Leghosszabb foglalás": "6"
                                },
                                {
                                    "usernev": "fruzsina4",
                                    "Legrövidebb foglalás": "2",
                                    "Leghosszabb foglalás": "6"
                                },
                                {
                                    "usernev": "fruzsina4",
                                    "Legrövidebb foglalás": "2",
                                    "Leghosszabb foglalás": "6"
                                },
                                {
                                    "usernev": "fruzsina4",
                                    "Legrövidebb foglalás": "2",
                                    "Leghosszabb foglalás": "6"
                                },
                                {
                                    "usernev": "gabor1",
                                    "Legrövidebb foglalás": "1",
                                    "Leghosszabb foglalás": "4"
                                },
                                {
                                    "usernev": "gabor1",
                                    "Legrövidebb foglalás": "1",
                                    "Leghosszabb foglalás": "4"
                                },
                                {
                                    "usernev": "gabor1",
                                    "Legrövidebb foglalás": "1",
                                    "Leghosszabb foglalás": "4"
                                },
                                {
                                    "usernev": "gabor1",
                                    "Legrövidebb foglalás": "1",
                                    "Leghosszabb foglalás": "4"
                                },
                                {
                                    "usernev": "gabor1",
                                    "Legrövidebb foglalás": "1",
                                    "Leghosszabb foglalás": "4"
                                },
                                {
                                    "usernev": "gabor1",
                                    "Legrövidebb foglalás": "1",
                                    "Leghosszabb foglalás": "4"
                                },
                                {
                                    "usernev": "gabor4",
                                    "Legrövidebb foglalás": "3",
                                    "Leghosszabb foglalás": "6"
                                },
                                {
                                    "usernev": "gabor4",
                                    "Legrövidebb foglalás": "3",
                                    "Leghosszabb foglalás": "6"
                                },
                                {
                                    "usernev": "gabor4",
                                    "Legrövidebb foglalás": "3",
                                    "Leghosszabb foglalás": "6"
                                },
                                {
                                    "usernev": "gabor4",
                                    "Legrövidebb foglalás": "3",
                                    "Leghosszabb foglalás": "6"
                                },
                                {
                                    "usernev": "gabriella1",
                                    "Legrövidebb foglalás": "1",
                                    "Leghosszabb foglalás": "7"
                                },
                                {
                                    "usernev": "gabriella1",
                                    "Legrövidebb foglalás": "1",
                                    "Leghosszabb foglalás": "7"
                                },
                                {
                                    "usernev": "gabriella1",
                                    "Legrövidebb foglalás": "1",
                                    "Leghosszabb foglalás": "7"
                                },
                                {
                                    "usernev": "gabriella1",
                                    "Legrövidebb foglalás": "1",
                                    "Leghosszabb foglalás": "7"
                                },
                                {
                                    "usernev": "gabriella1",
                                    "Legrövidebb foglalás": "1",
                                    "Leghosszabb foglalás": "7"
                                },
                                {
                                    "usernev": "gabriella1",
                                    "Legrövidebb foglalás": "1",
                                    "Leghosszabb foglalás": "7"
                                },
                                {
                                    "usernev": "gabriella10",
                                    "Legrövidebb foglalás": "5",
                                    "Leghosszabb foglalás": "5"
                                },
                                {
                                    "usernev": "georgij",
                                    "Legrövidebb foglalás": "4",
                                    "Leghosszabb foglalás": "7"
                                },
                                {
                                    "usernev": "georgij",
                                    "Legrövidebb foglalás": "4",
                                    "Leghosszabb foglalás": "7"
                                },
                                {
                                    "usernev": "georgij",
                                    "Legrövidebb foglalás": "4",
                                    "Leghosszabb foglalás": "7"
                                },
                                {
                                    "usernev": "georgij",
                                    "Legrövidebb foglalás": "4",
                                    "Leghosszabb foglalás": "7"
                                },
                                {
                                    "usernev": "gusztav",
                                    "Legrövidebb foglalás": "2",
                                    "Leghosszabb foglalás": "7"
                                },
                                {
                                    "usernev": "gusztav",
                                    "Legrövidebb foglalás": "2",
                                    "Leghosszabb foglalás": "7"
                                },
                                {
                                    "usernev": "gusztav",
                                    "Legrövidebb foglalás": "2",
                                    "Leghosszabb foglalás": "7"
                                },
                                {
                                    "usernev": "gusztav",
                                    "Legrövidebb foglalás": "2",
                                    "Leghosszabb foglalás": "7"
                                },
                                {
                                    "usernev": "gusztav",
                                    "Legrövidebb foglalás": "2",
                                    "Leghosszabb foglalás": "7"
                                },
                                {
                                    "usernev": "GYONGYIK",
                                    "Legrövidebb foglalás": "3",
                                    "Leghosszabb foglalás": "7"
                                },
                                {
                                    "usernev": "GYONGYIK",
                                    "Legrövidebb foglalás": "3",
                                    "Leghosszabb foglalás": "7"
                                },
                                {
                                    "usernev": "GYONGYIK",
                                    "Legrövidebb foglalás": "3",
                                    "Leghosszabb foglalás": "7"
                                },
                                {
                                    "usernev": "GYONGYIK",
                                    "Legrövidebb foglalás": "3",
                                    "Leghosszabb foglalás": "7"
                                },
                                {
                                    "usernev": "GYONGYIK",
                                    "Legrövidebb foglalás": "3",
                                    "Leghosszabb foglalás": "7"
                                },
                                {
                                    "usernev": "GYONGYIK",
                                    "Legrövidebb foglalás": "3",
                                    "Leghosszabb foglalás": "7"
                                },
                                {
                                    "usernev": "GYONGYIK",
                                    "Legrövidebb foglalás": "3",
                                    "Leghosszabb foglalás": "7"
                                },
                                {
                                    "usernev": "GYORGYO",
                                    "Legrövidebb foglalás": "1",
                                    "Leghosszabb foglalás": "7"
                                },
                                {
                                    "usernev": "GYORGYO",
                                    "Legrövidebb foglalás": "1",
                                    "Leghosszabb foglalás": "7"
                                },
                                {
                                    "usernev": "GYORGYO",
                                    "Legrövidebb foglalás": "1",
                                    "Leghosszabb foglalás": "7"
                                },
                                {
                                    "usernev": "GYORGYO",
                                    "Legrövidebb foglalás": "1",
                                    "Leghosszabb foglalás": "7"
                                },
                                {
                                    "usernev": "GYORGYO",
                                    "Legrövidebb foglalás": "1",
                                    "Leghosszabb foglalás": "7"
                                },
                                {
                                    "usernev": "GYORGYO",
                                    "Legrövidebb foglalás": "1",
                                    "Leghosszabb foglalás": "7"
                                },
                                {
                                    "usernev": "GYORGYO",
                                    "Legrövidebb foglalás": "1",
                                    "Leghosszabb foglalás": "7"
                                },
                                {
                                    "usernev": "GYORGYO",
                                    "Legrövidebb foglalás": "1",
                                    "Leghosszabb foglalás": "7"
                                },
                                {
                                    "usernev": "henrik3",
                                    "Legrövidebb foglalás": "1",
                                    "Leghosszabb foglalás": "5"
                                },
                                {
                                    "usernev": "henrik3",
                                    "Legrövidebb foglalás": "1",
                                    "Leghosszabb foglalás": "5"
                                },
                                {
                                    "usernev": "henrik3",
                                    "Legrövidebb foglalás": "1",
                                    "Leghosszabb foglalás": "5"
                                },
                                {
                                    "usernev": "IBOLYAA",
                                    "Legrövidebb foglalás": "2",
                                    "Leghosszabb foglalás": "6"
                                },
                                {
                                    "usernev": "IBOLYAA",
                                    "Legrövidebb foglalás": "2",
                                    "Leghosszabb foglalás": "6"
                                },
                                {
                                    "usernev": "IBOLYAA",
                                    "Legrövidebb foglalás": "2",
                                    "Leghosszabb foglalás": "6"
                                },
                                {
                                    "usernev": "ilona3",
                                    "Legrövidebb foglalás": "2",
                                    "Leghosszabb foglalás": "6"
                                },
                                {
                                    "usernev": "ilona3",
                                    "Legrövidebb foglalás": "2",
                                    "Leghosszabb foglalás": "6"
                                },
                                {
                                    "usernev": "ilona3",
                                    "Legrövidebb foglalás": "2",
                                    "Leghosszabb foglalás": "6"
                                },
                                {
                                    "usernev": "ilona3",
                                    "Legrövidebb foglalás": "2",
                                    "Leghosszabb foglalás": "6"
                                },
                                {
                                    "usernev": "imre",
                                    "Legrövidebb foglalás": "1",
                                    "Leghosszabb foglalás": "2"
                                },
                                {
                                    "usernev": "imre",
                                    "Legrövidebb foglalás": "1",
                                    "Leghosszabb foglalás": "2"
                                },
                                {
                                    "usernev": "imre1",
                                    "Legrövidebb foglalás": "1",
                                    "Leghosszabb foglalás": "6"
                                },
                                {
                                    "usernev": "imre1",
                                    "Legrövidebb foglalás": "1",
                                    "Leghosszabb foglalás": "6"
                                },
                                {
                                    "usernev": "imre1",
                                    "Legrövidebb foglalás": "1",
                                    "Leghosszabb foglalás": "6"
                                },
                                {
                                    "usernev": "imre1",
                                    "Legrövidebb foglalás": "1",
                                    "Leghosszabb foglalás": "6"
                                },
                                {
                                    "usernev": "imre1",
                                    "Legrövidebb foglalás": "1",
                                    "Leghosszabb foglalás": "6"
                                },
                                {
                                    "usernev": "imre1",
                                    "Legrövidebb foglalás": "1",
                                    "Leghosszabb foglalás": "6"
                                },
                                {
                                    "usernev": "imre1",
                                    "Legrövidebb foglalás": "1",
                                    "Leghosszabb foglalás": "6"
                                },
                                {
                                    "usernev": "istvan",
                                    "Legrövidebb foglalás": "2",
                                    "Leghosszabb foglalás": "3"
                                },
                                {
                                    "usernev": "istvan",
                                    "Legrövidebb foglalás": "2",
                                    "Leghosszabb foglalás": "3"
                                },
                                {
                                    "usernev": "istvan",
                                    "Legrövidebb foglalás": "2",
                                    "Leghosszabb foglalás": "3"
                                },
                                {
                                    "usernev": "istvan1",
                                    "Legrövidebb foglalás": "3",
                                    "Leghosszabb foglalás": "6"
                                },
                                {
                                    "usernev": "istvan1",
                                    "Legrövidebb foglalás": "3",
                                    "Leghosszabb foglalás": "6"
                                },
                                {
                                    "usernev": "istvan1",
                                    "Legrövidebb foglalás": "3",
                                    "Leghosszabb foglalás": "6"
                                },
                                {
                                    "usernev": "istvan1",
                                    "Legrövidebb foglalás": "3",
                                    "Leghosszabb foglalás": "6"
                                },
                                {
                                    "usernev": "ISTVANV",
                                    "Legrövidebb foglalás": "2",
                                    "Leghosszabb foglalás": "3"
                                },
                                {
                                    "usernev": "ISTVANV",
                                    "Legrövidebb foglalás": "2",
                                    "Leghosszabb foglalás": "3"
                                },
                                {
                                    "usernev": "janos3",
                                    "Legrövidebb foglalás": "1",
                                    "Leghosszabb foglalás": "5"
                                },
                                {
                                    "usernev": "janos3",
                                    "Legrövidebb foglalás": "1",
                                    "Leghosszabb foglalás": "5"
                                },
                                {
                                    "usernev": "janos3",
                                    "Legrövidebb foglalás": "1",
                                    "Leghosszabb foglalás": "5"
                                },
                                {
                                    "usernev": "janos3",
                                    "Legrövidebb foglalás": "1",
                                    "Leghosszabb foglalás": "5"
                                },
                                {
                                    "usernev": "janos3",
                                    "Legrövidebb foglalás": "1",
                                    "Leghosszabb foglalás": "5"
                                },
                                {
                                    "usernev": "JANOSG",
                                    "Legrövidebb foglalás": "2",
                                    "Leghosszabb foglalás": "7"
                                },
                                {
                                    "usernev": "JANOSG",
                                    "Legrövidebb foglalás": "2",
                                    "Leghosszabb foglalás": "7"
                                },
                                {
                                    "usernev": "JANOSG",
                                    "Legrövidebb foglalás": "2",
                                    "Leghosszabb foglalás": "7"
                                },
                                {
                                    "usernev": "JANOSG",
                                    "Legrövidebb foglalás": "2",
                                    "Leghosszabb foglalás": "7"
                                },
                                {
                                    "usernev": "JANOSG",
                                    "Legrövidebb foglalás": "2",
                                    "Leghosszabb foglalás": "7"
                                },
                                {
                                    "usernev": "JANOSG",
                                    "Legrövidebb foglalás": "2",
                                    "Leghosszabb foglalás": "7"
                                },
                                {
                                    "usernev": "JANOSG",
                                    "Legrövidebb foglalás": "2",
                                    "Leghosszabb foglalás": "7"
                                },
                                {
                                    "usernev": "JANOSP",
                                    "Legrövidebb foglalás": "2",
                                    "Leghosszabb foglalás": "7"
                                },
                                {
                                    "usernev": "JANOSP",
                                    "Legrövidebb foglalás": "2",
                                    "Leghosszabb foglalás": "7"
                                },
                                {
                                    "usernev": "JANOSP",
                                    "Legrövidebb foglalás": "2",
                                    "Leghosszabb foglalás": "7"
                                },
                                {
                                    "usernev": "JANOSP",
                                    "Legrövidebb foglalás": "2",
                                    "Leghosszabb foglalás": "7"
                                },
                                {
                                    "usernev": "jozsef",
                                    "Legrövidebb foglalás": "1",
                                    "Leghosszabb foglalás": "6"
                                },
                                {
                                    "usernev": "jozsef",
                                    "Legrövidebb foglalás": "1",
                                    "Leghosszabb foglalás": "6"
                                },
                                {
                                    "usernev": "jozsef",
                                    "Legrövidebb foglalás": "1",
                                    "Leghosszabb foglalás": "6"
                                },
                                {
                                    "usernev": "jozsef2",
                                    "Legrövidebb foglalás": "4",
                                    "Leghosszabb foglalás": "6"
                                },
                                {
                                    "usernev": "jozsef2",
                                    "Legrövidebb foglalás": "4",
                                    "Leghosszabb foglalás": "6"
                                },
                                {
                                    "usernev": "jozsef2",
                                    "Legrövidebb foglalás": "4",
                                    "Leghosszabb foglalás": "6"
                                },
                                {
                                    "usernev": "jozsef2",
                                    "Legrövidebb foglalás": "4",
                                    "Leghosszabb foglalás": "6"
                                },
                                {
                                    "usernev": "jozsef2",
                                    "Legrövidebb foglalás": "4",
                                    "Leghosszabb foglalás": "6"
                                },
                                {
                                    "usernev": "JOZSEFG",
                                    "Legrövidebb foglalás": "2",
                                    "Leghosszabb foglalás": "7"
                                },
                                {
                                    "usernev": "JOZSEFG",
                                    "Legrövidebb foglalás": "2",
                                    "Leghosszabb foglalás": "7"
                                },
                                {
                                    "usernev": "JOZSEFG",
                                    "Legrövidebb foglalás": "2",
                                    "Leghosszabb foglalás": "7"
                                },
                                {
                                    "usernev": "JOZSEFG",
                                    "Legrövidebb foglalás": "2",
                                    "Leghosszabb foglalás": "7"
                                },
                                {
                                    "usernev": "JOZSEFG",
                                    "Legrövidebb foglalás": "2",
                                    "Leghosszabb foglalás": "7"
                                },
                                {
                                    "usernev": "JOZSEFG",
                                    "Legrövidebb foglalás": "2",
                                    "Leghosszabb foglalás": "7"
                                },
                                {
                                    "usernev": "JOZSEFG",
                                    "Legrövidebb foglalás": "2",
                                    "Leghosszabb foglalás": "7"
                                },
                                {
                                    "usernev": "JUDITH",
                                    "Legrövidebb foglalás": "2",
                                    "Leghosszabb foglalás": "7"
                                },
                                {
                                    "usernev": "JUDITH",
                                    "Legrövidebb foglalás": "2",
                                    "Leghosszabb foglalás": "7"
                                },
                                {
                                    "usernev": "JUDITH",
                                    "Legrövidebb foglalás": "2",
                                    "Leghosszabb foglalás": "7"
                                },
                                {
                                    "usernev": "julia",
                                    "Legrövidebb foglalás": "1",
                                    "Leghosszabb foglalás": "7"
                                },
                                {
                                    "usernev": "julia",
                                    "Legrövidebb foglalás": "1",
                                    "Leghosszabb foglalás": "7"
                                },
                                {
                                    "usernev": "julia",
                                    "Legrövidebb foglalás": "1",
                                    "Leghosszabb foglalás": "7"
                                },
                                {
                                    "usernev": "julia",
                                    "Legrövidebb foglalás": "1",
                                    "Leghosszabb foglalás": "7"
                                },
                                {
                                    "usernev": "julia",
                                    "Legrövidebb foglalás": "1",
                                    "Leghosszabb foglalás": "7"
                                },
                                {
                                    "usernev": "julia4",
                                    "Legrövidebb foglalás": "5",
                                    "Leghosszabb foglalás": "7"
                                },
                                {
                                    "usernev": "julia4",
                                    "Legrövidebb foglalás": "5",
                                    "Leghosszabb foglalás": "7"
                                },
                                {
                                    "usernev": "julianna4",
                                    "Legrövidebb foglalás": "1",
                                    "Leghosszabb foglalás": "7"
                                },
                                {
                                    "usernev": "julianna4",
                                    "Legrövidebb foglalás": "1",
                                    "Leghosszabb foglalás": "7"
                                },
                                {
                                    "usernev": "julianna4",
                                    "Legrövidebb foglalás": "1",
                                    "Leghosszabb foglalás": "7"
                                },
                                {
                                    "usernev": "julianna4",
                                    "Legrövidebb foglalás": "1",
                                    "Leghosszabb foglalás": "7"
                                },
                                {
                                    "usernev": "kata",
                                    "Legrövidebb foglalás": "1",
                                    "Leghosszabb foglalás": "6"
                                },
                                {
                                    "usernev": "kata",
                                    "Legrövidebb foglalás": "1",
                                    "Leghosszabb foglalás": "6"
                                },
                                {
                                    "usernev": "kata",
                                    "Legrövidebb foglalás": "1",
                                    "Leghosszabb foglalás": "6"
                                },
                                {
                                    "usernev": "kata",
                                    "Legrövidebb foglalás": "1",
                                    "Leghosszabb foglalás": "6"
                                },
                                {
                                    "usernev": "kata",
                                    "Legrövidebb foglalás": "1",
                                    "Leghosszabb foglalás": "6"
                                },
                                {
                                    "usernev": "kata",
                                    "Legrövidebb foglalás": "1",
                                    "Leghosszabb foglalás": "6"
                                },
                                {
                                    "usernev": "kata",
                                    "Legrövidebb foglalás": "1",
                                    "Leghosszabb foglalás": "6"
                                },
                                {
                                    "usernev": "kata",
                                    "Legrövidebb foglalás": "1",
                                    "Leghosszabb foglalás": "6"
                                },
                                {
                                    "usernev": "kata",
                                    "Legrövidebb foglalás": "1",
                                    "Leghosszabb foglalás": "6"
                                },
                                {
                                    "usernev": "kata",
                                    "Legrövidebb foglalás": "1",
                                    "Leghosszabb foglalás": "6"
                                },
                                {
                                    "usernev": "katalin",
                                    "Legrövidebb foglalás": "1",
                                    "Leghosszabb foglalás": "7"
                                },
                                {
                                    "usernev": "katalin",
                                    "Legrövidebb foglalás": "1",
                                    "Leghosszabb foglalás": "7"
                                },
                                {
                                    "usernev": "katalin",
                                    "Legrövidebb foglalás": "1",
                                    "Leghosszabb foglalás": "7"
                                },
                                {
                                    "usernev": "katalin",
                                    "Legrövidebb foglalás": "1",
                                    "Leghosszabb foglalás": "7"
                                },
                                {
                                    "usernev": "katalin",
                                    "Legrövidebb foglalás": "1",
                                    "Leghosszabb foglalás": "7"
                                },
                                {
                                    "usernev": "katalin",
                                    "Legrövidebb foglalás": "1",
                                    "Leghosszabb foglalás": "7"
                                },
                                {
                                    "usernev": "katalin",
                                    "Legrövidebb foglalás": "1",
                                    "Leghosszabb foglalás": "7"
                                },
                                {
                                    "usernev": "katalin",
                                    "Legrövidebb foglalás": "1",
                                    "Leghosszabb foglalás": "7"
                                },
                                {
                                    "usernev": "katalin",
                                    "Legrövidebb foglalás": "1",
                                    "Leghosszabb foglalás": "7"
                                },
                                {
                                    "usernev": "katalin4",
                                    "Legrövidebb foglalás": "1",
                                    "Leghosszabb foglalás": "7"
                                },
                                {
                                    "usernev": "katalin4",
                                    "Legrövidebb foglalás": "1",
                                    "Leghosszabb foglalás": "7"
                                },
                                {
                                    "usernev": "katalin4",
                                    "Legrövidebb foglalás": "1",
                                    "Leghosszabb foglalás": "7"
                                },
                                {
                                    "usernev": "katalin4",
                                    "Legrövidebb foglalás": "1",
                                    "Leghosszabb foglalás": "7"
                                },
                                {
                                    "usernev": "katalin4",
                                    "Legrövidebb foglalás": "1",
                                    "Leghosszabb foglalás": "7"
                                },
                                {
                                    "usernev": "katalin4",
                                    "Legrövidebb foglalás": "1",
                                    "Leghosszabb foglalás": "7"
                                },
                                {
                                    "usernev": "kati",
                                    "Legrövidebb foglalás": "2",
                                    "Leghosszabb foglalás": "7"
                                },
                                {
                                    "usernev": "kati",
                                    "Legrövidebb foglalás": "2",
                                    "Leghosszabb foglalás": "7"
                                },
                                {
                                    "usernev": "kati",
                                    "Legrövidebb foglalás": "2",
                                    "Leghosszabb foglalás": "7"
                                },
                                {
                                    "usernev": "kati",
                                    "Legrövidebb foglalás": "2",
                                    "Leghosszabb foglalás": "7"
                                },
                                {
                                    "usernev": "kati",
                                    "Legrövidebb foglalás": "2",
                                    "Leghosszabb foglalás": "7"
                                },
                                {
                                    "usernev": "kati",
                                    "Legrövidebb foglalás": "2",
                                    "Leghosszabb foglalás": "7"
                                },
                                {
                                    "usernev": "kati",
                                    "Legrövidebb foglalás": "2",
                                    "Leghosszabb foglalás": "7"
                                },
                                {
                                    "usernev": "katka",
                                    "Legrövidebb foglalás": "1",
                                    "Leghosszabb foglalás": "6"
                                },
                                {
                                    "usernev": "katka",
                                    "Legrövidebb foglalás": "1",
                                    "Leghosszabb foglalás": "6"
                                },
                                {
                                    "usernev": "katka",
                                    "Legrövidebb foglalás": "1",
                                    "Leghosszabb foglalás": "6"
                                },
                                {
                                    "usernev": "katka",
                                    "Legrövidebb foglalás": "1",
                                    "Leghosszabb foglalás": "6"
                                },
                                {
                                    "usernev": "katka",
                                    "Legrövidebb foglalás": "1",
                                    "Leghosszabb foglalás": "6"
                                },
                                {
                                    "usernev": "katka",
                                    "Legrövidebb foglalás": "1",
                                    "Leghosszabb foglalás": "6"
                                },
                                {
                                    "usernev": "katka",
                                    "Legrövidebb foglalás": "1",
                                    "Leghosszabb foglalás": "6"
                                },
                                {
                                    "usernev": "katka",
                                    "Legrövidebb foglalás": "1",
                                    "Leghosszabb foglalás": "6"
                                },
                                {
                                    "usernev": "katka",
                                    "Legrövidebb foglalás": "1",
                                    "Leghosszabb foglalás": "6"
                                },
                                {
                                    "usernev": "klaudia2",
                                    "Legrövidebb foglalás": "1",
                                    "Leghosszabb foglalás": "3"
                                },
                                {
                                    "usernev": "klaudia2",
                                    "Legrövidebb foglalás": "1",
                                    "Leghosszabb foglalás": "3"
                                },
                                {
                                    "usernev": "klaudia2",
                                    "Legrövidebb foglalás": "1",
                                    "Leghosszabb foglalás": "3"
                                },
                                {
                                    "usernev": "kornel4",
                                    "Legrövidebb foglalás": "1",
                                    "Leghosszabb foglalás": "7"
                                },
                                {
                                    "usernev": "kornel4",
                                    "Legrövidebb foglalás": "1",
                                    "Leghosszabb foglalás": "7"
                                },
                                {
                                    "usernev": "kornel4",
                                    "Legrövidebb foglalás": "1",
                                    "Leghosszabb foglalás": "7"
                                },
                                {
                                    "usernev": "kristof4",
                                    "Legrövidebb foglalás": "4",
                                    "Leghosszabb foglalás": "6"
                                },
                                {
                                    "usernev": "kristof4",
                                    "Legrövidebb foglalás": "4",
                                    "Leghosszabb foglalás": "6"
                                },
                                {
                                    "usernev": "kriszti",
                                    "Legrövidebb foglalás": "1",
                                    "Leghosszabb foglalás": "7"
                                },
                                {
                                    "usernev": "kriszti",
                                    "Legrövidebb foglalás": "1",
                                    "Leghosszabb foglalás": "7"
                                },
                                {
                                    "usernev": "kriszti",
                                    "Legrövidebb foglalás": "1",
                                    "Leghosszabb foglalás": "7"
                                },
                                {
                                    "usernev": "kriszti",
                                    "Legrövidebb foglalás": "1",
                                    "Leghosszabb foglalás": "7"
                                },
                                {
                                    "usernev": "kriszti",
                                    "Legrövidebb foglalás": "1",
                                    "Leghosszabb foglalás": "7"
                                },
                                {
                                    "usernev": "kriszti",
                                    "Legrövidebb foglalás": "1",
                                    "Leghosszabb foglalás": "7"
                                },
                                {
                                    "usernev": "krisztian4",
                                    "Legrövidebb foglalás": "1",
                                    "Leghosszabb foglalás": "7"
                                },
                                {
                                    "usernev": "krisztian4",
                                    "Legrövidebb foglalás": "1",
                                    "Leghosszabb foglalás": "7"
                                },
                                {
                                    "usernev": "krisztian4",
                                    "Legrövidebb foglalás": "1",
                                    "Leghosszabb foglalás": "7"
                                },
                                {
                                    "usernev": "krisztian4",
                                    "Legrövidebb foglalás": "1",
                                    "Leghosszabb foglalás": "7"
                                },
                                {
                                    "usernev": "krisztian4",
                                    "Legrövidebb foglalás": "1",
                                    "Leghosszabb foglalás": "7"
                                },
                                {
                                    "usernev": "krisztian4",
                                    "Legrövidebb foglalás": "1",
                                    "Leghosszabb foglalás": "7"
                                },
                                {
                                    "usernev": "krisztian4",
                                    "Legrövidebb foglalás": "1",
                                    "Leghosszabb foglalás": "7"
                                },
                                {
                                    "usernev": "krisztian4",
                                    "Legrövidebb foglalás": "1",
                                    "Leghosszabb foglalás": "7"
                                },
                                {
                                    "usernev": "krisztian4",
                                    "Legrövidebb foglalás": "1",
                                    "Leghosszabb foglalás": "7"
                                },
                                {
                                    "usernev": "krisztian4",
                                    "Legrövidebb foglalás": "1",
                                    "Leghosszabb foglalás": "7"
                                },
                                {
                                    "usernev": "krisztian4",
                                    "Legrövidebb foglalás": "1",
                                    "Leghosszabb foglalás": "7"
                                },
                                {
                                    "usernev": "krisztian4",
                                    "Legrövidebb foglalás": "1",
                                    "Leghosszabb foglalás": "7"
                                },
                                {
                                    "usernev": "KRISZTIANM",
                                    "Legrövidebb foglalás": "4",
                                    "Leghosszabb foglalás": "7"
                                },
                                {
                                    "usernev": "KRISZTIANM",
                                    "Legrövidebb foglalás": "4",
                                    "Leghosszabb foglalás": "7"
                                },
                                {
                                    "usernev": "KRISZTIANM",
                                    "Legrövidebb foglalás": "4",
                                    "Leghosszabb foglalás": "7"
                                },
                                {
                                    "usernev": "KRISZTIANM",
                                    "Legrövidebb foglalás": "4",
                                    "Leghosszabb foglalás": "7"
                                },
                                {
                                    "usernev": "KRISZTIANM",
                                    "Legrövidebb foglalás": "4",
                                    "Leghosszabb foglalás": "7"
                                },
                                {
                                    "usernev": "KRISZTIANM",
                                    "Legrövidebb foglalás": "4",
                                    "Leghosszabb foglalás": "7"
                                },
                                {
                                    "usernev": "krisztina",
                                    "Legrövidebb foglalás": "2",
                                    "Leghosszabb foglalás": "7"
                                },
                                {
                                    "usernev": "krisztina",
                                    "Legrövidebb foglalás": "2",
                                    "Leghosszabb foglalás": "7"
                                },
                                {
                                    "usernev": "krisztina",
                                    "Legrövidebb foglalás": "2",
                                    "Leghosszabb foglalás": "7"
                                },
                                {
                                    "usernev": "krisztina",
                                    "Legrövidebb foglalás": "2",
                                    "Leghosszabb foglalás": "7"
                                },
                                {
                                    "usernev": "krisztina",
                                    "Legrövidebb foglalás": "2",
                                    "Leghosszabb foglalás": "7"
                                },
                                {
                                    "usernev": "krisztina",
                                    "Legrövidebb foglalás": "2",
                                    "Leghosszabb foglalás": "7"
                                },
                                {
                                    "usernev": "krisztina",
                                    "Legrövidebb foglalás": "2",
                                    "Leghosszabb foglalás": "7"
                                },
                                {
                                    "usernev": "krisztina",
                                    "Legrövidebb foglalás": "2",
                                    "Leghosszabb foglalás": "7"
                                },
                                {
                                    "usernev": "krisztina1",
                                    "Legrövidebb foglalás": "1",
                                    "Leghosszabb foglalás": "6"
                                },
                                {
                                    "usernev": "krisztina1",
                                    "Legrövidebb foglalás": "1",
                                    "Leghosszabb foglalás": "6"
                                },
                                {
                                    "usernev": "krisztina1",
                                    "Legrövidebb foglalás": "1",
                                    "Leghosszabb foglalás": "6"
                                },
                                {
                                    "usernev": "krisztina1",
                                    "Legrövidebb foglalás": "1",
                                    "Leghosszabb foglalás": "6"
                                },
                                {
                                    "usernev": "krisztina1",
                                    "Legrövidebb foglalás": "1",
                                    "Leghosszabb foglalás": "6"
                                },
                                {
                                    "usernev": "krisztina1",
                                    "Legrövidebb foglalás": "1",
                                    "Leghosszabb foglalás": "6"
                                },
                                {
                                    "usernev": "KRISZTINAG",
                                    "Legrövidebb foglalás": "1",
                                    "Leghosszabb foglalás": "7"
                                },
                                {
                                    "usernev": "KRISZTINAG",
                                    "Legrövidebb foglalás": "1",
                                    "Leghosszabb foglalás": "7"
                                },
                                {
                                    "usernev": "KRISZTINAG",
                                    "Legrövidebb foglalás": "1",
                                    "Leghosszabb foglalás": "7"
                                },
                                {
                                    "usernev": "KRISZTINAG",
                                    "Legrövidebb foglalás": "1",
                                    "Leghosszabb foglalás": "7"
                                },
                                {
                                    "usernev": "KRISZTINAG",
                                    "Legrövidebb foglalás": "1",
                                    "Leghosszabb foglalás": "7"
                                },
                                {
                                    "usernev": "lajos",
                                    "Legrövidebb foglalás": "1",
                                    "Leghosszabb foglalás": "3"
                                },
                                {
                                    "usernev": "lajos",
                                    "Legrövidebb foglalás": "1",
                                    "Leghosszabb foglalás": "3"
                                },
                                {
                                    "usernev": "lajos",
                                    "Legrövidebb foglalás": "1",
                                    "Leghosszabb foglalás": "3"
                                },
                                {
                                    "usernev": "lala",
                                    "Legrövidebb foglalás": "1",
                                    "Leghosszabb foglalás": "6"
                                },
                                {
                                    "usernev": "lala",
                                    "Legrövidebb foglalás": "1",
                                    "Leghosszabb foglalás": "6"
                                },
                                {
                                    "usernev": "lala",
                                    "Legrövidebb foglalás": "1",
                                    "Leghosszabb foglalás": "6"
                                },
                                {
                                    "usernev": "lala",
                                    "Legrövidebb foglalás": "1",
                                    "Leghosszabb foglalás": "6"
                                },
                                {
                                    "usernev": "lala",
                                    "Legrövidebb foglalás": "1",
                                    "Leghosszabb foglalás": "6"
                                },
                                {
                                    "usernev": "lala",
                                    "Legrövidebb foglalás": "1",
                                    "Leghosszabb foglalás": "6"
                                },
                                {
                                    "usernev": "laszlo1",
                                    "Legrövidebb foglalás": "7",
                                    "Leghosszabb foglalás": "7"
                                },
                                {
                                    "usernev": "laszlo2",
                                    "Legrövidebb foglalás": "1",
                                    "Leghosszabb foglalás": "5"
                                },
                                {
                                    "usernev": "laszlo2",
                                    "Legrövidebb foglalás": "1",
                                    "Leghosszabb foglalás": "5"
                                },
                                {
                                    "usernev": "laszlo2",
                                    "Legrövidebb foglalás": "1",
                                    "Leghosszabb foglalás": "5"
                                },
                                {
                                    "usernev": "laszlo2",
                                    "Legrövidebb foglalás": "1",
                                    "Leghosszabb foglalás": "5"
                                },
                                {
                                    "usernev": "laszlo2",
                                    "Legrövidebb foglalás": "1",
                                    "Leghosszabb foglalás": "5"
                                },
                                {
                                    "usernev": "LASZLOA",
                                    "Legrövidebb foglalás": "3",
                                    "Leghosszabb foglalás": "6"
                                },
                                {
                                    "usernev": "LASZLOA",
                                    "Legrövidebb foglalás": "3",
                                    "Leghosszabb foglalás": "6"
                                },
                                {
                                    "usernev": "LASZLOA",
                                    "Legrövidebb foglalás": "3",
                                    "Leghosszabb foglalás": "6"
                                },
                                {
                                    "usernev": "LASZLOA",
                                    "Legrövidebb foglalás": "3",
                                    "Leghosszabb foglalás": "6"
                                },
                                {
                                    "usernev": "LASZLON",
                                    "Legrövidebb foglalás": "1",
                                    "Leghosszabb foglalás": "7"
                                },
                                {
                                    "usernev": "LASZLON",
                                    "Legrövidebb foglalás": "1",
                                    "Leghosszabb foglalás": "7"
                                },
                                {
                                    "usernev": "LASZLON",
                                    "Legrövidebb foglalás": "1",
                                    "Leghosszabb foglalás": "7"
                                },
                                {
                                    "usernev": "LASZLON",
                                    "Legrövidebb foglalás": "1",
                                    "Leghosszabb foglalás": "7"
                                },
                                {
                                    "usernev": "LASZLON",
                                    "Legrövidebb foglalás": "1",
                                    "Leghosszabb foglalás": "7"
                                },
                                {
                                    "usernev": "LASZLON",
                                    "Legrövidebb foglalás": "1",
                                    "Leghosszabb foglalás": "7"
                                },
                                {
                                    "usernev": "maria1",
                                    "Legrövidebb foglalás": "1",
                                    "Leghosszabb foglalás": "6"
                                },
                                {
                                    "usernev": "maria1",
                                    "Legrövidebb foglalás": "1",
                                    "Leghosszabb foglalás": "6"
                                },
                                {
                                    "usernev": "maria1",
                                    "Legrövidebb foglalás": "1",
                                    "Leghosszabb foglalás": "6"
                                },
                                {
                                    "usernev": "maria1",
                                    "Legrövidebb foglalás": "1",
                                    "Leghosszabb foglalás": "6"
                                },
                                {
                                    "usernev": "maria1",
                                    "Legrövidebb foglalás": "1",
                                    "Leghosszabb foglalás": "6"
                                },
                                {
                                    "usernev": "maria1",
                                    "Legrövidebb foglalás": "1",
                                    "Leghosszabb foglalás": "6"
                                },
                                {
                                    "usernev": "maria1",
                                    "Legrövidebb foglalás": "1",
                                    "Leghosszabb foglalás": "6"
                                },
                                {
                                    "usernev": "maria1",
                                    "Legrövidebb foglalás": "1",
                                    "Leghosszabb foglalás": "6"
                                },
                                {
                                    "usernev": "mark",
                                    "Legrövidebb foglalás": "3",
                                    "Leghosszabb foglalás": "7"
                                },
                                {
                                    "usernev": "mark",
                                    "Legrövidebb foglalás": "3",
                                    "Leghosszabb foglalás": "7"
                                },
                                {
                                    "usernev": "mark",
                                    "Legrövidebb foglalás": "3",
                                    "Leghosszabb foglalás": "7"
                                },
                                {
                                    "usernev": "mark",
                                    "Legrövidebb foglalás": "3",
                                    "Leghosszabb foglalás": "7"
                                },
                                {
                                    "usernev": "mark",
                                    "Legrövidebb foglalás": "3",
                                    "Leghosszabb foglalás": "7"
                                },
                                {
                                    "usernev": "MARKH",
                                    "Legrövidebb foglalás": "3",
                                    "Leghosszabb foglalás": "7"
                                },
                                {
                                    "usernev": "MARKH",
                                    "Legrövidebb foglalás": "3",
                                    "Leghosszabb foglalás": "7"
                                },
                                {
                                    "usernev": "MARKH",
                                    "Legrövidebb foglalás": "3",
                                    "Leghosszabb foglalás": "7"
                                },
                                {
                                    "usernev": "MARKH",
                                    "Legrövidebb foglalás": "3",
                                    "Leghosszabb foglalás": "7"
                                },
                                {
                                    "usernev": "marton",
                                    "Legrövidebb foglalás": "1",
                                    "Leghosszabb foglalás": "7"
                                },
                                {
                                    "usernev": "marton",
                                    "Legrövidebb foglalás": "1",
                                    "Leghosszabb foglalás": "7"
                                },
                                {
                                    "usernev": "marton",
                                    "Legrövidebb foglalás": "1",
                                    "Leghosszabb foglalás": "7"
                                },
                                {
                                    "usernev": "marton",
                                    "Legrövidebb foglalás": "1",
                                    "Leghosszabb foglalás": "7"
                                },
                                {
                                    "usernev": "marton",
                                    "Legrövidebb foglalás": "1",
                                    "Leghosszabb foglalás": "7"
                                },
                                {
                                    "usernev": "marton",
                                    "Legrövidebb foglalás": "1",
                                    "Leghosszabb foglalás": "7"
                                },
                                {
                                    "usernev": "marton",
                                    "Legrövidebb foglalás": "1",
                                    "Leghosszabb foglalás": "7"
                                },
                                {
                                    "usernev": "MATEK",
                                    "Legrövidebb foglalás": "3",
                                    "Leghosszabb foglalás": "6"
                                },
                                {
                                    "usernev": "MATEK",
                                    "Legrövidebb foglalás": "3",
                                    "Leghosszabb foglalás": "6"
                                },
                                {
                                    "usernev": "MATEK",
                                    "Legrövidebb foglalás": "3",
                                    "Leghosszabb foglalás": "6"
                                },
                                {
                                    "usernev": "matyas2",
                                    "Legrövidebb foglalás": "3",
                                    "Leghosszabb foglalás": "4"
                                },
                                {
                                    "usernev": "matyas2",
                                    "Legrövidebb foglalás": "3",
                                    "Leghosszabb foglalás": "4"
                                },
                                {
                                    "usernev": "MATYASS",
                                    "Legrövidebb foglalás": "2",
                                    "Leghosszabb foglalás": "7"
                                },
                                {
                                    "usernev": "MATYASS",
                                    "Legrövidebb foglalás": "2",
                                    "Leghosszabb foglalás": "7"
                                },
                                {
                                    "usernev": "MATYASS",
                                    "Legrövidebb foglalás": "2",
                                    "Leghosszabb foglalás": "7"
                                },
                                {
                                    "usernev": "MATYASS",
                                    "Legrövidebb foglalás": "2",
                                    "Leghosszabb foglalás": "7"
                                },
                                {
                                    "usernev": "MATYASS",
                                    "Legrövidebb foglalás": "2",
                                    "Leghosszabb foglalás": "7"
                                },
                                {
                                    "usernev": "MATYASS",
                                    "Legrövidebb foglalás": "2",
                                    "Leghosszabb foglalás": "7"
                                },
                                {
                                    "usernev": "MATYASS",
                                    "Legrövidebb foglalás": "2",
                                    "Leghosszabb foglalás": "7"
                                },
                                {
                                    "usernev": "MATYASS",
                                    "Legrövidebb foglalás": "2",
                                    "Leghosszabb foglalás": "7"
                                },
                                {
                                    "usernev": "MIHALYJ",
                                    "Legrövidebb foglalás": "2",
                                    "Leghosszabb foglalás": "6"
                                },
                                {
                                    "usernev": "MIHALYJ",
                                    "Legrövidebb foglalás": "2",
                                    "Leghosszabb foglalás": "6"
                                },
                                {
                                    "usernev": "MIHALYJ",
                                    "Legrövidebb foglalás": "2",
                                    "Leghosszabb foglalás": "6"
                                },
                                {
                                    "usernev": "MIHALYJ",
                                    "Legrövidebb foglalás": "2",
                                    "Leghosszabb foglalás": "6"
                                },
                                {
                                    "usernev": "MIHALYJ",
                                    "Legrövidebb foglalás": "2",
                                    "Leghosszabb foglalás": "6"
                                },
                                {
                                    "usernev": "miklos2",
                                    "Legrövidebb foglalás": "1",
                                    "Leghosszabb foglalás": "2"
                                },
                                {
                                    "usernev": "miklos2",
                                    "Legrövidebb foglalás": "1",
                                    "Leghosszabb foglalás": "2"
                                },
                                {
                                    "usernev": "miklos2",
                                    "Legrövidebb foglalás": "1",
                                    "Leghosszabb foglalás": "2"
                                },
                                {
                                    "usernev": "MIKLOSB",
                                    "Legrövidebb foglalás": "3",
                                    "Leghosszabb foglalás": "5"
                                },
                                {
                                    "usernev": "MIKLOSB",
                                    "Legrövidebb foglalás": "3",
                                    "Leghosszabb foglalás": "5"
                                },
                                {
                                    "usernev": "MIKLOSB",
                                    "Legrövidebb foglalás": "3",
                                    "Leghosszabb foglalás": "5"
                                },
                                {
                                    "usernev": "MONIKAM",
                                    "Legrövidebb foglalás": "2",
                                    "Leghosszabb foglalás": "7"
                                },
                                {
                                    "usernev": "MONIKAM",
                                    "Legrövidebb foglalás": "2",
                                    "Leghosszabb foglalás": "7"
                                },
                                {
                                    "usernev": "MONIKAM",
                                    "Legrövidebb foglalás": "2",
                                    "Leghosszabb foglalás": "7"
                                },
                                {
                                    "usernev": "MONIKAM",
                                    "Legrövidebb foglalás": "2",
                                    "Leghosszabb foglalás": "7"
                                },
                                {
                                    "usernev": "MONIKAM",
                                    "Legrövidebb foglalás": "2",
                                    "Leghosszabb foglalás": "7"
                                },
                                {
                                    "usernev": "MONIKAM",
                                    "Legrövidebb foglalás": "2",
                                    "Leghosszabb foglalás": "7"
                                },
                                {
                                    "usernev": "NANDORF",
                                    "Legrövidebb foglalás": "1",
                                    "Leghosszabb foglalás": "4"
                                },
                                {
                                    "usernev": "NANDORF",
                                    "Legrövidebb foglalás": "1",
                                    "Leghosszabb foglalás": "4"
                                },
                                {
                                    "usernev": "NANDORF",
                                    "Legrövidebb foglalás": "1",
                                    "Leghosszabb foglalás": "4"
                                },
                                {
                                    "usernev": "nikolett3",
                                    "Legrövidebb foglalás": "2",
                                    "Leghosszabb foglalás": "7"
                                },
                                {
                                    "usernev": "nikolett3",
                                    "Legrövidebb foglalás": "2",
                                    "Leghosszabb foglalás": "7"
                                },
                                {
                                    "usernev": "nikolett3",
                                    "Legrövidebb foglalás": "2",
                                    "Leghosszabb foglalás": "7"
                                },
                                {
                                    "usernev": "nikolett3",
                                    "Legrövidebb foglalás": "2",
                                    "Leghosszabb foglalás": "7"
                                },
                                {
                                    "usernev": "nikoletta4",
                                    "Legrövidebb foglalás": "2",
                                    "Leghosszabb foglalás": "7"
                                },
                                {
                                    "usernev": "nikoletta4",
                                    "Legrövidebb foglalás": "2",
                                    "Leghosszabb foglalás": "7"
                                },
                                {
                                    "usernev": "nikoletta4",
                                    "Legrövidebb foglalás": "2",
                                    "Leghosszabb foglalás": "7"
                                },
                                {
                                    "usernev": "nikoletta4",
                                    "Legrövidebb foglalás": "2",
                                    "Leghosszabb foglalás": "7"
                                },
                                {
                                    "usernev": "nikoletta4",
                                    "Legrövidebb foglalás": "2",
                                    "Leghosszabb foglalás": "7"
                                },
                                {
                                    "usernev": "nikoletta4",
                                    "Legrövidebb foglalás": "2",
                                    "Leghosszabb foglalás": "7"
                                },
                                {
                                    "usernev": "nikoletta4",
                                    "Legrövidebb foglalás": "2",
                                    "Leghosszabb foglalás": "7"
                                },
                                {
                                    "usernev": "NIKOLETTAT",
                                    "Legrövidebb foglalás": "1",
                                    "Leghosszabb foglalás": "5"
                                },
                                {
                                    "usernev": "NIKOLETTAT",
                                    "Legrövidebb foglalás": "1",
                                    "Leghosszabb foglalás": "5"
                                },
                                {
                                    "usernev": "NIKOLETTAT",
                                    "Legrövidebb foglalás": "1",
                                    "Leghosszabb foglalás": "5"
                                },
                                {
                                    "usernev": "NIKOLETTAT",
                                    "Legrövidebb foglalás": "1",
                                    "Leghosszabb foglalás": "5"
                                },
                                {
                                    "usernev": "norbert",
                                    "Legrövidebb foglalás": "2",
                                    "Leghosszabb foglalás": "7"
                                },
                                {
                                    "usernev": "norbert",
                                    "Legrövidebb foglalás": "2",
                                    "Leghosszabb foglalás": "7"
                                },
                                {
                                    "usernev": "norbert",
                                    "Legrövidebb foglalás": "2",
                                    "Leghosszabb foglalás": "7"
                                },
                                {
                                    "usernev": "norbert",
                                    "Legrövidebb foglalás": "2",
                                    "Leghosszabb foglalás": "7"
                                },
                                {
                                    "usernev": "norbert",
                                    "Legrövidebb foglalás": "2",
                                    "Leghosszabb foglalás": "7"
                                },
                                {
                                    "usernev": "norbert2",
                                    "Legrövidebb foglalás": "1",
                                    "Leghosszabb foglalás": "7"
                                },
                                {
                                    "usernev": "norbert2",
                                    "Legrövidebb foglalás": "1",
                                    "Leghosszabb foglalás": "7"
                                },
                                {
                                    "usernev": "norbert2",
                                    "Legrövidebb foglalás": "1",
                                    "Leghosszabb foglalás": "7"
                                },
                                {
                                    "usernev": "norbert2",
                                    "Legrövidebb foglalás": "1",
                                    "Leghosszabb foglalás": "7"
                                },
                                {
                                    "usernev": "norbert2",
                                    "Legrövidebb foglalás": "1",
                                    "Leghosszabb foglalás": "7"
                                },
                                {
                                    "usernev": "norbert2",
                                    "Legrövidebb foglalás": "1",
                                    "Leghosszabb foglalás": "7"
                                },
                                {
                                    "usernev": "norbert2",
                                    "Legrövidebb foglalás": "1",
                                    "Leghosszabb foglalás": "7"
                                },
                                {
                                    "usernev": "norbert4",
                                    "Legrövidebb foglalás": "1",
                                    "Leghosszabb foglalás": "6"
                                },
                                {
                                    "usernev": "norbert4",
                                    "Legrövidebb foglalás": "1",
                                    "Leghosszabb foglalás": "6"
                                },
                                {
                                    "usernev": "norbert4",
                                    "Legrövidebb foglalás": "1",
                                    "Leghosszabb foglalás": "6"
                                },
                                {
                                    "usernev": "norbert4",
                                    "Legrövidebb foglalás": "1",
                                    "Leghosszabb foglalás": "6"
                                },
                                {
                                    "usernev": "norbert4",
                                    "Legrövidebb foglalás": "1",
                                    "Leghosszabb foglalás": "6"
                                },
                                {
                                    "usernev": "norbert4",
                                    "Legrövidebb foglalás": "1",
                                    "Leghosszabb foglalás": "6"
                                },
                                {
                                    "usernev": "norbert4",
                                    "Legrövidebb foglalás": "1",
                                    "Leghosszabb foglalás": "6"
                                },
                                {
                                    "usernev": "norbert4",
                                    "Legrövidebb foglalás": "1",
                                    "Leghosszabb foglalás": "6"
                                },
                                {
                                    "usernev": "norbert4",
                                    "Legrövidebb foglalás": "1",
                                    "Leghosszabb foglalás": "6"
                                },
                                {
                                    "usernev": "norbert5",
                                    "Legrövidebb foglalás": "1",
                                    "Leghosszabb foglalás": "4"
                                },
                                {
                                    "usernev": "norbert5",
                                    "Legrövidebb foglalás": "1",
                                    "Leghosszabb foglalás": "4"
                                },
                                {
                                    "usernev": "norbert5",
                                    "Legrövidebb foglalás": "1",
                                    "Leghosszabb foglalás": "4"
                                },
                                {
                                    "usernev": "pal",
                                    "Legrövidebb foglalás": "2",
                                    "Leghosszabb foglalás": "6"
                                },
                                {
                                    "usernev": "pal",
                                    "Legrövidebb foglalás": "2",
                                    "Leghosszabb foglalás": "6"
                                },
                                {
                                    "usernev": "pal",
                                    "Legrövidebb foglalás": "2",
                                    "Leghosszabb foglalás": "6"
                                },
                                {
                                    "usernev": "pal",
                                    "Legrövidebb foglalás": "2",
                                    "Leghosszabb foglalás": "6"
                                },
                                {
                                    "usernev": "pal",
                                    "Legrövidebb foglalás": "2",
                                    "Leghosszabb foglalás": "6"
                                },
                                {
                                    "usernev": "peter1",
                                    "Legrövidebb foglalás": "3",
                                    "Leghosszabb foglalás": "6"
                                },
                                {
                                    "usernev": "peter1",
                                    "Legrövidebb foglalás": "3",
                                    "Leghosszabb foglalás": "6"
                                },
                                {
                                    "usernev": "peter1",
                                    "Legrövidebb foglalás": "3",
                                    "Leghosszabb foglalás": "6"
                                },
                                {
                                    "usernev": "peter1",
                                    "Legrövidebb foglalás": "3",
                                    "Leghosszabb foglalás": "6"
                                },
                                {
                                    "usernev": "peter2",
                                    "Legrövidebb foglalás": "1",
                                    "Leghosszabb foglalás": "6"
                                },
                                {
                                    "usernev": "peter2",
                                    "Legrövidebb foglalás": "1",
                                    "Leghosszabb foglalás": "6"
                                },
                                {
                                    "usernev": "peter2",
                                    "Legrövidebb foglalás": "1",
                                    "Leghosszabb foglalás": "6"
                                },
                                {
                                    "usernev": "peter2",
                                    "Legrövidebb foglalás": "1",
                                    "Leghosszabb foglalás": "6"
                                },
                                {
                                    "usernev": "peter3",
                                    "Legrövidebb foglalás": "3",
                                    "Leghosszabb foglalás": "7"
                                },
                                {
                                    "usernev": "peter3",
                                    "Legrövidebb foglalás": "3",
                                    "Leghosszabb foglalás": "7"
                                },
                                {
                                    "usernev": "peter3",
                                    "Legrövidebb foglalás": "3",
                                    "Leghosszabb foglalás": "7"
                                },
                                {
                                    "usernev": "peter3",
                                    "Legrövidebb foglalás": "3",
                                    "Leghosszabb foglalás": "7"
                                },
                                {
                                    "usernev": "peter3",
                                    "Legrövidebb foglalás": "3",
                                    "Leghosszabb foglalás": "7"
                                },
                                {
                                    "usernev": "peter3",
                                    "Legrövidebb foglalás": "3",
                                    "Leghosszabb foglalás": "7"
                                },
                                {
                                    "usernev": "peter4",
                                    "Legrövidebb foglalás": "1",
                                    "Leghosszabb foglalás": "7"
                                },
                                {
                                    "usernev": "peter4",
                                    "Legrövidebb foglalás": "1",
                                    "Leghosszabb foglalás": "7"
                                },
                                {
                                    "usernev": "peter4",
                                    "Legrövidebb foglalás": "1",
                                    "Leghosszabb foglalás": "7"
                                },
                                {
                                    "usernev": "peter4",
                                    "Legrövidebb foglalás": "1",
                                    "Leghosszabb foglalás": "7"
                                },
                                {
                                    "usernev": "peter4",
                                    "Legrövidebb foglalás": "1",
                                    "Leghosszabb foglalás": "7"
                                },
                                {
                                    "usernev": "peter4",
                                    "Legrövidebb foglalás": "1",
                                    "Leghosszabb foglalás": "7"
                                },
                                {
                                    "usernev": "peter4",
                                    "Legrövidebb foglalás": "1",
                                    "Leghosszabb foglalás": "7"
                                },
                                {
                                    "usernev": "peter4",
                                    "Legrövidebb foglalás": "1",
                                    "Leghosszabb foglalás": "7"
                                },
                                {
                                    "usernev": "peter4",
                                    "Legrövidebb foglalás": "1",
                                    "Leghosszabb foglalás": "7"
                                },
                                {
                                    "usernev": "peter4",
                                    "Legrövidebb foglalás": "1",
                                    "Leghosszabb foglalás": "7"
                                },
                                {
                                    "usernev": "peter4",
                                    "Legrövidebb foglalás": "1",
                                    "Leghosszabb foglalás": "7"
                                },
                                {
                                    "usernev": "peter4",
                                    "Legrövidebb foglalás": "1",
                                    "Leghosszabb foglalás": "7"
                                },
                                {
                                    "usernev": "PETERB",
                                    "Legrövidebb foglalás": "1",
                                    "Leghosszabb foglalás": "7"
                                },
                                {
                                    "usernev": "PETERB",
                                    "Legrövidebb foglalás": "1",
                                    "Leghosszabb foglalás": "7"
                                },
                                {
                                    "usernev": "PETERB",
                                    "Legrövidebb foglalás": "1",
                                    "Leghosszabb foglalás": "7"
                                },
                                {
                                    "usernev": "PETERB",
                                    "Legrövidebb foglalás": "1",
                                    "Leghosszabb foglalás": "7"
                                },
                                {
                                    "usernev": "PETERB",
                                    "Legrövidebb foglalás": "1",
                                    "Leghosszabb foglalás": "7"
                                },
                                {
                                    "usernev": "polla",
                                    "Legrövidebb foglalás": "3",
                                    "Leghosszabb foglalás": "7"
                                },
                                {
                                    "usernev": "polla",
                                    "Legrövidebb foglalás": "3",
                                    "Leghosszabb foglalás": "7"
                                },
                                {
                                    "usernev": "polla",
                                    "Legrövidebb foglalás": "3",
                                    "Leghosszabb foglalás": "7"
                                },
                                {
                                    "usernev": "polla",
                                    "Legrövidebb foglalás": "3",
                                    "Leghosszabb foglalás": "7"
                                },
                                {
                                    "usernev": "polla",
                                    "Legrövidebb foglalás": "3",
                                    "Leghosszabb foglalás": "7"
                                },
                                {
                                    "usernev": "polla",
                                    "Legrövidebb foglalás": "3",
                                    "Leghosszabb foglalás": "7"
                                },
                                {
                                    "usernev": "rajmond4",
                                    "Legrövidebb foglalás": "1",
                                    "Leghosszabb foglalás": "4"
                                },
                                {
                                    "usernev": "rajmond4",
                                    "Legrövidebb foglalás": "1",
                                    "Leghosszabb foglalás": "4"
                                },
                                {
                                    "usernev": "rajmond4",
                                    "Legrövidebb foglalás": "1",
                                    "Leghosszabb foglalás": "4"
                                },
                                {
                                    "usernev": "rajmond4",
                                    "Legrövidebb foglalás": "1",
                                    "Leghosszabb foglalás": "4"
                                },
                                {
                                    "usernev": "reka4",
                                    "Legrövidebb foglalás": "2",
                                    "Leghosszabb foglalás": "6"
                                },
                                {
                                    "usernev": "reka4",
                                    "Legrövidebb foglalás": "2",
                                    "Leghosszabb foglalás": "6"
                                },
                                {
                                    "usernev": "reka4",
                                    "Legrövidebb foglalás": "2",
                                    "Leghosszabb foglalás": "6"
                                },
                                {
                                    "usernev": "reka4",
                                    "Legrövidebb foglalás": "2",
                                    "Leghosszabb foglalás": "6"
                                },
                                {
                                    "usernev": "reka4",
                                    "Legrövidebb foglalás": "2",
                                    "Leghosszabb foglalás": "6"
                                },
                                {
                                    "usernev": "RENATAK",
                                    "Legrövidebb foglalás": "1",
                                    "Leghosszabb foglalás": "7"
                                },
                                {
                                    "usernev": "RENATAK",
                                    "Legrövidebb foglalás": "1",
                                    "Leghosszabb foglalás": "7"
                                },
                                {
                                    "usernev": "RENATAK",
                                    "Legrövidebb foglalás": "1",
                                    "Leghosszabb foglalás": "7"
                                },
                                {
                                    "usernev": "RENATAK",
                                    "Legrövidebb foglalás": "1",
                                    "Leghosszabb foglalás": "7"
                                },
                                {
                                    "usernev": "RENATAK",
                                    "Legrövidebb foglalás": "1",
                                    "Leghosszabb foglalás": "7"
                                },
                                {
                                    "usernev": "RENATAK",
                                    "Legrövidebb foglalás": "1",
                                    "Leghosszabb foglalás": "7"
                                },
                                {
                                    "usernev": "RENATAS",
                                    "Legrövidebb foglalás": "3",
                                    "Leghosszabb foglalás": "7"
                                },
                                {
                                    "usernev": "RENATAS",
                                    "Legrövidebb foglalás": "3",
                                    "Leghosszabb foglalás": "7"
                                },
                                {
                                    "usernev": "RENATAS",
                                    "Legrövidebb foglalás": "3",
                                    "Leghosszabb foglalás": "7"
                                },
                                {
                                    "usernev": "RENATAS",
                                    "Legrövidebb foglalás": "3",
                                    "Leghosszabb foglalás": "7"
                                },
                                {
                                    "usernev": "RENATAS",
                                    "Legrövidebb foglalás": "3",
                                    "Leghosszabb foglalás": "7"
                                },
                                {
                                    "usernev": "robert2",
                                    "Legrövidebb foglalás": "3",
                                    "Leghosszabb foglalás": "7"
                                },
                                {
                                    "usernev": "robert2",
                                    "Legrövidebb foglalás": "3",
                                    "Leghosszabb foglalás": "7"
                                },
                                {
                                    "usernev": "robert2",
                                    "Legrövidebb foglalás": "3",
                                    "Leghosszabb foglalás": "7"
                                },
                                {
                                    "usernev": "robert2",
                                    "Legrövidebb foglalás": "3",
                                    "Leghosszabb foglalás": "7"
                                },
                                {
                                    "usernev": "ROBERTI",
                                    "Legrövidebb foglalás": "1",
                                    "Leghosszabb foglalás": "7"
                                },
                                {
                                    "usernev": "ROBERTI",
                                    "Legrövidebb foglalás": "1",
                                    "Leghosszabb foglalás": "7"
                                },
                                {
                                    "usernev": "ROBERTI",
                                    "Legrövidebb foglalás": "1",
                                    "Leghosszabb foglalás": "7"
                                },
                                {
                                    "usernev": "ROBERTI",
                                    "Legrövidebb foglalás": "1",
                                    "Leghosszabb foglalás": "7"
                                },
                                {
                                    "usernev": "ROBERTI",
                                    "Legrövidebb foglalás": "1",
                                    "Leghosszabb foglalás": "7"
                                },
                                {
                                    "usernev": "ROBERTI",
                                    "Legrövidebb foglalás": "1",
                                    "Leghosszabb foglalás": "7"
                                },
                                {
                                    "usernev": "ROBERTI",
                                    "Legrövidebb foglalás": "1",
                                    "Leghosszabb foglalás": "7"
                                },
                                {
                                    "usernev": "ROBERTI",
                                    "Legrövidebb foglalás": "1",
                                    "Leghosszabb foglalás": "7"
                                },
                                {
                                    "usernev": "ROBERTP",
                                    "Legrövidebb foglalás": "3",
                                    "Leghosszabb foglalás": "6"
                                },
                                {
                                    "usernev": "ROBERTP",
                                    "Legrövidebb foglalás": "3",
                                    "Leghosszabb foglalás": "6"
                                },
                                {
                                    "usernev": "roland",
                                    "Legrövidebb foglalás": "1",
                                    "Leghosszabb foglalás": "5"
                                },
                                {
                                    "usernev": "roland",
                                    "Legrövidebb foglalás": "1",
                                    "Leghosszabb foglalás": "5"
                                },
                                {
                                    "usernev": "roland",
                                    "Legrövidebb foglalás": "1",
                                    "Leghosszabb foglalás": "5"
                                },
                                {
                                    "usernev": "roland",
                                    "Legrövidebb foglalás": "1",
                                    "Leghosszabb foglalás": "5"
                                },
                                {
                                    "usernev": "roland1",
                                    "Legrövidebb foglalás": "2",
                                    "Leghosszabb foglalás": "7"
                                },
                                {
                                    "usernev": "roland1",
                                    "Legrövidebb foglalás": "2",
                                    "Leghosszabb foglalás": "7"
                                },
                                {
                                    "usernev": "roland1",
                                    "Legrövidebb foglalás": "2",
                                    "Leghosszabb foglalás": "7"
                                },
                                {
                                    "usernev": "roland1",
                                    "Legrövidebb foglalás": "2",
                                    "Leghosszabb foglalás": "7"
                                },
                                {
                                    "usernev": "roza2",
                                    "Legrövidebb foglalás": "3",
                                    "Leghosszabb foglalás": "6"
                                },
                                {
                                    "usernev": "roza2",
                                    "Legrövidebb foglalás": "3",
                                    "Leghosszabb foglalás": "6"
                                },
                                {
                                    "usernev": "roza2",
                                    "Legrövidebb foglalás": "3",
                                    "Leghosszabb foglalás": "6"
                                },
                                {
                                    "usernev": "sandor",
                                    "Legrövidebb foglalás": "2",
                                    "Leghosszabb foglalás": "7"
                                },
                                {
                                    "usernev": "sandor",
                                    "Legrövidebb foglalás": "2",
                                    "Leghosszabb foglalás": "7"
                                },
                                {
                                    "usernev": "sandor",
                                    "Legrövidebb foglalás": "2",
                                    "Leghosszabb foglalás": "7"
                                },
                                {
                                    "usernev": "sandor",
                                    "Legrövidebb foglalás": "2",
                                    "Leghosszabb foglalás": "7"
                                },
                                {
                                    "usernev": "sandor3",
                                    "Legrövidebb foglalás": "1",
                                    "Leghosszabb foglalás": "6"
                                },
                                {
                                    "usernev": "sandor3",
                                    "Legrövidebb foglalás": "1",
                                    "Leghosszabb foglalás": "6"
                                },
                                {
                                    "usernev": "sandor3",
                                    "Legrövidebb foglalás": "1",
                                    "Leghosszabb foglalás": "6"
                                },
                                {
                                    "usernev": "sandor3",
                                    "Legrövidebb foglalás": "1",
                                    "Leghosszabb foglalás": "6"
                                },
                                {
                                    "usernev": "sandor3",
                                    "Legrövidebb foglalás": "1",
                                    "Leghosszabb foglalás": "6"
                                },
                                {
                                    "usernev": "sandor4",
                                    "Legrövidebb foglalás": "3",
                                    "Leghosszabb foglalás": "6"
                                },
                                {
                                    "usernev": "sandor4",
                                    "Legrövidebb foglalás": "3",
                                    "Leghosszabb foglalás": "6"
                                },
                                {
                                    "usernev": "sandor4",
                                    "Legrövidebb foglalás": "3",
                                    "Leghosszabb foglalás": "6"
                                },
                                {
                                    "usernev": "sandor4",
                                    "Legrövidebb foglalás": "3",
                                    "Leghosszabb foglalás": "6"
                                },
                                {
                                    "usernev": "sara",
                                    "Legrövidebb foglalás": "1",
                                    "Leghosszabb foglalás": "7"
                                },
                                {
                                    "usernev": "sara",
                                    "Legrövidebb foglalás": "1",
                                    "Leghosszabb foglalás": "7"
                                },
                                {
                                    "usernev": "sara",
                                    "Legrövidebb foglalás": "1",
                                    "Leghosszabb foglalás": "7"
                                },
                                {
                                    "usernev": "sara",
                                    "Legrövidebb foglalás": "1",
                                    "Leghosszabb foglalás": "7"
                                },
                                {
                                    "usernev": "sara",
                                    "Legrövidebb foglalás": "1",
                                    "Leghosszabb foglalás": "7"
                                },
                                {
                                    "usernev": "sara",
                                    "Legrövidebb foglalás": "1",
                                    "Leghosszabb foglalás": "7"
                                },
                                {
                                    "usernev": "sara",
                                    "Legrövidebb foglalás": "1",
                                    "Leghosszabb foglalás": "7"
                                },
                                {
                                    "usernev": "sara",
                                    "Legrövidebb foglalás": "1",
                                    "Leghosszabb foglalás": "7"
                                },
                                {
                                    "usernev": "sara",
                                    "Legrövidebb foglalás": "1",
                                    "Leghosszabb foglalás": "7"
                                },
                                {
                                    "usernev": "sara",
                                    "Legrövidebb foglalás": "1",
                                    "Leghosszabb foglalás": "7"
                                },
                                {
                                    "usernev": "sara",
                                    "Legrövidebb foglalás": "1",
                                    "Leghosszabb foglalás": "7"
                                },
                                {
                                    "usernev": "sara",
                                    "Legrövidebb foglalás": "1",
                                    "Leghosszabb foglalás": "7"
                                },
                                {
                                    "usernev": "SEBASTIANF",
                                    "Legrövidebb foglalás": "1",
                                    "Leghosszabb foglalás": "7"
                                },
                                {
                                    "usernev": "SEBASTIANF",
                                    "Legrövidebb foglalás": "1",
                                    "Leghosszabb foglalás": "7"
                                },
                                {
                                    "usernev": "SEBASTIANF",
                                    "Legrövidebb foglalás": "1",
                                    "Leghosszabb foglalás": "7"
                                },
                                {
                                    "usernev": "SEBASTIANF",
                                    "Legrövidebb foglalás": "1",
                                    "Leghosszabb foglalás": "7"
                                },
                                {
                                    "usernev": "SEBASTIANF",
                                    "Legrövidebb foglalás": "1",
                                    "Leghosszabb foglalás": "7"
                                },
                                {
                                    "usernev": "sebestyen",
                                    "Legrövidebb foglalás": "5",
                                    "Leghosszabb foglalás": "6"
                                },
                                {
                                    "usernev": "sebestyen",
                                    "Legrövidebb foglalás": "5",
                                    "Leghosszabb foglalás": "6"
                                },
                                {
                                    "usernev": "sebestyen",
                                    "Legrövidebb foglalás": "5",
                                    "Leghosszabb foglalás": "6"
                                },
                                {
                                    "usernev": "sebestyen",
                                    "Legrövidebb foglalás": "5",
                                    "Leghosszabb foglalás": "6"
                                },
                                {
                                    "usernev": "szabolcs",
                                    "Legrövidebb foglalás": "2",
                                    "Leghosszabb foglalás": "2"
                                },
                                {
                                    "usernev": "SZABOLCSM",
                                    "Legrövidebb foglalás": "1",
                                    "Leghosszabb foglalás": "6"
                                },
                                {
                                    "usernev": "SZABOLCSM",
                                    "Legrövidebb foglalás": "1",
                                    "Leghosszabb foglalás": "6"
                                },
                                {
                                    "usernev": "SZABOLCSM",
                                    "Legrövidebb foglalás": "1",
                                    "Leghosszabb foglalás": "6"
                                },
                                {
                                    "usernev": "SZABOLCSM",
                                    "Legrövidebb foglalás": "1",
                                    "Leghosszabb foglalás": "6"
                                },
                                {
                                    "usernev": "SZABOLCSM",
                                    "Legrövidebb foglalás": "1",
                                    "Leghosszabb foglalás": "6"
                                },
                                {
                                    "usernev": "SZABOLCSM",
                                    "Legrövidebb foglalás": "1",
                                    "Leghosszabb foglalás": "6"
                                },
                                {
                                    "usernev": "SZABOLCSM",
                                    "Legrövidebb foglalás": "1",
                                    "Leghosszabb foglalás": "6"
                                },
                                {
                                    "usernev": "SZILARDS",
                                    "Legrövidebb foglalás": "1",
                                    "Leghosszabb foglalás": "7"
                                },
                                {
                                    "usernev": "SZILARDS",
                                    "Legrövidebb foglalás": "1",
                                    "Leghosszabb foglalás": "7"
                                },
                                {
                                    "usernev": "SZILARDS",
                                    "Legrövidebb foglalás": "1",
                                    "Leghosszabb foglalás": "7"
                                },
                                {
                                    "usernev": "SZILARDS",
                                    "Legrövidebb foglalás": "1",
                                    "Leghosszabb foglalás": "7"
                                },
                                {
                                    "usernev": "SZILARDS",
                                    "Legrövidebb foglalás": "1",
                                    "Leghosszabb foglalás": "7"
                                },
                                {
                                    "usernev": "SZILARDS",
                                    "Legrövidebb foglalás": "1",
                                    "Leghosszabb foglalás": "7"
                                },
                                {
                                    "usernev": "SZILARDS",
                                    "Legrövidebb foglalás": "1",
                                    "Leghosszabb foglalás": "7"
                                },
                                {
                                    "usernev": "szilvia1",
                                    "Legrövidebb foglalás": "1",
                                    "Leghosszabb foglalás": "7"
                                },
                                {
                                    "usernev": "szilvia1",
                                    "Legrövidebb foglalás": "1",
                                    "Leghosszabb foglalás": "7"
                                },
                                {
                                    "usernev": "szilvia1",
                                    "Legrövidebb foglalás": "1",
                                    "Leghosszabb foglalás": "7"
                                },
                                {
                                    "usernev": "szilvia1",
                                    "Legrövidebb foglalás": "1",
                                    "Leghosszabb foglalás": "7"
                                },
                                {
                                    "usernev": "szilvia1",
                                    "Legrövidebb foglalás": "1",
                                    "Leghosszabb foglalás": "7"
                                },
                                {
                                    "usernev": "szilvia1",
                                    "Legrövidebb foglalás": "1",
                                    "Leghosszabb foglalás": "7"
                                },
                                {
                                    "usernev": "szilvia1",
                                    "Legrövidebb foglalás": "1",
                                    "Leghosszabb foglalás": "7"
                                },
                                {
                                    "usernev": "szilvia1",
                                    "Legrövidebb foglalás": "1",
                                    "Leghosszabb foglalás": "7"
                                },
                                {
                                    "usernev": "szilvia1",
                                    "Legrövidebb foglalás": "1",
                                    "Leghosszabb foglalás": "7"
                                },
                                {
                                    "usernev": "tamara2",
                                    "Legrövidebb foglalás": "3",
                                    "Leghosszabb foglalás": "3"
                                },
                                {
                                    "usernev": "tamara2",
                                    "Legrövidebb foglalás": "3",
                                    "Leghosszabb foglalás": "3"
                                },
                                {
                                    "usernev": "tamas",
                                    "Legrövidebb foglalás": "3",
                                    "Leghosszabb foglalás": "7"
                                },
                                {
                                    "usernev": "tamas",
                                    "Legrövidebb foglalás": "3",
                                    "Leghosszabb foglalás": "7"
                                },
                                {
                                    "usernev": "tamas",
                                    "Legrövidebb foglalás": "3",
                                    "Leghosszabb foglalás": "7"
                                },
                                {
                                    "usernev": "tamas",
                                    "Legrövidebb foglalás": "3",
                                    "Leghosszabb foglalás": "7"
                                },
                                {
                                    "usernev": "TAMASF",
                                    "Legrövidebb foglalás": "1",
                                    "Leghosszabb foglalás": "7"
                                },
                                {
                                    "usernev": "TAMASF",
                                    "Legrövidebb foglalás": "1",
                                    "Leghosszabb foglalás": "7"
                                },
                                {
                                    "usernev": "TAMASF",
                                    "Legrövidebb foglalás": "1",
                                    "Leghosszabb foglalás": "7"
                                },
                                {
                                    "usernev": "TAMASF",
                                    "Legrövidebb foglalás": "1",
                                    "Leghosszabb foglalás": "7"
                                },
                                {
                                    "usernev": "TAMASF",
                                    "Legrövidebb foglalás": "1",
                                    "Leghosszabb foglalás": "7"
                                },
                                {
                                    "usernev": "TAMASF",
                                    "Legrövidebb foglalás": "1",
                                    "Leghosszabb foglalás": "7"
                                },
                                {
                                    "usernev": "TAMASF",
                                    "Legrövidebb foglalás": "1",
                                    "Leghosszabb foglalás": "7"
                                },
                                {
                                    "usernev": "TAMASF",
                                    "Legrövidebb foglalás": "1",
                                    "Leghosszabb foglalás": "7"
                                },
                                {
                                    "usernev": "TAMASF",
                                    "Legrövidebb foglalás": "1",
                                    "Leghosszabb foglalás": "7"
                                },
                                {
                                    "usernev": "tibor",
                                    "Legrövidebb foglalás": "4",
                                    "Leghosszabb foglalás": "4"
                                },
                                {
                                    "usernev": "tibor",
                                    "Legrövidebb foglalás": "4",
                                    "Leghosszabb foglalás": "4"
                                },
                                {
                                    "usernev": "tibor2",
                                    "Legrövidebb foglalás": "5",
                                    "Leghosszabb foglalás": "5"
                                },
                                {
                                    "usernev": "tihamer",
                                    "Legrövidebb foglalás": "1",
                                    "Leghosszabb foglalás": "6"
                                },
                                {
                                    "usernev": "tihamer",
                                    "Legrövidebb foglalás": "1",
                                    "Leghosszabb foglalás": "6"
                                },
                                {
                                    "usernev": "tihamer",
                                    "Legrövidebb foglalás": "1",
                                    "Leghosszabb foglalás": "6"
                                },
                                {
                                    "usernev": "tihamer",
                                    "Legrövidebb foglalás": "1",
                                    "Leghosszabb foglalás": "6"
                                },
                                {
                                    "usernev": "tihamer",
                                    "Legrövidebb foglalás": "1",
                                    "Leghosszabb foglalás": "6"
                                },
                                {
                                    "usernev": "tihamer",
                                    "Legrövidebb foglalás": "1",
                                    "Leghosszabb foglalás": "6"
                                },
                                {
                                    "usernev": "timea",
                                    "Legrövidebb foglalás": "1",
                                    "Leghosszabb foglalás": "1"
                                },
                                {
                                    "usernev": "timea2",
                                    "Legrövidebb foglalás": "1",
                                    "Leghosszabb foglalás": "4"
                                },
                                {
                                    "usernev": "timea2",
                                    "Legrövidebb foglalás": "1",
                                    "Leghosszabb foglalás": "4"
                                },
                                {
                                    "usernev": "timea2",
                                    "Legrövidebb foglalás": "1",
                                    "Leghosszabb foglalás": "4"
                                },
                                {
                                    "usernev": "timea2",
                                    "Legrövidebb foglalás": "1",
                                    "Leghosszabb foglalás": "4"
                                },
                                {
                                    "usernev": "timea2",
                                    "Legrövidebb foglalás": "1",
                                    "Leghosszabb foglalás": "4"
                                },
                                {
                                    "usernev": "tunde",
                                    "Legrövidebb foglalás": "1",
                                    "Leghosszabb foglalás": "7"
                                },
                                {
                                    "usernev": "tunde",
                                    "Legrövidebb foglalás": "1",
                                    "Leghosszabb foglalás": "7"
                                },
                                {
                                    "usernev": "tunde",
                                    "Legrövidebb foglalás": "1",
                                    "Leghosszabb foglalás": "7"
                                },
                                {
                                    "usernev": "tunde",
                                    "Legrövidebb foglalás": "1",
                                    "Leghosszabb foglalás": "7"
                                },
                                {
                                    "usernev": "tunde",
                                    "Legrövidebb foglalás": "1",
                                    "Leghosszabb foglalás": "7"
                                },
                                {
                                    "usernev": "tunde",
                                    "Legrövidebb foglalás": "1",
                                    "Leghosszabb foglalás": "7"
                                },
                                {
                                    "usernev": "tunde",
                                    "Legrövidebb foglalás": "1",
                                    "Leghosszabb foglalás": "7"
                                },
                                {
                                    "usernev": "tunde",
                                    "Legrövidebb foglalás": "1",
                                    "Leghosszabb foglalás": "7"
                                },
                                {
                                    "usernev": "valentin",
                                    "Legrövidebb foglalás": "4",
                                    "Leghosszabb foglalás": "6"
                                },
                                {
                                    "usernev": "valentin",
                                    "Legrövidebb foglalás": "4",
                                    "Leghosszabb foglalás": "6"
                                },
                                {
                                    "usernev": "valentin",
                                    "Legrövidebb foglalás": "4",
                                    "Leghosszabb foglalás": "6"
                                },
                                {
                                    "usernev": "valentin",
                                    "Legrövidebb foglalás": "4",
                                    "Leghosszabb foglalás": "6"
                                },
                                {
                                    "usernev": "valentin",
                                    "Legrövidebb foglalás": "4",
                                    "Leghosszabb foglalás": "6"
                                },
                                {
                                    "usernev": "veronika4",
                                    "Legrövidebb foglalás": "2",
                                    "Leghosszabb foglalás": "7"
                                },
                                {
                                    "usernev": "veronika4",
                                    "Legrövidebb foglalás": "2",
                                    "Leghosszabb foglalás": "7"
                                },
                                {
                                    "usernev": "veronika4",
                                    "Legrövidebb foglalás": "2",
                                    "Leghosszabb foglalás": "7"
                                },
                                {
                                    "usernev": "veronika4",
                                    "Legrövidebb foglalás": "2",
                                    "Leghosszabb foglalás": "7"
                                },
                                {
                                    "usernev": "veronika4",
                                    "Legrövidebb foglalás": "2",
                                    "Leghosszabb foglalás": "7"
                                },
                                {
                                    "usernev": "veronika4",
                                    "Legrövidebb foglalás": "2",
                                    "Leghosszabb foglalás": "7"
                                },
                                {
                                    "usernev": "VIKTORIAU",
                                    "Legrövidebb foglalás": "1",
                                    "Leghosszabb foglalás": "7"
                                },
                                {
                                    "usernev": "VIKTORIAU",
                                    "Legrövidebb foglalás": "1",
                                    "Leghosszabb foglalás": "7"
                                },
                                {
                                    "usernev": "VIKTORIAU",
                                    "Legrövidebb foglalás": "1",
                                    "Leghosszabb foglalás": "7"
                                },
                                {
                                    "usernev": "VIKTORIAU",
                                    "Legrövidebb foglalás": "1",
                                    "Leghosszabb foglalás": "7"
                                },
                                {
                                    "usernev": "VIKTORK",
                                    "Legrövidebb foglalás": "1",
                                    "Leghosszabb foglalás": "2"
                                },
                                {
                                    "usernev": "VIKTORK",
                                    "Legrövidebb foglalás": "1",
                                    "Leghosszabb foglalás": "2"
                                },
                                {
                                    "usernev": "vivien3",
                                    "Legrövidebb foglalás": "2",
                                    "Leghosszabb foglalás": "5"
                                },
                                {
                                    "usernev": "vivien3",
                                    "Legrövidebb foglalás": "2",
                                    "Leghosszabb foglalás": "5"
                                },
                                {
                                    "usernev": "vivien3",
                                    "Legrövidebb foglalás": "2",
                                    "Leghosszabb foglalás": "5"
                                },
                                {
                                    "usernev": "vivien3",
                                    "Legrövidebb foglalás": "2",
                                    "Leghosszabb foglalás": "5"
                                },
                                {
                                    "usernev": "vivien3",
                                    "Legrövidebb foglalás": "2",
                                    "Leghosszabb foglalás": "5"
                                },
                                {
                                    "usernev": "vivien3",
                                    "Legrövidebb foglalás": "2",
                                    "Leghosszabb foglalás": "5"
                                },
                                {
                                    "usernev": "vivien3",
                                    "Legrövidebb foglalás": "2",
                                    "Leghosszabb foglalás": "5"
                                },
                                {
                                    "usernev": "zoltan",
                                    "Legrövidebb foglalás": "4",
                                    "Leghosszabb foglalás": "7"
                                },
                                {
                                    "usernev": "zoltan",
                                    "Legrövidebb foglalás": "4",
                                    "Leghosszabb foglalás": "7"
                                },
                                {
                                    "usernev": "zoltan4",
                                    "Legrövidebb foglalás": "1",
                                    "Leghosszabb foglalás": "7"
                                },
                                {
                                    "usernev": "zoltan4",
                                    "Legrövidebb foglalás": "1",
                                    "Leghosszabb foglalás": "7"
                                },
                                {
                                    "usernev": "zoltan4",
                                    "Legrövidebb foglalás": "1",
                                    "Leghosszabb foglalás": "7"
                                },
                                {
                                    "usernev": "zoltan4",
                                    "Legrövidebb foglalás": "1",
                                    "Leghosszabb foglalás": "7"
                                },
                                {
                                    "usernev": "zoltan4",
                                    "Legrövidebb foglalás": "1",
                                    "Leghosszabb foglalás": "7"
                                },
                                {
                                    "usernev": "zoltan4",
                                    "Legrövidebb foglalás": "1",
                                    "Leghosszabb foglalás": "7"
                                },
                                {
                                    "usernev": "zoltan4",
                                    "Legrövidebb foglalás": "1",
                                    "Leghosszabb foglalás": "7"
                                },
                                {
                                    "usernev": "zoltan4",
                                    "Legrövidebb foglalás": "1",
                                    "Leghosszabb foglalás": "7"
                                },
                                {
                                    "usernev": "zoltan4",
                                    "Legrövidebb foglalás": "1",
                                    "Leghosszabb foglalás": "7"
                                },
                                {
                                    "usernev": "zoltan4",
                                    "Legrövidebb foglalás": "1",
                                    "Leghosszabb foglalás": "7"
                                },
                                {
                                    "usernev": "zoltan4",
                                    "Legrövidebb foglalás": "1",
                                    "Leghosszabb foglalás": "7"
                                },
                                {
                                    "usernev": "zoltan4",
                                    "Legrövidebb foglalás": "1",
                                    "Leghosszabb foglalás": "7"
                                },
                                {
                                    "usernev": "ZOLTANP",
                                    "Legrövidebb foglalás": "2",
                                    "Leghosszabb foglalás": "6"
                                },
                                {
                                    "usernev": "ZOLTANP",
                                    "Legrövidebb foglalás": "2",
                                    "Leghosszabb foglalás": "6"
                                },
                                {
                                    "usernev": "ZOLTANP",
                                    "Legrövidebb foglalás": "2",
                                    "Leghosszabb foglalás": "6"
                                },
                                {
                                    "usernev": "ZOLTANP",
                                    "Legrövidebb foglalás": "2",
                                    "Leghosszabb foglalás": "6"
                                },
                                {
                                    "usernev": "ZOLTANP",
                                    "Legrövidebb foglalás": "2",
                                    "Leghosszabb foglalás": "6"
                                },
                                {
                                    "usernev": "ZOLTANP",
                                    "Legrövidebb foglalás": "2",
                                    "Leghosszabb foglalás": "6"
                                },
                                {
                                    "usernev": "ZOLTANT",
                                    "Legrövidebb foglalás": "1",
                                    "Leghosszabb foglalás": "4"
                                },
                                {
                                    "usernev": "ZOLTANT",
                                    "Legrövidebb foglalás": "1",
                                    "Leghosszabb foglalás": "4"
                                },
                                {
                                    "usernev": "ZOLTANT",
                                    "Legrövidebb foglalás": "1",
                                    "Leghosszabb foglalás": "4"
                                },
                                {
                                    "usernev": "zsofi1",
                                    "Legrövidebb foglalás": "1",
                                    "Leghosszabb foglalás": "1"
                                },
                                {
                                    "usernev": "zsofi1",
                                    "Legrövidebb foglalás": "1",
                                    "Leghosszabb foglalás": "1"
                                },
                                {
                                    "usernev": "zsolt1",
                                    "Legrövidebb foglalás": "2",
                                    "Leghosszabb foglalás": "3"
                                },
                                {
                                    "usernev": "zsolt1",
                                    "Legrövidebb foglalás": "2",
                                    "Leghosszabb foglalás": "3"
                                },
                                {
                                    "usernev": "zsolt1",
                                    "Legrövidebb foglalás": "2",
                                    "Leghosszabb foglalás": "3"
                                },
                                {
                                    "usernev": "zsolt1",
                                    "Legrövidebb foglalás": "2",
                                    "Leghosszabb foglalás": "3"
                                },
                                {
                                    "usernev": "ZSOLTJ",
                                    "Legrövidebb foglalás": "1",
                                    "Leghosszabb foglalás": "6"
                                },
                                {
                                    "usernev": "ZSOLTJ",
                                    "Legrövidebb foglalás": "1",
                                    "Leghosszabb foglalás": "6"
                                },
                                {
                                    "usernev": "ZSOLTJ",
                                    "Legrövidebb foglalás": "1",
                                    "Leghosszabb foglalás": "6"
                                },
                                {
                                    "usernev": "ZSOLTJ",
                                    "Legrövidebb foglalás": "1",
                                    "Leghosszabb foglalás": "6"
                                },
                                {
                                    "usernev": "ZSOLTJ",
                                    "Legrövidebb foglalás": "1",
                                    "Leghosszabb foglalás": "6"
                                },
                                {
                                    "usernev": "ZSOLTJ",
                                    "Legrövidebb foglalás": "1",
                                    "Leghosszabb foglalás": "6"
                                },
                                {
                                    "usernev": "zsuzsa",
                                    "Legrövidebb foglalás": "1",
                                    "Leghosszabb foglalás": "6"
                                },
                                {
                                    "usernev": "zsuzsa",
                                    "Legrövidebb foglalás": "1",
                                    "Leghosszabb foglalás": "6"
                                },
                                {
                                    "usernev": "zsuzsa",
                                    "Legrövidebb foglalás": "1",
                                    "Leghosszabb foglalás": "6"
                                },
                                {
                                    "usernev": "zsuzsa3",
                                    "Legrövidebb foglalás": "1",
                                    "Leghosszabb foglalás": "7"
                                },
                                {
                                    "usernev": "zsuzsa3",
                                    "Legrövidebb foglalás": "1",
                                    "Leghosszabb foglalás": "7"
                                },
                                {
                                    "usernev": "zsuzsa3",
                                    "Legrövidebb foglalás": "1",
                                    "Leghosszabb foglalás": "7"
                                },
                                {
                                    "usernev": "zsuzsa3",
                                    "Legrövidebb foglalás": "1",
                                    "Leghosszabb foglalás": "7"
                                },
                                {
                                    "usernev": "zsuzsanna",
                                    "Legrövidebb foglalás": "3",
                                    "Leghosszabb foglalás": "7"
                                },
                                {
                                    "usernev": "zsuzsanna",
                                    "Legrövidebb foglalás": "3",
                                    "Leghosszabb foglalás": "7"
                                },
                                {
                                    "usernev": "zsuzsanna",
                                    "Legrövidebb foglalás": "3",
                                    "Leghosszabb foglalás": "7"
                                },
                                {
                                    "usernev": "zsuzsanna",
                                    "Legrövidebb foglalás": "3",
                                    "Leghosszabb foglalás": "7"
                                },
                                {
                                    "usernev": "ZSUZSAV",
                                    "Legrövidebb foglalás": "2",
                                    "Leghosszabb foglalás": "6"
                                },
                                {
                                    "usernev": "ZSUZSAV",
                                    "Legrövidebb foglalás": "2",
                                    "Leghosszabb foglalás": "6"
                                },
                                {
                                    "usernev": "ZSUZSAV",
                                    "Legrövidebb foglalás": "2",
                                    "Leghosszabb foglalás": "6"
                                },
                                {
                                    "usernev": "ZSUZSAV",
                                    "Legrövidebb foglalás": "2",
                                    "Leghosszabb foglalás": "6"
                                },
                                {
                                    "usernev": "ZSUZSAV",
                                    "Legrövidebb foglalás": "2",
                                    "Leghosszabb foglalás": "6"
                                },
                                {
                                    "usernev": "ZSUZSAV",
                                    "Legrövidebb foglalás": "2",
                                    "Leghosszabb foglalás": "6"
                                }
                            ]
                        },
                        "text/html": "<table><tr><th>usernev</th><th>Legrövidebb foglalás</th><th>Leghosszabb foglalás</th></tr><tr><td>adam1</td><td>4</td><td>6</td></tr><tr><td>adam1</td><td>4</td><td>6</td></tr><tr><td>adam1</td><td>4</td><td>6</td></tr><tr><td>adam3</td><td>4</td><td>4</td></tr><tr><td>adam3</td><td>4</td><td>4</td></tr><tr><td>adam4</td><td>2</td><td>7</td></tr><tr><td>adam4</td><td>2</td><td>7</td></tr><tr><td>adam4</td><td>2</td><td>7</td></tr><tr><td>adam4</td><td>2</td><td>7</td></tr><tr><td>adam4</td><td>2</td><td>7</td></tr><tr><td>adam4</td><td>2</td><td>7</td></tr><tr><td>agnes</td><td>2</td><td>7</td></tr><tr><td>agnes</td><td>2</td><td>7</td></tr><tr><td>agnes</td><td>2</td><td>7</td></tr><tr><td>agnes</td><td>2</td><td>7</td></tr><tr><td>agnes</td><td>2</td><td>7</td></tr><tr><td>agnes3</td><td>1</td><td>6</td></tr><tr><td>agnes3</td><td>1</td><td>6</td></tr><tr><td>agnes3</td><td>1</td><td>6</td></tr><tr><td>AGNESH</td><td>1</td><td>7</td></tr><tr><td>AGNESH</td><td>1</td><td>7</td></tr><tr><td>AGNESH</td><td>1</td><td>7</td></tr><tr><td>AGNESH</td><td>1</td><td>7</td></tr><tr><td>AGNESH</td><td>1</td><td>7</td></tr><tr><td>AGNESH</td><td>1</td><td>7</td></tr><tr><td>AGNESK</td><td>1</td><td>3</td></tr><tr><td>AGNESK</td><td>1</td><td>3</td></tr><tr><td>AGNESK</td><td>1</td><td>3</td></tr><tr><td>akos</td><td>1</td><td>6</td></tr><tr><td>akos</td><td>1</td><td>6</td></tr><tr><td>akos</td><td>1</td><td>6</td></tr><tr><td>akos</td><td>1</td><td>6</td></tr><tr><td>akos</td><td>1</td><td>6</td></tr><tr><td>akos</td><td>1</td><td>6</td></tr><tr><td>akos</td><td>1</td><td>6</td></tr><tr><td>akos</td><td>1</td><td>6</td></tr><tr><td>akos</td><td>1</td><td>6</td></tr><tr><td>akos</td><td>1</td><td>6</td></tr><tr><td>aladar</td><td>1</td><td>7</td></tr><tr><td>aladar</td><td>1</td><td>7</td></tr><tr><td>aladar</td><td>1</td><td>7</td></tr><tr><td>alexandra</td><td>1</td><td>7</td></tr><tr><td>alexandra</td><td>1</td><td>7</td></tr><tr><td>alexandra</td><td>1</td><td>7</td></tr><tr><td>alexandra</td><td>1</td><td>7</td></tr><tr><td>alexandra</td><td>1</td><td>7</td></tr><tr><td>alexandra</td><td>1</td><td>7</td></tr><tr><td>alexandra</td><td>1</td><td>7</td></tr><tr><td>andi</td><td>1</td><td>6</td></tr><tr><td>andi</td><td>1</td><td>6</td></tr><tr><td>andi</td><td>1</td><td>6</td></tr><tr><td>andi</td><td>1</td><td>6</td></tr><tr><td>andi</td><td>1</td><td>6</td></tr><tr><td>andras2</td><td>2</td><td>5</td></tr><tr><td>andras2</td><td>2</td><td>5</td></tr><tr><td>andras2</td><td>2</td><td>5</td></tr><tr><td>andras2</td><td>2</td><td>5</td></tr><tr><td>andras2</td><td>2</td><td>5</td></tr><tr><td>andras21</td><td>1</td><td>7</td></tr><tr><td>andras21</td><td>1</td><td>7</td></tr><tr><td>andras21</td><td>1</td><td>7</td></tr><tr><td>andras21</td><td>1</td><td>7</td></tr><tr><td>andras21</td><td>1</td><td>7</td></tr><tr><td>andras21</td><td>1</td><td>7</td></tr><tr><td>andras21</td><td>1</td><td>7</td></tr><tr><td>andras3</td><td>1</td><td>6</td></tr><tr><td>andras3</td><td>1</td><td>6</td></tr><tr><td>andras3</td><td>1</td><td>6</td></tr><tr><td>andras3</td><td>1</td><td>6</td></tr><tr><td>andras3</td><td>1</td><td>6</td></tr><tr><td>andras3</td><td>1</td><td>6</td></tr><tr><td>andras3</td><td>1</td><td>6</td></tr><tr><td>andras3</td><td>1</td><td>6</td></tr><tr><td>andras4</td><td>1</td><td>3</td></tr><tr><td>andras4</td><td>1</td><td>3</td></tr><tr><td>andras4</td><td>1</td><td>3</td></tr><tr><td>andras41</td><td>1</td><td>7</td></tr><tr><td>andras41</td><td>1</td><td>7</td></tr><tr><td>andras41</td><td>1</td><td>7</td></tr><tr><td>andras41</td><td>1</td><td>7</td></tr><tr><td>andras41</td><td>1</td><td>7</td></tr><tr><td>andras41</td><td>1</td><td>7</td></tr><tr><td>andras41</td><td>1</td><td>7</td></tr><tr><td>andras41</td><td>1</td><td>7</td></tr><tr><td>andras41</td><td>1</td><td>7</td></tr><tr><td>andras41</td><td>1</td><td>7</td></tr><tr><td>andras41</td><td>1</td><td>7</td></tr><tr><td>andras41</td><td>1</td><td>7</td></tr><tr><td>andras41</td><td>1</td><td>7</td></tr><tr><td>ANDRASE</td><td>1</td><td>7</td></tr><tr><td>ANDRASE</td><td>1</td><td>7</td></tr><tr><td>ANDRASE</td><td>1</td><td>7</td></tr><tr><td>ANDRASE</td><td>1</td><td>7</td></tr><tr><td>ANDRASE</td><td>1</td><td>7</td></tr><tr><td>ANDRASN</td><td>6</td><td>6</td></tr><tr><td>andrea</td><td>1</td><td>6</td></tr><tr><td>andrea</td><td>1</td><td>6</td></tr><tr><td>andrea</td><td>1</td><td>6</td></tr><tr><td>andrea</td><td>1</td><td>6</td></tr><tr><td>andrea</td><td>1</td><td>6</td></tr><tr><td>andrea</td><td>1</td><td>6</td></tr><tr><td>andrea3</td><td>2</td><td>2</td></tr><tr><td>andrea4</td><td>2</td><td>7</td></tr><tr><td>andrea4</td><td>2</td><td>7</td></tr><tr><td>andrea4</td><td>2</td><td>7</td></tr><tr><td>andrea4</td><td>2</td><td>7</td></tr><tr><td>ANDREAT</td><td>1</td><td>5</td></tr><tr><td>ANDREAT</td><td>1</td><td>5</td></tr><tr><td>ANDREAT</td><td>1</td><td>5</td></tr><tr><td>anett3</td><td>1</td><td>7</td></tr><tr><td>anett3</td><td>1</td><td>7</td></tr><tr><td>anett3</td><td>1</td><td>7</td></tr><tr><td>anett3</td><td>1</td><td>7</td></tr><tr><td>anett3</td><td>1</td><td>7</td></tr><tr><td>anett3</td><td>1</td><td>7</td></tr><tr><td>anett3</td><td>1</td><td>7</td></tr><tr><td>anett3</td><td>1</td><td>7</td></tr><tr><td>aniko</td><td>1</td><td>5</td></tr><tr><td>aniko</td><td>1</td><td>5</td></tr><tr><td>aniko</td><td>1</td><td>5</td></tr><tr><td>aniko4</td><td>2</td><td>7</td></tr><tr><td>aniko4</td><td>2</td><td>7</td></tr><tr><td>aniko4</td><td>2</td><td>7</td></tr><tr><td>aniko4</td><td>2</td><td>7</td></tr><tr><td>ANIKOS</td><td>1</td><td>7</td></tr><tr><td>ANIKOS</td><td>1</td><td>7</td></tr><tr><td>ANIKOS</td><td>1</td><td>7</td></tr><tr><td>ANIKOS</td><td>1</td><td>7</td></tr><tr><td>ANIKOS</td><td>1</td><td>7</td></tr><tr><td>ANIKOS</td><td>1</td><td>7</td></tr><tr><td>ANIKOS</td><td>1</td><td>7</td></tr><tr><td>ANIKOS</td><td>1</td><td>7</td></tr><tr><td>ANIKOS</td><td>1</td><td>7</td></tr><tr><td>anita</td><td>3</td><td>5</td></tr><tr><td>anita</td><td>3</td><td>5</td></tr><tr><td>anita</td><td>3</td><td>5</td></tr><tr><td>anita</td><td>3</td><td>5</td></tr><tr><td>annamaria1</td><td>1</td><td>1</td></tr><tr><td>annamaria1</td><td>1</td><td>1</td></tr><tr><td>ANNAMARIAR</td><td>1</td><td>4</td></tr><tr><td>ANNAMARIAR</td><td>1</td><td>4</td></tr><tr><td>ANNAMARIAR</td><td>1</td><td>4</td></tr><tr><td>ANNAMARIAR</td><td>1</td><td>4</td></tr><tr><td>ANNAMARIAR</td><td>1</td><td>4</td></tr><tr><td>ANNAMARIAR</td><td>1</td><td>4</td></tr><tr><td>aron2</td><td>1</td><td>4</td></tr><tr><td>aron2</td><td>1</td><td>4</td></tr><tr><td>aron2</td><td>1</td><td>4</td></tr><tr><td>aron2</td><td>1</td><td>4</td></tr><tr><td>aron2</td><td>1</td><td>4</td></tr><tr><td>aron2</td><td>1</td><td>4</td></tr><tr><td>ARONK</td><td>2</td><td>7</td></tr><tr><td>ARONK</td><td>2</td><td>7</td></tr><tr><td>ARONK</td><td>2</td><td>7</td></tr><tr><td>ARONK</td><td>2</td><td>7</td></tr><tr><td>ARONK</td><td>2</td><td>7</td></tr><tr><td>ARONK</td><td>2</td><td>7</td></tr><tr><td>ARONK</td><td>2</td><td>7</td></tr><tr><td>ARONK</td><td>2</td><td>7</td></tr><tr><td>ARONK</td><td>2</td><td>7</td></tr><tr><td>ARONK</td><td>2</td><td>7</td></tr><tr><td>ARONK</td><td>2</td><td>7</td></tr><tr><td>ARONK</td><td>2</td><td>7</td></tr><tr><td>ARONK</td><td>2</td><td>7</td></tr><tr><td>arpad2</td><td>1</td><td>6</td></tr><tr><td>arpad2</td><td>1</td><td>6</td></tr><tr><td>arpad2</td><td>1</td><td>6</td></tr><tr><td>arpad2</td><td>1</td><td>6</td></tr><tr><td>arpad2</td><td>1</td><td>6</td></tr><tr><td>arpad2</td><td>1</td><td>6</td></tr><tr><td>arpad2</td><td>1</td><td>6</td></tr><tr><td>ARPADH</td><td>1</td><td>7</td></tr><tr><td>ARPADH</td><td>1</td><td>7</td></tr><tr><td>ARPADH</td><td>1</td><td>7</td></tr><tr><td>ARPADH</td><td>1</td><td>7</td></tr><tr><td>ARPADH</td><td>1</td><td>7</td></tr><tr><td>ARPADH</td><td>1</td><td>7</td></tr><tr><td>ARPADH</td><td>1</td><td>7</td></tr><tr><td>ARPADM</td><td>2</td><td>5</td></tr><tr><td>ARPADM</td><td>2</td><td>5</td></tr><tr><td>ARPADM</td><td>2</td><td>5</td></tr><tr><td>ARPADM</td><td>2</td><td>5</td></tr><tr><td>ARPADM</td><td>2</td><td>5</td></tr><tr><td>ARPADM</td><td>2</td><td>5</td></tr><tr><td>attila</td><td>4</td><td>7</td></tr><tr><td>attila</td><td>4</td><td>7</td></tr><tr><td>attila</td><td>4</td><td>7</td></tr><tr><td>attila1</td><td>1</td><td>7</td></tr><tr><td>attila1</td><td>1</td><td>7</td></tr><tr><td>attila1</td><td>1</td><td>7</td></tr><tr><td>attila1</td><td>1</td><td>7</td></tr><tr><td>attila1</td><td>1</td><td>7</td></tr><tr><td>attila1</td><td>1</td><td>7</td></tr><tr><td>attila4</td><td>1</td><td>7</td></tr><tr><td>attila4</td><td>1</td><td>7</td></tr><tr><td>attila4</td><td>1</td><td>7</td></tr><tr><td>ATTILAO</td><td>3</td><td>7</td></tr><tr><td>ATTILAO</td><td>3</td><td>7</td></tr><tr><td>ATTILAO</td><td>3</td><td>7</td></tr><tr><td>ATTILAO</td><td>3</td><td>7</td></tr><tr><td>balazs1</td><td>2</td><td>7</td></tr><tr><td>balazs1</td><td>2</td><td>7</td></tr><tr><td>balazs1</td><td>2</td><td>7</td></tr><tr><td>balazs1</td><td>2</td><td>7</td></tr><tr><td>balazs1</td><td>2</td><td>7</td></tr><tr><td>balazs1</td><td>2</td><td>7</td></tr><tr><td>balazs2</td><td>1</td><td>7</td></tr><tr><td>balazs2</td><td>1</td><td>7</td></tr><tr><td>balazs2</td><td>1</td><td>7</td></tr><tr><td>balazs2</td><td>1</td><td>7</td></tr><tr><td>balazs2</td><td>1</td><td>7</td></tr><tr><td>balazs2</td><td>1</td><td>7</td></tr><tr><td>balazs2</td><td>1</td><td>7</td></tr><tr><td>balazs2</td><td>1</td><td>7</td></tr><tr><td>balazs2</td><td>1</td><td>7</td></tr><tr><td>balazs2</td><td>1</td><td>7</td></tr><tr><td>balazs3</td><td>1</td><td>6</td></tr><tr><td>balazs3</td><td>1</td><td>6</td></tr><tr><td>balazs3</td><td>1</td><td>6</td></tr><tr><td>balazs3</td><td>1</td><td>6</td></tr><tr><td>balazs3</td><td>1</td><td>6</td></tr><tr><td>balazs3</td><td>1</td><td>6</td></tr><tr><td>balint</td><td>2</td><td>7</td></tr><tr><td>balint</td><td>2</td><td>7</td></tr><tr><td>balint</td><td>2</td><td>7</td></tr><tr><td>balint1</td><td>2</td><td>5</td></tr><tr><td>balint1</td><td>2</td><td>5</td></tr><tr><td>balint1</td><td>2</td><td>5</td></tr><tr><td>balint1</td><td>2</td><td>5</td></tr><tr><td>balint1</td><td>2</td><td>5</td></tr><tr><td>balint1</td><td>2</td><td>5</td></tr><tr><td>balint1</td><td>2</td><td>5</td></tr><tr><td>balint1</td><td>2</td><td>5</td></tr><tr><td>balint1</td><td>2</td><td>5</td></tr><tr><td>balint1</td><td>2</td><td>5</td></tr><tr><td>balint2</td><td>2</td><td>5</td></tr><tr><td>balint2</td><td>2</td><td>5</td></tr><tr><td>balu</td><td>1</td><td>4</td></tr><tr><td>balu</td><td>1</td><td>4</td></tr><tr><td>beata4</td><td>1</td><td>4</td></tr><tr><td>beata4</td><td>1</td><td>4</td></tr><tr><td>beata4</td><td>1</td><td>4</td></tr><tr><td>beata4</td><td>1</td><td>4</td></tr><tr><td>beata4</td><td>1</td><td>4</td></tr><tr><td>beata4</td><td>1</td><td>4</td></tr><tr><td>BEATRIXK</td><td>1</td><td>6</td></tr><tr><td>BEATRIXK</td><td>1</td><td>6</td></tr><tr><td>BEATRIXK</td><td>1</td><td>6</td></tr><tr><td>BEATRIXK</td><td>1</td><td>6</td></tr><tr><td>BEATRIXK</td><td>1</td><td>6</td></tr><tr><td>BEATRIXK</td><td>1</td><td>6</td></tr><tr><td>BEATRIXK</td><td>1</td><td>6</td></tr><tr><td>BEATRIXK</td><td>1</td><td>6</td></tr><tr><td>BEATRIXK</td><td>1</td><td>6</td></tr><tr><td>BEATRIXS</td><td>1</td><td>6</td></tr><tr><td>BEATRIXS</td><td>1</td><td>6</td></tr><tr><td>BEATRIXS</td><td>1</td><td>6</td></tr><tr><td>BEATRIXS</td><td>1</td><td>6</td></tr><tr><td>BEATRIXS</td><td>1</td><td>6</td></tr><tr><td>BEATRIXS</td><td>1</td><td>6</td></tr><tr><td>BELAF</td><td>2</td><td>6</td></tr><tr><td>BELAF</td><td>2</td><td>6</td></tr><tr><td>BELAF</td><td>2</td><td>6</td></tr><tr><td>BELAF</td><td>2</td><td>6</td></tr><tr><td>BELAF</td><td>2</td><td>6</td></tr><tr><td>BELAF</td><td>2</td><td>6</td></tr><tr><td>bence</td><td>1</td><td>7</td></tr><tr><td>bence</td><td>1</td><td>7</td></tr><tr><td>bence</td><td>1</td><td>7</td></tr><tr><td>bence</td><td>1</td><td>7</td></tr><tr><td>bence</td><td>1</td><td>7</td></tr><tr><td>bence</td><td>1</td><td>7</td></tr><tr><td>bence</td><td>1</td><td>7</td></tr><tr><td>bence</td><td>1</td><td>7</td></tr><tr><td>bence</td><td>1</td><td>7</td></tr><tr><td>BENCEB</td><td>1</td><td>7</td></tr><tr><td>BENCEB</td><td>1</td><td>7</td></tr><tr><td>BENCEB</td><td>1</td><td>7</td></tr><tr><td>BENCEB</td><td>1</td><td>7</td></tr><tr><td>BENCEB</td><td>1</td><td>7</td></tr><tr><td>BENCEB</td><td>1</td><td>7</td></tr><tr><td>bernadett1</td><td>1</td><td>7</td></tr><tr><td>bernadett1</td><td>1</td><td>7</td></tr><tr><td>bernadett1</td><td>1</td><td>7</td></tr><tr><td>bernadett1</td><td>1</td><td>7</td></tr><tr><td>bernadett1</td><td>1</td><td>7</td></tr><tr><td>bernadett1</td><td>1</td><td>7</td></tr><tr><td>bernadett1</td><td>1</td><td>7</td></tr><tr><td>bernadett2</td><td>2</td><td>7</td></tr><tr><td>bernadett2</td><td>2</td><td>7</td></tr><tr><td>bernadett2</td><td>2</td><td>7</td></tr><tr><td>bernadett2</td><td>2</td><td>7</td></tr><tr><td>bernadett2</td><td>2</td><td>7</td></tr><tr><td>bernadett2</td><td>2</td><td>7</td></tr><tr><td>bernadett2</td><td>2</td><td>7</td></tr><tr><td>bernadett2</td><td>2</td><td>7</td></tr><tr><td>BERNADETTO</td><td>1</td><td>7</td></tr><tr><td>BERNADETTO</td><td>1</td><td>7</td></tr><tr><td>BERNADETTO</td><td>1</td><td>7</td></tr><tr><td>BERNADETTO</td><td>1</td><td>7</td></tr><tr><td>BERNADETTO</td><td>1</td><td>7</td></tr><tr><td>BERNADETTO</td><td>1</td><td>7</td></tr><tr><td>BERNADETTO</td><td>1</td><td>7</td></tr><tr><td>bertalan</td><td>1</td><td>7</td></tr><tr><td>bertalan</td><td>1</td><td>7</td></tr><tr><td>bertalan</td><td>1</td><td>7</td></tr><tr><td>bertalan</td><td>1</td><td>7</td></tr><tr><td>bertalan</td><td>1</td><td>7</td></tr><tr><td>bertalan</td><td>1</td><td>7</td></tr><tr><td>brigitta</td><td>2</td><td>7</td></tr><tr><td>brigitta</td><td>2</td><td>7</td></tr><tr><td>brigitta</td><td>2</td><td>7</td></tr><tr><td>brigitta</td><td>2</td><td>7</td></tr><tr><td>brigitta</td><td>2</td><td>7</td></tr><tr><td>brigitta3</td><td>4</td><td>7</td></tr><tr><td>brigitta3</td><td>4</td><td>7</td></tr><tr><td>brigitta3</td><td>4</td><td>7</td></tr><tr><td>brigitta3</td><td>4</td><td>7</td></tr><tr><td>brigitta3</td><td>4</td><td>7</td></tr><tr><td>csongor3</td><td>1</td><td>7</td></tr><tr><td>csongor3</td><td>1</td><td>7</td></tr><tr><td>csongor3</td><td>1</td><td>7</td></tr><tr><td>csongor3</td><td>1</td><td>7</td></tr><tr><td>csongor3</td><td>1</td><td>7</td></tr><tr><td>csongor3</td><td>1</td><td>7</td></tr><tr><td>csongor3</td><td>1</td><td>7</td></tr><tr><td>csongor3</td><td>1</td><td>7</td></tr><tr><td>dani</td><td>1</td><td>7</td></tr><tr><td>dani</td><td>1</td><td>7</td></tr><tr><td>dani</td><td>1</td><td>7</td></tr><tr><td>dani</td><td>1</td><td>7</td></tr><tr><td>dani</td><td>1</td><td>7</td></tr><tr><td>dani</td><td>1</td><td>7</td></tr><tr><td>dani</td><td>1</td><td>7</td></tr><tr><td>dani</td><td>1</td><td>7</td></tr><tr><td>dani</td><td>1</td><td>7</td></tr><tr><td>daniel</td><td>1</td><td>6</td></tr><tr><td>daniel</td><td>1</td><td>6</td></tr><tr><td>daniel</td><td>1</td><td>6</td></tr><tr><td>daniel</td><td>1</td><td>6</td></tr><tr><td>daniel</td><td>1</td><td>6</td></tr><tr><td>daniel</td><td>1</td><td>6</td></tr><tr><td>daniel</td><td>1</td><td>6</td></tr><tr><td>daniel</td><td>1</td><td>6</td></tr><tr><td>daniel</td><td>1</td><td>6</td></tr><tr><td>daniel1</td><td>1</td><td>5</td></tr><tr><td>daniel1</td><td>1</td><td>5</td></tr><tr><td>daniel1</td><td>1</td><td>5</td></tr><tr><td>daniel1</td><td>1</td><td>5</td></tr><tr><td>daniel1</td><td>1</td><td>5</td></tr><tr><td>daniel1</td><td>1</td><td>5</td></tr><tr><td>daniel1</td><td>1</td><td>5</td></tr><tr><td>david</td><td>1</td><td>7</td></tr><tr><td>david</td><td>1</td><td>7</td></tr><tr><td>david</td><td>1</td><td>7</td></tr><tr><td>david</td><td>1</td><td>7</td></tr><tr><td>david</td><td>1</td><td>7</td></tr><tr><td>david</td><td>1</td><td>7</td></tr><tr><td>david</td><td>1</td><td>7</td></tr><tr><td>david</td><td>1</td><td>7</td></tr><tr><td>david</td><td>1</td><td>7</td></tr><tr><td>david1</td><td>1</td><td>7</td></tr><tr><td>david1</td><td>1</td><td>7</td></tr><tr><td>david1</td><td>1</td><td>7</td></tr><tr><td>david1</td><td>1</td><td>7</td></tr><tr><td>david1</td><td>1</td><td>7</td></tr><tr><td>david1</td><td>1</td><td>7</td></tr><tr><td>david4</td><td>3</td><td>3</td></tr><tr><td>debora</td><td>2</td><td>5</td></tr><tr><td>debora</td><td>2</td><td>5</td></tr><tr><td>debora</td><td>2</td><td>5</td></tr><tr><td>debora</td><td>2</td><td>5</td></tr><tr><td>denes</td><td>4</td><td>7</td></tr><tr><td>denes</td><td>4</td><td>7</td></tr><tr><td>denes</td><td>4</td><td>7</td></tr><tr><td>denes</td><td>4</td><td>7</td></tr><tr><td>denes</td><td>4</td><td>7</td></tr><tr><td>denes</td><td>4</td><td>7</td></tr><tr><td>dora3</td><td>3</td><td>7</td></tr><tr><td>dora3</td><td>3</td><td>7</td></tr><tr><td>dora3</td><td>3</td><td>7</td></tr><tr><td>dora3</td><td>3</td><td>7</td></tr><tr><td>dora3</td><td>3</td><td>7</td></tr><tr><td>edit</td><td>2</td><td>7</td></tr><tr><td>edit</td><td>2</td><td>7</td></tr><tr><td>edit</td><td>2</td><td>7</td></tr><tr><td>edit</td><td>2</td><td>7</td></tr><tr><td>edit</td><td>2</td><td>7</td></tr><tr><td>edit</td><td>2</td><td>7</td></tr><tr><td>edit</td><td>2</td><td>7</td></tr><tr><td>emese</td><td>1</td><td>4</td></tr><tr><td>emese</td><td>1</td><td>4</td></tr><tr><td>emese</td><td>1</td><td>4</td></tr><tr><td>emese</td><td>1</td><td>4</td></tr><tr><td>emese</td><td>1</td><td>4</td></tr><tr><td>emese</td><td>1</td><td>4</td></tr><tr><td>emese</td><td>1</td><td>4</td></tr><tr><td>eszter</td><td>5</td><td>6</td></tr><tr><td>eszter</td><td>5</td><td>6</td></tr><tr><td>eszter</td><td>5</td><td>6</td></tr><tr><td>eszter</td><td>5</td><td>6</td></tr><tr><td>eszter2</td><td>1</td><td>37</td></tr><tr><td>eszter2</td><td>1</td><td>37</td></tr><tr><td>eszter2</td><td>1</td><td>37</td></tr><tr><td>eszter2</td><td>1</td><td>37</td></tr><tr><td>eszter2</td><td>1</td><td>37</td></tr><tr><td>eszter2</td><td>1</td><td>37</td></tr><tr><td>eszter2</td><td>1</td><td>37</td></tr><tr><td>eszter2</td><td>1</td><td>37</td></tr><tr><td>eszter2</td><td>1</td><td>37</td></tr><tr><td>eszter2</td><td>1</td><td>37</td></tr><tr><td>eszter4</td><td>1</td><td>7</td></tr><tr><td>eszter4</td><td>1</td><td>7</td></tr><tr><td>eszter4</td><td>1</td><td>7</td></tr><tr><td>ESZTERE</td><td>2</td><td>7</td></tr><tr><td>ESZTERE</td><td>2</td><td>7</td></tr><tr><td>ESZTERE</td><td>2</td><td>7</td></tr><tr><td>ESZTERE</td><td>2</td><td>7</td></tr><tr><td>eva</td><td>2</td><td>3</td></tr><tr><td>eva</td><td>2</td><td>3</td></tr><tr><td>eva2</td><td>1</td><td>7</td></tr><tr><td>eva2</td><td>1</td><td>7</td></tr><tr><td>eva2</td><td>1</td><td>7</td></tr><tr><td>eva2</td><td>1</td><td>7</td></tr><tr><td>EVAV</td><td>4</td><td>7</td></tr><tr><td>EVAV</td><td>4</td><td>7</td></tr><tr><td>EVAV</td><td>4</td><td>7</td></tr><tr><td>EVAV</td><td>4</td><td>7</td></tr><tr><td>EVAV</td><td>4</td><td>7</td></tr><tr><td>ferenc1</td><td>1</td><td>6</td></tr><tr><td>ferenc1</td><td>1</td><td>6</td></tr><tr><td>ferenc1</td><td>1</td><td>6</td></tr><tr><td>ferenc1</td><td>1</td><td>6</td></tr><tr><td>fruzsina4</td><td>2</td><td>6</td></tr><tr><td>fruzsina4</td><td>2</td><td>6</td></tr><tr><td>fruzsina4</td><td>2</td><td>6</td></tr><tr><td>fruzsina4</td><td>2</td><td>6</td></tr><tr><td>fruzsina4</td><td>2</td><td>6</td></tr><tr><td>fruzsina4</td><td>2</td><td>6</td></tr><tr><td>fruzsina4</td><td>2</td><td>6</td></tr><tr><td>fruzsina4</td><td>2</td><td>6</td></tr><tr><td>gabor1</td><td>1</td><td>4</td></tr><tr><td>gabor1</td><td>1</td><td>4</td></tr><tr><td>gabor1</td><td>1</td><td>4</td></tr><tr><td>gabor1</td><td>1</td><td>4</td></tr><tr><td>gabor1</td><td>1</td><td>4</td></tr><tr><td>gabor1</td><td>1</td><td>4</td></tr><tr><td>gabor4</td><td>3</td><td>6</td></tr><tr><td>gabor4</td><td>3</td><td>6</td></tr><tr><td>gabor4</td><td>3</td><td>6</td></tr><tr><td>gabor4</td><td>3</td><td>6</td></tr><tr><td>gabriella1</td><td>1</td><td>7</td></tr><tr><td>gabriella1</td><td>1</td><td>7</td></tr><tr><td>gabriella1</td><td>1</td><td>7</td></tr><tr><td>gabriella1</td><td>1</td><td>7</td></tr><tr><td>gabriella1</td><td>1</td><td>7</td></tr><tr><td>gabriella1</td><td>1</td><td>7</td></tr><tr><td>gabriella10</td><td>5</td><td>5</td></tr><tr><td>georgij</td><td>4</td><td>7</td></tr><tr><td>georgij</td><td>4</td><td>7</td></tr><tr><td>georgij</td><td>4</td><td>7</td></tr><tr><td>georgij</td><td>4</td><td>7</td></tr><tr><td>gusztav</td><td>2</td><td>7</td></tr><tr><td>gusztav</td><td>2</td><td>7</td></tr><tr><td>gusztav</td><td>2</td><td>7</td></tr><tr><td>gusztav</td><td>2</td><td>7</td></tr><tr><td>gusztav</td><td>2</td><td>7</td></tr><tr><td>GYONGYIK</td><td>3</td><td>7</td></tr><tr><td>GYONGYIK</td><td>3</td><td>7</td></tr><tr><td>GYONGYIK</td><td>3</td><td>7</td></tr><tr><td>GYONGYIK</td><td>3</td><td>7</td></tr><tr><td>GYONGYIK</td><td>3</td><td>7</td></tr><tr><td>GYONGYIK</td><td>3</td><td>7</td></tr><tr><td>GYONGYIK</td><td>3</td><td>7</td></tr><tr><td>GYORGYO</td><td>1</td><td>7</td></tr><tr><td>GYORGYO</td><td>1</td><td>7</td></tr><tr><td>GYORGYO</td><td>1</td><td>7</td></tr><tr><td>GYORGYO</td><td>1</td><td>7</td></tr><tr><td>GYORGYO</td><td>1</td><td>7</td></tr><tr><td>GYORGYO</td><td>1</td><td>7</td></tr><tr><td>GYORGYO</td><td>1</td><td>7</td></tr><tr><td>GYORGYO</td><td>1</td><td>7</td></tr><tr><td>henrik3</td><td>1</td><td>5</td></tr><tr><td>henrik3</td><td>1</td><td>5</td></tr><tr><td>henrik3</td><td>1</td><td>5</td></tr><tr><td>IBOLYAA</td><td>2</td><td>6</td></tr><tr><td>IBOLYAA</td><td>2</td><td>6</td></tr><tr><td>IBOLYAA</td><td>2</td><td>6</td></tr><tr><td>ilona3</td><td>2</td><td>6</td></tr><tr><td>ilona3</td><td>2</td><td>6</td></tr><tr><td>ilona3</td><td>2</td><td>6</td></tr><tr><td>ilona3</td><td>2</td><td>6</td></tr><tr><td>imre</td><td>1</td><td>2</td></tr><tr><td>imre</td><td>1</td><td>2</td></tr><tr><td>imre1</td><td>1</td><td>6</td></tr><tr><td>imre1</td><td>1</td><td>6</td></tr><tr><td>imre1</td><td>1</td><td>6</td></tr><tr><td>imre1</td><td>1</td><td>6</td></tr><tr><td>imre1</td><td>1</td><td>6</td></tr><tr><td>imre1</td><td>1</td><td>6</td></tr><tr><td>imre1</td><td>1</td><td>6</td></tr><tr><td>istvan</td><td>2</td><td>3</td></tr><tr><td>istvan</td><td>2</td><td>3</td></tr><tr><td>istvan</td><td>2</td><td>3</td></tr><tr><td>istvan1</td><td>3</td><td>6</td></tr><tr><td>istvan1</td><td>3</td><td>6</td></tr><tr><td>istvan1</td><td>3</td><td>6</td></tr><tr><td>istvan1</td><td>3</td><td>6</td></tr><tr><td>ISTVANV</td><td>2</td><td>3</td></tr><tr><td>ISTVANV</td><td>2</td><td>3</td></tr><tr><td>janos3</td><td>1</td><td>5</td></tr><tr><td>janos3</td><td>1</td><td>5</td></tr><tr><td>janos3</td><td>1</td><td>5</td></tr><tr><td>janos3</td><td>1</td><td>5</td></tr><tr><td>janos3</td><td>1</td><td>5</td></tr><tr><td>JANOSG</td><td>2</td><td>7</td></tr><tr><td>JANOSG</td><td>2</td><td>7</td></tr><tr><td>JANOSG</td><td>2</td><td>7</td></tr><tr><td>JANOSG</td><td>2</td><td>7</td></tr><tr><td>JANOSG</td><td>2</td><td>7</td></tr><tr><td>JANOSG</td><td>2</td><td>7</td></tr><tr><td>JANOSG</td><td>2</td><td>7</td></tr><tr><td>JANOSP</td><td>2</td><td>7</td></tr><tr><td>JANOSP</td><td>2</td><td>7</td></tr><tr><td>JANOSP</td><td>2</td><td>7</td></tr><tr><td>JANOSP</td><td>2</td><td>7</td></tr><tr><td>jozsef</td><td>1</td><td>6</td></tr><tr><td>jozsef</td><td>1</td><td>6</td></tr><tr><td>jozsef</td><td>1</td><td>6</td></tr><tr><td>jozsef2</td><td>4</td><td>6</td></tr><tr><td>jozsef2</td><td>4</td><td>6</td></tr><tr><td>jozsef2</td><td>4</td><td>6</td></tr><tr><td>jozsef2</td><td>4</td><td>6</td></tr><tr><td>jozsef2</td><td>4</td><td>6</td></tr><tr><td>JOZSEFG</td><td>2</td><td>7</td></tr><tr><td>JOZSEFG</td><td>2</td><td>7</td></tr><tr><td>JOZSEFG</td><td>2</td><td>7</td></tr><tr><td>JOZSEFG</td><td>2</td><td>7</td></tr><tr><td>JOZSEFG</td><td>2</td><td>7</td></tr><tr><td>JOZSEFG</td><td>2</td><td>7</td></tr><tr><td>JOZSEFG</td><td>2</td><td>7</td></tr><tr><td>JUDITH</td><td>2</td><td>7</td></tr><tr><td>JUDITH</td><td>2</td><td>7</td></tr><tr><td>JUDITH</td><td>2</td><td>7</td></tr><tr><td>julia</td><td>1</td><td>7</td></tr><tr><td>julia</td><td>1</td><td>7</td></tr><tr><td>julia</td><td>1</td><td>7</td></tr><tr><td>julia</td><td>1</td><td>7</td></tr><tr><td>julia</td><td>1</td><td>7</td></tr><tr><td>julia4</td><td>5</td><td>7</td></tr><tr><td>julia4</td><td>5</td><td>7</td></tr><tr><td>julianna4</td><td>1</td><td>7</td></tr><tr><td>julianna4</td><td>1</td><td>7</td></tr><tr><td>julianna4</td><td>1</td><td>7</td></tr><tr><td>julianna4</td><td>1</td><td>7</td></tr><tr><td>kata</td><td>1</td><td>6</td></tr><tr><td>kata</td><td>1</td><td>6</td></tr><tr><td>kata</td><td>1</td><td>6</td></tr><tr><td>kata</td><td>1</td><td>6</td></tr><tr><td>kata</td><td>1</td><td>6</td></tr><tr><td>kata</td><td>1</td><td>6</td></tr><tr><td>kata</td><td>1</td><td>6</td></tr><tr><td>kata</td><td>1</td><td>6</td></tr><tr><td>kata</td><td>1</td><td>6</td></tr><tr><td>kata</td><td>1</td><td>6</td></tr><tr><td>katalin</td><td>1</td><td>7</td></tr><tr><td>katalin</td><td>1</td><td>7</td></tr><tr><td>katalin</td><td>1</td><td>7</td></tr><tr><td>katalin</td><td>1</td><td>7</td></tr><tr><td>katalin</td><td>1</td><td>7</td></tr><tr><td>katalin</td><td>1</td><td>7</td></tr><tr><td>katalin</td><td>1</td><td>7</td></tr><tr><td>katalin</td><td>1</td><td>7</td></tr><tr><td>katalin</td><td>1</td><td>7</td></tr><tr><td>katalin4</td><td>1</td><td>7</td></tr><tr><td>katalin4</td><td>1</td><td>7</td></tr><tr><td>katalin4</td><td>1</td><td>7</td></tr><tr><td>katalin4</td><td>1</td><td>7</td></tr><tr><td>katalin4</td><td>1</td><td>7</td></tr><tr><td>katalin4</td><td>1</td><td>7</td></tr><tr><td>kati</td><td>2</td><td>7</td></tr><tr><td>kati</td><td>2</td><td>7</td></tr><tr><td>kati</td><td>2</td><td>7</td></tr><tr><td>kati</td><td>2</td><td>7</td></tr><tr><td>kati</td><td>2</td><td>7</td></tr><tr><td>kati</td><td>2</td><td>7</td></tr><tr><td>kati</td><td>2</td><td>7</td></tr><tr><td>katka</td><td>1</td><td>6</td></tr><tr><td>katka</td><td>1</td><td>6</td></tr><tr><td>katka</td><td>1</td><td>6</td></tr><tr><td>katka</td><td>1</td><td>6</td></tr><tr><td>katka</td><td>1</td><td>6</td></tr><tr><td>katka</td><td>1</td><td>6</td></tr><tr><td>katka</td><td>1</td><td>6</td></tr><tr><td>katka</td><td>1</td><td>6</td></tr><tr><td>katka</td><td>1</td><td>6</td></tr><tr><td>klaudia2</td><td>1</td><td>3</td></tr><tr><td>klaudia2</td><td>1</td><td>3</td></tr><tr><td>klaudia2</td><td>1</td><td>3</td></tr><tr><td>kornel4</td><td>1</td><td>7</td></tr><tr><td>kornel4</td><td>1</td><td>7</td></tr><tr><td>kornel4</td><td>1</td><td>7</td></tr><tr><td>kristof4</td><td>4</td><td>6</td></tr><tr><td>kristof4</td><td>4</td><td>6</td></tr><tr><td>kriszti</td><td>1</td><td>7</td></tr><tr><td>kriszti</td><td>1</td><td>7</td></tr><tr><td>kriszti</td><td>1</td><td>7</td></tr><tr><td>kriszti</td><td>1</td><td>7</td></tr><tr><td>kriszti</td><td>1</td><td>7</td></tr><tr><td>kriszti</td><td>1</td><td>7</td></tr><tr><td>krisztian4</td><td>1</td><td>7</td></tr><tr><td>krisztian4</td><td>1</td><td>7</td></tr><tr><td>krisztian4</td><td>1</td><td>7</td></tr><tr><td>krisztian4</td><td>1</td><td>7</td></tr><tr><td>krisztian4</td><td>1</td><td>7</td></tr><tr><td>krisztian4</td><td>1</td><td>7</td></tr><tr><td>krisztian4</td><td>1</td><td>7</td></tr><tr><td>krisztian4</td><td>1</td><td>7</td></tr><tr><td>krisztian4</td><td>1</td><td>7</td></tr><tr><td>krisztian4</td><td>1</td><td>7</td></tr><tr><td>krisztian4</td><td>1</td><td>7</td></tr><tr><td>krisztian4</td><td>1</td><td>7</td></tr><tr><td>KRISZTIANM</td><td>4</td><td>7</td></tr><tr><td>KRISZTIANM</td><td>4</td><td>7</td></tr><tr><td>KRISZTIANM</td><td>4</td><td>7</td></tr><tr><td>KRISZTIANM</td><td>4</td><td>7</td></tr><tr><td>KRISZTIANM</td><td>4</td><td>7</td></tr><tr><td>KRISZTIANM</td><td>4</td><td>7</td></tr><tr><td>krisztina</td><td>2</td><td>7</td></tr><tr><td>krisztina</td><td>2</td><td>7</td></tr><tr><td>krisztina</td><td>2</td><td>7</td></tr><tr><td>krisztina</td><td>2</td><td>7</td></tr><tr><td>krisztina</td><td>2</td><td>7</td></tr><tr><td>krisztina</td><td>2</td><td>7</td></tr><tr><td>krisztina</td><td>2</td><td>7</td></tr><tr><td>krisztina</td><td>2</td><td>7</td></tr><tr><td>krisztina1</td><td>1</td><td>6</td></tr><tr><td>krisztina1</td><td>1</td><td>6</td></tr><tr><td>krisztina1</td><td>1</td><td>6</td></tr><tr><td>krisztina1</td><td>1</td><td>6</td></tr><tr><td>krisztina1</td><td>1</td><td>6</td></tr><tr><td>krisztina1</td><td>1</td><td>6</td></tr><tr><td>KRISZTINAG</td><td>1</td><td>7</td></tr><tr><td>KRISZTINAG</td><td>1</td><td>7</td></tr><tr><td>KRISZTINAG</td><td>1</td><td>7</td></tr><tr><td>KRISZTINAG</td><td>1</td><td>7</td></tr><tr><td>KRISZTINAG</td><td>1</td><td>7</td></tr><tr><td>lajos</td><td>1</td><td>3</td></tr><tr><td>lajos</td><td>1</td><td>3</td></tr><tr><td>lajos</td><td>1</td><td>3</td></tr><tr><td>lala</td><td>1</td><td>6</td></tr><tr><td>lala</td><td>1</td><td>6</td></tr><tr><td>lala</td><td>1</td><td>6</td></tr><tr><td>lala</td><td>1</td><td>6</td></tr><tr><td>lala</td><td>1</td><td>6</td></tr><tr><td>lala</td><td>1</td><td>6</td></tr><tr><td>laszlo1</td><td>7</td><td>7</td></tr><tr><td>laszlo2</td><td>1</td><td>5</td></tr><tr><td>laszlo2</td><td>1</td><td>5</td></tr><tr><td>laszlo2</td><td>1</td><td>5</td></tr><tr><td>laszlo2</td><td>1</td><td>5</td></tr><tr><td>laszlo2</td><td>1</td><td>5</td></tr><tr><td>LASZLOA</td><td>3</td><td>6</td></tr><tr><td>LASZLOA</td><td>3</td><td>6</td></tr><tr><td>LASZLOA</td><td>3</td><td>6</td></tr><tr><td>LASZLOA</td><td>3</td><td>6</td></tr><tr><td>LASZLON</td><td>1</td><td>7</td></tr><tr><td>LASZLON</td><td>1</td><td>7</td></tr><tr><td>LASZLON</td><td>1</td><td>7</td></tr><tr><td>LASZLON</td><td>1</td><td>7</td></tr><tr><td>LASZLON</td><td>1</td><td>7</td></tr><tr><td>LASZLON</td><td>1</td><td>7</td></tr><tr><td>maria1</td><td>1</td><td>6</td></tr><tr><td>maria1</td><td>1</td><td>6</td></tr><tr><td>maria1</td><td>1</td><td>6</td></tr><tr><td>maria1</td><td>1</td><td>6</td></tr><tr><td>maria1</td><td>1</td><td>6</td></tr><tr><td>maria1</td><td>1</td><td>6</td></tr><tr><td>maria1</td><td>1</td><td>6</td></tr><tr><td>maria1</td><td>1</td><td>6</td></tr><tr><td>mark</td><td>3</td><td>7</td></tr><tr><td>mark</td><td>3</td><td>7</td></tr><tr><td>mark</td><td>3</td><td>7</td></tr><tr><td>mark</td><td>3</td><td>7</td></tr><tr><td>mark</td><td>3</td><td>7</td></tr><tr><td>MARKH</td><td>3</td><td>7</td></tr><tr><td>MARKH</td><td>3</td><td>7</td></tr><tr><td>MARKH</td><td>3</td><td>7</td></tr><tr><td>MARKH</td><td>3</td><td>7</td></tr><tr><td>marton</td><td>1</td><td>7</td></tr><tr><td>marton</td><td>1</td><td>7</td></tr><tr><td>marton</td><td>1</td><td>7</td></tr><tr><td>marton</td><td>1</td><td>7</td></tr><tr><td>marton</td><td>1</td><td>7</td></tr><tr><td>marton</td><td>1</td><td>7</td></tr><tr><td>marton</td><td>1</td><td>7</td></tr><tr><td>MATEK</td><td>3</td><td>6</td></tr><tr><td>MATEK</td><td>3</td><td>6</td></tr><tr><td>MATEK</td><td>3</td><td>6</td></tr><tr><td>matyas2</td><td>3</td><td>4</td></tr><tr><td>matyas2</td><td>3</td><td>4</td></tr><tr><td>MATYASS</td><td>2</td><td>7</td></tr><tr><td>MATYASS</td><td>2</td><td>7</td></tr><tr><td>MATYASS</td><td>2</td><td>7</td></tr><tr><td>MATYASS</td><td>2</td><td>7</td></tr><tr><td>MATYASS</td><td>2</td><td>7</td></tr><tr><td>MATYASS</td><td>2</td><td>7</td></tr><tr><td>MATYASS</td><td>2</td><td>7</td></tr><tr><td>MATYASS</td><td>2</td><td>7</td></tr><tr><td>MIHALYJ</td><td>2</td><td>6</td></tr><tr><td>MIHALYJ</td><td>2</td><td>6</td></tr><tr><td>MIHALYJ</td><td>2</td><td>6</td></tr><tr><td>MIHALYJ</td><td>2</td><td>6</td></tr><tr><td>MIHALYJ</td><td>2</td><td>6</td></tr><tr><td>miklos2</td><td>1</td><td>2</td></tr><tr><td>miklos2</td><td>1</td><td>2</td></tr><tr><td>miklos2</td><td>1</td><td>2</td></tr><tr><td>MIKLOSB</td><td>3</td><td>5</td></tr><tr><td>MIKLOSB</td><td>3</td><td>5</td></tr><tr><td>MIKLOSB</td><td>3</td><td>5</td></tr><tr><td>MONIKAM</td><td>2</td><td>7</td></tr><tr><td>MONIKAM</td><td>2</td><td>7</td></tr><tr><td>MONIKAM</td><td>2</td><td>7</td></tr><tr><td>MONIKAM</td><td>2</td><td>7</td></tr><tr><td>MONIKAM</td><td>2</td><td>7</td></tr><tr><td>MONIKAM</td><td>2</td><td>7</td></tr><tr><td>NANDORF</td><td>1</td><td>4</td></tr><tr><td>NANDORF</td><td>1</td><td>4</td></tr><tr><td>NANDORF</td><td>1</td><td>4</td></tr><tr><td>nikolett3</td><td>2</td><td>7</td></tr><tr><td>nikolett3</td><td>2</td><td>7</td></tr><tr><td>nikolett3</td><td>2</td><td>7</td></tr><tr><td>nikolett3</td><td>2</td><td>7</td></tr><tr><td>nikoletta4</td><td>2</td><td>7</td></tr><tr><td>nikoletta4</td><td>2</td><td>7</td></tr><tr><td>nikoletta4</td><td>2</td><td>7</td></tr><tr><td>nikoletta4</td><td>2</td><td>7</td></tr><tr><td>nikoletta4</td><td>2</td><td>7</td></tr><tr><td>nikoletta4</td><td>2</td><td>7</td></tr><tr><td>nikoletta4</td><td>2</td><td>7</td></tr><tr><td>NIKOLETTAT</td><td>1</td><td>5</td></tr><tr><td>NIKOLETTAT</td><td>1</td><td>5</td></tr><tr><td>NIKOLETTAT</td><td>1</td><td>5</td></tr><tr><td>NIKOLETTAT</td><td>1</td><td>5</td></tr><tr><td>norbert</td><td>2</td><td>7</td></tr><tr><td>norbert</td><td>2</td><td>7</td></tr><tr><td>norbert</td><td>2</td><td>7</td></tr><tr><td>norbert</td><td>2</td><td>7</td></tr><tr><td>norbert</td><td>2</td><td>7</td></tr><tr><td>norbert2</td><td>1</td><td>7</td></tr><tr><td>norbert2</td><td>1</td><td>7</td></tr><tr><td>norbert2</td><td>1</td><td>7</td></tr><tr><td>norbert2</td><td>1</td><td>7</td></tr><tr><td>norbert2</td><td>1</td><td>7</td></tr><tr><td>norbert2</td><td>1</td><td>7</td></tr><tr><td>norbert2</td><td>1</td><td>7</td></tr><tr><td>norbert4</td><td>1</td><td>6</td></tr><tr><td>norbert4</td><td>1</td><td>6</td></tr><tr><td>norbert4</td><td>1</td><td>6</td></tr><tr><td>norbert4</td><td>1</td><td>6</td></tr><tr><td>norbert4</td><td>1</td><td>6</td></tr><tr><td>norbert4</td><td>1</td><td>6</td></tr><tr><td>norbert4</td><td>1</td><td>6</td></tr><tr><td>norbert4</td><td>1</td><td>6</td></tr><tr><td>norbert4</td><td>1</td><td>6</td></tr><tr><td>norbert5</td><td>1</td><td>4</td></tr><tr><td>norbert5</td><td>1</td><td>4</td></tr><tr><td>norbert5</td><td>1</td><td>4</td></tr><tr><td>pal</td><td>2</td><td>6</td></tr><tr><td>pal</td><td>2</td><td>6</td></tr><tr><td>pal</td><td>2</td><td>6</td></tr><tr><td>pal</td><td>2</td><td>6</td></tr><tr><td>pal</td><td>2</td><td>6</td></tr><tr><td>peter1</td><td>3</td><td>6</td></tr><tr><td>peter1</td><td>3</td><td>6</td></tr><tr><td>peter1</td><td>3</td><td>6</td></tr><tr><td>peter1</td><td>3</td><td>6</td></tr><tr><td>peter2</td><td>1</td><td>6</td></tr><tr><td>peter2</td><td>1</td><td>6</td></tr><tr><td>peter2</td><td>1</td><td>6</td></tr><tr><td>peter2</td><td>1</td><td>6</td></tr><tr><td>peter3</td><td>3</td><td>7</td></tr><tr><td>peter3</td><td>3</td><td>7</td></tr><tr><td>peter3</td><td>3</td><td>7</td></tr><tr><td>peter3</td><td>3</td><td>7</td></tr><tr><td>peter3</td><td>3</td><td>7</td></tr><tr><td>peter3</td><td>3</td><td>7</td></tr><tr><td>peter4</td><td>1</td><td>7</td></tr><tr><td>peter4</td><td>1</td><td>7</td></tr><tr><td>peter4</td><td>1</td><td>7</td></tr><tr><td>peter4</td><td>1</td><td>7</td></tr><tr><td>peter4</td><td>1</td><td>7</td></tr><tr><td>peter4</td><td>1</td><td>7</td></tr><tr><td>peter4</td><td>1</td><td>7</td></tr><tr><td>peter4</td><td>1</td><td>7</td></tr><tr><td>peter4</td><td>1</td><td>7</td></tr><tr><td>peter4</td><td>1</td><td>7</td></tr><tr><td>peter4</td><td>1</td><td>7</td></tr><tr><td>peter4</td><td>1</td><td>7</td></tr><tr><td>PETERB</td><td>1</td><td>7</td></tr><tr><td>PETERB</td><td>1</td><td>7</td></tr><tr><td>PETERB</td><td>1</td><td>7</td></tr><tr><td>PETERB</td><td>1</td><td>7</td></tr><tr><td>PETERB</td><td>1</td><td>7</td></tr><tr><td>polla</td><td>3</td><td>7</td></tr><tr><td>polla</td><td>3</td><td>7</td></tr><tr><td>polla</td><td>3</td><td>7</td></tr><tr><td>polla</td><td>3</td><td>7</td></tr><tr><td>polla</td><td>3</td><td>7</td></tr><tr><td>polla</td><td>3</td><td>7</td></tr><tr><td>rajmond4</td><td>1</td><td>4</td></tr><tr><td>rajmond4</td><td>1</td><td>4</td></tr><tr><td>rajmond4</td><td>1</td><td>4</td></tr><tr><td>rajmond4</td><td>1</td><td>4</td></tr><tr><td>reka4</td><td>2</td><td>6</td></tr><tr><td>reka4</td><td>2</td><td>6</td></tr><tr><td>reka4</td><td>2</td><td>6</td></tr><tr><td>reka4</td><td>2</td><td>6</td></tr><tr><td>reka4</td><td>2</td><td>6</td></tr><tr><td>RENATAK</td><td>1</td><td>7</td></tr><tr><td>RENATAK</td><td>1</td><td>7</td></tr><tr><td>RENATAK</td><td>1</td><td>7</td></tr><tr><td>RENATAK</td><td>1</td><td>7</td></tr><tr><td>RENATAK</td><td>1</td><td>7</td></tr><tr><td>RENATAK</td><td>1</td><td>7</td></tr><tr><td>RENATAS</td><td>3</td><td>7</td></tr><tr><td>RENATAS</td><td>3</td><td>7</td></tr><tr><td>RENATAS</td><td>3</td><td>7</td></tr><tr><td>RENATAS</td><td>3</td><td>7</td></tr><tr><td>RENATAS</td><td>3</td><td>7</td></tr><tr><td>robert2</td><td>3</td><td>7</td></tr><tr><td>robert2</td><td>3</td><td>7</td></tr><tr><td>robert2</td><td>3</td><td>7</td></tr><tr><td>robert2</td><td>3</td><td>7</td></tr><tr><td>ROBERTI</td><td>1</td><td>7</td></tr><tr><td>ROBERTI</td><td>1</td><td>7</td></tr><tr><td>ROBERTI</td><td>1</td><td>7</td></tr><tr><td>ROBERTI</td><td>1</td><td>7</td></tr><tr><td>ROBERTI</td><td>1</td><td>7</td></tr><tr><td>ROBERTI</td><td>1</td><td>7</td></tr><tr><td>ROBERTI</td><td>1</td><td>7</td></tr><tr><td>ROBERTI</td><td>1</td><td>7</td></tr><tr><td>ROBERTP</td><td>3</td><td>6</td></tr><tr><td>ROBERTP</td><td>3</td><td>6</td></tr><tr><td>roland</td><td>1</td><td>5</td></tr><tr><td>roland</td><td>1</td><td>5</td></tr><tr><td>roland</td><td>1</td><td>5</td></tr><tr><td>roland</td><td>1</td><td>5</td></tr><tr><td>roland1</td><td>2</td><td>7</td></tr><tr><td>roland1</td><td>2</td><td>7</td></tr><tr><td>roland1</td><td>2</td><td>7</td></tr><tr><td>roland1</td><td>2</td><td>7</td></tr><tr><td>roza2</td><td>3</td><td>6</td></tr><tr><td>roza2</td><td>3</td><td>6</td></tr><tr><td>roza2</td><td>3</td><td>6</td></tr><tr><td>sandor</td><td>2</td><td>7</td></tr><tr><td>sandor</td><td>2</td><td>7</td></tr><tr><td>sandor</td><td>2</td><td>7</td></tr><tr><td>sandor</td><td>2</td><td>7</td></tr><tr><td>sandor3</td><td>1</td><td>6</td></tr><tr><td>sandor3</td><td>1</td><td>6</td></tr><tr><td>sandor3</td><td>1</td><td>6</td></tr><tr><td>sandor3</td><td>1</td><td>6</td></tr><tr><td>sandor3</td><td>1</td><td>6</td></tr><tr><td>sandor4</td><td>3</td><td>6</td></tr><tr><td>sandor4</td><td>3</td><td>6</td></tr><tr><td>sandor4</td><td>3</td><td>6</td></tr><tr><td>sandor4</td><td>3</td><td>6</td></tr><tr><td>sara</td><td>1</td><td>7</td></tr><tr><td>sara</td><td>1</td><td>7</td></tr><tr><td>sara</td><td>1</td><td>7</td></tr><tr><td>sara</td><td>1</td><td>7</td></tr><tr><td>sara</td><td>1</td><td>7</td></tr><tr><td>sara</td><td>1</td><td>7</td></tr><tr><td>sara</td><td>1</td><td>7</td></tr><tr><td>sara</td><td>1</td><td>7</td></tr><tr><td>sara</td><td>1</td><td>7</td></tr><tr><td>sara</td><td>1</td><td>7</td></tr><tr><td>sara</td><td>1</td><td>7</td></tr><tr><td>sara</td><td>1</td><td>7</td></tr><tr><td>SEBASTIANF</td><td>1</td><td>7</td></tr><tr><td>SEBASTIANF</td><td>1</td><td>7</td></tr><tr><td>SEBASTIANF</td><td>1</td><td>7</td></tr><tr><td>SEBASTIANF</td><td>1</td><td>7</td></tr><tr><td>SEBASTIANF</td><td>1</td><td>7</td></tr><tr><td>sebestyen</td><td>5</td><td>6</td></tr><tr><td>sebestyen</td><td>5</td><td>6</td></tr><tr><td>sebestyen</td><td>5</td><td>6</td></tr><tr><td>sebestyen</td><td>5</td><td>6</td></tr><tr><td>szabolcs</td><td>2</td><td>2</td></tr><tr><td>SZABOLCSM</td><td>1</td><td>6</td></tr><tr><td>SZABOLCSM</td><td>1</td><td>6</td></tr><tr><td>SZABOLCSM</td><td>1</td><td>6</td></tr><tr><td>SZABOLCSM</td><td>1</td><td>6</td></tr><tr><td>SZABOLCSM</td><td>1</td><td>6</td></tr><tr><td>SZABOLCSM</td><td>1</td><td>6</td></tr><tr><td>SZABOLCSM</td><td>1</td><td>6</td></tr><tr><td>SZILARDS</td><td>1</td><td>7</td></tr><tr><td>SZILARDS</td><td>1</td><td>7</td></tr><tr><td>SZILARDS</td><td>1</td><td>7</td></tr><tr><td>SZILARDS</td><td>1</td><td>7</td></tr><tr><td>SZILARDS</td><td>1</td><td>7</td></tr><tr><td>SZILARDS</td><td>1</td><td>7</td></tr><tr><td>SZILARDS</td><td>1</td><td>7</td></tr><tr><td>szilvia1</td><td>1</td><td>7</td></tr><tr><td>szilvia1</td><td>1</td><td>7</td></tr><tr><td>szilvia1</td><td>1</td><td>7</td></tr><tr><td>szilvia1</td><td>1</td><td>7</td></tr><tr><td>szilvia1</td><td>1</td><td>7</td></tr><tr><td>szilvia1</td><td>1</td><td>7</td></tr><tr><td>szilvia1</td><td>1</td><td>7</td></tr><tr><td>szilvia1</td><td>1</td><td>7</td></tr><tr><td>szilvia1</td><td>1</td><td>7</td></tr><tr><td>tamara2</td><td>3</td><td>3</td></tr><tr><td>tamara2</td><td>3</td><td>3</td></tr><tr><td>tamas</td><td>3</td><td>7</td></tr><tr><td>tamas</td><td>3</td><td>7</td></tr><tr><td>tamas</td><td>3</td><td>7</td></tr><tr><td>tamas</td><td>3</td><td>7</td></tr><tr><td>TAMASF</td><td>1</td><td>7</td></tr><tr><td>TAMASF</td><td>1</td><td>7</td></tr><tr><td>TAMASF</td><td>1</td><td>7</td></tr><tr><td>TAMASF</td><td>1</td><td>7</td></tr><tr><td>TAMASF</td><td>1</td><td>7</td></tr><tr><td>TAMASF</td><td>1</td><td>7</td></tr><tr><td>TAMASF</td><td>1</td><td>7</td></tr><tr><td>TAMASF</td><td>1</td><td>7</td></tr><tr><td>TAMASF</td><td>1</td><td>7</td></tr><tr><td>tibor</td><td>4</td><td>4</td></tr><tr><td>tibor</td><td>4</td><td>4</td></tr><tr><td>tibor2</td><td>5</td><td>5</td></tr><tr><td>tihamer</td><td>1</td><td>6</td></tr><tr><td>tihamer</td><td>1</td><td>6</td></tr><tr><td>tihamer</td><td>1</td><td>6</td></tr><tr><td>tihamer</td><td>1</td><td>6</td></tr><tr><td>tihamer</td><td>1</td><td>6</td></tr><tr><td>tihamer</td><td>1</td><td>6</td></tr><tr><td>timea</td><td>1</td><td>1</td></tr><tr><td>timea2</td><td>1</td><td>4</td></tr><tr><td>timea2</td><td>1</td><td>4</td></tr><tr><td>timea2</td><td>1</td><td>4</td></tr><tr><td>timea2</td><td>1</td><td>4</td></tr><tr><td>timea2</td><td>1</td><td>4</td></tr><tr><td>tunde</td><td>1</td><td>7</td></tr><tr><td>tunde</td><td>1</td><td>7</td></tr><tr><td>tunde</td><td>1</td><td>7</td></tr><tr><td>tunde</td><td>1</td><td>7</td></tr><tr><td>tunde</td><td>1</td><td>7</td></tr><tr><td>tunde</td><td>1</td><td>7</td></tr><tr><td>tunde</td><td>1</td><td>7</td></tr><tr><td>tunde</td><td>1</td><td>7</td></tr><tr><td>valentin</td><td>4</td><td>6</td></tr><tr><td>valentin</td><td>4</td><td>6</td></tr><tr><td>valentin</td><td>4</td><td>6</td></tr><tr><td>valentin</td><td>4</td><td>6</td></tr><tr><td>valentin</td><td>4</td><td>6</td></tr><tr><td>veronika4</td><td>2</td><td>7</td></tr><tr><td>veronika4</td><td>2</td><td>7</td></tr><tr><td>veronika4</td><td>2</td><td>7</td></tr><tr><td>veronika4</td><td>2</td><td>7</td></tr><tr><td>veronika4</td><td>2</td><td>7</td></tr><tr><td>veronika4</td><td>2</td><td>7</td></tr><tr><td>VIKTORIAU</td><td>1</td><td>7</td></tr><tr><td>VIKTORIAU</td><td>1</td><td>7</td></tr><tr><td>VIKTORIAU</td><td>1</td><td>7</td></tr><tr><td>VIKTORIAU</td><td>1</td><td>7</td></tr><tr><td>VIKTORK</td><td>1</td><td>2</td></tr><tr><td>VIKTORK</td><td>1</td><td>2</td></tr><tr><td>vivien3</td><td>2</td><td>5</td></tr><tr><td>vivien3</td><td>2</td><td>5</td></tr><tr><td>vivien3</td><td>2</td><td>5</td></tr><tr><td>vivien3</td><td>2</td><td>5</td></tr><tr><td>vivien3</td><td>2</td><td>5</td></tr><tr><td>vivien3</td><td>2</td><td>5</td></tr><tr><td>vivien3</td><td>2</td><td>5</td></tr><tr><td>zoltan</td><td>4</td><td>7</td></tr><tr><td>zoltan</td><td>4</td><td>7</td></tr><tr><td>zoltan4</td><td>1</td><td>7</td></tr><tr><td>zoltan4</td><td>1</td><td>7</td></tr><tr><td>zoltan4</td><td>1</td><td>7</td></tr><tr><td>zoltan4</td><td>1</td><td>7</td></tr><tr><td>zoltan4</td><td>1</td><td>7</td></tr><tr><td>zoltan4</td><td>1</td><td>7</td></tr><tr><td>zoltan4</td><td>1</td><td>7</td></tr><tr><td>zoltan4</td><td>1</td><td>7</td></tr><tr><td>zoltan4</td><td>1</td><td>7</td></tr><tr><td>zoltan4</td><td>1</td><td>7</td></tr><tr><td>zoltan4</td><td>1</td><td>7</td></tr><tr><td>zoltan4</td><td>1</td><td>7</td></tr><tr><td>ZOLTANP</td><td>2</td><td>6</td></tr><tr><td>ZOLTANP</td><td>2</td><td>6</td></tr><tr><td>ZOLTANP</td><td>2</td><td>6</td></tr><tr><td>ZOLTANP</td><td>2</td><td>6</td></tr><tr><td>ZOLTANP</td><td>2</td><td>6</td></tr><tr><td>ZOLTANP</td><td>2</td><td>6</td></tr><tr><td>ZOLTANT</td><td>1</td><td>4</td></tr><tr><td>ZOLTANT</td><td>1</td><td>4</td></tr><tr><td>ZOLTANT</td><td>1</td><td>4</td></tr><tr><td>zsofi1</td><td>1</td><td>1</td></tr><tr><td>zsofi1</td><td>1</td><td>1</td></tr><tr><td>zsolt1</td><td>2</td><td>3</td></tr><tr><td>zsolt1</td><td>2</td><td>3</td></tr><tr><td>zsolt1</td><td>2</td><td>3</td></tr><tr><td>zsolt1</td><td>2</td><td>3</td></tr><tr><td>ZSOLTJ</td><td>1</td><td>6</td></tr><tr><td>ZSOLTJ</td><td>1</td><td>6</td></tr><tr><td>ZSOLTJ</td><td>1</td><td>6</td></tr><tr><td>ZSOLTJ</td><td>1</td><td>6</td></tr><tr><td>ZSOLTJ</td><td>1</td><td>6</td></tr><tr><td>ZSOLTJ</td><td>1</td><td>6</td></tr><tr><td>zsuzsa</td><td>1</td><td>6</td></tr><tr><td>zsuzsa</td><td>1</td><td>6</td></tr><tr><td>zsuzsa</td><td>1</td><td>6</td></tr><tr><td>zsuzsa3</td><td>1</td><td>7</td></tr><tr><td>zsuzsa3</td><td>1</td><td>7</td></tr><tr><td>zsuzsa3</td><td>1</td><td>7</td></tr><tr><td>zsuzsa3</td><td>1</td><td>7</td></tr><tr><td>zsuzsanna</td><td>3</td><td>7</td></tr><tr><td>zsuzsanna</td><td>3</td><td>7</td></tr><tr><td>zsuzsanna</td><td>3</td><td>7</td></tr><tr><td>zsuzsanna</td><td>3</td><td>7</td></tr><tr><td>ZSUZSAV</td><td>2</td><td>6</td></tr><tr><td>ZSUZSAV</td><td>2</td><td>6</td></tr><tr><td>ZSUZSAV</td><td>2</td><td>6</td></tr><tr><td>ZSUZSAV</td><td>2</td><td>6</td></tr><tr><td>ZSUZSAV</td><td>2</td><td>6</td></tr><tr><td>ZSUZSAV</td><td>2</td><td>6</td></tr></table>"
                    },
                    "metadata": {}
                }
            ],
            "execution_count": 6
        },
        {
            "cell_type": "markdown",
            "source": [
                "```\n",
                "3. Készítsük listát, amely megjeleníti az ügyfelek azonosítóját, nevét és a foglalásainak kezdő- és befejező dátumát, valamint azt, hogy a foglalás összesen hány főre történt! \n",
                "```\n",
                "\n",
                "a. Egy új oszlopban jelenítsük meg azt is, hogy az ügyfél előző három foglalása összesen hány főre történt!\n",
                "\n",
                "![](https://moodle.uni-corvinus.hu/theme/image.php/adaptable/atto_h5p/1709548862/icon)"
            ],
            "metadata": {
                "azdata_cell_guid": "d7876bb9-76d0-4d07-baed-3cb17b2f96c3"
            },
            "attachments": {}
        },
        {
            "cell_type": "code",
            "source": [
                "SELECT f.ugyfel_fk,\r\n",
                "        v.nev,\r\n",
                "        f.mettol,\r\n",
                "        f.meddig,\r\n",
                "        f.felnott_szam + f.gyermek_szam,\r\n",
                "        f.felnott_szam + f.gyermek_szam over(partition by ugyfel_fk\r\n",
                "         order by asc rows between 1 preceding and 3 preceding)\r\n",
                "         AS 'Előző 3 foglalás összesítve'\r\n",
                "         \r\n",
                "FROM foglalas f join vendeg v on f.ugyfel_fk = v.usernev"
            ],
            "metadata": {
                "azdata_cell_guid": "56ec19ce-e249-4551-b2a8-f17569765acc",
                "language": "sql"
            },
            "outputs": [
                {
                    "output_type": "error",
                    "ename": "",
                    "evalue": "Msg 156, Level 15, State 1, Line 6\r\nIncorrect syntax near the keyword 'over'.",
                    "traceback": []
                },
                {
                    "output_type": "display_data",
                    "data": {
                        "text/html": "Total execution time: 00:00:00.035"
                    },
                    "metadata": {}
                }
            ],
            "execution_count": 8
        },
        {
            "cell_type": "markdown",
            "source": [
                "4. <span style=\"background-color: rgb(255, 255, 255); color: rgb(0, 0, 0); font-family: &quot;Open Sans&quot;, sans-serif; font-size: 14.44px;\">Készítsünk listát arról, hogy az egyes szálláshelyeken évente hány foglalás történt!&nbsp;</span> \n",
                "\n",
                "a. A lista jelenítse meg a szálláshely azonosítóját, nevét, az évet, és a foglalások számát!\n",
                "\n",
                "b. Egy új oszlopban jelenítsük meg a szálláshely eddigi éves foglalásainak számát is (az aktuálisat is beleértve). \n",
                "\n",
                "c. Az évnél a METTOL dátumot vegyük figyelembe! \n",
                "\n",
                "d. A lista ne tartalmazzon duplikált sorokat!"
            ],
            "metadata": {
                "azdata_cell_guid": "8e7fef82-8022-49a0-8255-fc2846c2134b"
            },
            "attachments": {}
        },
        {
            "cell_type": "code",
            "source": [
                "SELECT DISTINCT(sz.szallas_nev),\r\n",
                "        sz.szallas_id,\r\n",
                "        YEAR(f.mettol)\r\n",
                "        COUNT(f.mettol) over(partition by sz.szallas_nev)\r\n",
                "\r\n",
                "FROM"
            ],
            "metadata": {
                "azdata_cell_guid": "36f7b396-4a1f-45e5-8720-2302537c91bc",
                "language": "sql"
            },
            "outputs": [],
            "execution_count": null
        },
        {
            "cell_type": "markdown",
            "source": [
                "5. <span style=\"background-color: rgb(255, 255, 255); color: rgb(0, 0, 0); font-family: &quot;Open Sans&quot;, sans-serif; font-size: 14.44px;\">Készítsük listát a szálláshelyekről! A lista tartalmazza a szálláshely azonosítóját, nevét, és a csillagok számát csillagszám szerint csökkenő, azon belül szállásnév szerint növekvő sorrendben!&nbsp;</span> \n",
                "\n",
                "a. Vegyünk fel két új oszlopot, amely a sorrend szerint előző szálláshely nevét, illetve azonosítóját is megjeleníti!"
            ],
            "metadata": {
                "azdata_cell_guid": "84239ca2-6b5e-49f5-9860-d44c11d6de32"
            },
            "attachments": {}
        },
        {
            "cell_type": "code",
            "source": [
                ""
            ],
            "metadata": {
                "azdata_cell_guid": "06d9a62b-9430-424b-a135-d80e675f0eb3",
                "language": "sql"
            },
            "outputs": [],
            "execution_count": null
        },
        {
            "cell_type": "markdown",
            "source": [
                "6. <span style=\"background-color: rgb(255, 255, 255); color: rgb(0, 0, 0); font-family: &quot;Open Sans&quot;, sans-serif; font-size: 14.44px;\">Listázzuk azon termékeket, amelyekből az átlagosnál kevesebb van raktáron!&nbsp;</span> \n",
                "\n",
                "a. Csak a termék kódja és megnevezése jelenjen meg!"
            ],
            "metadata": {
                "azdata_cell_guid": "b0d15045-3c43-4f3a-b8d4-76b4f24e5546"
            },
            "attachments": {}
        },
        {
            "cell_type": "code",
            "source": [
                "select megnevezes\r\n",
                "\r\n",
                "from Termek\r\n",
                "\r\n",
                "WHERE keszlet <\r\n",
                "(select AVG(KESZLET)\r\n",
                "\r\n",
                "From Termek\r\n",
                "\r\n",
                ")"
            ],
            "metadata": {
                "azdata_cell_guid": "f2b7400d-1255-40ac-9250-4d57f9da5357",
                "language": "sql"
            },
            "outputs": [
                {
                    "output_type": "display_data",
                    "data": {
                        "text/html": "(437 rows affected)"
                    },
                    "metadata": {}
                },
                {
                    "output_type": "display_data",
                    "data": {
                        "text/html": "Total execution time: 00:00:00.056"
                    },
                    "metadata": {}
                },
                {
                    "output_type": "execute_result",
                    "metadata": {},
                    "execution_count": 1,
                    "data": {
                        "application/vnd.dataresource+json": {
                            "schema": {
                                "fields": [
                                    {
                                        "name": "megnevezes"
                                    }
                                ]
                            },
                            "data": [
                                {
                                    "megnevezes": "Fotópapír A/4 fényes"
                                },
                                {
                                    "megnevezes": "Öntapadós hologramos papír A/4"
                                },
                                {
                                    "megnevezes": "Oklevél A/4 színes"
                                },
                                {
                                    "megnevezes": "Emléklap A/5"
                                },
                                {
                                    "megnevezes": "Esküvői meghívó"
                                },
                                {
                                    "megnevezes": "Pausz papír A/4"
                                },
                                {
                                    "megnevezes": "Előlap spirálhoz"
                                },
                                {
                                    "megnevezes": "Fax papír 15 m"
                                },
                                {
                                    "megnevezes": "Öntapadó A/4"
                                },
                                {
                                    "megnevezes": "Selyemfényű karton A/4"
                                },
                                {
                                    "megnevezes": "Color Copy A/4 250 g"
                                },
                                {
                                    "megnevezes": "Color Copy A4 200 g"
                                },
                                {
                                    "megnevezes": "Kreatív A/4 300g "
                                },
                                {
                                    "megnevezes": "Színes A/3 160 gr IQ"
                                },
                                {
                                    "megnevezes": "Színes karton A4"
                                },
                                {
                                    "megnevezes": "Színes ofszet B/4"
                                },
                                {
                                    "megnevezes": "Dekorációs karton"
                                },
                                {
                                    "megnevezes": "Dipa A/4 keretezett"
                                },
                                {
                                    "megnevezes": "Fénymásoló papír DataCopy"
                                },
                                {
                                    "megnevezes": "Fénymásoló papír GetCopy"
                                },
                                {
                                    "megnevezes": "Fénymásoló papír Qconnect"
                                },
                                {
                                    "megnevezes": "Színes másoló a/4 80g"
                                },
                                {
                                    "megnevezes": "Color Copy 160 g-os "
                                },
                                {
                                    "megnevezes": "Color Copy A4 120 g"
                                },
                                {
                                    "megnevezes": "Fehér másoló A/3"
                                },
                                {
                                    "megnevezes": "Fehér másoló A/4"
                                },
                                {
                                    "megnevezes": "Márványos A/4"
                                },
                                {
                                    "megnevezes": "Kreatív A/4 120g "
                                },
                                {
                                    "megnevezes": "Árazószalag "
                                },
                                {
                                    "megnevezes": "Átírótömb A/6"
                                },
                                {
                                    "megnevezes": "Beírókönyv A5 "
                                },
                                {
                                    "megnevezes": "Beírókönyv A4"
                                },
                                {
                                    "megnevezes": "Bevételi pénztárbizonylat 3×25"
                                },
                                {
                                    "megnevezes": "Kiadási pénztárbizonylat 2×25"
                                },
                                {
                                    "megnevezes": "Boríték LA 4 francia"
                                },
                                {
                                    "megnevezes": "Álló irattartó karton"
                                },
                                {
                                    "megnevezes": "Gemkapocs 28 mm"
                                },
                                {
                                    "megnevezes": "Genotherm lefűzhető A/5"
                                },
                                {
                                    "megnevezes": "Genotherm lefűzhető A4 10db-os"
                                },
                                {
                                    "megnevezes": "Gyorsfűző dosszié fehér"
                                },
                                {
                                    "megnevezes": "Gyorsfűző műa."
                                },
                                {
                                    "megnevezes": "Gyorsfűző műa."
                                },
                                {
                                    "megnevezes": "Hibajav.roll.Pritt 4,2mm"
                                },
                                {
                                    "megnevezes": "Hibajavító ecsetes Aqua"
                                },
                                {
                                    "megnevezes": "Hibajavító készlet Blanco"
                                },
                                {
                                    "megnevezes": "Hibajavító lap "
                                },
                                {
                                    "megnevezes": "Hibajavító roller 5 mm"
                                },
                                {
                                    "megnevezes": "Hibajavító roller Pax"
                                },
                                {
                                    "megnevezes": "Hibajavító Kores mini pen"
                                },
                                {
                                    "megnevezes": "Írásvetítő fólia"
                                },
                                {
                                    "megnevezes": "Iratgyűjtő ESSELTE ablakos"
                                },
                                {
                                    "megnevezes": "Iratgyűjtő fehér"
                                },
                                {
                                    "megnevezes": "Iratsín fehér"
                                },
                                {
                                    "megnevezes": "Iratrendező ESSELTE"
                                },
                                {
                                    "megnevezes": "Iromány fedél feles"
                                },
                                {
                                    "megnevezes": "Naptár 24-es"
                                },
                                {
                                    "megnevezes": "Naptárhát kicsi"
                                },
                                {
                                    "megnevezes": "Notesz A/5 sima"
                                },
                                {
                                    "megnevezes": "Notesz mintás"
                                },
                                {
                                    "megnevezes": "Pénztárgépsz. 2 pl. nem öníró"
                                },
                                {
                                    "megnevezes": "Pénztárgépszalag 2pl SC 57.5/60"
                                },
                                {
                                    "megnevezes": "Tűzőgép Boxer 10"
                                },
                                {
                                    "megnevezes": "Tűzőgép Boxer "
                                },
                                {
                                    "megnevezes": "Tűzőgép SAX 239"
                                },
                                {
                                    "megnevezes": "Tűzőgép EAGLE"
                                },
                                {
                                    "megnevezes": "Tűzőkapocs 10-es"
                                },
                                {
                                    "megnevezes": "Fólia tasakos A4 125 mik."
                                },
                                {
                                    "megnevezes": "Fólia tasakos A4 80 mik."
                                },
                                {
                                    "megnevezes": "Fólia tasakos A4100 mik."
                                },
                                {
                                    "megnevezes": "Boríték C/4-es"
                                },
                                {
                                    "megnevezes": "Boríték B/4-es"
                                },
                                {
                                    "megnevezes": "Bélyegzőfesték "
                                },
                                {
                                    "megnevezes": "Bélyegző IDEAL 50"
                                },
                                {
                                    "megnevezes": "Bélyegző párna"
                                },
                                {
                                    "megnevezes": "Bélyegző pocket"
                                },
                                {
                                    "megnevezes": "Bélyegző RP 18-47"
                                },
                                {
                                    "megnevezes": "CD tartó tok"
                                },
                                {
                                    "megnevezes": "Dvd"
                                },
                                {
                                    "megnevezes": "Floppy lemez"
                                },
                                {
                                    "megnevezes": "Kapocskiszedő"
                                },
                                {
                                    "megnevezes": "Álló irattartó"
                                },
                                {
                                    "megnevezes": "Tokos iratrendező"
                                },
                                {
                                    "megnevezes": "Ragasztószalag 19 mm-es"
                                },
                                {
                                    "megnevezes": "Mappa müa A/4"
                                },
                                {
                                    "megnevezes": "Irattartó müa. boríték A/4"
                                },
                                {
                                    "megnevezes": "Térképtű színes"
                                },
                                {
                                    "megnevezes": "Gémkapocs 28-as színes"
                                },
                                {
                                    "megnevezes": "Gémkapocs 50-es"
                                },
                                {
                                    "megnevezes": "Tűzőgép mini"
                                },
                                {
                                    "megnevezes": "Lyukasztó EAGLE"
                                },
                                {
                                    "megnevezes": "Lyukasztó BOXER"
                                },
                                {
                                    "megnevezes": "Festékpatron BCI-3BK"
                                },
                                {
                                    "megnevezes": "Genoterm HERLITZ 10-es"
                                },
                                {
                                    "megnevezes": "Oki toner C"
                                },
                                {
                                    "megnevezes": "Spirál 1/4 "
                                },
                                {
                                    "megnevezes": "Ragasztószalag  TIXO"
                                },
                                {
                                    "megnevezes": "Ragasztószalag nagy 12 mm"
                                },
                                {
                                    "megnevezes": "Ragasztószalag széles barna"
                                },
                                {
                                    "megnevezes": "Díszkötöző szalag metál nagy"
                                },
                                {
                                    "megnevezes": "Diszkötöző szalag arany"
                                },
                                {
                                    "megnevezes": "Díszkötöző szalag metál kicsi"
                                },
                                {
                                    "megnevezes": "Ajándék cs. tasak italos"
                                },
                                {
                                    "megnevezes": "Ajándék cs. tasak italos, fólia"
                                },
                                {
                                    "megnevezes": "Ajándék cs. tasak mintás kicsi"
                                },
                                {
                                    "megnevezes": "Ajándék csom. 100x70 metál"
                                },
                                {
                                    "megnevezes": "Ajándék csom. 200x70"
                                },
                                {
                                    "megnevezes": "Ajándék csom. 50x70 húsvéti"
                                },
                                {
                                    "megnevezes": "Ajándék csom. 70x50 metál"
                                },
                                {
                                    "megnevezes": "Ajándék csom. gyűrt"
                                },
                                {
                                    "megnevezes": "házt.csom.  5 ív"
                                },
                                {
                                    "megnevezes": "iskolai csomagoló papír"
                                },
                                {
                                    "megnevezes": "Ajándék csom. Krepp"
                                },
                                {
                                    "megnevezes": "Ajándék csom. nagy  "
                                },
                                {
                                    "megnevezes": "Ajándék csom. vékony"
                                },
                                {
                                    "megnevezes": "Ajándék cs. húsvéti 200x70"
                                },
                                {
                                    "megnevezes": "Italtartó doboz"
                                },
                                {
                                    "megnevezes": "Határidő napló 2010-s"
                                },
                                {
                                    "megnevezes": "Képeslap karácsonyi borítékos"
                                },
                                {
                                    "megnevezes": "Képeslap kerek"
                                },
                                {
                                    "megnevezes": "Képeslap stancolt"
                                },
                                {
                                    "megnevezes": "Képeslap stancolt szív"
                                },
                                {
                                    "megnevezes": "Képkirakó Dirib-darab"
                                },
                                {
                                    "megnevezes": "Levélpapír állatos"
                                },
                                {
                                    "megnevezes": "Levélpapír sima"
                                },
                                {
                                    "megnevezes": "Levélpapír szett"
                                },
                                {
                                    "megnevezes": "Levélpapír szett "
                                },
                                {
                                    "megnevezes": "Levélpapír szett natur, mintás"
                                },
                                {
                                    "megnevezes": "Levélpapír szett virágos"
                                },
                                {
                                    "megnevezes": "Mikulás zacskó"
                                },
                                {
                                    "megnevezes": "Műanyag állatok"
                                },
                                {
                                    "megnevezes": "Műanyag pohár 1 dl-es"
                                },
                                {
                                    "megnevezes": "Tenisz labda"
                                },
                                {
                                    "megnevezes": "Álarc"
                                },
                                {
                                    "megnevezes": "Álarc fejdísz"
                                },
                                {
                                    "megnevezes": "Álarc szemüveg"
                                },
                                {
                                    "megnevezes": "Bérlet tok"
                                },
                                {
                                    "megnevezes": "Díszdoboz kar."
                                },
                                {
                                    "megnevezes": "Díszdoboz tollnak 2 db-os"
                                },
                                {
                                    "megnevezes": "Díszdoboz tollnak 2 db-os keskeny"
                                },
                                {
                                    "megnevezes": "Gumilabda közepes"
                                },
                                {
                                    "megnevezes": "Hajgumi macis"
                                },
                                {
                                    "megnevezes": "Hűtőmágnes"
                                },
                                {
                                    "megnevezes": "Hűtőmágnes WD"
                                },
                                {
                                    "megnevezes": "Játék autó"
                                },
                                {
                                    "megnevezes": "Játékautó Blisteres"
                                },
                                {
                                    "megnevezes": "Játékautó elemes"
                                },
                                {
                                    "megnevezes": "Játékautó mini"
                                },
                                {
                                    "megnevezes": "Jelzőkréta"
                                },
                                {
                                    "megnevezes": "Kulcstartó Csőrikés"
                                },
                                {
                                    "megnevezes": "Kulcstartó figurás"
                                },
                                {
                                    "megnevezes": "Kulcstartó intarziás állatos"
                                },
                                {
                                    "megnevezes": "Lufi hullámos"
                                },
                                {
                                    "megnevezes": "Plüss  QX állatok"
                                },
                                {
                                    "megnevezes": "Plüss sárkány"
                                },
                                {
                                    "megnevezes": "Strandlabda "
                                },
                                {
                                    "megnevezes": "Mappa bőr A5"
                                },
                                {
                                    "megnevezes": "Mappa PVC villámzáras"
                                },
                                {
                                    "megnevezes": "Mappa PVC villámzáras  képes"
                                },
                                {
                                    "megnevezes": "Emlékkönyv lakatos"
                                },
                                {
                                    "megnevezes": "Címke 8 db-os"
                                },
                                {
                                    "megnevezes": "Címke WD. állat"
                                },
                                {
                                    "megnevezes": "Címke egyszínű"
                                },
                                {
                                    "megnevezes": "Képeslap  borítékos"
                                },
                                {
                                    "megnevezes": "Képeslap \"Nászajándék\""
                                },
                                {
                                    "megnevezes": "Képeslap \"Részvét\""
                                },
                                {
                                    "megnevezes": "Képeslap humoros "
                                },
                                {
                                    "megnevezes": "Képeslap humoros borítékos"
                                },
                                {
                                    "megnevezes": "Képeslap humoros kaparós"
                                },
                                {
                                    "megnevezes": "Képeslap humoros"
                                },
                                {
                                    "megnevezes": "Lampion"
                                },
                                {
                                    "megnevezes": "Matrica autóra H"
                                },
                                {
                                    "megnevezes": "Matrica motoros kicsi"
                                },
                                {
                                    "megnevezes": "Matrica Stickers nagy állatos"
                                },
                                {
                                    "megnevezes": "Matrica Stickers szíves"
                                },
                                {
                                    "megnevezes": "Matrica Test ékszer tattoo"
                                },
                                {
                                    "megnevezes": "Matrica tetoválás"
                                },
                                {
                                    "megnevezes": "Matrica tetoválós kicsi"
                                },
                                {
                                    "megnevezes": "Matrica világítós "
                                },
                                {
                                    "megnevezes": "Matrica WD kicsi"
                                },
                                {
                                    "megnevezes": "Meghívó állatos"
                                },
                                {
                                    "megnevezes": "Meghívó borítékos"
                                },
                                {
                                    "megnevezes": "Szalvéta gyűjtőknek"
                                },
                                {
                                    "megnevezes": "Alufólia 10 m-es"
                                },
                                {
                                    "megnevezes": "Szemetes zsák 60 literes"
                                },
                                {
                                    "megnevezes": "Szilvia csomagoló"
                                },
                                {
                                    "megnevezes": "Pill.ragasztó"
                                },
                                {
                                    "megnevezes": "Rajzszeg színes"
                                },
                                {
                                    "megnevezes": "Rajzszeg"
                                },
                                {
                                    "megnevezes": "Celofán"
                                },
                                {
                                    "megnevezes": "Celofán 50 db-os"
                                },
                                {
                                    "megnevezes": "Gumigyűrű"
                                },
                                {
                                    "megnevezes": "Rágógumi Orbit"
                                },
                                {
                                    "megnevezes": "Ragasztó, Technokol 35g kék"
                                },
                                {
                                    "megnevezes": "Ragasztó, Technokol 35g piros"
                                },
                                {
                                    "megnevezes": "Szalvéta "
                                },
                                {
                                    "megnevezes": "Szalvéta egyszínű"
                                },
                                {
                                    "megnevezes": "Szalvéta Goma húsvéti"
                                },
                                {
                                    "megnevezes": "Szalvéta dekor"
                                },
                                {
                                    "megnevezes": "Szalvéta kicsi virágos"
                                },
                                {
                                    "megnevezes": "Betűtartó sin"
                                },
                                {
                                    "megnevezes": "Ecset Centrum 10,11,12"
                                },
                                {
                                    "megnevezes": "Ecset Centrum 7,8,9"
                                },
                                {
                                    "megnevezes": "Ecset Deák 2-es"
                                },
                                {
                                    "megnevezes": "Ecset Lizzy 10-es"
                                },
                                {
                                    "megnevezes": "Füzet  A/4 "
                                },
                                {
                                    "megnevezes": "Füzet  A4 mintás"
                                },
                                {
                                    "megnevezes": "Füzet A/5 hangjegy 36/16"
                                },
                                {
                                    "megnevezes": "Füzet A/5, mintás"
                                },
                                {
                                    "megnevezes": "Hőmérő, műa."
                                },
                                {
                                    "megnevezes": "Hurkapálca 10 db-os"
                                },
                                {
                                    "megnevezes": "Papírcenti 100 cm-es"
                                },
                                {
                                    "megnevezes": "Számegyenes"
                                },
                                {
                                    "megnevezes": "Számológép Roxin"
                                },
                                {
                                    "megnevezes": "Számolókorong"
                                },
                                {
                                    "megnevezes": "Számolópálca"
                                },
                                {
                                    "megnevezes": "Szögmérő 180 fokos műa."
                                },
                                {
                                    "megnevezes": "Szögmérő papír"
                                },
                                {
                                    "megnevezes": "Szögmérő színes"
                                },
                                {
                                    "megnevezes": "Ellenőrzőborító"
                                },
                                {
                                    "megnevezes": "Gumis mappa Köbüki"
                                },
                                {
                                    "megnevezes": "Gyurma színes 200 g-os"
                                },
                                {
                                    "megnevezes": "Gyurma színes natúr"
                                },
                                {
                                    "megnevezes": "Gyűrűskönyv bet. A/5"
                                },
                                {
                                    "megnevezes": "Gyűrűskönyv betét A/5"
                                },
                                {
                                    "megnevezes": "Gyűrűskönyv színes"
                                },
                                {
                                    "megnevezes": "Indigó Pelikán"
                                },
                                {
                                    "megnevezes": "kék indigó"
                                },
                                {
                                    "megnevezes": "Írólap 10-50 ffam."
                                },
                                {
                                    "megnevezes": "Írólap 20-50 "
                                },
                                {
                                    "megnevezes": "Körző"
                                },
                                {
                                    "megnevezes": "Körző maped"
                                },
                                {
                                    "megnevezes": "Post-it 51×38 100 lapos"
                                },
                                {
                                    "megnevezes": "Post-it 75×75 100 lapos"
                                },
                                {
                                    "megnevezes": "Radír KOH-I-NOR 80"
                                },
                                {
                                    "megnevezes": "Radír Tikky 30 "
                                },
                                {
                                    "megnevezes": "Radír Tikky 40 "
                                },
                                {
                                    "megnevezes": "Rajzlap A/4 10db ffam."
                                },
                                {
                                    "megnevezes": "Regiszteres füzet A4"
                                },
                                {
                                    "megnevezes": "Regiszteres füzet A5 Hightech"
                                },
                                {
                                    "megnevezes": "Rovatolt papír 20 íves"
                                },
                                {
                                    "megnevezes": "Sorvezető"
                                },
                                {
                                    "megnevezes": "Sp.Füzet A/4  perforált, lyuk."
                                },
                                {
                                    "megnevezes": "Sp.Füzet A/4 70-as"
                                },
                                {
                                    "megnevezes": "Sp.Füzet A/4  70es"
                                },
                                {
                                    "megnevezes": "Szövegkiemelő vékony"
                                },
                                {
                                    "megnevezes": "Szövegkiemelő "
                                },
                                {
                                    "megnevezes": "Szövegkiemelő"
                                },
                                {
                                    "megnevezes": "Szövegkiemelő Videotip"
                                },
                                {
                                    "megnevezes": "Táblafilc"
                                },
                                {
                                    "megnevezes": "Taffet papír"
                                },
                                {
                                    "megnevezes": "Technika cs. I-II-III-IV"
                                },
                                {
                                    "megnevezes": "Tempera szóló ezüst"
                                },
                                {
                                    "megnevezes": "Tempera szóló színes"
                                },
                                {
                                    "megnevezes": "Tolltartó 1 zipzáros"
                                },
                                {
                                    "megnevezes": "Tolltartó 2 részes NG."
                                },
                                {
                                    "megnevezes": "Tolltartó zipzáras"
                                },
                                {
                                    "megnevezes": "Tolltartó 2 zipzáros töltött"
                                },
                                {
                                    "megnevezes": "Tolltartó asztali"
                                },
                                {
                                    "megnevezes": "Tolltartó hengeres "
                                },
                                {
                                    "megnevezes": "Tombola tömb"
                                },
                                {
                                    "megnevezes": "Tornazsák"
                                },
                                {
                                    "megnevezes": "Számológép tudományos"
                                },
                                {
                                    "megnevezes": "Krepp papír"
                                },
                                {
                                    "megnevezes": "Olló gyerek "
                                },
                                {
                                    "megnevezes": "Olló Tagit 18 cm-es"
                                },
                                {
                                    "megnevezes": "Olló, iskolai"
                                },
                                {
                                    "megnevezes": "Füzet A5 1-8 osz.-ig"
                                },
                                {
                                    "megnevezes": "Füzetborító A/4 átlátszó"
                                },
                                {
                                    "megnevezes": "Füzetborító átlátszó A5"
                                },
                                {
                                    "megnevezes": "Füzetborító mesefig."
                                },
                                {
                                    "megnevezes": "Füzetborító öntapadó kicsi"
                                },
                                {
                                    "megnevezes": "Füzetborító öntapadó tekercses"
                                },
                                {
                                    "megnevezes": "Füzetborító öntapadós nagy"
                                },
                                {
                                    "megnevezes": "Füzettartó A/4 keménytáblás"
                                },
                                {
                                    "megnevezes": "Füzettartó A/5 vastag"
                                },
                                {
                                    "megnevezes": "Füzettartó A/5  "
                                },
                                {
                                    "megnevezes": "Hegyező gép"
                                },
                                {
                                    "megnevezes": "Hegyező műanyag dupla"
                                },
                                {
                                    "megnevezes": "Hegyező műanyag egyes"
                                },
                                {
                                    "megnevezes": "Hegyező tartályos egyes"
                                },
                                {
                                    "megnevezes": "Hegyző fém 1 lyukú"
                                },
                                {
                                    "megnevezes": "Hegyző fém 2 lyukú"
                                },
                                {
                                    "megnevezes": "Leckefüzet"
                                },
                                {
                                    "megnevezes": "Radírtoll betét ER100"
                                },
                                {
                                    "megnevezes": "Radírtoll betét vastag"
                                },
                                {
                                    "megnevezes": "Ragasztó 9 g Pax"
                                },
                                {
                                    "megnevezes": "Ragasztó Gyurma"
                                },
                                {
                                    "megnevezes": "Ragasztó kores"
                                },
                                {
                                    "megnevezes": "Vízfesték  12 színű nagy"
                                },
                                {
                                    "megnevezes": "Vízfesték 12 db-os "
                                },
                                {
                                    "megnevezes": "Vízfesték 12 színű kerek"
                                },
                                {
                                    "megnevezes": "Vízfesték 12db-os kínai"
                                },
                                {
                                    "megnevezes": "Vonalzó 15 cm-es ESSELTE"
                                },
                                {
                                    "megnevezes": "Vonalzó 16 cm-es LIZZY"
                                },
                                {
                                    "megnevezes": "Vonalzó 30 cm"
                                },
                                {
                                    "megnevezes": "Vonalzó 45 fokos"
                                },
                                {
                                    "megnevezes": "Vonalzó 60 fokos"
                                },
                                {
                                    "megnevezes": "Zászló papír"
                                },
                                {
                                    "megnevezes": "Füzettartó A/4"
                                },
                                {
                                    "megnevezes": "Beíró A/5 kockás"
                                },
                                {
                                    "megnevezes": "Füzetborító A/4 mintás"
                                },
                                {
                                    "megnevezes": "Miliméterpapír"
                                },
                                {
                                    "megnevezes": "Szótárfüzet Lizzy"
                                },
                                {
                                    "megnevezes": "Ablakkréta"
                                },
                                {
                                    "megnevezes": "Ecsetkészlet"
                                },
                                {
                                    "megnevezes": "Meghívó ballagási"
                                },
                                {
                                    "megnevezes": "Öntapadős betűk"
                                },
                                {
                                    "megnevezes": "Gyurmakés"
                                },
                                {
                                    "megnevezes": "G.toll betét PAX tip."
                                },
                                {
                                    "megnevezes": "G.toll betét S7L "
                                },
                                {
                                    "megnevezes": "G.toll betét Stabilo"
                                },
                                {
                                    "megnevezes": "G.toll betét X20"
                                },
                                {
                                    "megnevezes": "G.toll betét Zebra F-0.7"
                                },
                                {
                                    "megnevezes": "G.toll betét Zebra H-0,7"
                                },
                                {
                                    "megnevezes": "G.toll betét Zebra K-0,7"
                                },
                                {
                                    "megnevezes": "Kerámiatoll"
                                },
                                {
                                    "megnevezes": "Filctoll TINTEN PEN"
                                },
                                {
                                    "megnevezes": "Filctoll vastag ARTIP"
                                },
                                {
                                    "megnevezes": "Filctoll, alkoholos Centropen"
                                },
                                {
                                    "megnevezes": "Filctoll, alkoholosOHP F-M-C"
                                },
                                {
                                    "megnevezes": "Filctoll, textil Edding 4500"
                                },
                                {
                                    "megnevezes": "Filctoll CD író"
                                },
                                {
                                    "megnevezes": "Ceruza 2H-4B"
                                },
                                {
                                    "megnevezes": "Ceruza Conté zöld"
                                },
                                {
                                    "megnevezes": "Ceruza Cseh"
                                },
                                {
                                    "megnevezes": "Ceruza háromszög "
                                },
                                {
                                    "megnevezes": "Ceruza 2H-3B Koh-i-nor"
                                },
                                {
                                    "megnevezes": "Ceruza HB radiros"
                                },
                                {
                                    "megnevezes": "Ceruza kártyás"
                                },
                                {
                                    "megnevezes": "Ceruza piros-kék"
                                },
                                {
                                    "megnevezes": "Ceruza piros-kék vékony"
                                },
                                {
                                    "megnevezes": "Ceruza Progresso"
                                },
                                {
                                    "megnevezes": "Ceruza radíros kínai"
                                },
                                {
                                    "megnevezes": "Ceruza smaragd"
                                },
                                {
                                    "megnevezes": "Ceruza stabilo swano"
                                },
                                {
                                    "megnevezes": "Ceruza stabilo opera"
                                },
                                {
                                    "megnevezes": "Filctoll "
                                },
                                {
                                    "megnevezes": "Filctoll document pen"
                                },
                                {
                                    "megnevezes": "Filctoll Edding 750"
                                },
                                {
                                    "megnevezes": "Filctoll Marvy alkoholos"
                                },
                                {
                                    "megnevezes": "Filctoll permanent vastag"
                                },
                                {
                                    "megnevezes": "Filctoll supra fine"
                                },
                                {
                                    "megnevezes": "G. toll betét mini"
                                },
                                {
                                    "megnevezes": "G. toll betét mini fém"
                                },
                                {
                                    "megnevezes": "G. toll betét réz"
                                },
                                {
                                    "megnevezes": "G. toll betét S7S"
                                },
                                {
                                    "megnevezes": "G.toll betét csavaros"
                                },
                                {
                                    "megnevezes": "G.toll betét görbe hegyű"
                                },
                                {
                                    "megnevezes": "Golyóstoll UNI laknock"
                                },
                                {
                                    "megnevezes": "Golyóstoll Zebra 301"
                                },
                                {
                                    "megnevezes": "Golyóstoll Zebra mini"
                                },
                                {
                                    "megnevezes": "Golyóstoll Zebra new hard"
                                },
                                {
                                    "megnevezes": "Golyóstoll Zodiák"
                                },
                                {
                                    "megnevezes": "Ironbél  2B ICO"
                                },
                                {
                                    "megnevezes": "Ironbél B 0,5"
                                },
                                {
                                    "megnevezes": "Ironbél H 0,5"
                                },
                                {
                                    "megnevezes": "Ironbél HB 0,5"
                                },
                                {
                                    "megnevezes": "Ironbél HI-POLIMER HB 0,7"
                                },
                                {
                                    "megnevezes": "Lakk filc Edding 750"
                                },
                                {
                                    "megnevezes": "Tintapatron /kék/"
                                },
                                {
                                    "megnevezes": "Tintapatron 30 db-os kék"
                                },
                                {
                                    "megnevezes": "Tintapatron színes"
                                },
                                {
                                    "megnevezes": "Toll Centropen roller"
                                },
                                {
                                    "megnevezes": "Töltőtoll tinta "
                                },
                                {
                                    "megnevezes": "Ceruzafogó"
                                },
                                {
                                    "megnevezes": "Szövegkiemelő Staedtler"
                                },
                                {
                                    "megnevezes": "Ceruza szén"
                                },
                                {
                                    "megnevezes": "Ceruza szorzótáblás"
                                },
                                {
                                    "megnevezes": "Ceruza zöld színű"
                                },
                                {
                                    "megnevezes": "Ceruza kínai"
                                },
                                {
                                    "megnevezes": "Golyóstoll"
                                },
                                {
                                    "megnevezes": "Golyóstoll + ceruza Twister 2in1"
                                },
                                {
                                    "megnevezes": "Golyóstoll 3 funkciós "
                                },
                                {
                                    "megnevezes": "Golyóstoll illatos ICO"
                                },
                                {
                                    "megnevezes": "Golyóstoll INOXCROM"
                                },
                                {
                                    "megnevezes": "Golyóstoll"
                                },
                                {
                                    "megnevezes": "Golyóstoll kupakos piros"
                                },
                                {
                                    "megnevezes": "Golyóstoll Montex Hytone"
                                },
                                {
                                    "megnevezes": "Golyóstoll Pax tip."
                                },
                                {
                                    "megnevezes": "Golyóstoll penac"
                                },
                                {
                                    "megnevezes": "Golyóstoll kétszínű"
                                },
                                {
                                    "megnevezes": "Golyóstoll Stabilo piros"
                                },
                                {
                                    "megnevezes": "Pixiron KOH-I-NOOR"
                                },
                                {
                                    "megnevezes": "Zseléstoll Lizzy Card"
                                },
                                {
                                    "megnevezes": "Golyóstoll Stabiló 308"
                                },
                                {
                                    "megnevezes": "A föld amelyen élünk - Európa földrajza"
                                },
                                {
                                    "megnevezes": "A föld amelyen élünk - Távoli földrészek"
                                },
                                {
                                    "megnevezes": "A föld amelyen élünk - Hazánk földrajza"
                                },
                                {
                                    "megnevezes": "Anyanyelvi gyakorló 3"
                                },
                                {
                                    "megnevezes": "Összefoglaló feladatgyüjtemény számtech."
                                },
                                {
                                    "megnevezes": "Fizika"
                                },
                                {
                                    "megnevezes": "Fizika munkafüzet 13 év."
                                },
                                {
                                    "megnevezes": "Fizika munkafüzet 14 év."
                                },
                                {
                                    "megnevezes": "Fizikai feladatok és tévedések"
                                },
                                {
                                    "megnevezes": "Fogalmazás lépésről lépésre"
                                },
                                {
                                    "megnevezes": "Jól felkészültem-e - Fizika"
                                },
                                {
                                    "megnevezes": "Matematika gyakorló 2"
                                },
                                {
                                    "megnevezes": "Matematika gyakorló 3"
                                },
                                {
                                    "megnevezes": "Szövegszerkesztés"
                                },
                                {
                                    "megnevezes": "Szám.tech. kicsiknek"
                                },
                                {
                                    "megnevezes": "Informatika"
                                },
                                {
                                    "megnevezes": "Érettségi felv. fel. Matematika"
                                },
                                {
                                    "megnevezes": "Érettségi felv. fel. Fizika"
                                },
                                {
                                    "megnevezes": "Érettségi felv. fel. Biológia"
                                },
                                {
                                    "megnevezes": "férfi szövet kabát"
                                },
                                {
                                    "megnevezes": "férfi farmer nadrág"
                                },
                                {
                                    "megnevezes": "férfi szövet nadrág"
                                },
                                {
                                    "megnevezes": "férfi ing"
                                },
                                {
                                    "megnevezes": "gyermek kabát (fiú)"
                                },
                                {
                                    "megnevezes": "gyermek farmer nadrág (fiú)"
                                },
                                {
                                    "megnevezes": "gyermek pamut nadrág (fiú)"
                                },
                                {
                                    "megnevezes": "fiú alsó"
                                },
                                {
                                    "megnevezes": "fiú zokni"
                                },
                                {
                                    "megnevezes": "fiú harisnya"
                                },
                                {
                                    "megnevezes": "fiú ünneplős ruha"
                                },
                                {
                                    "megnevezes": "gyermek póló (fiú)"
                                },
                                {
                                    "megnevezes": "gyermek szandál (fiú)"
                                },
                                {
                                    "megnevezes": "gyermek cipő (fiú)"
                                },
                                {
                                    "megnevezes": "gyermek csizma (fiú)"
                                },
                                {
                                    "megnevezes": "gyermek kabát (lány)"
                                },
                                {
                                    "megnevezes": "gyermek farmer nadrág (lány)"
                                },
                                {
                                    "megnevezes": "gyermek pamut nadrág (lány)"
                                },
                                {
                                    "megnevezes": "lány alsó"
                                },
                                {
                                    "megnevezes": "lány zokni"
                                },
                                {
                                    "megnevezes": "lány harisnya"
                                },
                                {
                                    "megnevezes": "lány ünneplős ruha"
                                },
                                {
                                    "megnevezes": "gyermek póló (lány)"
                                },
                                {
                                    "megnevezes": "gyermek szandál (lány)"
                                },
                                {
                                    "megnevezes": "gyermek cipő (lány)"
                                },
                                {
                                    "megnevezes": "gyermek csizma (lány)"
                                },
                                {
                                    "megnevezes": "női szövet kabát"
                                },
                                {
                                    "megnevezes": "női farmer nadrág"
                                },
                                {
                                    "megnevezes": "női alsó"
                                },
                                {
                                    "megnevezes": "női koktélruha"
                                },
                                {
                                    "megnevezes": "kosztüm (rövid)"
                                },
                                {
                                    "megnevezes": "kosztüm (hosszú)"
                                },
                                {
                                    "megnevezes": "sál"
                                }
                            ]
                        },
                        "text/html": [
                            "<table>",
                            "<tr><th>megnevezes</th></tr>",
                            "<tr><td>Fotópapír A/4 fényes</td></tr>",
                            "<tr><td>Öntapadós hologramos papír A/4</td></tr>",
                            "<tr><td>Oklevél A/4 színes</td></tr>",
                            "<tr><td>Emléklap A/5</td></tr>",
                            "<tr><td>Esküvői meghívó</td></tr>",
                            "<tr><td>Pausz papír A/4</td></tr>",
                            "<tr><td>Előlap spirálhoz</td></tr>",
                            "<tr><td>Fax papír 15 m</td></tr>",
                            "<tr><td>Öntapadó A/4</td></tr>",
                            "<tr><td>Selyemfényű karton A/4</td></tr>",
                            "<tr><td>Color Copy A/4 250 g</td></tr>",
                            "<tr><td>Color Copy A4 200 g</td></tr>",
                            "<tr><td>Kreatív A/4 300g </td></tr>",
                            "<tr><td>Színes A/3 160 gr IQ</td></tr>",
                            "<tr><td>Színes karton A4</td></tr>",
                            "<tr><td>Színes ofszet B/4</td></tr>",
                            "<tr><td>Dekorációs karton</td></tr>",
                            "<tr><td>Dipa A/4 keretezett</td></tr>",
                            "<tr><td>Fénymásoló papír DataCopy</td></tr>",
                            "<tr><td>Fénymásoló papír GetCopy</td></tr>",
                            "<tr><td>Fénymásoló papír Qconnect</td></tr>",
                            "<tr><td>Színes másoló a/4 80g</td></tr>",
                            "<tr><td>Color Copy 160 g-os </td></tr>",
                            "<tr><td>Color Copy A4 120 g</td></tr>",
                            "<tr><td>Fehér másoló A/3</td></tr>",
                            "<tr><td>Fehér másoló A/4</td></tr>",
                            "<tr><td>Márványos A/4</td></tr>",
                            "<tr><td>Kreatív A/4 120g </td></tr>",
                            "<tr><td>Árazószalag </td></tr>",
                            "<tr><td>Átírótömb A/6</td></tr>",
                            "<tr><td>Beírókönyv A5 </td></tr>",
                            "<tr><td>Beírókönyv A4</td></tr>",
                            "<tr><td>Bevételi pénztárbizonylat 3×25</td></tr>",
                            "<tr><td>Kiadási pénztárbizonylat 2×25</td></tr>",
                            "<tr><td>Boríték LA 4 francia</td></tr>",
                            "<tr><td>Álló irattartó karton</td></tr>",
                            "<tr><td>Gemkapocs 28 mm</td></tr>",
                            "<tr><td>Genotherm lefűzhető A/5</td></tr>",
                            "<tr><td>Genotherm lefűzhető A4 10db-os</td></tr>",
                            "<tr><td>Gyorsfűző dosszié fehér</td></tr>",
                            "<tr><td>Gyorsfűző műa.</td></tr>",
                            "<tr><td>Gyorsfűző műa.</td></tr>",
                            "<tr><td>Hibajav.roll.Pritt 4,2mm</td></tr>",
                            "<tr><td>Hibajavító ecsetes Aqua</td></tr>",
                            "<tr><td>Hibajavító készlet Blanco</td></tr>",
                            "<tr><td>Hibajavító lap </td></tr>",
                            "<tr><td>Hibajavító roller 5 mm</td></tr>",
                            "<tr><td>Hibajavító roller Pax</td></tr>",
                            "<tr><td>Hibajavító Kores mini pen</td></tr>",
                            "<tr><td>Írásvetítő fólia</td></tr>",
                            "<tr><td>Iratgyűjtő ESSELTE ablakos</td></tr>",
                            "<tr><td>Iratgyűjtő fehér</td></tr>",
                            "<tr><td>Iratsín fehér</td></tr>",
                            "<tr><td>Iratrendező ESSELTE</td></tr>",
                            "<tr><td>Iromány fedél feles</td></tr>",
                            "<tr><td>Naptár 24-es</td></tr>",
                            "<tr><td>Naptárhát kicsi</td></tr>",
                            "<tr><td>Notesz A/5 sima</td></tr>",
                            "<tr><td>Notesz mintás</td></tr>",
                            "<tr><td>Pénztárgépsz. 2 pl. nem öníró</td></tr>",
                            "<tr><td>Pénztárgépszalag 2pl SC 57.5/60</td></tr>",
                            "<tr><td>Tűzőgép Boxer 10</td></tr>",
                            "<tr><td>Tűzőgép Boxer </td></tr>",
                            "<tr><td>Tűzőgép SAX 239</td></tr>",
                            "<tr><td>Tűzőgép EAGLE</td></tr>",
                            "<tr><td>Tűzőkapocs 10-es</td></tr>",
                            "<tr><td>Fólia tasakos A4 125 mik.</td></tr>",
                            "<tr><td>Fólia tasakos A4 80 mik.</td></tr>",
                            "<tr><td>Fólia tasakos A4100 mik.</td></tr>",
                            "<tr><td>Boríték C/4-es</td></tr>",
                            "<tr><td>Boríték B/4-es</td></tr>",
                            "<tr><td>Bélyegzőfesték </td></tr>",
                            "<tr><td>Bélyegző IDEAL 50</td></tr>",
                            "<tr><td>Bélyegző párna</td></tr>",
                            "<tr><td>Bélyegző pocket</td></tr>",
                            "<tr><td>Bélyegző RP 18-47</td></tr>",
                            "<tr><td>CD tartó tok</td></tr>",
                            "<tr><td>Dvd</td></tr>",
                            "<tr><td>Floppy lemez</td></tr>",
                            "<tr><td>Kapocskiszedő</td></tr>",
                            "<tr><td>Álló irattartó</td></tr>",
                            "<tr><td>Tokos iratrendező</td></tr>",
                            "<tr><td>Ragasztószalag 19 mm-es</td></tr>",
                            "<tr><td>Mappa müa A/4</td></tr>",
                            "<tr><td>Irattartó müa. boríték A/4</td></tr>",
                            "<tr><td>Térképtű színes</td></tr>",
                            "<tr><td>Gémkapocs 28-as színes</td></tr>",
                            "<tr><td>Gémkapocs 50-es</td></tr>",
                            "<tr><td>Tűzőgép mini</td></tr>",
                            "<tr><td>Lyukasztó EAGLE</td></tr>",
                            "<tr><td>Lyukasztó BOXER</td></tr>",
                            "<tr><td>Festékpatron BCI-3BK</td></tr>",
                            "<tr><td>Genoterm HERLITZ 10-es</td></tr>",
                            "<tr><td>Oki toner C</td></tr>",
                            "<tr><td>Spirál 1/4 </td></tr>",
                            "<tr><td>Ragasztószalag  TIXO</td></tr>",
                            "<tr><td>Ragasztószalag nagy 12 mm</td></tr>",
                            "<tr><td>Ragasztószalag széles barna</td></tr>",
                            "<tr><td>Díszkötöző szalag metál nagy</td></tr>",
                            "<tr><td>Diszkötöző szalag arany</td></tr>",
                            "<tr><td>Díszkötöző szalag metál kicsi</td></tr>",
                            "<tr><td>Ajándék cs. tasak italos</td></tr>",
                            "<tr><td>Ajándék cs. tasak italos, fólia</td></tr>",
                            "<tr><td>Ajándék cs. tasak mintás kicsi</td></tr>",
                            "<tr><td>Ajándék csom. 100x70 metál</td></tr>",
                            "<tr><td>Ajándék csom. 200x70</td></tr>",
                            "<tr><td>Ajándék csom. 50x70 húsvéti</td></tr>",
                            "<tr><td>Ajándék csom. 70x50 metál</td></tr>",
                            "<tr><td>Ajándék csom. gyűrt</td></tr>",
                            "<tr><td>házt.csom.  5 ív</td></tr>",
                            "<tr><td>iskolai csomagoló papír</td></tr>",
                            "<tr><td>Ajándék csom. Krepp</td></tr>",
                            "<tr><td>Ajándék csom. nagy  </td></tr>",
                            "<tr><td>Ajándék csom. vékony</td></tr>",
                            "<tr><td>Ajándék cs. húsvéti 200x70</td></tr>",
                            "<tr><td>Italtartó doboz</td></tr>",
                            "<tr><td>Határidő napló 2010-s</td></tr>",
                            "<tr><td>Képeslap karácsonyi borítékos</td></tr>",
                            "<tr><td>Képeslap kerek</td></tr>",
                            "<tr><td>Képeslap stancolt</td></tr>",
                            "<tr><td>Képeslap stancolt szív</td></tr>",
                            "<tr><td>Képkirakó Dirib-darab</td></tr>",
                            "<tr><td>Levélpapír állatos</td></tr>",
                            "<tr><td>Levélpapír sima</td></tr>",
                            "<tr><td>Levélpapír szett</td></tr>",
                            "<tr><td>Levélpapír szett </td></tr>",
                            "<tr><td>Levélpapír szett natur, mintás</td></tr>",
                            "<tr><td>Levélpapír szett virágos</td></tr>",
                            "<tr><td>Mikulás zacskó</td></tr>",
                            "<tr><td>Műanyag állatok</td></tr>",
                            "<tr><td>Műanyag pohár 1 dl-es</td></tr>",
                            "<tr><td>Tenisz labda</td></tr>",
                            "<tr><td>Álarc</td></tr>",
                            "<tr><td>Álarc fejdísz</td></tr>",
                            "<tr><td>Álarc szemüveg</td></tr>",
                            "<tr><td>Bérlet tok</td></tr>",
                            "<tr><td>Díszdoboz kar.</td></tr>",
                            "<tr><td>Díszdoboz tollnak 2 db-os</td></tr>",
                            "<tr><td>Díszdoboz tollnak 2 db-os keskeny</td></tr>",
                            "<tr><td>Gumilabda közepes</td></tr>",
                            "<tr><td>Hajgumi macis</td></tr>",
                            "<tr><td>Hűtőmágnes</td></tr>",
                            "<tr><td>Hűtőmágnes WD</td></tr>",
                            "<tr><td>Játék autó</td></tr>",
                            "<tr><td>Játékautó Blisteres</td></tr>",
                            "<tr><td>Játékautó elemes</td></tr>",
                            "<tr><td>Játékautó mini</td></tr>",
                            "<tr><td>Jelzőkréta</td></tr>",
                            "<tr><td>Kulcstartó Csőrikés</td></tr>",
                            "<tr><td>Kulcstartó figurás</td></tr>",
                            "<tr><td>Kulcstartó intarziás állatos</td></tr>",
                            "<tr><td>Lufi hullámos</td></tr>",
                            "<tr><td>Plüss  QX állatok</td></tr>",
                            "<tr><td>Plüss sárkány</td></tr>",
                            "<tr><td>Strandlabda </td></tr>",
                            "<tr><td>Mappa bőr A5</td></tr>",
                            "<tr><td>Mappa PVC villámzáras</td></tr>",
                            "<tr><td>Mappa PVC villámzáras  képes</td></tr>",
                            "<tr><td>Emlékkönyv lakatos</td></tr>",
                            "<tr><td>Címke 8 db-os</td></tr>",
                            "<tr><td>Címke WD. állat</td></tr>",
                            "<tr><td>Címke egyszínű</td></tr>",
                            "<tr><td>Képeslap  borítékos</td></tr>",
                            "<tr><td>Képeslap &quot;Nászajándék&quot;</td></tr>",
                            "<tr><td>Képeslap &quot;Részvét&quot;</td></tr>",
                            "<tr><td>Képeslap humoros </td></tr>",
                            "<tr><td>Képeslap humoros borítékos</td></tr>",
                            "<tr><td>Képeslap humoros kaparós</td></tr>",
                            "<tr><td>Képeslap humoros</td></tr>",
                            "<tr><td>Lampion</td></tr>",
                            "<tr><td>Matrica autóra H</td></tr>",
                            "<tr><td>Matrica motoros kicsi</td></tr>",
                            "<tr><td>Matrica Stickers nagy állatos</td></tr>",
                            "<tr><td>Matrica Stickers szíves</td></tr>",
                            "<tr><td>Matrica Test ékszer tattoo</td></tr>",
                            "<tr><td>Matrica tetoválás</td></tr>",
                            "<tr><td>Matrica tetoválós kicsi</td></tr>",
                            "<tr><td>Matrica világítós </td></tr>",
                            "<tr><td>Matrica WD kicsi</td></tr>",
                            "<tr><td>Meghívó állatos</td></tr>",
                            "<tr><td>Meghívó borítékos</td></tr>",
                            "<tr><td>Szalvéta gyűjtőknek</td></tr>",
                            "<tr><td>Alufólia 10 m-es</td></tr>",
                            "<tr><td>Szemetes zsák 60 literes</td></tr>",
                            "<tr><td>Szilvia csomagoló</td></tr>",
                            "<tr><td>Pill.ragasztó</td></tr>",
                            "<tr><td>Rajzszeg színes</td></tr>",
                            "<tr><td>Rajzszeg</td></tr>",
                            "<tr><td>Celofán</td></tr>",
                            "<tr><td>Celofán 50 db-os</td></tr>",
                            "<tr><td>Gumigyűrű</td></tr>",
                            "<tr><td>Rágógumi Orbit</td></tr>",
                            "<tr><td>Ragasztó, Technokol 35g kék</td></tr>",
                            "<tr><td>Ragasztó, Technokol 35g piros</td></tr>",
                            "<tr><td>Szalvéta </td></tr>",
                            "<tr><td>Szalvéta egyszínű</td></tr>",
                            "<tr><td>Szalvéta Goma húsvéti</td></tr>",
                            "<tr><td>Szalvéta dekor</td></tr>",
                            "<tr><td>Szalvéta kicsi virágos</td></tr>",
                            "<tr><td>Betűtartó sin</td></tr>",
                            "<tr><td>Ecset Centrum 10,11,12</td></tr>",
                            "<tr><td>Ecset Centrum 7,8,9</td></tr>",
                            "<tr><td>Ecset Deák 2-es</td></tr>",
                            "<tr><td>Ecset Lizzy 10-es</td></tr>",
                            "<tr><td>Füzet  A/4 </td></tr>",
                            "<tr><td>Füzet  A4 mintás</td></tr>",
                            "<tr><td>Füzet A/5 hangjegy 36/16</td></tr>",
                            "<tr><td>Füzet A/5, mintás</td></tr>",
                            "<tr><td>Hőmérő, műa.</td></tr>",
                            "<tr><td>Hurkapálca 10 db-os</td></tr>",
                            "<tr><td>Papírcenti 100 cm-es</td></tr>",
                            "<tr><td>Számegyenes</td></tr>",
                            "<tr><td>Számológép Roxin</td></tr>",
                            "<tr><td>Számolókorong</td></tr>",
                            "<tr><td>Számolópálca</td></tr>",
                            "<tr><td>Szögmérő 180 fokos műa.</td></tr>",
                            "<tr><td>Szögmérő papír</td></tr>",
                            "<tr><td>Szögmérő színes</td></tr>",
                            "<tr><td>Ellenőrzőborító</td></tr>",
                            "<tr><td>Gumis mappa Köbüki</td></tr>",
                            "<tr><td>Gyurma színes 200 g-os</td></tr>",
                            "<tr><td>Gyurma színes natúr</td></tr>",
                            "<tr><td>Gyűrűskönyv bet. A/5</td></tr>",
                            "<tr><td>Gyűrűskönyv betét A/5</td></tr>",
                            "<tr><td>Gyűrűskönyv színes</td></tr>",
                            "<tr><td>Indigó Pelikán</td></tr>",
                            "<tr><td>kék indigó</td></tr>",
                            "<tr><td>Írólap 10-50 ffam.</td></tr>",
                            "<tr><td>Írólap 20-50 </td></tr>",
                            "<tr><td>Körző</td></tr>",
                            "<tr><td>Körző maped</td></tr>",
                            "<tr><td>Post-it 51×38 100 lapos</td></tr>",
                            "<tr><td>Post-it 75×75 100 lapos</td></tr>",
                            "<tr><td>Radír KOH-I-NOR 80</td></tr>",
                            "<tr><td>Radír Tikky 30 </td></tr>",
                            "<tr><td>Radír Tikky 40 </td></tr>",
                            "<tr><td>Rajzlap A/4 10db ffam.</td></tr>",
                            "<tr><td>Regiszteres füzet A4</td></tr>",
                            "<tr><td>Regiszteres füzet A5 Hightech</td></tr>",
                            "<tr><td>Rovatolt papír 20 íves</td></tr>",
                            "<tr><td>Sorvezető</td></tr>",
                            "<tr><td>Sp.Füzet A/4  perforált, lyuk.</td></tr>",
                            "<tr><td>Sp.Füzet A/4 70-as</td></tr>",
                            "<tr><td>Sp.Füzet A/4  70es</td></tr>",
                            "<tr><td>Szövegkiemelő vékony</td></tr>",
                            "<tr><td>Szövegkiemelő </td></tr>",
                            "<tr><td>Szövegkiemelő</td></tr>",
                            "<tr><td>Szövegkiemelő Videotip</td></tr>",
                            "<tr><td>Táblafilc</td></tr>",
                            "<tr><td>Taffet papír</td></tr>",
                            "<tr><td>Technika cs. I-II-III-IV</td></tr>",
                            "<tr><td>Tempera szóló ezüst</td></tr>",
                            "<tr><td>Tempera szóló színes</td></tr>",
                            "<tr><td>Tolltartó 1 zipzáros</td></tr>",
                            "<tr><td>Tolltartó 2 részes NG.</td></tr>",
                            "<tr><td>Tolltartó zipzáras</td></tr>",
                            "<tr><td>Tolltartó 2 zipzáros töltött</td></tr>",
                            "<tr><td>Tolltartó asztali</td></tr>",
                            "<tr><td>Tolltartó hengeres </td></tr>",
                            "<tr><td>Tombola tömb</td></tr>",
                            "<tr><td>Tornazsák</td></tr>",
                            "<tr><td>Számológép tudományos</td></tr>",
                            "<tr><td>Krepp papír</td></tr>",
                            "<tr><td>Olló gyerek </td></tr>",
                            "<tr><td>Olló Tagit 18 cm-es</td></tr>",
                            "<tr><td>Olló, iskolai</td></tr>",
                            "<tr><td>Füzet A5 1-8 osz.-ig</td></tr>",
                            "<tr><td>Füzetborító A/4 átlátszó</td></tr>",
                            "<tr><td>Füzetborító átlátszó A5</td></tr>",
                            "<tr><td>Füzetborító mesefig.</td></tr>",
                            "<tr><td>Füzetborító öntapadó kicsi</td></tr>",
                            "<tr><td>Füzetborító öntapadó tekercses</td></tr>",
                            "<tr><td>Füzetborító öntapadós nagy</td></tr>",
                            "<tr><td>Füzettartó A/4 keménytáblás</td></tr>",
                            "<tr><td>Füzettartó A/5 vastag</td></tr>",
                            "<tr><td>Füzettartó A/5  </td></tr>",
                            "<tr><td>Hegyező gép</td></tr>",
                            "<tr><td>Hegyező műanyag dupla</td></tr>",
                            "<tr><td>Hegyező műanyag egyes</td></tr>",
                            "<tr><td>Hegyező tartályos egyes</td></tr>",
                            "<tr><td>Hegyző fém 1 lyukú</td></tr>",
                            "<tr><td>Hegyző fém 2 lyukú</td></tr>",
                            "<tr><td>Leckefüzet</td></tr>",
                            "<tr><td>Radírtoll betét ER100</td></tr>",
                            "<tr><td>Radírtoll betét vastag</td></tr>",
                            "<tr><td>Ragasztó 9 g Pax</td></tr>",
                            "<tr><td>Ragasztó Gyurma</td></tr>",
                            "<tr><td>Ragasztó kores</td></tr>",
                            "<tr><td>Vízfesték  12 színű nagy</td></tr>",
                            "<tr><td>Vízfesték 12 db-os </td></tr>",
                            "<tr><td>Vízfesték 12 színű kerek</td></tr>",
                            "<tr><td>Vízfesték 12db-os kínai</td></tr>",
                            "<tr><td>Vonalzó 15 cm-es ESSELTE</td></tr>",
                            "<tr><td>Vonalzó 16 cm-es LIZZY</td></tr>",
                            "<tr><td>Vonalzó 30 cm</td></tr>",
                            "<tr><td>Vonalzó 45 fokos</td></tr>",
                            "<tr><td>Vonalzó 60 fokos</td></tr>",
                            "<tr><td>Zászló papír</td></tr>",
                            "<tr><td>Füzettartó A/4</td></tr>",
                            "<tr><td>Beíró A/5 kockás</td></tr>",
                            "<tr><td>Füzetborító A/4 mintás</td></tr>",
                            "<tr><td>Miliméterpapír</td></tr>",
                            "<tr><td>Szótárfüzet Lizzy</td></tr>",
                            "<tr><td>Ablakkréta</td></tr>",
                            "<tr><td>Ecsetkészlet</td></tr>",
                            "<tr><td>Meghívó ballagási</td></tr>",
                            "<tr><td>Öntapadős betűk</td></tr>",
                            "<tr><td>Gyurmakés</td></tr>",
                            "<tr><td>G.toll betét PAX tip.</td></tr>",
                            "<tr><td>G.toll betét S7L </td></tr>",
                            "<tr><td>G.toll betét Stabilo</td></tr>",
                            "<tr><td>G.toll betét X20</td></tr>",
                            "<tr><td>G.toll betét Zebra F-0.7</td></tr>",
                            "<tr><td>G.toll betét Zebra H-0,7</td></tr>",
                            "<tr><td>G.toll betét Zebra K-0,7</td></tr>",
                            "<tr><td>Kerámiatoll</td></tr>",
                            "<tr><td>Filctoll TINTEN PEN</td></tr>",
                            "<tr><td>Filctoll vastag ARTIP</td></tr>",
                            "<tr><td>Filctoll, alkoholos Centropen</td></tr>",
                            "<tr><td>Filctoll, alkoholosOHP F-M-C</td></tr>",
                            "<tr><td>Filctoll, textil Edding 4500</td></tr>",
                            "<tr><td>Filctoll CD író</td></tr>",
                            "<tr><td>Ceruza 2H-4B</td></tr>",
                            "<tr><td>Ceruza Conté zöld</td></tr>",
                            "<tr><td>Ceruza Cseh</td></tr>",
                            "<tr><td>Ceruza háromszög </td></tr>",
                            "<tr><td>Ceruza 2H-3B Koh-i-nor</td></tr>",
                            "<tr><td>Ceruza HB radiros</td></tr>",
                            "<tr><td>Ceruza kártyás</td></tr>",
                            "<tr><td>Ceruza piros-kék</td></tr>",
                            "<tr><td>Ceruza piros-kék vékony</td></tr>",
                            "<tr><td>Ceruza Progresso</td></tr>",
                            "<tr><td>Ceruza radíros kínai</td></tr>",
                            "<tr><td>Ceruza smaragd</td></tr>",
                            "<tr><td>Ceruza stabilo swano</td></tr>",
                            "<tr><td>Ceruza stabilo opera</td></tr>",
                            "<tr><td>Filctoll </td></tr>",
                            "<tr><td>Filctoll document pen</td></tr>",
                            "<tr><td>Filctoll Edding 750</td></tr>",
                            "<tr><td>Filctoll Marvy alkoholos</td></tr>",
                            "<tr><td>Filctoll permanent vastag</td></tr>",
                            "<tr><td>Filctoll supra fine</td></tr>",
                            "<tr><td>G. toll betét mini</td></tr>",
                            "<tr><td>G. toll betét mini fém</td></tr>",
                            "<tr><td>G. toll betét réz</td></tr>",
                            "<tr><td>G. toll betét S7S</td></tr>",
                            "<tr><td>G.toll betét csavaros</td></tr>",
                            "<tr><td>G.toll betét görbe hegyű</td></tr>",
                            "<tr><td>Golyóstoll UNI laknock</td></tr>",
                            "<tr><td>Golyóstoll Zebra 301</td></tr>",
                            "<tr><td>Golyóstoll Zebra mini</td></tr>",
                            "<tr><td>Golyóstoll Zebra new hard</td></tr>",
                            "<tr><td>Golyóstoll Zodiák</td></tr>",
                            "<tr><td>Ironbél  2B ICO</td></tr>",
                            "<tr><td>Ironbél B 0,5</td></tr>",
                            "<tr><td>Ironbél H 0,5</td></tr>",
                            "<tr><td>Ironbél HB 0,5</td></tr>",
                            "<tr><td>Ironbél HI-POLIMER HB 0,7</td></tr>",
                            "<tr><td>Lakk filc Edding 750</td></tr>",
                            "<tr><td>Tintapatron /kék/</td></tr>",
                            "<tr><td>Tintapatron 30 db-os kék</td></tr>",
                            "<tr><td>Tintapatron színes</td></tr>",
                            "<tr><td>Toll Centropen roller</td></tr>",
                            "<tr><td>Töltőtoll tinta </td></tr>",
                            "<tr><td>Ceruzafogó</td></tr>",
                            "<tr><td>Szövegkiemelő Staedtler</td></tr>",
                            "<tr><td>Ceruza szén</td></tr>",
                            "<tr><td>Ceruza szorzótáblás</td></tr>",
                            "<tr><td>Ceruza zöld színű</td></tr>",
                            "<tr><td>Ceruza kínai</td></tr>",
                            "<tr><td>Golyóstoll</td></tr>",
                            "<tr><td>Golyóstoll + ceruza Twister 2in1</td></tr>",
                            "<tr><td>Golyóstoll 3 funkciós </td></tr>",
                            "<tr><td>Golyóstoll illatos ICO</td></tr>",
                            "<tr><td>Golyóstoll INOXCROM</td></tr>",
                            "<tr><td>Golyóstoll</td></tr>",
                            "<tr><td>Golyóstoll kupakos piros</td></tr>",
                            "<tr><td>Golyóstoll Montex Hytone</td></tr>",
                            "<tr><td>Golyóstoll Pax tip.</td></tr>",
                            "<tr><td>Golyóstoll penac</td></tr>",
                            "<tr><td>Golyóstoll kétszínű</td></tr>",
                            "<tr><td>Golyóstoll Stabilo piros</td></tr>",
                            "<tr><td>Pixiron KOH-I-NOOR</td></tr>",
                            "<tr><td>Zseléstoll Lizzy Card</td></tr>",
                            "<tr><td>Golyóstoll Stabiló 308</td></tr>",
                            "<tr><td>A föld amelyen élünk - Európa földrajza</td></tr>",
                            "<tr><td>A föld amelyen élünk - Távoli földrészek</td></tr>",
                            "<tr><td>A föld amelyen élünk - Hazánk földrajza</td></tr>",
                            "<tr><td>Anyanyelvi gyakorló 3</td></tr>",
                            "<tr><td>Összefoglaló feladatgyüjtemény számtech.</td></tr>",
                            "<tr><td>Fizika</td></tr>",
                            "<tr><td>Fizika munkafüzet 13 év.</td></tr>",
                            "<tr><td>Fizika munkafüzet 14 év.</td></tr>",
                            "<tr><td>Fizikai feladatok és tévedések</td></tr>",
                            "<tr><td>Fogalmazás lépésről lépésre</td></tr>",
                            "<tr><td>Jól felkészültem-e - Fizika</td></tr>",
                            "<tr><td>Matematika gyakorló 2</td></tr>",
                            "<tr><td>Matematika gyakorló 3</td></tr>",
                            "<tr><td>Szövegszerkesztés</td></tr>",
                            "<tr><td>Szám.tech. kicsiknek</td></tr>",
                            "<tr><td>Informatika</td></tr>",
                            "<tr><td>Érettségi felv. fel. Matematika</td></tr>",
                            "<tr><td>Érettségi felv. fel. Fizika</td></tr>",
                            "<tr><td>Érettségi felv. fel. Biológia</td></tr>",
                            "<tr><td>férfi szövet kabát</td></tr>",
                            "<tr><td>férfi farmer nadrág</td></tr>",
                            "<tr><td>férfi szövet nadrág</td></tr>",
                            "<tr><td>férfi ing</td></tr>",
                            "<tr><td>gyermek kabát (fiú)</td></tr>",
                            "<tr><td>gyermek farmer nadrág (fiú)</td></tr>",
                            "<tr><td>gyermek pamut nadrág (fiú)</td></tr>",
                            "<tr><td>fiú alsó</td></tr>",
                            "<tr><td>fiú zokni</td></tr>",
                            "<tr><td>fiú harisnya</td></tr>",
                            "<tr><td>fiú ünneplős ruha</td></tr>",
                            "<tr><td>gyermek póló (fiú)</td></tr>",
                            "<tr><td>gyermek szandál (fiú)</td></tr>",
                            "<tr><td>gyermek cipő (fiú)</td></tr>",
                            "<tr><td>gyermek csizma (fiú)</td></tr>",
                            "<tr><td>gyermek kabát (lány)</td></tr>",
                            "<tr><td>gyermek farmer nadrág (lány)</td></tr>",
                            "<tr><td>gyermek pamut nadrág (lány)</td></tr>",
                            "<tr><td>lány alsó</td></tr>",
                            "<tr><td>lány zokni</td></tr>",
                            "<tr><td>lány harisnya</td></tr>",
                            "<tr><td>lány ünneplős ruha</td></tr>",
                            "<tr><td>gyermek póló (lány)</td></tr>",
                            "<tr><td>gyermek szandál (lány)</td></tr>",
                            "<tr><td>gyermek cipő (lány)</td></tr>",
                            "<tr><td>gyermek csizma (lány)</td></tr>",
                            "<tr><td>női szövet kabát</td></tr>",
                            "<tr><td>női farmer nadrág</td></tr>",
                            "<tr><td>női alsó</td></tr>",
                            "<tr><td>női koktélruha</td></tr>",
                            "<tr><td>kosztüm (rövid)</td></tr>",
                            "<tr><td>kosztüm (hosszú)</td></tr>",
                            "<tr><td>sál</td></tr>",
                            "</table>"
                        ]
                    }
                }
            ],
            "execution_count": 1
        },
        {
            "cell_type": "markdown",
            "source": [
                "7. <span style=\"background-color: rgb(255, 255, 255); color: rgb(0, 0, 0); font-family: &quot;Open Sans&quot;, sans-serif; font-size: 14.44px;\">Listázzuk azon ügyfeleket, akik még nem fizettek bankkártyával!&nbsp;</span> \n",
                "\n",
                "a. Csak az ügyfelek neve jelenjen meg!"
            ],
            "metadata": {
                "azdata_cell_guid": "7ebf7ddd-1bd2-4246-815a-be8ae37e3b5b"
            },
            "attachments": {}
        },
        {
            "cell_type": "code",
            "source": [
                ""
            ],
            "metadata": {
                "azdata_cell_guid": "84b7e896-f36e-4985-88f5-e0f706494fef",
                "language": "sql"
            },
            "outputs": [],
            "execution_count": null
        },
        {
            "cell_type": "markdown",
            "source": [
                "8. <span style=\"background-color: rgb(255, 255, 255); color: rgb(0, 0, 0); font-family: &quot;Open Sans&quot;, sans-serif; font-size: 14.44px;\">Mennyibe kerül a második legnagyobb listaárú termék?</span>"
            ],
            "metadata": {
                "azdata_cell_guid": "27a3d3dc-eafb-4a5e-b103-9f465b9eda8f"
            },
            "attachments": {}
        },
        {
            "cell_type": "code",
            "source": [
                ""
            ],
            "metadata": {
                "azdata_cell_guid": "f09edb3f-649b-4a96-958e-9e12774ae8b7",
                "language": "sql"
            },
            "outputs": [],
            "execution_count": null
        },
        {
            "cell_type": "markdown",
            "source": [
                "9. <span style=\"background-color: rgb(255, 255, 255); color: rgb(0, 0, 0); font-family: &quot;Open Sans&quot;, sans-serif; font-size: 14.44px;\">Melyik raktár(ak)ban van az a termék, amelyből a legnagyobb készlet van?&nbsp;</span> \n",
                "\n",
                "a. Csak a raktár(ak) neve jelenjen meg!"
            ],
            "metadata": {
                "azdata_cell_guid": "f12a331a-0e26-4d3d-9c68-812316286577"
            },
            "attachments": {}
        },
        {
            "cell_type": "code",
            "source": [
                ""
            ],
            "metadata": {
                "azdata_cell_guid": "10a77fc9-e61a-46fc-a401-59720d82bc50",
                "language": "sql"
            },
            "outputs": [],
            "execution_count": null
        },
        {
            "cell_type": "markdown",
            "source": [
                "10. <span style=\"background-color: rgb(255, 255, 255); color: rgb(0, 0, 0); font-family: &quot;Open Sans&quot;, sans-serif; font-size: 14.44px;\">Melyek azok a termékek, amelyek listaára nagyobb, mint bármelyik olyan terméké, amelynek nevében az Ajándék szó szerepel?&nbsp;</span> \n",
                "\n",
                "a. A termékek kódját és nevét is jelenítsük meg!"
            ],
            "metadata": {
                "azdata_cell_guid": "9229e2b6-e200-4499-b95b-2d0222149831"
            },
            "attachments": {}
        },
        {
            "cell_type": "code",
            "source": [
                ""
            ],
            "metadata": {
                "azdata_cell_guid": "8b49ed67-28c6-4880-82a8-cd369e5bba99",
                "language": "sql"
            },
            "outputs": [],
            "execution_count": null
        },
        {
            "cell_type": "markdown",
            "source": [
                "11. <span style=\"background-color: rgb(255, 255, 255); color: rgb(0, 0, 0); font-family: &quot;Open Sans&quot;, sans-serif; font-size: 14.44px;\">Melyik hónapokban adtak le az ügyfelek több rendelést, mint januárban?&nbsp;</span> \n",
                "\n",
                "a. Elég a hónapok sorszámait megjeleníteni. \n",
                "\n",
                "b. A listát rendezzük a hónapok száma szerint növekvő sorrendbe!"
            ],
            "metadata": {
                "azdata_cell_guid": "7f5fc7a7-3b6a-4d89-b292-490830afb0c6"
            },
            "attachments": {}
        },
        {
            "cell_type": "code",
            "source": [
                ""
            ],
            "metadata": {
                "azdata_cell_guid": "4a9ece40-f782-4c0d-92cd-9c21969067ed",
                "language": "sql"
            },
            "outputs": [],
            "execution_count": null
        },
        {
            "cell_type": "markdown",
            "source": [
                "12. <span style=\"background-color: rgb(255, 255, 255); color: rgb(0, 0, 0); font-family: &quot;Open Sans&quot;, sans-serif; font-size: 14.44px;\">Melyek azok a termékek, amelyek listaára az átlagostól max. 20%-kal tér el?&nbsp;</span> \n",
                "\n",
                "a. A termék kódját és nevét is jelenítsük meg!"
            ],
            "metadata": {
                "azdata_cell_guid": "5a483c52-bb98-44bb-bd03-1146d4b0abfa"
            },
            "attachments": {}
        },
        {
            "cell_type": "code",
            "source": [
                ""
            ],
            "metadata": {
                "azdata_cell_guid": "dd6e89bd-08f9-4b18-8460-03c45b503df0",
                "language": "sql"
            },
            "outputs": [],
            "execution_count": null
        },
        {
            "cell_type": "markdown",
            "source": [
                "13. <span style=\"background-color: rgb(255, 255, 255); color: rgb(0, 0, 0); font-family: &quot;Open Sans&quot;, sans-serif; font-size: 14.44px;\">Készítsünk listát (sorszámonként) az egyes rendelések teljes összegéről!&nbsp;</span> \n",
                "\n",
                "a. Szűrjünk azon tételekre, ahol ez az érték nagyobb, mint Viktor Éva rendeléseinek teljes összege! \n",
                "\n",
                "b. A teljes összeg oszlopot nevezzük el értelemszerűen!"
            ],
            "metadata": {
                "azdata_cell_guid": "85d5cb66-96c6-42de-99cf-85ab22d08548"
            },
            "attachments": {}
        },
        {
            "cell_type": "code",
            "source": [
                ""
            ],
            "metadata": {
                "azdata_cell_guid": "cb07d64b-0eaa-498b-b4d2-0b46971e95ce",
                "language": "sql"
            },
            "outputs": [],
            "execution_count": null
        },
        {
            "cell_type": "markdown",
            "source": [
                "14. <span style=\"background-color: rgb(255, 255, 255); color: rgb(0, 0, 0); font-family: &quot;Open Sans&quot;, sans-serif; font-size: 14.44px;\">Listázzuk azokat a termékkategóriákat, amelyből 2017 januárban nem történt rendelés!&nbsp;</span> \n",
                "\n",
                "a. Elég a kategóriák nevét megjeleníteni!"
            ],
            "metadata": {
                "azdata_cell_guid": "f95ad665-a807-4099-bf06-64ed974f866f"
            },
            "attachments": {}
        },
        {
            "cell_type": "code",
            "source": [
                ""
            ],
            "metadata": {
                "azdata_cell_guid": "74c7ec8a-ae4a-4d03-b1c4-e8f6bb1be12c",
                "language": "sql"
            },
            "outputs": [],
            "execution_count": null
        },
        {
            "cell_type": "markdown",
            "source": [
                "15. <span style=\"background-color: rgb(255, 255, 255); color: rgb(0, 0, 0); font-family: &quot;Open Sans&quot;, sans-serif; font-size: 14.44px;\">Listázzuk azon rendelési tételeket, amelynek értéke nagyobb, mint a legdrágább termék listaára azon termékek közül, amelyek szülő kategóriája a ruha!</span>"
            ],
            "metadata": {
                "azdata_cell_guid": "93552388-ffec-49ff-99e5-ae8dc8072601"
            },
            "attachments": {}
        },
        {
            "cell_type": "code",
            "source": [
                ""
            ],
            "metadata": {
                "azdata_cell_guid": "0e7f547f-7d96-4611-b1c2-0fa84a581e79",
                "language": "sql"
            },
            "outputs": [],
            "execution_count": null
        }
    ]
}