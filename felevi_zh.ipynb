{
    "metadata": {
        "kernelspec": {
            "name": "SQL",
            "display_name": "SQL",
            "language": "sql"
        },
        "language_info": {
            "name": "sql",
            "version": ""
        }
    },
    "nbformat_minor": 2,
    "nbformat": 4,
    "cells": [
        {
            "cell_type": "markdown",
            "source": [
                "VÁLASZTOTT FELADATOK: 1, 3, 4,5,7,8"
            ],
            "metadata": {
                "azdata_cell_guid": "c207ef9a-2aa2-437f-8dc4-ad42cba02513"
            },
            "attachments": {}
        },
        {
            "cell_type": "markdown",
            "source": [
                "Listázzuk azon vendégek nevét, email-címét és felhasználói nevét, akik egynél többször foglaltak!\n",
                "\n",
                "- Hagyjuk ki azokat a vendégeket, akik május hónapban születtek! #1"
            ],
            "metadata": {
                "azdata_cell_guid": "a43a7363-8e7c-4bfb-a820-96cfec6515c1"
            },
            "attachments": {}
        },
        {
            "cell_type": "code",
            "source": [
                "SELECT v.nev, v.EMAIL, v.usernev\r\n",
                "FROM VENDEG v JOIN FOGLALAS f ON V.USERNEV = F.UGYFEL_FK\r\n",
                "WHERE V.USERNEV NOT IN (\r\n",
                "    SELECT USERNEV\r\n",
                "    FROM VENDEG\r\n",
                "    WHERE Month(szul_dat) != 5\r\n",
                ")\r\n",
                "GROUP BY V.NEV, V.EMAIL, V.USERNEV\r\n",
                "HAVING COUNT(F.FOGLALAS_PK) > 1;\r\n",
                ""
            ],
            "metadata": {
                "azdata_cell_guid": "670bebaa-b8c6-4e51-9882-e4e9310cb61b",
                "language": "sql"
            },
            "outputs": [
                {
                    "output_type": "display_data",
                    "data": {
                        "text/html": "(18 rows affected)"
                    },
                    "metadata": {}
                },
                {
                    "output_type": "display_data",
                    "data": {
                        "text/html": "Total execution time: 00:00:00.095"
                    },
                    "metadata": {}
                },
                {
                    "output_type": "execute_result",
                    "metadata": {},
                    "execution_count": 3,
                    "data": {
                        "application/vnd.dataresource+json": {
                            "schema": {
                                "fields": [
                                    {
                                        "name": "NEV"
                                    },
                                    {
                                        "name": "EMAIL"
                                    },
                                    {
                                        "name": "USERNEV"
                                    }
                                ]
                            },
                            "data": [
                                {
                                    "NEV": "Maródi Andrea",
                                    "EMAIL": "andrea.maródi@mail.hu",
                                    "USERNEV": "andi"
                                },
                                {
                                    "NEV": "Erdei András",
                                    "EMAIL": "ANDRASE@gmail.com",
                                    "USERNEV": "ANDRASE"
                                },
                                {
                                    "NEV": "Neizer Andrea",
                                    "EMAIL": "andrea4@gmail.com",
                                    "USERNEV": "andrea4"
                                },
                                {
                                    "NEV": "Horváth Árpád",
                                    "EMAIL": "árpád.horváth@mail.hu",
                                    "USERNEV": "ARPADH"
                                },
                                {
                                    "NEV": "Opra Attila",
                                    "EMAIL": "ATTILAO@gmail.com",
                                    "USERNEV": "ATTILAO"
                                },
                                {
                                    "NEV": "Pataki Brigitta",
                                    "EMAIL": "brigitta.pataki@mail.hu",
                                    "USERNEV": "brigitta3"
                                },
                                {
                                    "NEV": "Sarodi Dóra",
                                    "EMAIL": "dóra.sarodi@mail.hu",
                                    "USERNEV": "dora3"
                                },
                                {
                                    "NEV": "Molnár Eszter",
                                    "EMAIL": "eszter.molnár@mail.hu",
                                    "USERNEV": "eszter"
                                },
                                {
                                    "NEV": "Gyuris József",
                                    "EMAIL": "józsef.gyuris@mail.hu",
                                    "USERNEV": "JOZSEFG"
                                },
                                {
                                    "NEV": "Zatykó Katalin",
                                    "EMAIL": "katalin.zatykó@mail.hu",
                                    "USERNEV": "kati"
                                },
                                {
                                    "NEV": "Mogyródi Krisztián",
                                    "EMAIL": "KRISZTIANM@gmail.com",
                                    "USERNEV": "KRISZTIANM"
                                },
                                {
                                    "NEV": "Szedlár Krisztina",
                                    "EMAIL": "krisztina@gmail.com",
                                    "USERNEV": "krisztina"
                                },
                                {
                                    "NEV": "Kardos Renáta",
                                    "EMAIL": "renáta.kardos@mail.hu",
                                    "USERNEV": "RENATAK"
                                },
                                {
                                    "NEV": "Pásztor Róbert",
                                    "EMAIL": "ROBERTP@gmail.com",
                                    "USERNEV": "ROBERTP"
                                },
                                {
                                    "NEV": "Urbán Viktoria",
                                    "EMAIL": "viktoria.urbán@mail.hu",
                                    "USERNEV": "VIKTORIAU"
                                },
                                {
                                    "NEV": "Keresztúri Viktor",
                                    "EMAIL": "viktor.keresztúri@mail.hu",
                                    "USERNEV": "VIKTORK"
                                },
                                {
                                    "NEV": "Barna Zoltán",
                                    "EMAIL": "zoltan4@gmail.com",
                                    "USERNEV": "zoltan4"
                                },
                                {
                                    "NEV": "Pulai Zsolt",
                                    "EMAIL": "zsolt.pulai@mail.hu",
                                    "USERNEV": "zsolt1"
                                }
                            ]
                        },
                        "text/html": [
                            "<table>",
                            "<tr><th>NEV</th><th>EMAIL</th><th>USERNEV</th></tr>",
                            "<tr><td>Maródi Andrea</td><td>andrea.maródi@mail.hu</td><td>andi</td></tr>",
                            "<tr><td>Erdei András</td><td>ANDRASE@gmail.com</td><td>ANDRASE</td></tr>",
                            "<tr><td>Neizer Andrea</td><td>andrea4@gmail.com</td><td>andrea4</td></tr>",
                            "<tr><td>Horváth Árpád</td><td>árpád.horváth@mail.hu</td><td>ARPADH</td></tr>",
                            "<tr><td>Opra Attila</td><td>ATTILAO@gmail.com</td><td>ATTILAO</td></tr>",
                            "<tr><td>Pataki Brigitta</td><td>brigitta.pataki@mail.hu</td><td>brigitta3</td></tr>",
                            "<tr><td>Sarodi Dóra</td><td>dóra.sarodi@mail.hu</td><td>dora3</td></tr>",
                            "<tr><td>Molnár Eszter</td><td>eszter.molnár@mail.hu</td><td>eszter</td></tr>",
                            "<tr><td>Gyuris József</td><td>józsef.gyuris@mail.hu</td><td>JOZSEFG</td></tr>",
                            "<tr><td>Zatykó Katalin</td><td>katalin.zatykó@mail.hu</td><td>kati</td></tr>",
                            "<tr><td>Mogyródi Krisztián</td><td>KRISZTIANM@gmail.com</td><td>KRISZTIANM</td></tr>",
                            "<tr><td>Szedlár Krisztina</td><td>krisztina@gmail.com</td><td>krisztina</td></tr>",
                            "<tr><td>Kardos Renáta</td><td>renáta.kardos@mail.hu</td><td>RENATAK</td></tr>",
                            "<tr><td>Pásztor Róbert</td><td>ROBERTP@gmail.com</td><td>ROBERTP</td></tr>",
                            "<tr><td>Urbán Viktoria</td><td>viktoria.urbán@mail.hu</td><td>VIKTORIAU</td></tr>",
                            "<tr><td>Keresztúri Viktor</td><td>viktor.keresztúri@mail.hu</td><td>VIKTORK</td></tr>",
                            "<tr><td>Barna Zoltán</td><td>zoltan4@gmail.com</td><td>zoltan4</td></tr>",
                            "<tr><td>Pulai Zsolt</td><td>zsolt.pulai@mail.hu</td><td>zsolt1</td></tr>",
                            "</table>"
                        ]
                    }
                }
            ],
            "execution_count": 3
        },
        {
            "cell_type": "markdown",
            "source": [
                "<span style=\"color: rgb(0, 0, 0); font-family: &quot;Open Sans&quot;, sans-serif; font-size: 14.44px; background-color: rgb(255, 255, 255);\">Listázzuk azon szálláshelyek azonosítóját és nevét, amelyek a saját helyükön (HELY) a legtöbb csillaggal rendelkeznek! #2</span>"
            ],
            "metadata": {
                "azdata_cell_guid": "b2fc5613-28a6-45ae-a15d-144010d4af21"
            },
            "attachments": {}
        },
        {
            "cell_type": "code",
            "source": [
                "SELECT SZALLASHELY.SZALLAS_ID, SZALLASHELY.SZALLAS_NEV\r\n",
                "FROM SZALLASHELY\r\n",
                "JOIN (\r\n",
                "    SELECT HELY, MAX(CSILLAGOK_SZAMA) AS max_csillag\r\n",
                "    FROM SZALLASHELY\r\n",
                "    GROUP BY HELY\r\n",
                ") MAX_CSILLAGOK ON SZALLASHELY.HELY = MAX_CSILLAGOK.HELY AND SZALLASHELY.CSILLAGOK_SZAMA = MAX_CSILLAGOK.MAX_CSILLAG;\r\n",
                ""
            ],
            "metadata": {
                "azdata_cell_guid": "7c1082f8-4a7c-4a61-91d7-dacede0c6699",
                "language": "sql"
            },
            "outputs": [
                {
                    "output_type": "display_data",
                    "data": {
                        "text/html": "(11 rows affected)"
                    },
                    "metadata": {}
                },
                {
                    "output_type": "display_data",
                    "data": {
                        "text/html": "Total execution time: 00:00:00.010"
                    },
                    "metadata": {}
                },
                {
                    "output_type": "execute_result",
                    "metadata": {},
                    "execution_count": 12,
                    "data": {
                        "application/vnd.dataresource+json": {
                            "schema": {
                                "fields": [
                                    {
                                        "name": "SZALLAS_ID"
                                    },
                                    {
                                        "name": "SZALLAS_NEV"
                                    }
                                ]
                            },
                            "data": [
                                {
                                    "SZALLAS_ID": "17",
                                    "SZALLAS_NEV": "Szarvas Hotel"
                                },
                                {
                                    "SZALLAS_ID": "16",
                                    "SZALLAS_NEV": "Bagoly Hotel"
                                },
                                {
                                    "SZALLAS_ID": "3",
                                    "SZALLAS_NEV": "Fortuna Apartman"
                                },
                                {
                                    "SZALLAS_ID": "18",
                                    "SZALLAS_NEV": "Fortuna Apartman"
                                },
                                {
                                    "SZALLAS_ID": "19",
                                    "SZALLAS_NEV": "Nyárfás Vendégház"
                                },
                                {
                                    "SZALLAS_ID": "21",
                                    "SZALLAS_NEV": "Müller Vendégház"
                                },
                                {
                                    "SZALLAS_ID": "13",
                                    "SZALLAS_NEV": "Riviéra Panzió"
                                },
                                {
                                    "SZALLAS_ID": "10",
                                    "SZALLAS_NEV": "Lagúna Hotel"
                                },
                                {
                                    "SZALLAS_ID": "5",
                                    "SZALLAS_NEV": "Fortuna Panzió"
                                },
                                {
                                    "SZALLAS_ID": "11",
                                    "SZALLAS_NEV": "Partiszél Vendégház"
                                },
                                {
                                    "SZALLAS_ID": "8",
                                    "SZALLAS_NEV": "Hotel Három Hattyú"
                                }
                            ]
                        },
                        "text/html": [
                            "<table>",
                            "<tr><th>SZALLAS_ID</th><th>SZALLAS_NEV</th></tr>",
                            "<tr><td>17</td><td>Szarvas Hotel</td></tr>",
                            "<tr><td>16</td><td>Bagoly Hotel</td></tr>",
                            "<tr><td>3</td><td>Fortuna Apartman</td></tr>",
                            "<tr><td>18</td><td>Fortuna Apartman</td></tr>",
                            "<tr><td>19</td><td>Nyárfás Vendégház</td></tr>",
                            "<tr><td>21</td><td>Müller Vendégház</td></tr>",
                            "<tr><td>13</td><td>Riviéra Panzió</td></tr>",
                            "<tr><td>10</td><td>Lagúna Hotel</td></tr>",
                            "<tr><td>5</td><td>Fortuna Panzió</td></tr>",
                            "<tr><td>11</td><td>Partiszél Vendégház</td></tr>",
                            "<tr><td>8</td><td>Hotel Három Hattyú</td></tr>",
                            "</table>"
                        ]
                    }
                }
            ],
            "execution_count": 12
        },
        {
            "cell_type": "markdown",
            "source": [
                "Jelenítsük meg, hogy az egyes szálláshelyek szobáit esetén a legutolsó 5 foglalás átlagosan hány főre történt!\n",
                "\n",
                "- A számításnál vegyük figyelembe a felnőtteket és a gyermekeket is\n",
                "- A foglalás dátumánál a METTOL mezőt használjuk #3"
            ],
            "metadata": {
                "azdata_cell_guid": "684102ea-575a-4dd7-927e-998900e62296"
            },
            "attachments": {}
        },
        {
            "cell_type": "code",
            "source": [
                "SELECT sz.SZOBA_SZAMA,\r\n",
                "        AVG(f.felnott_szam + f.GYERMEK_SZAM) over(partition by szh.szallas_id order by f.mettol rows between 5 preceding and 1 preceding)\r\n",
                "from Szallashely szh join Szoba sz on szh.szallas_id = sz.szallas_fk\r\n",
                "    JOIN Foglalas f on sz.SZOBA_ID = f.szoba_fk"
            ],
            "metadata": {
                "azdata_cell_guid": "738bbec9-f6fa-4a23-ba62-27b8f0b759b4",
                "language": "sql"
            },
            "outputs": [
                {
                    "output_type": "display_data",
                    "data": {
                        "text/html": "(1027 rows affected)"
                    },
                    "metadata": {}
                },
                {
                    "output_type": "display_data",
                    "data": {
                        "text/html": "Total execution time: 00:00:00.071"
                    },
                    "metadata": {}
                },
                {
                    "output_type": "execute_result",
                    "metadata": {},
                    "execution_count": 13,
                    "data": {
                        "application/vnd.dataresource+json": {
                            "schema": {
                                "fields": [
                                    {
                                        "name": "SZOBA_SZAMA"
                                    },
                                    {
                                        "name": "(No column name)"
                                    }
                                ]
                            },
                            "data": [
                                {
                                    "SZOBA_SZAMA": "6",
                                    "(No column name)": "NULL"
                                },
                                {
                                    "SZOBA_SZAMA": "7",
                                    "(No column name)": "2"
                                },
                                {
                                    "SZOBA_SZAMA": "5",
                                    "(No column name)": "1"
                                },
                                {
                                    "SZOBA_SZAMA": "10",
                                    "(No column name)": "1"
                                },
                                {
                                    "SZOBA_SZAMA": "9",
                                    "(No column name)": "1"
                                },
                                {
                                    "SZOBA_SZAMA": "1",
                                    "(No column name)": "1"
                                },
                                {
                                    "SZOBA_SZAMA": "3",
                                    "(No column name)": "1"
                                },
                                {
                                    "SZOBA_SZAMA": "4",
                                    "(No column name)": "2"
                                },
                                {
                                    "SZOBA_SZAMA": "6",
                                    "(No column name)": "1"
                                },
                                {
                                    "SZOBA_SZAMA": "8",
                                    "(No column name)": "1"
                                },
                                {
                                    "SZOBA_SZAMA": "12",
                                    "(No column name)": "1"
                                },
                                {
                                    "SZOBA_SZAMA": "11",
                                    "(No column name)": "2"
                                },
                                {
                                    "SZOBA_SZAMA": "4",
                                    "(No column name)": "2"
                                },
                                {
                                    "SZOBA_SZAMA": "8",
                                    "(No column name)": "2"
                                },
                                {
                                    "SZOBA_SZAMA": "1",
                                    "(No column name)": "2"
                                },
                                {
                                    "SZOBA_SZAMA": "12",
                                    "(No column name)": "2"
                                },
                                {
                                    "SZOBA_SZAMA": "5",
                                    "(No column name)": "2"
                                },
                                {
                                    "SZOBA_SZAMA": "12",
                                    "(No column name)": "1"
                                },
                                {
                                    "SZOBA_SZAMA": "6",
                                    "(No column name)": "1"
                                },
                                {
                                    "SZOBA_SZAMA": "4",
                                    "(No column name)": "1"
                                },
                                {
                                    "SZOBA_SZAMA": "12",
                                    "(No column name)": "1"
                                },
                                {
                                    "SZOBA_SZAMA": "3",
                                    "(No column name)": "1"
                                },
                                {
                                    "SZOBA_SZAMA": "8",
                                    "(No column name)": "2"
                                },
                                {
                                    "SZOBA_SZAMA": "12",
                                    "(No column name)": "2"
                                },
                                {
                                    "SZOBA_SZAMA": "1",
                                    "(No column name)": "2"
                                },
                                {
                                    "SZOBA_SZAMA": "7",
                                    "(No column name)": "2"
                                },
                                {
                                    "SZOBA_SZAMA": "6",
                                    "(No column name)": "2"
                                },
                                {
                                    "SZOBA_SZAMA": "12",
                                    "(No column name)": "2"
                                },
                                {
                                    "SZOBA_SZAMA": "3",
                                    "(No column name)": "2"
                                },
                                {
                                    "SZOBA_SZAMA": "10",
                                    "(No column name)": "3"
                                },
                                {
                                    "SZOBA_SZAMA": "10",
                                    "(No column name)": "2"
                                },
                                {
                                    "SZOBA_SZAMA": "1",
                                    "(No column name)": "2"
                                },
                                {
                                    "SZOBA_SZAMA": "8",
                                    "(No column name)": "2"
                                },
                                {
                                    "SZOBA_SZAMA": "2",
                                    "(No column name)": "2"
                                },
                                {
                                    "SZOBA_SZAMA": "8",
                                    "(No column name)": "2"
                                },
                                {
                                    "SZOBA_SZAMA": "6",
                                    "(No column name)": "2"
                                },
                                {
                                    "SZOBA_SZAMA": "3",
                                    "(No column name)": "2"
                                },
                                {
                                    "SZOBA_SZAMA": "2",
                                    "(No column name)": "3"
                                },
                                {
                                    "SZOBA_SZAMA": "2",
                                    "(No column name)": "3"
                                },
                                {
                                    "SZOBA_SZAMA": "5",
                                    "(No column name)": "3"
                                },
                                {
                                    "SZOBA_SZAMA": "6",
                                    "(No column name)": "3"
                                },
                                {
                                    "SZOBA_SZAMA": "3",
                                    "(No column name)": "3"
                                },
                                {
                                    "SZOBA_SZAMA": "11",
                                    "(No column name)": "3"
                                },
                                {
                                    "SZOBA_SZAMA": "4",
                                    "(No column name)": "3"
                                },
                                {
                                    "SZOBA_SZAMA": "7",
                                    "(No column name)": "2"
                                },
                                {
                                    "SZOBA_SZAMA": "4",
                                    "(No column name)": "2"
                                },
                                {
                                    "SZOBA_SZAMA": "1",
                                    "(No column name)": "2"
                                },
                                {
                                    "SZOBA_SZAMA": "12",
                                    "(No column name)": "2"
                                },
                                {
                                    "SZOBA_SZAMA": "3",
                                    "(No column name)": "2"
                                },
                                {
                                    "SZOBA_SZAMA": "1",
                                    "(No column name)": "2"
                                },
                                {
                                    "SZOBA_SZAMA": "9",
                                    "(No column name)": "2"
                                },
                                {
                                    "SZOBA_SZAMA": "12",
                                    "(No column name)": "2"
                                },
                                {
                                    "SZOBA_SZAMA": "7",
                                    "(No column name)": "2"
                                },
                                {
                                    "SZOBA_SZAMA": "7",
                                    "(No column name)": "2"
                                },
                                {
                                    "SZOBA_SZAMA": "9",
                                    "(No column name)": "2"
                                },
                                {
                                    "SZOBA_SZAMA": "11",
                                    "(No column name)": "2"
                                },
                                {
                                    "SZOBA_SZAMA": "7",
                                    "(No column name)": "2"
                                },
                                {
                                    "SZOBA_SZAMA": "5",
                                    "(No column name)": "2"
                                },
                                {
                                    "SZOBA_SZAMA": "9",
                                    "(No column name)": "2"
                                },
                                {
                                    "SZOBA_SZAMA": "1",
                                    "(No column name)": "2"
                                },
                                {
                                    "SZOBA_SZAMA": "2",
                                    "(No column name)": "2"
                                },
                                {
                                    "SZOBA_SZAMA": "10",
                                    "(No column name)": "2"
                                },
                                {
                                    "SZOBA_SZAMA": "1",
                                    "(No column name)": "3"
                                },
                                {
                                    "SZOBA_SZAMA": "9",
                                    "(No column name)": "3"
                                },
                                {
                                    "SZOBA_SZAMA": "12",
                                    "(No column name)": "3"
                                },
                                {
                                    "SZOBA_SZAMA": "3",
                                    "(No column name)": "2"
                                },
                                {
                                    "SZOBA_SZAMA": "4",
                                    "(No column name)": "2"
                                },
                                {
                                    "SZOBA_SZAMA": "11",
                                    "(No column name)": "2"
                                },
                                {
                                    "SZOBA_SZAMA": "9",
                                    "(No column name)": "1"
                                },
                                {
                                    "SZOBA_SZAMA": "3",
                                    "(No column name)": "1"
                                },
                                {
                                    "SZOBA_SZAMA": "2",
                                    "(No column name)": "NULL"
                                },
                                {
                                    "SZOBA_SZAMA": "4",
                                    "(No column name)": "4"
                                },
                                {
                                    "SZOBA_SZAMA": "4",
                                    "(No column name)": "4"
                                },
                                {
                                    "SZOBA_SZAMA": "4",
                                    "(No column name)": "3"
                                },
                                {
                                    "SZOBA_SZAMA": "3",
                                    "(No column name)": "3"
                                },
                                {
                                    "SZOBA_SZAMA": "4",
                                    "(No column name)": "3"
                                },
                                {
                                    "SZOBA_SZAMA": "1",
                                    "(No column name)": "3"
                                },
                                {
                                    "SZOBA_SZAMA": "3",
                                    "(No column name)": "2"
                                },
                                {
                                    "SZOBA_SZAMA": "2",
                                    "(No column name)": "2"
                                },
                                {
                                    "SZOBA_SZAMA": "1",
                                    "(No column name)": "2"
                                },
                                {
                                    "SZOBA_SZAMA": "3",
                                    "(No column name)": "2"
                                },
                                {
                                    "SZOBA_SZAMA": "3",
                                    "(No column name)": "2"
                                },
                                {
                                    "SZOBA_SZAMA": "1",
                                    "(No column name)": "2"
                                },
                                {
                                    "SZOBA_SZAMA": "3",
                                    "(No column name)": "2"
                                },
                                {
                                    "SZOBA_SZAMA": "3",
                                    "(No column name)": "2"
                                },
                                {
                                    "SZOBA_SZAMA": "1",
                                    "(No column name)": "2"
                                },
                                {
                                    "SZOBA_SZAMA": "4",
                                    "(No column name)": "2"
                                },
                                {
                                    "SZOBA_SZAMA": "2",
                                    "(No column name)": "2"
                                },
                                {
                                    "SZOBA_SZAMA": "5",
                                    "(No column name)": "NULL"
                                },
                                {
                                    "SZOBA_SZAMA": "1",
                                    "(No column name)": "2"
                                },
                                {
                                    "SZOBA_SZAMA": "2",
                                    "(No column name)": "3"
                                },
                                {
                                    "SZOBA_SZAMA": "5",
                                    "(No column name)": "2"
                                },
                                {
                                    "SZOBA_SZAMA": "8",
                                    "(No column name)": "2"
                                },
                                {
                                    "SZOBA_SZAMA": "6",
                                    "(No column name)": "2"
                                },
                                {
                                    "SZOBA_SZAMA": "1",
                                    "(No column name)": "2"
                                },
                                {
                                    "SZOBA_SZAMA": "7",
                                    "(No column name)": "2"
                                },
                                {
                                    "SZOBA_SZAMA": "3",
                                    "(No column name)": "2"
                                },
                                {
                                    "SZOBA_SZAMA": "7",
                                    "(No column name)": "1"
                                },
                                {
                                    "SZOBA_SZAMA": "6",
                                    "(No column name)": "1"
                                },
                                {
                                    "SZOBA_SZAMA": "3",
                                    "(No column name)": "1"
                                },
                                {
                                    "SZOBA_SZAMA": "1",
                                    "(No column name)": "1"
                                },
                                {
                                    "SZOBA_SZAMA": "1",
                                    "(No column name)": "1"
                                },
                                {
                                    "SZOBA_SZAMA": "4",
                                    "(No column name)": "1"
                                },
                                {
                                    "SZOBA_SZAMA": "2",
                                    "(No column name)": "1"
                                },
                                {
                                    "SZOBA_SZAMA": "3",
                                    "(No column name)": "2"
                                },
                                {
                                    "SZOBA_SZAMA": "5",
                                    "(No column name)": "2"
                                },
                                {
                                    "SZOBA_SZAMA": "4",
                                    "(No column name)": "2"
                                },
                                {
                                    "SZOBA_SZAMA": "7",
                                    "(No column name)": "2"
                                },
                                {
                                    "SZOBA_SZAMA": "2",
                                    "(No column name)": "2"
                                },
                                {
                                    "SZOBA_SZAMA": "4",
                                    "(No column name)": "2"
                                },
                                {
                                    "SZOBA_SZAMA": "4",
                                    "(No column name)": "2"
                                },
                                {
                                    "SZOBA_SZAMA": "4",
                                    "(No column name)": "2"
                                },
                                {
                                    "SZOBA_SZAMA": "6",
                                    "(No column name)": "2"
                                },
                                {
                                    "SZOBA_SZAMA": "3",
                                    "(No column name)": "3"
                                },
                                {
                                    "SZOBA_SZAMA": "8",
                                    "(No column name)": "3"
                                },
                                {
                                    "SZOBA_SZAMA": "2",
                                    "(No column name)": "3"
                                },
                                {
                                    "SZOBA_SZAMA": "6",
                                    "(No column name)": "3"
                                },
                                {
                                    "SZOBA_SZAMA": "2",
                                    "(No column name)": "4"
                                },
                                {
                                    "SZOBA_SZAMA": "6",
                                    "(No column name)": "3"
                                },
                                {
                                    "SZOBA_SZAMA": "5",
                                    "(No column name)": "3"
                                },
                                {
                                    "SZOBA_SZAMA": "3",
                                    "(No column name)": "3"
                                },
                                {
                                    "SZOBA_SZAMA": "6",
                                    "(No column name)": "3"
                                },
                                {
                                    "SZOBA_SZAMA": "1",
                                    "(No column name)": "2"
                                },
                                {
                                    "SZOBA_SZAMA": "8",
                                    "(No column name)": "2"
                                },
                                {
                                    "SZOBA_SZAMA": "2",
                                    "(No column name)": "2"
                                },
                                {
                                    "SZOBA_SZAMA": "3",
                                    "(No column name)": "3"
                                },
                                {
                                    "SZOBA_SZAMA": "1",
                                    "(No column name)": "3"
                                },
                                {
                                    "SZOBA_SZAMA": "7",
                                    "(No column name)": "NULL"
                                },
                                {
                                    "SZOBA_SZAMA": "15",
                                    "(No column name)": "4"
                                },
                                {
                                    "SZOBA_SZAMA": "6",
                                    "(No column name)": "2"
                                },
                                {
                                    "SZOBA_SZAMA": "7",
                                    "(No column name)": "2"
                                },
                                {
                                    "SZOBA_SZAMA": "5",
                                    "(No column name)": "2"
                                },
                                {
                                    "SZOBA_SZAMA": "14",
                                    "(No column name)": "2"
                                },
                                {
                                    "SZOBA_SZAMA": "9",
                                    "(No column name)": "2"
                                },
                                {
                                    "SZOBA_SZAMA": "10",
                                    "(No column name)": "3"
                                },
                                {
                                    "SZOBA_SZAMA": "4",
                                    "(No column name)": "3"
                                },
                                {
                                    "SZOBA_SZAMA": "4",
                                    "(No column name)": "2"
                                },
                                {
                                    "SZOBA_SZAMA": "5",
                                    "(No column name)": "2"
                                },
                                {
                                    "SZOBA_SZAMA": "12",
                                    "(No column name)": "2"
                                },
                                {
                                    "SZOBA_SZAMA": "15",
                                    "(No column name)": "2"
                                },
                                {
                                    "SZOBA_SZAMA": "4",
                                    "(No column name)": "2"
                                },
                                {
                                    "SZOBA_SZAMA": "10",
                                    "(No column name)": "2"
                                },
                                {
                                    "SZOBA_SZAMA": "12",
                                    "(No column name)": "2"
                                },
                                {
                                    "SZOBA_SZAMA": "8",
                                    "(No column name)": "2"
                                },
                                {
                                    "SZOBA_SZAMA": "11",
                                    "(No column name)": "2"
                                },
                                {
                                    "SZOBA_SZAMA": "11",
                                    "(No column name)": "2"
                                },
                                {
                                    "SZOBA_SZAMA": "12",
                                    "(No column name)": "2"
                                },
                                {
                                    "SZOBA_SZAMA": "12",
                                    "(No column name)": "3"
                                },
                                {
                                    "SZOBA_SZAMA": "9",
                                    "(No column name)": "2"
                                },
                                {
                                    "SZOBA_SZAMA": "6",
                                    "(No column name)": "3"
                                },
                                {
                                    "SZOBA_SZAMA": "11",
                                    "(No column name)": "3"
                                },
                                {
                                    "SZOBA_SZAMA": "13",
                                    "(No column name)": "3"
                                },
                                {
                                    "SZOBA_SZAMA": "13",
                                    "(No column name)": "2"
                                },
                                {
                                    "SZOBA_SZAMA": "11",
                                    "(No column name)": "2"
                                },
                                {
                                    "SZOBA_SZAMA": "7",
                                    "(No column name)": "2"
                                },
                                {
                                    "SZOBA_SZAMA": "4",
                                    "(No column name)": "2"
                                },
                                {
                                    "SZOBA_SZAMA": "12",
                                    "(No column name)": "2"
                                },
                                {
                                    "SZOBA_SZAMA": "12",
                                    "(No column name)": "2"
                                },
                                {
                                    "SZOBA_SZAMA": "3",
                                    "(No column name)": "3"
                                },
                                {
                                    "SZOBA_SZAMA": "10",
                                    "(No column name)": "3"
                                },
                                {
                                    "SZOBA_SZAMA": "3",
                                    "(No column name)": "3"
                                },
                                {
                                    "SZOBA_SZAMA": "10",
                                    "(No column name)": "3"
                                },
                                {
                                    "SZOBA_SZAMA": "11",
                                    "(No column name)": "3"
                                },
                                {
                                    "SZOBA_SZAMA": "3",
                                    "(No column name)": "3"
                                },
                                {
                                    "SZOBA_SZAMA": "14",
                                    "(No column name)": "3"
                                },
                                {
                                    "SZOBA_SZAMA": "1",
                                    "(No column name)": "3"
                                },
                                {
                                    "SZOBA_SZAMA": "9",
                                    "(No column name)": "3"
                                },
                                {
                                    "SZOBA_SZAMA": "14",
                                    "(No column name)": "3"
                                },
                                {
                                    "SZOBA_SZAMA": "5",
                                    "(No column name)": "3"
                                },
                                {
                                    "SZOBA_SZAMA": "14",
                                    "(No column name)": "2"
                                },
                                {
                                    "SZOBA_SZAMA": "3",
                                    "(No column name)": "2"
                                },
                                {
                                    "SZOBA_SZAMA": "6",
                                    "(No column name)": "2"
                                },
                                {
                                    "SZOBA_SZAMA": "4",
                                    "(No column name)": "2"
                                },
                                {
                                    "SZOBA_SZAMA": "2",
                                    "(No column name)": "2"
                                },
                                {
                                    "SZOBA_SZAMA": "5",
                                    "(No column name)": "2"
                                },
                                {
                                    "SZOBA_SZAMA": "15",
                                    "(No column name)": "2"
                                },
                                {
                                    "SZOBA_SZAMA": "5",
                                    "(No column name)": "2"
                                },
                                {
                                    "SZOBA_SZAMA": "3",
                                    "(No column name)": "2"
                                },
                                {
                                    "SZOBA_SZAMA": "9",
                                    "(No column name)": "2"
                                },
                                {
                                    "SZOBA_SZAMA": "13",
                                    "(No column name)": "2"
                                },
                                {
                                    "SZOBA_SZAMA": "9",
                                    "(No column name)": "2"
                                },
                                {
                                    "SZOBA_SZAMA": "14",
                                    "(No column name)": "2"
                                },
                                {
                                    "SZOBA_SZAMA": "1",
                                    "(No column name)": "2"
                                },
                                {
                                    "SZOBA_SZAMA": "3",
                                    "(No column name)": "2"
                                },
                                {
                                    "SZOBA_SZAMA": "15",
                                    "(No column name)": "2"
                                },
                                {
                                    "SZOBA_SZAMA": "9",
                                    "(No column name)": "2"
                                },
                                {
                                    "SZOBA_SZAMA": "2",
                                    "(No column name)": "2"
                                },
                                {
                                    "SZOBA_SZAMA": "11",
                                    "(No column name)": "2"
                                },
                                {
                                    "SZOBA_SZAMA": "11",
                                    "(No column name)": "2"
                                },
                                {
                                    "SZOBA_SZAMA": "14",
                                    "(No column name)": "2"
                                },
                                {
                                    "SZOBA_SZAMA": "15",
                                    "(No column name)": "2"
                                },
                                {
                                    "SZOBA_SZAMA": "11",
                                    "(No column name)": "2"
                                },
                                {
                                    "SZOBA_SZAMA": "15",
                                    "(No column name)": "1"
                                },
                                {
                                    "SZOBA_SZAMA": "4",
                                    "(No column name)": "2"
                                },
                                {
                                    "SZOBA_SZAMA": "3",
                                    "(No column name)": "1"
                                },
                                {
                                    "SZOBA_SZAMA": "14",
                                    "(No column name)": "2"
                                },
                                {
                                    "SZOBA_SZAMA": "11",
                                    "(No column name)": "2"
                                },
                                {
                                    "SZOBA_SZAMA": "15",
                                    "(No column name)": "2"
                                },
                                {
                                    "SZOBA_SZAMA": "14",
                                    "(No column name)": "2"
                                },
                                {
                                    "SZOBA_SZAMA": "5",
                                    "(No column name)": "2"
                                },
                                {
                                    "SZOBA_SZAMA": "3",
                                    "(No column name)": "NULL"
                                },
                                {
                                    "SZOBA_SZAMA": "5",
                                    "(No column name)": "2"
                                },
                                {
                                    "SZOBA_SZAMA": "3",
                                    "(No column name)": "2"
                                },
                                {
                                    "SZOBA_SZAMA": "9",
                                    "(No column name)": "2"
                                },
                                {
                                    "SZOBA_SZAMA": "9",
                                    "(No column name)": "2"
                                },
                                {
                                    "SZOBA_SZAMA": "5",
                                    "(No column name)": "2"
                                },
                                {
                                    "SZOBA_SZAMA": "3",
                                    "(No column name)": "2"
                                },
                                {
                                    "SZOBA_SZAMA": "10",
                                    "(No column name)": "2"
                                },
                                {
                                    "SZOBA_SZAMA": "9",
                                    "(No column name)": "3"
                                },
                                {
                                    "SZOBA_SZAMA": "1",
                                    "(No column name)": "3"
                                },
                                {
                                    "SZOBA_SZAMA": "1",
                                    "(No column name)": "3"
                                },
                                {
                                    "SZOBA_SZAMA": "8",
                                    "(No column name)": "3"
                                },
                                {
                                    "SZOBA_SZAMA": "2",
                                    "(No column name)": "2"
                                },
                                {
                                    "SZOBA_SZAMA": "9",
                                    "(No column name)": "2"
                                },
                                {
                                    "SZOBA_SZAMA": "1",
                                    "(No column name)": "2"
                                },
                                {
                                    "SZOBA_SZAMA": "4",
                                    "(No column name)": "2"
                                },
                                {
                                    "SZOBA_SZAMA": "4",
                                    "(No column name)": "2"
                                },
                                {
                                    "SZOBA_SZAMA": "7",
                                    "(No column name)": "2"
                                },
                                {
                                    "SZOBA_SZAMA": "3",
                                    "(No column name)": "2"
                                },
                                {
                                    "SZOBA_SZAMA": "10",
                                    "(No column name)": "2"
                                },
                                {
                                    "SZOBA_SZAMA": "6",
                                    "(No column name)": "2"
                                },
                                {
                                    "SZOBA_SZAMA": "6",
                                    "(No column name)": "2"
                                },
                                {
                                    "SZOBA_SZAMA": "5",
                                    "(No column name)": "2"
                                },
                                {
                                    "SZOBA_SZAMA": "9",
                                    "(No column name)": "2"
                                },
                                {
                                    "SZOBA_SZAMA": "10",
                                    "(No column name)": "2"
                                },
                                {
                                    "SZOBA_SZAMA": "6",
                                    "(No column name)": "2"
                                },
                                {
                                    "SZOBA_SZAMA": "8",
                                    "(No column name)": "2"
                                },
                                {
                                    "SZOBA_SZAMA": "10",
                                    "(No column name)": "2"
                                },
                                {
                                    "SZOBA_SZAMA": "4",
                                    "(No column name)": "1"
                                },
                                {
                                    "SZOBA_SZAMA": "1",
                                    "(No column name)": "1"
                                },
                                {
                                    "SZOBA_SZAMA": "6",
                                    "(No column name)": "1"
                                },
                                {
                                    "SZOBA_SZAMA": "2",
                                    "(No column name)": "2"
                                },
                                {
                                    "SZOBA_SZAMA": "7",
                                    "(No column name)": "2"
                                },
                                {
                                    "SZOBA_SZAMA": "10",
                                    "(No column name)": "2"
                                },
                                {
                                    "SZOBA_SZAMA": "4",
                                    "(No column name)": "2"
                                },
                                {
                                    "SZOBA_SZAMA": "4",
                                    "(No column name)": "2"
                                },
                                {
                                    "SZOBA_SZAMA": "10",
                                    "(No column name)": "2"
                                },
                                {
                                    "SZOBA_SZAMA": "9",
                                    "(No column name)": "2"
                                },
                                {
                                    "SZOBA_SZAMA": "4",
                                    "(No column name)": "2"
                                },
                                {
                                    "SZOBA_SZAMA": "7",
                                    "(No column name)": "2"
                                },
                                {
                                    "SZOBA_SZAMA": "5",
                                    "(No column name)": "2"
                                },
                                {
                                    "SZOBA_SZAMA": "6",
                                    "(No column name)": "2"
                                },
                                {
                                    "SZOBA_SZAMA": "3",
                                    "(No column name)": "2"
                                },
                                {
                                    "SZOBA_SZAMA": "5",
                                    "(No column name)": "2"
                                },
                                {
                                    "SZOBA_SZAMA": "3",
                                    "(No column name)": "2"
                                },
                                {
                                    "SZOBA_SZAMA": "7",
                                    "(No column name)": "2"
                                },
                                {
                                    "SZOBA_SZAMA": "4",
                                    "(No column name)": "2"
                                },
                                {
                                    "SZOBA_SZAMA": "10",
                                    "(No column name)": "2"
                                },
                                {
                                    "SZOBA_SZAMA": "9",
                                    "(No column name)": "2"
                                },
                                {
                                    "SZOBA_SZAMA": "9",
                                    "(No column name)": "2"
                                },
                                {
                                    "SZOBA_SZAMA": "5",
                                    "(No column name)": "2"
                                },
                                {
                                    "SZOBA_SZAMA": "4",
                                    "(No column name)": "2"
                                },
                                {
                                    "SZOBA_SZAMA": "9",
                                    "(No column name)": "2"
                                },
                                {
                                    "SZOBA_SZAMA": "19",
                                    "(No column name)": "NULL"
                                },
                                {
                                    "SZOBA_SZAMA": "34",
                                    "(No column name)": "4"
                                },
                                {
                                    "SZOBA_SZAMA": "29",
                                    "(No column name)": "3"
                                },
                                {
                                    "SZOBA_SZAMA": "30",
                                    "(No column name)": "2"
                                },
                                {
                                    "SZOBA_SZAMA": "21",
                                    "(No column name)": "2"
                                },
                                {
                                    "SZOBA_SZAMA": "28",
                                    "(No column name)": "2"
                                },
                                {
                                    "SZOBA_SZAMA": "25",
                                    "(No column name)": "2"
                                },
                                {
                                    "SZOBA_SZAMA": "5",
                                    "(No column name)": "2"
                                },
                                {
                                    "SZOBA_SZAMA": "14",
                                    "(No column name)": "2"
                                },
                                {
                                    "SZOBA_SZAMA": "18",
                                    "(No column name)": "2"
                                },
                                {
                                    "SZOBA_SZAMA": "5",
                                    "(No column name)": "2"
                                },
                                {
                                    "SZOBA_SZAMA": "18",
                                    "(No column name)": "1"
                                },
                                {
                                    "SZOBA_SZAMA": "29",
                                    "(No column name)": "2"
                                },
                                {
                                    "SZOBA_SZAMA": "16",
                                    "(No column name)": "2"
                                },
                                {
                                    "SZOBA_SZAMA": "4",
                                    "(No column name)": "2"
                                },
                                {
                                    "SZOBA_SZAMA": "21",
                                    "(No column name)": "2"
                                },
                                {
                                    "SZOBA_SZAMA": "33",
                                    "(No column name)": "2"
                                },
                                {
                                    "SZOBA_SZAMA": "34",
                                    "(No column name)": "2"
                                },
                                {
                                    "SZOBA_SZAMA": "2",
                                    "(No column name)": "2"
                                },
                                {
                                    "SZOBA_SZAMA": "33",
                                    "(No column name)": "2"
                                },
                                {
                                    "SZOBA_SZAMA": "25",
                                    "(No column name)": "2"
                                },
                                {
                                    "SZOBA_SZAMA": "34",
                                    "(No column name)": "2"
                                },
                                {
                                    "SZOBA_SZAMA": "9",
                                    "(No column name)": "2"
                                },
                                {
                                    "SZOBA_SZAMA": "18",
                                    "(No column name)": "2"
                                },
                                {
                                    "SZOBA_SZAMA": "15",
                                    "(No column name)": "2"
                                },
                                {
                                    "SZOBA_SZAMA": "20",
                                    "(No column name)": "2"
                                },
                                {
                                    "SZOBA_SZAMA": "31",
                                    "(No column name)": "2"
                                },
                                {
                                    "SZOBA_SZAMA": "5",
                                    "(No column name)": "2"
                                },
                                {
                                    "SZOBA_SZAMA": "14",
                                    "(No column name)": "2"
                                },
                                {
                                    "SZOBA_SZAMA": "23",
                                    "(No column name)": "2"
                                },
                                {
                                    "SZOBA_SZAMA": "31",
                                    "(No column name)": "2"
                                },
                                {
                                    "SZOBA_SZAMA": "7",
                                    "(No column name)": "1"
                                },
                                {
                                    "SZOBA_SZAMA": "13",
                                    "(No column name)": "1"
                                },
                                {
                                    "SZOBA_SZAMA": "13",
                                    "(No column name)": "1"
                                },
                                {
                                    "SZOBA_SZAMA": "25",
                                    "(No column name)": "1"
                                },
                                {
                                    "SZOBA_SZAMA": "17",
                                    "(No column name)": "2"
                                },
                                {
                                    "SZOBA_SZAMA": "35",
                                    "(No column name)": "2"
                                },
                                {
                                    "SZOBA_SZAMA": "23",
                                    "(No column name)": "2"
                                },
                                {
                                    "SZOBA_SZAMA": "25",
                                    "(No column name)": "2"
                                },
                                {
                                    "SZOBA_SZAMA": "27",
                                    "(No column name)": "2"
                                },
                                {
                                    "SZOBA_SZAMA": "28",
                                    "(No column name)": "2"
                                },
                                {
                                    "SZOBA_SZAMA": "31",
                                    "(No column name)": "2"
                                },
                                {
                                    "SZOBA_SZAMA": "4",
                                    "(No column name)": "2"
                                },
                                {
                                    "SZOBA_SZAMA": "34",
                                    "(No column name)": "2"
                                },
                                {
                                    "SZOBA_SZAMA": "33",
                                    "(No column name)": "2"
                                },
                                {
                                    "SZOBA_SZAMA": "24",
                                    "(No column name)": "2"
                                },
                                {
                                    "SZOBA_SZAMA": "21",
                                    "(No column name)": "2"
                                },
                                {
                                    "SZOBA_SZAMA": "22",
                                    "(No column name)": "1"
                                },
                                {
                                    "SZOBA_SZAMA": "26",
                                    "(No column name)": "2"
                                },
                                {
                                    "SZOBA_SZAMA": "19",
                                    "(No column name)": "1"
                                },
                                {
                                    "SZOBA_SZAMA": "31",
                                    "(No column name)": "2"
                                },
                                {
                                    "SZOBA_SZAMA": "5",
                                    "(No column name)": "2"
                                },
                                {
                                    "SZOBA_SZAMA": "34",
                                    "(No column name)": "3"
                                },
                                {
                                    "SZOBA_SZAMA": "11",
                                    "(No column name)": "3"
                                },
                                {
                                    "SZOBA_SZAMA": "22",
                                    "(No column name)": "3"
                                },
                                {
                                    "SZOBA_SZAMA": "27",
                                    "(No column name)": "2"
                                },
                                {
                                    "SZOBA_SZAMA": "28",
                                    "(No column name)": "2"
                                },
                                {
                                    "SZOBA_SZAMA": "29",
                                    "(No column name)": "2"
                                },
                                {
                                    "SZOBA_SZAMA": "12",
                                    "(No column name)": "2"
                                },
                                {
                                    "SZOBA_SZAMA": "13",
                                    "(No column name)": "2"
                                },
                                {
                                    "SZOBA_SZAMA": "21",
                                    "(No column name)": "2"
                                },
                                {
                                    "SZOBA_SZAMA": "22",
                                    "(No column name)": "2"
                                },
                                {
                                    "SZOBA_SZAMA": "24",
                                    "(No column name)": "2"
                                },
                                {
                                    "SZOBA_SZAMA": "9",
                                    "(No column name)": "2"
                                },
                                {
                                    "SZOBA_SZAMA": "6",
                                    "(No column name)": "2"
                                },
                                {
                                    "SZOBA_SZAMA": "17",
                                    "(No column name)": "3"
                                },
                                {
                                    "SZOBA_SZAMA": "12",
                                    "(No column name)": "3"
                                },
                                {
                                    "SZOBA_SZAMA": "9",
                                    "(No column name)": "3"
                                },
                                {
                                    "SZOBA_SZAMA": "14",
                                    "(No column name)": "2"
                                },
                                {
                                    "SZOBA_SZAMA": "1",
                                    "(No column name)": "2"
                                },
                                {
                                    "SZOBA_SZAMA": "25",
                                    "(No column name)": "2"
                                },
                                {
                                    "SZOBA_SZAMA": "34",
                                    "(No column name)": "2"
                                },
                                {
                                    "SZOBA_SZAMA": "2",
                                    "(No column name)": "2"
                                },
                                {
                                    "SZOBA_SZAMA": "3",
                                    "(No column name)": "2"
                                },
                                {
                                    "SZOBA_SZAMA": "35",
                                    "(No column name)": "2"
                                },
                                {
                                    "SZOBA_SZAMA": "21",
                                    "(No column name)": "2"
                                },
                                {
                                    "SZOBA_SZAMA": "25",
                                    "(No column name)": "2"
                                },
                                {
                                    "SZOBA_SZAMA": "7",
                                    "(No column name)": "2"
                                },
                                {
                                    "SZOBA_SZAMA": "14",
                                    "(No column name)": "2"
                                },
                                {
                                    "SZOBA_SZAMA": "25",
                                    "(No column name)": "2"
                                },
                                {
                                    "SZOBA_SZAMA": "30",
                                    "(No column name)": "2"
                                },
                                {
                                    "SZOBA_SZAMA": "20",
                                    "(No column name)": "2"
                                },
                                {
                                    "SZOBA_SZAMA": "1",
                                    "(No column name)": "2"
                                },
                                {
                                    "SZOBA_SZAMA": "31",
                                    "(No column name)": "2"
                                },
                                {
                                    "SZOBA_SZAMA": "10",
                                    "(No column name)": "2"
                                },
                                {
                                    "SZOBA_SZAMA": "13",
                                    "(No column name)": "2"
                                },
                                {
                                    "SZOBA_SZAMA": "10",
                                    "(No column name)": "2"
                                },
                                {
                                    "SZOBA_SZAMA": "6",
                                    "(No column name)": "2"
                                },
                                {
                                    "SZOBA_SZAMA": "5",
                                    "(No column name)": "2"
                                },
                                {
                                    "SZOBA_SZAMA": "21",
                                    "(No column name)": "2"
                                },
                                {
                                    "SZOBA_SZAMA": "25",
                                    "(No column name)": "2"
                                },
                                {
                                    "SZOBA_SZAMA": "9",
                                    "(No column name)": "2"
                                },
                                {
                                    "SZOBA_SZAMA": "28",
                                    "(No column name)": "2"
                                },
                                {
                                    "SZOBA_SZAMA": "34",
                                    "(No column name)": "2"
                                },
                                {
                                    "SZOBA_SZAMA": "15",
                                    "(No column name)": "2"
                                },
                                {
                                    "SZOBA_SZAMA": "21",
                                    "(No column name)": "2"
                                },
                                {
                                    "SZOBA_SZAMA": "12",
                                    "(No column name)": "2"
                                },
                                {
                                    "SZOBA_SZAMA": "24",
                                    "(No column name)": "2"
                                },
                                {
                                    "SZOBA_SZAMA": "6",
                                    "(No column name)": "2"
                                },
                                {
                                    "SZOBA_SZAMA": "2",
                                    "(No column name)": "2"
                                },
                                {
                                    "SZOBA_SZAMA": "10",
                                    "(No column name)": "2"
                                },
                                {
                                    "SZOBA_SZAMA": "25",
                                    "(No column name)": "2"
                                },
                                {
                                    "SZOBA_SZAMA": "9",
                                    "(No column name)": "2"
                                },
                                {
                                    "SZOBA_SZAMA": "10",
                                    "(No column name)": "2"
                                },
                                {
                                    "SZOBA_SZAMA": "3",
                                    "(No column name)": "2"
                                },
                                {
                                    "SZOBA_SZAMA": "9",
                                    "(No column name)": "2"
                                },
                                {
                                    "SZOBA_SZAMA": "12",
                                    "(No column name)": "2"
                                },
                                {
                                    "SZOBA_SZAMA": "1",
                                    "(No column name)": "2"
                                },
                                {
                                    "SZOBA_SZAMA": "20",
                                    "(No column name)": "2"
                                },
                                {
                                    "SZOBA_SZAMA": "30",
                                    "(No column name)": "1"
                                },
                                {
                                    "SZOBA_SZAMA": "6",
                                    "(No column name)": "2"
                                },
                                {
                                    "SZOBA_SZAMA": "15",
                                    "(No column name)": "2"
                                },
                                {
                                    "SZOBA_SZAMA": "17",
                                    "(No column name)": "2"
                                },
                                {
                                    "SZOBA_SZAMA": "10",
                                    "(No column name)": "2"
                                },
                                {
                                    "SZOBA_SZAMA": "20",
                                    "(No column name)": "2"
                                },
                                {
                                    "SZOBA_SZAMA": "9",
                                    "(No column name)": "3"
                                },
                                {
                                    "SZOBA_SZAMA": "3",
                                    "(No column name)": "2"
                                },
                                {
                                    "SZOBA_SZAMA": "9",
                                    "(No column name)": "2"
                                },
                                {
                                    "SZOBA_SZAMA": "17",
                                    "(No column name)": "2"
                                },
                                {
                                    "SZOBA_SZAMA": "29",
                                    "(No column name)": "2"
                                },
                                {
                                    "SZOBA_SZAMA": "1",
                                    "(No column name)": "2"
                                },
                                {
                                    "SZOBA_SZAMA": "33",
                                    "(No column name)": "2"
                                },
                                {
                                    "SZOBA_SZAMA": "31",
                                    "(No column name)": "2"
                                },
                                {
                                    "SZOBA_SZAMA": "29",
                                    "(No column name)": "2"
                                },
                                {
                                    "SZOBA_SZAMA": "9",
                                    "(No column name)": "2"
                                },
                                {
                                    "SZOBA_SZAMA": "10",
                                    "(No column name)": "2"
                                },
                                {
                                    "SZOBA_SZAMA": "9",
                                    "(No column name)": "2"
                                },
                                {
                                    "SZOBA_SZAMA": "9",
                                    "(No column name)": "2"
                                },
                                {
                                    "SZOBA_SZAMA": "23",
                                    "(No column name)": "2"
                                },
                                {
                                    "SZOBA_SZAMA": "9",
                                    "(No column name)": "2"
                                },
                                {
                                    "SZOBA_SZAMA": "19",
                                    "(No column name)": "2"
                                },
                                {
                                    "SZOBA_SZAMA": "21",
                                    "(No column name)": "2"
                                },
                                {
                                    "SZOBA_SZAMA": "6",
                                    "(No column name)": "3"
                                },
                                {
                                    "SZOBA_SZAMA": "5",
                                    "(No column name)": "3"
                                },
                                {
                                    "SZOBA_SZAMA": "24",
                                    "(No column name)": "3"
                                },
                                {
                                    "SZOBA_SZAMA": "21",
                                    "(No column name)": "2"
                                },
                                {
                                    "SZOBA_SZAMA": "33",
                                    "(No column name)": "2"
                                },
                                {
                                    "SZOBA_SZAMA": "30",
                                    "(No column name)": "2"
                                },
                                {
                                    "SZOBA_SZAMA": "8",
                                    "(No column name)": "2"
                                },
                                {
                                    "SZOBA_SZAMA": "21",
                                    "(No column name)": "2"
                                },
                                {
                                    "SZOBA_SZAMA": "32",
                                    "(No column name)": "2"
                                },
                                {
                                    "SZOBA_SZAMA": "31",
                                    "(No column name)": "2"
                                },
                                {
                                    "SZOBA_SZAMA": "35",
                                    "(No column name)": "1"
                                },
                                {
                                    "SZOBA_SZAMA": "34",
                                    "(No column name)": "1"
                                },
                                {
                                    "SZOBA_SZAMA": "35",
                                    "(No column name)": "1"
                                },
                                {
                                    "SZOBA_SZAMA": "18",
                                    "(No column name)": "1"
                                },
                                {
                                    "SZOBA_SZAMA": "6",
                                    "(No column name)": "1"
                                },
                                {
                                    "SZOBA_SZAMA": "8",
                                    "(No column name)": "2"
                                },
                                {
                                    "SZOBA_SZAMA": "23",
                                    "(No column name)": "1"
                                },
                                {
                                    "SZOBA_SZAMA": "33",
                                    "(No column name)": "1"
                                },
                                {
                                    "SZOBA_SZAMA": "26",
                                    "(No column name)": "2"
                                },
                                {
                                    "SZOBA_SZAMA": "13",
                                    "(No column name)": "2"
                                },
                                {
                                    "SZOBA_SZAMA": "3",
                                    "(No column name)": "2"
                                },
                                {
                                    "SZOBA_SZAMA": "28",
                                    "(No column name)": "2"
                                },
                                {
                                    "SZOBA_SZAMA": "32",
                                    "(No column name)": "2"
                                },
                                {
                                    "SZOBA_SZAMA": "15",
                                    "(No column name)": "2"
                                },
                                {
                                    "SZOBA_SZAMA": "30",
                                    "(No column name)": "2"
                                },
                                {
                                    "SZOBA_SZAMA": "9",
                                    "(No column name)": "2"
                                },
                                {
                                    "SZOBA_SZAMA": "21",
                                    "(No column name)": "2"
                                },
                                {
                                    "SZOBA_SZAMA": "26",
                                    "(No column name)": "1"
                                },
                                {
                                    "SZOBA_SZAMA": "28",
                                    "(No column name)": "2"
                                },
                                {
                                    "SZOBA_SZAMA": "32",
                                    "(No column name)": "2"
                                },
                                {
                                    "SZOBA_SZAMA": "15",
                                    "(No column name)": "2"
                                },
                                {
                                    "SZOBA_SZAMA": "8",
                                    "(No column name)": "2"
                                },
                                {
                                    "SZOBA_SZAMA": "2",
                                    "(No column name)": "1"
                                },
                                {
                                    "SZOBA_SZAMA": "12",
                                    "(No column name)": "1"
                                },
                                {
                                    "SZOBA_SZAMA": "32",
                                    "(No column name)": "2"
                                },
                                {
                                    "SZOBA_SZAMA": "8",
                                    "(No column name)": "2"
                                },
                                {
                                    "SZOBA_SZAMA": "6",
                                    "(No column name)": "1"
                                },
                                {
                                    "SZOBA_SZAMA": "6",
                                    "(No column name)": "2"
                                },
                                {
                                    "SZOBA_SZAMA": "3",
                                    "(No column name)": "2"
                                },
                                {
                                    "SZOBA_SZAMA": "2",
                                    "(No column name)": "2"
                                },
                                {
                                    "SZOBA_SZAMA": "27",
                                    "(No column name)": "2"
                                },
                                {
                                    "SZOBA_SZAMA": "32",
                                    "(No column name)": "3"
                                },
                                {
                                    "SZOBA_SZAMA": "10",
                                    "(No column name)": "2"
                                },
                                {
                                    "SZOBA_SZAMA": "29",
                                    "(No column name)": "2"
                                },
                                {
                                    "SZOBA_SZAMA": "18",
                                    "(No column name)": "2"
                                },
                                {
                                    "SZOBA_SZAMA": "15",
                                    "(No column name)": "2"
                                },
                                {
                                    "SZOBA_SZAMA": "18",
                                    "(No column name)": "2"
                                },
                                {
                                    "SZOBA_SZAMA": "3",
                                    "(No column name)": "NULL"
                                },
                                {
                                    "SZOBA_SZAMA": "1",
                                    "(No column name)": "3"
                                },
                                {
                                    "SZOBA_SZAMA": "2",
                                    "(No column name)": "2"
                                },
                                {
                                    "SZOBA_SZAMA": "4",
                                    "(No column name)": "2"
                                },
                                {
                                    "SZOBA_SZAMA": "6",
                                    "(No column name)": "2"
                                },
                                {
                                    "SZOBA_SZAMA": "4",
                                    "(No column name)": "2"
                                },
                                {
                                    "SZOBA_SZAMA": "5",
                                    "(No column name)": "2"
                                },
                                {
                                    "SZOBA_SZAMA": "3",
                                    "(No column name)": "2"
                                },
                                {
                                    "SZOBA_SZAMA": "5",
                                    "(No column name)": "2"
                                },
                                {
                                    "SZOBA_SZAMA": "2",
                                    "(No column name)": "2"
                                },
                                {
                                    "SZOBA_SZAMA": "1",
                                    "(No column name)": "2"
                                },
                                {
                                    "SZOBA_SZAMA": "2",
                                    "(No column name)": "2"
                                },
                                {
                                    "SZOBA_SZAMA": "5",
                                    "(No column name)": "1"
                                },
                                {
                                    "SZOBA_SZAMA": "3",
                                    "(No column name)": "1"
                                },
                                {
                                    "SZOBA_SZAMA": "2",
                                    "(No column name)": "1"
                                },
                                {
                                    "SZOBA_SZAMA": "6",
                                    "(No column name)": "1"
                                },
                                {
                                    "SZOBA_SZAMA": "5",
                                    "(No column name)": "2"
                                },
                                {
                                    "SZOBA_SZAMA": "4",
                                    "(No column name)": "2"
                                },
                                {
                                    "SZOBA_SZAMA": "5",
                                    "(No column name)": "2"
                                },
                                {
                                    "SZOBA_SZAMA": "5",
                                    "(No column name)": "2"
                                },
                                {
                                    "SZOBA_SZAMA": "4",
                                    "(No column name)": "2"
                                },
                                {
                                    "SZOBA_SZAMA": "6",
                                    "(No column name)": "2"
                                },
                                {
                                    "SZOBA_SZAMA": "4",
                                    "(No column name)": "2"
                                },
                                {
                                    "SZOBA_SZAMA": "1",
                                    "(No column name)": "2"
                                },
                                {
                                    "SZOBA_SZAMA": "3",
                                    "(No column name)": "2"
                                },
                                {
                                    "SZOBA_SZAMA": "4",
                                    "(No column name)": "2"
                                },
                                {
                                    "SZOBA_SZAMA": "5",
                                    "(No column name)": "2"
                                },
                                {
                                    "SZOBA_SZAMA": "6",
                                    "(No column name)": "2"
                                },
                                {
                                    "SZOBA_SZAMA": "2",
                                    "(No column name)": "2"
                                },
                                {
                                    "SZOBA_SZAMA": "3",
                                    "(No column name)": "2"
                                },
                                {
                                    "SZOBA_SZAMA": "1",
                                    "(No column name)": "3"
                                },
                                {
                                    "SZOBA_SZAMA": "5",
                                    "(No column name)": "2"
                                },
                                {
                                    "SZOBA_SZAMA": "4",
                                    "(No column name)": "2"
                                },
                                {
                                    "SZOBA_SZAMA": "4",
                                    "(No column name)": "2"
                                },
                                {
                                    "SZOBA_SZAMA": "35",
                                    "(No column name)": "NULL"
                                },
                                {
                                    "SZOBA_SZAMA": "17",
                                    "(No column name)": "3"
                                },
                                {
                                    "SZOBA_SZAMA": "33",
                                    "(No column name)": "2"
                                },
                                {
                                    "SZOBA_SZAMA": "25",
                                    "(No column name)": "1"
                                },
                                {
                                    "SZOBA_SZAMA": "10",
                                    "(No column name)": "2"
                                },
                                {
                                    "SZOBA_SZAMA": "21",
                                    "(No column name)": "2"
                                },
                                {
                                    "SZOBA_SZAMA": "6",
                                    "(No column name)": "2"
                                },
                                {
                                    "SZOBA_SZAMA": "16",
                                    "(No column name)": "2"
                                },
                                {
                                    "SZOBA_SZAMA": "27",
                                    "(No column name)": "2"
                                },
                                {
                                    "SZOBA_SZAMA": "19",
                                    "(No column name)": "2"
                                },
                                {
                                    "SZOBA_SZAMA": "4",
                                    "(No column name)": "2"
                                },
                                {
                                    "SZOBA_SZAMA": "27",
                                    "(No column name)": "2"
                                },
                                {
                                    "SZOBA_SZAMA": "15",
                                    "(No column name)": "2"
                                },
                                {
                                    "SZOBA_SZAMA": "19",
                                    "(No column name)": "2"
                                },
                                {
                                    "SZOBA_SZAMA": "6",
                                    "(No column name)": "2"
                                },
                                {
                                    "SZOBA_SZAMA": "8",
                                    "(No column name)": "2"
                                },
                                {
                                    "SZOBA_SZAMA": "9",
                                    "(No column name)": "2"
                                },
                                {
                                    "SZOBA_SZAMA": "7",
                                    "(No column name)": "2"
                                },
                                {
                                    "SZOBA_SZAMA": "1",
                                    "(No column name)": "2"
                                },
                                {
                                    "SZOBA_SZAMA": "10",
                                    "(No column name)": "2"
                                },
                                {
                                    "SZOBA_SZAMA": "37",
                                    "(No column name)": "2"
                                },
                                {
                                    "SZOBA_SZAMA": "19",
                                    "(No column name)": "2"
                                },
                                {
                                    "SZOBA_SZAMA": "5",
                                    "(No column name)": "2"
                                },
                                {
                                    "SZOBA_SZAMA": "37",
                                    "(No column name)": "2"
                                },
                                {
                                    "SZOBA_SZAMA": "31",
                                    "(No column name)": "2"
                                },
                                {
                                    "SZOBA_SZAMA": "34",
                                    "(No column name)": "1"
                                },
                                {
                                    "SZOBA_SZAMA": "28",
                                    "(No column name)": "2"
                                },
                                {
                                    "SZOBA_SZAMA": "8",
                                    "(No column name)": "2"
                                },
                                {
                                    "SZOBA_SZAMA": "37",
                                    "(No column name)": "1"
                                },
                                {
                                    "SZOBA_SZAMA": "22",
                                    "(No column name)": "1"
                                },
                                {
                                    "SZOBA_SZAMA": "20",
                                    "(No column name)": "2"
                                },
                                {
                                    "SZOBA_SZAMA": "33",
                                    "(No column name)": "2"
                                },
                                {
                                    "SZOBA_SZAMA": "2",
                                    "(No column name)": "1"
                                },
                                {
                                    "SZOBA_SZAMA": "25",
                                    "(No column name)": "2"
                                },
                                {
                                    "SZOBA_SZAMA": "27",
                                    "(No column name)": "2"
                                },
                                {
                                    "SZOBA_SZAMA": "21",
                                    "(No column name)": "2"
                                },
                                {
                                    "SZOBA_SZAMA": "20",
                                    "(No column name)": "2"
                                },
                                {
                                    "SZOBA_SZAMA": "27",
                                    "(No column name)": "2"
                                },
                                {
                                    "SZOBA_SZAMA": "24",
                                    "(No column name)": "2"
                                },
                                {
                                    "SZOBA_SZAMA": "33",
                                    "(No column name)": "2"
                                },
                                {
                                    "SZOBA_SZAMA": "13",
                                    "(No column name)": "2"
                                },
                                {
                                    "SZOBA_SZAMA": "4",
                                    "(No column name)": "2"
                                },
                                {
                                    "SZOBA_SZAMA": "13",
                                    "(No column name)": "2"
                                },
                                {
                                    "SZOBA_SZAMA": "28",
                                    "(No column name)": "2"
                                },
                                {
                                    "SZOBA_SZAMA": "30",
                                    "(No column name)": "2"
                                },
                                {
                                    "SZOBA_SZAMA": "28",
                                    "(No column name)": "2"
                                },
                                {
                                    "SZOBA_SZAMA": "27",
                                    "(No column name)": "2"
                                },
                                {
                                    "SZOBA_SZAMA": "32",
                                    "(No column name)": "3"
                                },
                                {
                                    "SZOBA_SZAMA": "2",
                                    "(No column name)": "3"
                                },
                                {
                                    "SZOBA_SZAMA": "29",
                                    "(No column name)": "3"
                                },
                                {
                                    "SZOBA_SZAMA": "4",
                                    "(No column name)": "2"
                                },
                                {
                                    "SZOBA_SZAMA": "6",
                                    "(No column name)": "2"
                                },
                                {
                                    "SZOBA_SZAMA": "20",
                                    "(No column name)": "2"
                                },
                                {
                                    "SZOBA_SZAMA": "12",
                                    "(No column name)": "2"
                                },
                                {
                                    "SZOBA_SZAMA": "9",
                                    "(No column name)": "1"
                                },
                                {
                                    "SZOBA_SZAMA": "29",
                                    "(No column name)": "2"
                                },
                                {
                                    "SZOBA_SZAMA": "16",
                                    "(No column name)": "2"
                                },
                                {
                                    "SZOBA_SZAMA": "11",
                                    "(No column name)": "1"
                                },
                                {
                                    "SZOBA_SZAMA": "28",
                                    "(No column name)": "1"
                                },
                                {
                                    "SZOBA_SZAMA": "38",
                                    "(No column name)": "2"
                                },
                                {
                                    "SZOBA_SZAMA": "7",
                                    "(No column name)": "2"
                                },
                                {
                                    "SZOBA_SZAMA": "29",
                                    "(No column name)": "2"
                                },
                                {
                                    "SZOBA_SZAMA": "39",
                                    "(No column name)": "2"
                                },
                                {
                                    "SZOBA_SZAMA": "7",
                                    "(No column name)": "2"
                                },
                                {
                                    "SZOBA_SZAMA": "4",
                                    "(No column name)": "3"
                                },
                                {
                                    "SZOBA_SZAMA": "1",
                                    "(No column name)": "3"
                                },
                                {
                                    "SZOBA_SZAMA": "31",
                                    "(No column name)": "2"
                                },
                                {
                                    "SZOBA_SZAMA": "24",
                                    "(No column name)": "2"
                                },
                                {
                                    "SZOBA_SZAMA": "31",
                                    "(No column name)": "2"
                                },
                                {
                                    "SZOBA_SZAMA": "3",
                                    "(No column name)": "2"
                                },
                                {
                                    "SZOBA_SZAMA": "36",
                                    "(No column name)": "2"
                                },
                                {
                                    "SZOBA_SZAMA": "30",
                                    "(No column name)": "2"
                                },
                                {
                                    "SZOBA_SZAMA": "22",
                                    "(No column name)": "2"
                                },
                                {
                                    "SZOBA_SZAMA": "6",
                                    "(No column name)": "3"
                                },
                                {
                                    "SZOBA_SZAMA": "21",
                                    "(No column name)": "3"
                                },
                                {
                                    "SZOBA_SZAMA": "22",
                                    "(No column name)": "2"
                                },
                                {
                                    "SZOBA_SZAMA": "36",
                                    "(No column name)": "2"
                                },
                                {
                                    "SZOBA_SZAMA": "2",
                                    "(No column name)": "2"
                                },
                                {
                                    "SZOBA_SZAMA": "19",
                                    "(No column name)": "2"
                                },
                                {
                                    "SZOBA_SZAMA": "38",
                                    "(No column name)": "2"
                                },
                                {
                                    "SZOBA_SZAMA": "24",
                                    "(No column name)": "2"
                                },
                                {
                                    "SZOBA_SZAMA": "7",
                                    "(No column name)": "2"
                                },
                                {
                                    "SZOBA_SZAMA": "14",
                                    "(No column name)": "2"
                                },
                                {
                                    "SZOBA_SZAMA": "2",
                                    "(No column name)": "2"
                                },
                                {
                                    "SZOBA_SZAMA": "23",
                                    "(No column name)": "2"
                                },
                                {
                                    "SZOBA_SZAMA": "37",
                                    "(No column name)": "3"
                                },
                                {
                                    "SZOBA_SZAMA": "32",
                                    "(No column name)": "2"
                                },
                                {
                                    "SZOBA_SZAMA": "20",
                                    "(No column name)": "3"
                                },
                                {
                                    "SZOBA_SZAMA": "5",
                                    "(No column name)": "3"
                                },
                                {
                                    "SZOBA_SZAMA": "31",
                                    "(No column name)": "2"
                                },
                                {
                                    "SZOBA_SZAMA": "8",
                                    "(No column name)": "2"
                                },
                                {
                                    "SZOBA_SZAMA": "32",
                                    "(No column name)": "2"
                                },
                                {
                                    "SZOBA_SZAMA": "9",
                                    "(No column name)": "2"
                                },
                                {
                                    "SZOBA_SZAMA": "19",
                                    "(No column name)": "2"
                                },
                                {
                                    "SZOBA_SZAMA": "23",
                                    "(No column name)": "2"
                                },
                                {
                                    "SZOBA_SZAMA": "30",
                                    "(No column name)": "2"
                                },
                                {
                                    "SZOBA_SZAMA": "18",
                                    "(No column name)": "2"
                                },
                                {
                                    "SZOBA_SZAMA": "5",
                                    "(No column name)": "2"
                                },
                                {
                                    "SZOBA_SZAMA": "20",
                                    "(No column name)": "2"
                                },
                                {
                                    "SZOBA_SZAMA": "25",
                                    "(No column name)": "2"
                                },
                                {
                                    "SZOBA_SZAMA": "22",
                                    "(No column name)": "2"
                                },
                                {
                                    "SZOBA_SZAMA": "31",
                                    "(No column name)": "2"
                                },
                                {
                                    "SZOBA_SZAMA": "36",
                                    "(No column name)": "2"
                                },
                                {
                                    "SZOBA_SZAMA": "25",
                                    "(No column name)": "2"
                                },
                                {
                                    "SZOBA_SZAMA": "20",
                                    "(No column name)": "2"
                                },
                                {
                                    "SZOBA_SZAMA": "32",
                                    "(No column name)": "2"
                                },
                                {
                                    "SZOBA_SZAMA": "3",
                                    "(No column name)": "1"
                                },
                                {
                                    "SZOBA_SZAMA": "14",
                                    "(No column name)": "1"
                                },
                                {
                                    "SZOBA_SZAMA": "27",
                                    "(No column name)": "1"
                                },
                                {
                                    "SZOBA_SZAMA": "32",
                                    "(No column name)": "2"
                                },
                                {
                                    "SZOBA_SZAMA": "34",
                                    "(No column name)": "2"
                                },
                                {
                                    "SZOBA_SZAMA": "1",
                                    "(No column name)": "2"
                                },
                                {
                                    "SZOBA_SZAMA": "31",
                                    "(No column name)": "2"
                                },
                                {
                                    "SZOBA_SZAMA": "3",
                                    "(No column name)": "2"
                                },
                                {
                                    "SZOBA_SZAMA": "37",
                                    "(No column name)": "3"
                                },
                                {
                                    "SZOBA_SZAMA": "33",
                                    "(No column name)": "2"
                                },
                                {
                                    "SZOBA_SZAMA": "16",
                                    "(No column name)": "2"
                                },
                                {
                                    "SZOBA_SZAMA": "4",
                                    "(No column name)": "3"
                                },
                                {
                                    "SZOBA_SZAMA": "32",
                                    "(No column name)": "2"
                                },
                                {
                                    "SZOBA_SZAMA": "17",
                                    "(No column name)": "2"
                                },
                                {
                                    "SZOBA_SZAMA": "27",
                                    "(No column name)": "2"
                                },
                                {
                                    "SZOBA_SZAMA": "23",
                                    "(No column name)": "2"
                                },
                                {
                                    "SZOBA_SZAMA": "16",
                                    "(No column name)": "2"
                                },
                                {
                                    "SZOBA_SZAMA": "33",
                                    "(No column name)": "2"
                                },
                                {
                                    "SZOBA_SZAMA": "37",
                                    "(No column name)": "2"
                                },
                                {
                                    "SZOBA_SZAMA": "21",
                                    "(No column name)": "3"
                                },
                                {
                                    "SZOBA_SZAMA": "38",
                                    "(No column name)": "2"
                                },
                                {
                                    "SZOBA_SZAMA": "19",
                                    "(No column name)": "2"
                                },
                                {
                                    "SZOBA_SZAMA": "4",
                                    "(No column name)": "2"
                                },
                                {
                                    "SZOBA_SZAMA": "4",
                                    "(No column name)": "2"
                                },
                                {
                                    "SZOBA_SZAMA": "10",
                                    "(No column name)": "2"
                                },
                                {
                                    "SZOBA_SZAMA": "34",
                                    "(No column name)": "2"
                                },
                                {
                                    "SZOBA_SZAMA": "11",
                                    "(No column name)": "2"
                                },
                                {
                                    "SZOBA_SZAMA": "32",
                                    "(No column name)": "2"
                                },
                                {
                                    "SZOBA_SZAMA": "30",
                                    "(No column name)": "2"
                                },
                                {
                                    "SZOBA_SZAMA": "12",
                                    "(No column name)": "2"
                                },
                                {
                                    "SZOBA_SZAMA": "25",
                                    "(No column name)": "2"
                                },
                                {
                                    "SZOBA_SZAMA": "21",
                                    "(No column name)": "2"
                                },
                                {
                                    "SZOBA_SZAMA": "17",
                                    "(No column name)": "2"
                                },
                                {
                                    "SZOBA_SZAMA": "3",
                                    "(No column name)": "2"
                                },
                                {
                                    "SZOBA_SZAMA": "39",
                                    "(No column name)": "3"
                                },
                                {
                                    "SZOBA_SZAMA": "36",
                                    "(No column name)": "3"
                                },
                                {
                                    "SZOBA_SZAMA": "4",
                                    "(No column name)": "3"
                                },
                                {
                                    "SZOBA_SZAMA": "16",
                                    "(No column name)": "2"
                                },
                                {
                                    "SZOBA_SZAMA": "31",
                                    "(No column name)": "2"
                                },
                                {
                                    "SZOBA_SZAMA": "28",
                                    "(No column name)": "1"
                                },
                                {
                                    "SZOBA_SZAMA": "6",
                                    "(No column name)": "1"
                                },
                                {
                                    "SZOBA_SZAMA": "32",
                                    "(No column name)": "1"
                                },
                                {
                                    "SZOBA_SZAMA": "1",
                                    "(No column name)": "1"
                                },
                                {
                                    "SZOBA_SZAMA": "3",
                                    "(No column name)": "1"
                                },
                                {
                                    "SZOBA_SZAMA": "18",
                                    "(No column name)": "2"
                                },
                                {
                                    "SZOBA_SZAMA": "31",
                                    "(No column name)": "2"
                                },
                                {
                                    "SZOBA_SZAMA": "7",
                                    "(No column name)": "2"
                                },
                                {
                                    "SZOBA_SZAMA": "13",
                                    "(No column name)": "3"
                                },
                                {
                                    "SZOBA_SZAMA": "8",
                                    "(No column name)": "3"
                                },
                                {
                                    "SZOBA_SZAMA": "34",
                                    "(No column name)": "2"
                                },
                                {
                                    "SZOBA_SZAMA": "9",
                                    "(No column name)": "2"
                                },
                                {
                                    "SZOBA_SZAMA": "29",
                                    "(No column name)": "2"
                                },
                                {
                                    "SZOBA_SZAMA": "7",
                                    "(No column name)": "1"
                                },
                                {
                                    "SZOBA_SZAMA": "34",
                                    "(No column name)": "1"
                                },
                                {
                                    "SZOBA_SZAMA": "20",
                                    "(No column name)": "2"
                                },
                                {
                                    "SZOBA_SZAMA": "36",
                                    "(No column name)": "2"
                                },
                                {
                                    "SZOBA_SZAMA": "6",
                                    "(No column name)": "2"
                                },
                                {
                                    "SZOBA_SZAMA": "32",
                                    "(No column name)": "2"
                                },
                                {
                                    "SZOBA_SZAMA": "39",
                                    "(No column name)": "2"
                                },
                                {
                                    "SZOBA_SZAMA": "17",
                                    "(No column name)": "2"
                                },
                                {
                                    "SZOBA_SZAMA": "26",
                                    "(No column name)": "2"
                                },
                                {
                                    "SZOBA_SZAMA": "27",
                                    "(No column name)": "2"
                                },
                                {
                                    "SZOBA_SZAMA": "28",
                                    "(No column name)": "3"
                                },
                                {
                                    "SZOBA_SZAMA": "28",
                                    "(No column name)": "3"
                                },
                                {
                                    "SZOBA_SZAMA": "10",
                                    "(No column name)": "2"
                                },
                                {
                                    "SZOBA_SZAMA": "30",
                                    "(No column name)": "2"
                                },
                                {
                                    "SZOBA_SZAMA": "13",
                                    "(No column name)": "3"
                                },
                                {
                                    "SZOBA_SZAMA": "9",
                                    "(No column name)": "2"
                                },
                                {
                                    "SZOBA_SZAMA": "29",
                                    "(No column name)": "2"
                                },
                                {
                                    "SZOBA_SZAMA": "20",
                                    "(No column name)": "2"
                                },
                                {
                                    "SZOBA_SZAMA": "30",
                                    "(No column name)": "2"
                                },
                                {
                                    "SZOBA_SZAMA": "17",
                                    "(No column name)": "2"
                                },
                                {
                                    "SZOBA_SZAMA": "23",
                                    "(No column name)": "2"
                                },
                                {
                                    "SZOBA_SZAMA": "23",
                                    "(No column name)": "3"
                                },
                                {
                                    "SZOBA_SZAMA": "36",
                                    "(No column name)": "3"
                                },
                                {
                                    "SZOBA_SZAMA": "26",
                                    "(No column name)": "3"
                                },
                                {
                                    "SZOBA_SZAMA": "39",
                                    "(No column name)": "3"
                                },
                                {
                                    "SZOBA_SZAMA": "16",
                                    "(No column name)": "3"
                                },
                                {
                                    "SZOBA_SZAMA": "11",
                                    "(No column name)": "3"
                                },
                                {
                                    "SZOBA_SZAMA": "4",
                                    "(No column name)": "2"
                                },
                                {
                                    "SZOBA_SZAMA": "14",
                                    "(No column name)": "2"
                                },
                                {
                                    "SZOBA_SZAMA": "15",
                                    "(No column name)": "2"
                                },
                                {
                                    "SZOBA_SZAMA": "2",
                                    "(No column name)": "2"
                                },
                                {
                                    "SZOBA_SZAMA": "7",
                                    "(No column name)": "2"
                                },
                                {
                                    "SZOBA_SZAMA": "22",
                                    "(No column name)": "2"
                                },
                                {
                                    "SZOBA_SZAMA": "34",
                                    "(No column name)": "2"
                                },
                                {
                                    "SZOBA_SZAMA": "14",
                                    "(No column name)": "2"
                                },
                                {
                                    "SZOBA_SZAMA": "24",
                                    "(No column name)": "2"
                                },
                                {
                                    "SZOBA_SZAMA": "5",
                                    "(No column name)": "2"
                                },
                                {
                                    "SZOBA_SZAMA": "25",
                                    "(No column name)": "2"
                                },
                                {
                                    "SZOBA_SZAMA": "2",
                                    "(No column name)": "2"
                                },
                                {
                                    "SZOBA_SZAMA": "19",
                                    "(No column name)": "2"
                                },
                                {
                                    "SZOBA_SZAMA": "4",
                                    "(No column name)": "2"
                                },
                                {
                                    "SZOBA_SZAMA": "25",
                                    "(No column name)": "2"
                                },
                                {
                                    "SZOBA_SZAMA": "6",
                                    "(No column name)": "2"
                                },
                                {
                                    "SZOBA_SZAMA": "38",
                                    "(No column name)": "2"
                                },
                                {
                                    "SZOBA_SZAMA": "37",
                                    "(No column name)": "2"
                                },
                                {
                                    "SZOBA_SZAMA": "38",
                                    "(No column name)": "2"
                                },
                                {
                                    "SZOBA_SZAMA": "2",
                                    "(No column name)": "NULL"
                                },
                                {
                                    "SZOBA_SZAMA": "1",
                                    "(No column name)": "2"
                                },
                                {
                                    "SZOBA_SZAMA": "1",
                                    "(No column name)": "2"
                                },
                                {
                                    "SZOBA_SZAMA": "3",
                                    "(No column name)": "2"
                                },
                                {
                                    "SZOBA_SZAMA": "2",
                                    "(No column name)": "2"
                                },
                                {
                                    "SZOBA_SZAMA": "2",
                                    "(No column name)": "2"
                                },
                                {
                                    "SZOBA_SZAMA": "4",
                                    "(No column name)": "1"
                                },
                                {
                                    "SZOBA_SZAMA": "1",
                                    "(No column name)": "2"
                                },
                                {
                                    "SZOBA_SZAMA": "4",
                                    "(No column name)": "2"
                                },
                                {
                                    "SZOBA_SZAMA": "3",
                                    "(No column name)": "2"
                                },
                                {
                                    "SZOBA_SZAMA": "5",
                                    "(No column name)": "2"
                                },
                                {
                                    "SZOBA_SZAMA": "5",
                                    "(No column name)": "2"
                                },
                                {
                                    "SZOBA_SZAMA": "2",
                                    "(No column name)": "2"
                                },
                                {
                                    "SZOBA_SZAMA": "1",
                                    "(No column name)": "2"
                                },
                                {
                                    "SZOBA_SZAMA": "1",
                                    "(No column name)": "2"
                                },
                                {
                                    "SZOBA_SZAMA": "5",
                                    "(No column name)": "2"
                                },
                                {
                                    "SZOBA_SZAMA": "3",
                                    "(No column name)": "2"
                                },
                                {
                                    "SZOBA_SZAMA": "3",
                                    "(No column name)": "2"
                                },
                                {
                                    "SZOBA_SZAMA": "4",
                                    "(No column name)": "2"
                                },
                                {
                                    "SZOBA_SZAMA": "5",
                                    "(No column name)": "2"
                                },
                                {
                                    "SZOBA_SZAMA": "5",
                                    "(No column name)": "3"
                                },
                                {
                                    "SZOBA_SZAMA": "4",
                                    "(No column name)": "2"
                                },
                                {
                                    "SZOBA_SZAMA": "3",
                                    "(No column name)": "2"
                                },
                                {
                                    "SZOBA_SZAMA": "4",
                                    "(No column name)": "2"
                                },
                                {
                                    "SZOBA_SZAMA": "4",
                                    "(No column name)": "2"
                                },
                                {
                                    "SZOBA_SZAMA": "2",
                                    "(No column name)": "2"
                                },
                                {
                                    "SZOBA_SZAMA": "1",
                                    "(No column name)": "2"
                                },
                                {
                                    "SZOBA_SZAMA": "3",
                                    "(No column name)": "2"
                                },
                                {
                                    "SZOBA_SZAMA": "5",
                                    "(No column name)": "2"
                                },
                                {
                                    "SZOBA_SZAMA": "7",
                                    "(No column name)": "NULL"
                                },
                                {
                                    "SZOBA_SZAMA": "21",
                                    "(No column name)": "2"
                                },
                                {
                                    "SZOBA_SZAMA": "21",
                                    "(No column name)": "3"
                                },
                                {
                                    "SZOBA_SZAMA": "5",
                                    "(No column name)": "3"
                                },
                                {
                                    "SZOBA_SZAMA": "10",
                                    "(No column name)": "2"
                                },
                                {
                                    "SZOBA_SZAMA": "3",
                                    "(No column name)": "2"
                                },
                                {
                                    "SZOBA_SZAMA": "2",
                                    "(No column name)": "2"
                                },
                                {
                                    "SZOBA_SZAMA": "22",
                                    "(No column name)": "2"
                                },
                                {
                                    "SZOBA_SZAMA": "15",
                                    "(No column name)": "2"
                                },
                                {
                                    "SZOBA_SZAMA": "19",
                                    "(No column name)": "2"
                                },
                                {
                                    "SZOBA_SZAMA": "16",
                                    "(No column name)": "2"
                                },
                                {
                                    "SZOBA_SZAMA": "23",
                                    "(No column name)": "2"
                                },
                                {
                                    "SZOBA_SZAMA": "3",
                                    "(No column name)": "2"
                                },
                                {
                                    "SZOBA_SZAMA": "15",
                                    "(No column name)": "2"
                                },
                                {
                                    "SZOBA_SZAMA": "3",
                                    "(No column name)": "1"
                                },
                                {
                                    "SZOBA_SZAMA": "2",
                                    "(No column name)": "1"
                                },
                                {
                                    "SZOBA_SZAMA": "12",
                                    "(No column name)": "1"
                                },
                                {
                                    "SZOBA_SZAMA": "17",
                                    "(No column name)": "1"
                                },
                                {
                                    "SZOBA_SZAMA": "22",
                                    "(No column name)": "1"
                                },
                                {
                                    "SZOBA_SZAMA": "7",
                                    "(No column name)": "1"
                                },
                                {
                                    "SZOBA_SZAMA": "6",
                                    "(No column name)": "1"
                                },
                                {
                                    "SZOBA_SZAMA": "22",
                                    "(No column name)": "2"
                                },
                                {
                                    "SZOBA_SZAMA": "20",
                                    "(No column name)": "2"
                                },
                                {
                                    "SZOBA_SZAMA": "19",
                                    "(No column name)": "2"
                                },
                                {
                                    "SZOBA_SZAMA": "9",
                                    "(No column name)": "2"
                                },
                                {
                                    "SZOBA_SZAMA": "3",
                                    "(No column name)": "2"
                                },
                                {
                                    "SZOBA_SZAMA": "23",
                                    "(No column name)": "2"
                                },
                                {
                                    "SZOBA_SZAMA": "12",
                                    "(No column name)": "2"
                                },
                                {
                                    "SZOBA_SZAMA": "14",
                                    "(No column name)": "2"
                                },
                                {
                                    "SZOBA_SZAMA": "22",
                                    "(No column name)": "1"
                                },
                                {
                                    "SZOBA_SZAMA": "11",
                                    "(No column name)": "2"
                                },
                                {
                                    "SZOBA_SZAMA": "1",
                                    "(No column name)": "2"
                                },
                                {
                                    "SZOBA_SZAMA": "6",
                                    "(No column name)": "2"
                                },
                                {
                                    "SZOBA_SZAMA": "18",
                                    "(No column name)": "2"
                                },
                                {
                                    "SZOBA_SZAMA": "5",
                                    "(No column name)": "2"
                                },
                                {
                                    "SZOBA_SZAMA": "5",
                                    "(No column name)": "2"
                                },
                                {
                                    "SZOBA_SZAMA": "7",
                                    "(No column name)": "1"
                                },
                                {
                                    "SZOBA_SZAMA": "14",
                                    "(No column name)": "1"
                                },
                                {
                                    "SZOBA_SZAMA": "4",
                                    "(No column name)": "2"
                                },
                                {
                                    "SZOBA_SZAMA": "13",
                                    "(No column name)": "2"
                                },
                                {
                                    "SZOBA_SZAMA": "14",
                                    "(No column name)": "2"
                                },
                                {
                                    "SZOBA_SZAMA": "7",
                                    "(No column name)": "2"
                                },
                                {
                                    "SZOBA_SZAMA": "12",
                                    "(No column name)": "2"
                                },
                                {
                                    "SZOBA_SZAMA": "4",
                                    "(No column name)": "2"
                                },
                                {
                                    "SZOBA_SZAMA": "12",
                                    "(No column name)": "2"
                                },
                                {
                                    "SZOBA_SZAMA": "14",
                                    "(No column name)": "2"
                                },
                                {
                                    "SZOBA_SZAMA": "14",
                                    "(No column name)": "2"
                                },
                                {
                                    "SZOBA_SZAMA": "24",
                                    "(No column name)": "2"
                                },
                                {
                                    "SZOBA_SZAMA": "15",
                                    "(No column name)": "2"
                                },
                                {
                                    "SZOBA_SZAMA": "15",
                                    "(No column name)": "2"
                                },
                                {
                                    "SZOBA_SZAMA": "24",
                                    "(No column name)": "2"
                                },
                                {
                                    "SZOBA_SZAMA": "15",
                                    "(No column name)": "2"
                                },
                                {
                                    "SZOBA_SZAMA": "12",
                                    "(No column name)": "2"
                                },
                                {
                                    "SZOBA_SZAMA": "1",
                                    "(No column name)": "2"
                                },
                                {
                                    "SZOBA_SZAMA": "5",
                                    "(No column name)": "2"
                                },
                                {
                                    "SZOBA_SZAMA": "2",
                                    "(No column name)": "2"
                                },
                                {
                                    "SZOBA_SZAMA": "23",
                                    "(No column name)": "2"
                                },
                                {
                                    "SZOBA_SZAMA": "17",
                                    "(No column name)": "2"
                                },
                                {
                                    "SZOBA_SZAMA": "20",
                                    "(No column name)": "2"
                                },
                                {
                                    "SZOBA_SZAMA": "5",
                                    "(No column name)": "2"
                                },
                                {
                                    "SZOBA_SZAMA": "11",
                                    "(No column name)": "2"
                                },
                                {
                                    "SZOBA_SZAMA": "10",
                                    "(No column name)": "2"
                                },
                                {
                                    "SZOBA_SZAMA": "6",
                                    "(No column name)": "2"
                                },
                                {
                                    "SZOBA_SZAMA": "16",
                                    "(No column name)": "2"
                                },
                                {
                                    "SZOBA_SZAMA": "21",
                                    "(No column name)": "2"
                                },
                                {
                                    "SZOBA_SZAMA": "16",
                                    "(No column name)": "2"
                                },
                                {
                                    "SZOBA_SZAMA": "17",
                                    "(No column name)": "2"
                                },
                                {
                                    "SZOBA_SZAMA": "24",
                                    "(No column name)": "2"
                                },
                                {
                                    "SZOBA_SZAMA": "11",
                                    "(No column name)": "2"
                                },
                                {
                                    "SZOBA_SZAMA": "11",
                                    "(No column name)": "2"
                                },
                                {
                                    "SZOBA_SZAMA": "15",
                                    "(No column name)": "2"
                                },
                                {
                                    "SZOBA_SZAMA": "9",
                                    "(No column name)": "2"
                                },
                                {
                                    "SZOBA_SZAMA": "6",
                                    "(No column name)": "2"
                                },
                                {
                                    "SZOBA_SZAMA": "18",
                                    "(No column name)": "2"
                                },
                                {
                                    "SZOBA_SZAMA": "20",
                                    "(No column name)": "2"
                                },
                                {
                                    "SZOBA_SZAMA": "16",
                                    "(No column name)": "2"
                                },
                                {
                                    "SZOBA_SZAMA": "9",
                                    "(No column name)": "1"
                                },
                                {
                                    "SZOBA_SZAMA": "18",
                                    "(No column name)": "1"
                                },
                                {
                                    "SZOBA_SZAMA": "10",
                                    "(No column name)": "2"
                                },
                                {
                                    "SZOBA_SZAMA": "16",
                                    "(No column name)": "2"
                                },
                                {
                                    "SZOBA_SZAMA": "3",
                                    "(No column name)": "2"
                                },
                                {
                                    "SZOBA_SZAMA": "9",
                                    "(No column name)": "3"
                                },
                                {
                                    "SZOBA_SZAMA": "23",
                                    "(No column name)": "3"
                                },
                                {
                                    "SZOBA_SZAMA": "7",
                                    "(No column name)": "3"
                                },
                                {
                                    "SZOBA_SZAMA": "4",
                                    "(No column name)": "2"
                                },
                                {
                                    "SZOBA_SZAMA": "6",
                                    "(No column name)": "2"
                                },
                                {
                                    "SZOBA_SZAMA": "20",
                                    "(No column name)": "2"
                                },
                                {
                                    "SZOBA_SZAMA": "3",
                                    "(No column name)": "2"
                                },
                                {
                                    "SZOBA_SZAMA": "4",
                                    "(No column name)": "2"
                                },
                                {
                                    "SZOBA_SZAMA": "1",
                                    "(No column name)": "2"
                                },
                                {
                                    "SZOBA_SZAMA": "10",
                                    "(No column name)": "2"
                                },
                                {
                                    "SZOBA_SZAMA": "4",
                                    "(No column name)": "3"
                                },
                                {
                                    "SZOBA_SZAMA": "9",
                                    "(No column name)": "2"
                                },
                                {
                                    "SZOBA_SZAMA": "21",
                                    "(No column name)": "3"
                                },
                                {
                                    "SZOBA_SZAMA": "11",
                                    "(No column name)": "3"
                                },
                                {
                                    "SZOBA_SZAMA": "6",
                                    "(No column name)": "3"
                                },
                                {
                                    "SZOBA_SZAMA": "4",
                                    "(No column name)": "2"
                                },
                                {
                                    "SZOBA_SZAMA": "6",
                                    "(No column name)": "2"
                                },
                                {
                                    "SZOBA_SZAMA": "8",
                                    "(No column name)": "2"
                                },
                                {
                                    "SZOBA_SZAMA": "4",
                                    "(No column name)": "2"
                                },
                                {
                                    "SZOBA_SZAMA": "6",
                                    "(No column name)": "3"
                                },
                                {
                                    "SZOBA_SZAMA": "9",
                                    "(No column name)": "2"
                                },
                                {
                                    "SZOBA_SZAMA": "7",
                                    "(No column name)": "3"
                                },
                                {
                                    "SZOBA_SZAMA": "16",
                                    "(No column name)": "3"
                                },
                                {
                                    "SZOBA_SZAMA": "5",
                                    "(No column name)": "2"
                                },
                                {
                                    "SZOBA_SZAMA": "9",
                                    "(No column name)": "2"
                                },
                                {
                                    "SZOBA_SZAMA": "5",
                                    "(No column name)": "2"
                                },
                                {
                                    "SZOBA_SZAMA": "19",
                                    "(No column name)": "2"
                                },
                                {
                                    "SZOBA_SZAMA": "22",
                                    "(No column name)": "2"
                                },
                                {
                                    "SZOBA_SZAMA": "19",
                                    "(No column name)": "2"
                                },
                                {
                                    "SZOBA_SZAMA": "11",
                                    "(No column name)": "2"
                                },
                                {
                                    "SZOBA_SZAMA": "12",
                                    "(No column name)": "2"
                                },
                                {
                                    "SZOBA_SZAMA": "22",
                                    "(No column name)": "2"
                                },
                                {
                                    "SZOBA_SZAMA": "19",
                                    "(No column name)": "2"
                                },
                                {
                                    "SZOBA_SZAMA": "15",
                                    "(No column name)": "2"
                                },
                                {
                                    "SZOBA_SZAMA": "21",
                                    "(No column name)": "2"
                                },
                                {
                                    "SZOBA_SZAMA": "20",
                                    "(No column name)": "2"
                                },
                                {
                                    "SZOBA_SZAMA": "8",
                                    "(No column name)": "2"
                                },
                                {
                                    "SZOBA_SZAMA": "23",
                                    "(No column name)": "2"
                                },
                                {
                                    "SZOBA_SZAMA": "18",
                                    "(No column name)": "1"
                                },
                                {
                                    "SZOBA_SZAMA": "22",
                                    "(No column name)": "1"
                                },
                                {
                                    "SZOBA_SZAMA": "10",
                                    "(No column name)": "2"
                                },
                                {
                                    "SZOBA_SZAMA": "14",
                                    "(No column name)": "2"
                                },
                                {
                                    "SZOBA_SZAMA": "5",
                                    "(No column name)": "NULL"
                                },
                                {
                                    "SZOBA_SZAMA": "3",
                                    "(No column name)": "2"
                                },
                                {
                                    "SZOBA_SZAMA": "4",
                                    "(No column name)": "2"
                                },
                                {
                                    "SZOBA_SZAMA": "2",
                                    "(No column name)": "2"
                                },
                                {
                                    "SZOBA_SZAMA": "2",
                                    "(No column name)": "2"
                                },
                                {
                                    "SZOBA_SZAMA": "1",
                                    "(No column name)": "2"
                                },
                                {
                                    "SZOBA_SZAMA": "2",
                                    "(No column name)": "2"
                                },
                                {
                                    "SZOBA_SZAMA": "1",
                                    "(No column name)": "2"
                                },
                                {
                                    "SZOBA_SZAMA": "1",
                                    "(No column name)": "2"
                                },
                                {
                                    "SZOBA_SZAMA": "4",
                                    "(No column name)": "2"
                                },
                                {
                                    "SZOBA_SZAMA": "5",
                                    "(No column name)": "2"
                                },
                                {
                                    "SZOBA_SZAMA": "1",
                                    "(No column name)": "2"
                                },
                                {
                                    "SZOBA_SZAMA": "5",
                                    "(No column name)": "2"
                                },
                                {
                                    "SZOBA_SZAMA": "4",
                                    "(No column name)": "2"
                                },
                                {
                                    "SZOBA_SZAMA": "2",
                                    "(No column name)": "2"
                                },
                                {
                                    "SZOBA_SZAMA": "4",
                                    "(No column name)": "2"
                                },
                                {
                                    "SZOBA_SZAMA": "4",
                                    "(No column name)": "2"
                                },
                                {
                                    "SZOBA_SZAMA": "2",
                                    "(No column name)": "2"
                                },
                                {
                                    "SZOBA_SZAMA": "3",
                                    "(No column name)": "2"
                                },
                                {
                                    "SZOBA_SZAMA": "4",
                                    "(No column name)": "2"
                                },
                                {
                                    "SZOBA_SZAMA": "5",
                                    "(No column name)": "2"
                                },
                                {
                                    "SZOBA_SZAMA": "5",
                                    "(No column name)": "2"
                                },
                                {
                                    "SZOBA_SZAMA": "3",
                                    "(No column name)": "2"
                                },
                                {
                                    "SZOBA_SZAMA": "4",
                                    "(No column name)": "2"
                                },
                                {
                                    "SZOBA_SZAMA": "1",
                                    "(No column name)": "2"
                                },
                                {
                                    "SZOBA_SZAMA": "2",
                                    "(No column name)": "2"
                                },
                                {
                                    "SZOBA_SZAMA": "18",
                                    "(No column name)": "NULL"
                                },
                                {
                                    "SZOBA_SZAMA": "6",
                                    "(No column name)": "2"
                                },
                                {
                                    "SZOBA_SZAMA": "5",
                                    "(No column name)": "1"
                                },
                                {
                                    "SZOBA_SZAMA": "7",
                                    "(No column name)": "1"
                                },
                                {
                                    "SZOBA_SZAMA": "21",
                                    "(No column name)": "1"
                                },
                                {
                                    "SZOBA_SZAMA": "12",
                                    "(No column name)": "2"
                                },
                                {
                                    "SZOBA_SZAMA": "26",
                                    "(No column name)": "2"
                                },
                                {
                                    "SZOBA_SZAMA": "20",
                                    "(No column name)": "2"
                                },
                                {
                                    "SZOBA_SZAMA": "22",
                                    "(No column name)": "2"
                                },
                                {
                                    "SZOBA_SZAMA": "23",
                                    "(No column name)": "2"
                                },
                                {
                                    "SZOBA_SZAMA": "29",
                                    "(No column name)": "2"
                                },
                                {
                                    "SZOBA_SZAMA": "1",
                                    "(No column name)": "2"
                                },
                                {
                                    "SZOBA_SZAMA": "2",
                                    "(No column name)": "2"
                                },
                                {
                                    "SZOBA_SZAMA": "5",
                                    "(No column name)": "2"
                                },
                                {
                                    "SZOBA_SZAMA": "15",
                                    "(No column name)": "2"
                                },
                                {
                                    "SZOBA_SZAMA": "3",
                                    "(No column name)": "2"
                                },
                                {
                                    "SZOBA_SZAMA": "1",
                                    "(No column name)": "2"
                                },
                                {
                                    "SZOBA_SZAMA": "21",
                                    "(No column name)": "2"
                                },
                                {
                                    "SZOBA_SZAMA": "11",
                                    "(No column name)": "2"
                                },
                                {
                                    "SZOBA_SZAMA": "23",
                                    "(No column name)": "2"
                                },
                                {
                                    "SZOBA_SZAMA": "20",
                                    "(No column name)": "2"
                                },
                                {
                                    "SZOBA_SZAMA": "1",
                                    "(No column name)": "2"
                                },
                                {
                                    "SZOBA_SZAMA": "1",
                                    "(No column name)": "2"
                                },
                                {
                                    "SZOBA_SZAMA": "1",
                                    "(No column name)": "1"
                                },
                                {
                                    "SZOBA_SZAMA": "21",
                                    "(No column name)": "1"
                                },
                                {
                                    "SZOBA_SZAMA": "28",
                                    "(No column name)": "1"
                                },
                                {
                                    "SZOBA_SZAMA": "16",
                                    "(No column name)": "2"
                                },
                                {
                                    "SZOBA_SZAMA": "24",
                                    "(No column name)": "2"
                                },
                                {
                                    "SZOBA_SZAMA": "9",
                                    "(No column name)": "2"
                                },
                                {
                                    "SZOBA_SZAMA": "10",
                                    "(No column name)": "3"
                                },
                                {
                                    "SZOBA_SZAMA": "18",
                                    "(No column name)": "2"
                                },
                                {
                                    "SZOBA_SZAMA": "4",
                                    "(No column name)": "2"
                                },
                                {
                                    "SZOBA_SZAMA": "21",
                                    "(No column name)": "2"
                                },
                                {
                                    "SZOBA_SZAMA": "29",
                                    "(No column name)": "2"
                                },
                                {
                                    "SZOBA_SZAMA": "17",
                                    "(No column name)": "3"
                                },
                                {
                                    "SZOBA_SZAMA": "19",
                                    "(No column name)": "3"
                                },
                                {
                                    "SZOBA_SZAMA": "6",
                                    "(No column name)": "3"
                                },
                                {
                                    "SZOBA_SZAMA": "32",
                                    "(No column name)": "3"
                                },
                                {
                                    "SZOBA_SZAMA": "23",
                                    "(No column name)": "3"
                                },
                                {
                                    "SZOBA_SZAMA": "17",
                                    "(No column name)": "2"
                                },
                                {
                                    "SZOBA_SZAMA": "5",
                                    "(No column name)": "2"
                                },
                                {
                                    "SZOBA_SZAMA": "29",
                                    "(No column name)": "2"
                                },
                                {
                                    "SZOBA_SZAMA": "34",
                                    "(No column name)": "3"
                                },
                                {
                                    "SZOBA_SZAMA": "7",
                                    "(No column name)": "3"
                                },
                                {
                                    "SZOBA_SZAMA": "8",
                                    "(No column name)": "2"
                                },
                                {
                                    "SZOBA_SZAMA": "26",
                                    "(No column name)": "2"
                                },
                                {
                                    "SZOBA_SZAMA": "14",
                                    "(No column name)": "2"
                                },
                                {
                                    "SZOBA_SZAMA": "33",
                                    "(No column name)": "2"
                                },
                                {
                                    "SZOBA_SZAMA": "34",
                                    "(No column name)": "2"
                                },
                                {
                                    "SZOBA_SZAMA": "18",
                                    "(No column name)": "2"
                                },
                                {
                                    "SZOBA_SZAMA": "10",
                                    "(No column name)": "2"
                                },
                                {
                                    "SZOBA_SZAMA": "26",
                                    "(No column name)": "2"
                                },
                                {
                                    "SZOBA_SZAMA": "15",
                                    "(No column name)": "2"
                                },
                                {
                                    "SZOBA_SZAMA": "17",
                                    "(No column name)": "2"
                                },
                                {
                                    "SZOBA_SZAMA": "9",
                                    "(No column name)": "2"
                                },
                                {
                                    "SZOBA_SZAMA": "21",
                                    "(No column name)": "2"
                                },
                                {
                                    "SZOBA_SZAMA": "32",
                                    "(No column name)": "2"
                                },
                                {
                                    "SZOBA_SZAMA": "29",
                                    "(No column name)": "2"
                                },
                                {
                                    "SZOBA_SZAMA": "17",
                                    "(No column name)": "2"
                                },
                                {
                                    "SZOBA_SZAMA": "21",
                                    "(No column name)": "2"
                                },
                                {
                                    "SZOBA_SZAMA": "28",
                                    "(No column name)": "2"
                                },
                                {
                                    "SZOBA_SZAMA": "10",
                                    "(No column name)": "2"
                                },
                                {
                                    "SZOBA_SZAMA": "20",
                                    "(No column name)": "2"
                                },
                                {
                                    "SZOBA_SZAMA": "24",
                                    "(No column name)": "2"
                                },
                                {
                                    "SZOBA_SZAMA": "21",
                                    "(No column name)": "2"
                                },
                                {
                                    "SZOBA_SZAMA": "23",
                                    "(No column name)": "1"
                                },
                                {
                                    "SZOBA_SZAMA": "25",
                                    "(No column name)": "2"
                                },
                                {
                                    "SZOBA_SZAMA": "8",
                                    "(No column name)": "2"
                                },
                                {
                                    "SZOBA_SZAMA": "24",
                                    "(No column name)": "2"
                                },
                                {
                                    "SZOBA_SZAMA": "21",
                                    "(No column name)": "2"
                                },
                                {
                                    "SZOBA_SZAMA": "31",
                                    "(No column name)": "2"
                                },
                                {
                                    "SZOBA_SZAMA": "17",
                                    "(No column name)": "2"
                                },
                                {
                                    "SZOBA_SZAMA": "18",
                                    "(No column name)": "2"
                                },
                                {
                                    "SZOBA_SZAMA": "23",
                                    "(No column name)": "2"
                                },
                                {
                                    "SZOBA_SZAMA": "5",
                                    "(No column name)": "2"
                                },
                                {
                                    "SZOBA_SZAMA": "24",
                                    "(No column name)": "2"
                                },
                                {
                                    "SZOBA_SZAMA": "8",
                                    "(No column name)": "2"
                                },
                                {
                                    "SZOBA_SZAMA": "25",
                                    "(No column name)": "2"
                                },
                                {
                                    "SZOBA_SZAMA": "33",
                                    "(No column name)": "2"
                                },
                                {
                                    "SZOBA_SZAMA": "23",
                                    "(No column name)": "3"
                                },
                                {
                                    "SZOBA_SZAMA": "26",
                                    "(No column name)": "2"
                                },
                                {
                                    "SZOBA_SZAMA": "2",
                                    "(No column name)": "2"
                                },
                                {
                                    "SZOBA_SZAMA": "13",
                                    "(No column name)": "2"
                                },
                                {
                                    "SZOBA_SZAMA": "4",
                                    "(No column name)": "2"
                                },
                                {
                                    "SZOBA_SZAMA": "4",
                                    "(No column name)": "2"
                                },
                                {
                                    "SZOBA_SZAMA": "11",
                                    "(No column name)": "3"
                                },
                                {
                                    "SZOBA_SZAMA": "14",
                                    "(No column name)": "2"
                                },
                                {
                                    "SZOBA_SZAMA": "13",
                                    "(No column name)": "3"
                                },
                                {
                                    "SZOBA_SZAMA": "29",
                                    "(No column name)": "2"
                                },
                                {
                                    "SZOBA_SZAMA": "8",
                                    "(No column name)": "3"
                                },
                                {
                                    "SZOBA_SZAMA": "31",
                                    "(No column name)": "2"
                                },
                                {
                                    "SZOBA_SZAMA": "24",
                                    "(No column name)": "2"
                                },
                                {
                                    "SZOBA_SZAMA": "27",
                                    "(No column name)": "2"
                                },
                                {
                                    "SZOBA_SZAMA": "29",
                                    "(No column name)": "2"
                                },
                                {
                                    "SZOBA_SZAMA": "34",
                                    "(No column name)": "2"
                                },
                                {
                                    "SZOBA_SZAMA": "19",
                                    "(No column name)": "2"
                                },
                                {
                                    "SZOBA_SZAMA": "31",
                                    "(No column name)": "2"
                                },
                                {
                                    "SZOBA_SZAMA": "33",
                                    "(No column name)": "2"
                                },
                                {
                                    "SZOBA_SZAMA": "11",
                                    "(No column name)": "2"
                                },
                                {
                                    "SZOBA_SZAMA": "30",
                                    "(No column name)": "2"
                                },
                                {
                                    "SZOBA_SZAMA": "34",
                                    "(No column name)": "2"
                                },
                                {
                                    "SZOBA_SZAMA": "21",
                                    "(No column name)": "2"
                                },
                                {
                                    "SZOBA_SZAMA": "11",
                                    "(No column name)": "2"
                                },
                                {
                                    "SZOBA_SZAMA": "34",
                                    "(No column name)": "2"
                                },
                                {
                                    "SZOBA_SZAMA": "1",
                                    "(No column name)": "2"
                                },
                                {
                                    "SZOBA_SZAMA": "8",
                                    "(No column name)": "2"
                                },
                                {
                                    "SZOBA_SZAMA": "12",
                                    "(No column name)": "2"
                                },
                                {
                                    "SZOBA_SZAMA": "19",
                                    "(No column name)": "2"
                                },
                                {
                                    "SZOBA_SZAMA": "22",
                                    "(No column name)": "2"
                                },
                                {
                                    "SZOBA_SZAMA": "34",
                                    "(No column name)": "2"
                                },
                                {
                                    "SZOBA_SZAMA": "8",
                                    "(No column name)": "2"
                                },
                                {
                                    "SZOBA_SZAMA": "33",
                                    "(No column name)": "2"
                                },
                                {
                                    "SZOBA_SZAMA": "13",
                                    "(No column name)": "2"
                                },
                                {
                                    "SZOBA_SZAMA": "7",
                                    "(No column name)": "2"
                                },
                                {
                                    "SZOBA_SZAMA": "21",
                                    "(No column name)": "2"
                                },
                                {
                                    "SZOBA_SZAMA": "31",
                                    "(No column name)": "2"
                                },
                                {
                                    "SZOBA_SZAMA": "18",
                                    "(No column name)": "2"
                                },
                                {
                                    "SZOBA_SZAMA": "6",
                                    "(No column name)": "3"
                                },
                                {
                                    "SZOBA_SZAMA": "25",
                                    "(No column name)": "2"
                                },
                                {
                                    "SZOBA_SZAMA": "14",
                                    "(No column name)": "2"
                                },
                                {
                                    "SZOBA_SZAMA": "34",
                                    "(No column name)": "2"
                                },
                                {
                                    "SZOBA_SZAMA": "18",
                                    "(No column name)": "2"
                                },
                                {
                                    "SZOBA_SZAMA": "18",
                                    "(No column name)": "2"
                                },
                                {
                                    "SZOBA_SZAMA": "29",
                                    "(No column name)": "2"
                                },
                                {
                                    "SZOBA_SZAMA": "14",
                                    "(No column name)": "2"
                                },
                                {
                                    "SZOBA_SZAMA": "20",
                                    "(No column name)": "2"
                                },
                                {
                                    "SZOBA_SZAMA": "22",
                                    "(No column name)": "2"
                                },
                                {
                                    "SZOBA_SZAMA": "4",
                                    "(No column name)": "2"
                                },
                                {
                                    "SZOBA_SZAMA": "4",
                                    "(No column name)": "2"
                                },
                                {
                                    "SZOBA_SZAMA": "6",
                                    "(No column name)": "2"
                                },
                                {
                                    "SZOBA_SZAMA": "10",
                                    "(No column name)": "1"
                                },
                                {
                                    "SZOBA_SZAMA": "12",
                                    "(No column name)": "2"
                                },
                                {
                                    "SZOBA_SZAMA": "27",
                                    "(No column name)": "2"
                                },
                                {
                                    "SZOBA_SZAMA": "33",
                                    "(No column name)": "2"
                                },
                                {
                                    "SZOBA_SZAMA": "18",
                                    "(No column name)": "2"
                                },
                                {
                                    "SZOBA_SZAMA": "32",
                                    "(No column name)": "2"
                                },
                                {
                                    "SZOBA_SZAMA": "18",
                                    "(No column name)": "2"
                                },
                                {
                                    "SZOBA_SZAMA": "27",
                                    "(No column name)": "2"
                                },
                                {
                                    "SZOBA_SZAMA": "18",
                                    "(No column name)": "2"
                                },
                                {
                                    "SZOBA_SZAMA": "7",
                                    "(No column name)": "2"
                                },
                                {
                                    "SZOBA_SZAMA": "8",
                                    "(No column name)": "2"
                                },
                                {
                                    "SZOBA_SZAMA": "32",
                                    "(No column name)": "1"
                                },
                                {
                                    "SZOBA_SZAMA": "6",
                                    "(No column name)": "2"
                                },
                                {
                                    "SZOBA_SZAMA": "17",
                                    "(No column name)": "1"
                                },
                                {
                                    "SZOBA_SZAMA": "9",
                                    "(No column name)": "1"
                                },
                                {
                                    "SZOBA_SZAMA": "5",
                                    "(No column name)": "1"
                                },
                                {
                                    "SZOBA_SZAMA": "1",
                                    "(No column name)": "2"
                                },
                                {
                                    "SZOBA_SZAMA": "12",
                                    "(No column name)": "2"
                                },
                                {
                                    "SZOBA_SZAMA": "33",
                                    "(No column name)": "2"
                                },
                                {
                                    "SZOBA_SZAMA": "24",
                                    "(No column name)": "2"
                                },
                                {
                                    "SZOBA_SZAMA": "23",
                                    "(No column name)": "2"
                                },
                                {
                                    "SZOBA_SZAMA": "11",
                                    "(No column name)": "2"
                                },
                                {
                                    "SZOBA_SZAMA": "18",
                                    "(No column name)": "2"
                                },
                                {
                                    "SZOBA_SZAMA": "3",
                                    "(No column name)": "2"
                                },
                                {
                                    "SZOBA_SZAMA": "34",
                                    "(No column name)": "2"
                                },
                                {
                                    "SZOBA_SZAMA": "8",
                                    "(No column name)": "2"
                                },
                                {
                                    "SZOBA_SZAMA": "18",
                                    "(No column name)": "2"
                                },
                                {
                                    "SZOBA_SZAMA": "9",
                                    "(No column name)": "1"
                                },
                                {
                                    "SZOBA_SZAMA": "5",
                                    "(No column name)": "1"
                                },
                                {
                                    "SZOBA_SZAMA": "19",
                                    "(No column name)": "1"
                                },
                                {
                                    "SZOBA_SZAMA": "21",
                                    "(No column name)": "2"
                                },
                                {
                                    "SZOBA_SZAMA": "25",
                                    "(No column name)": "2"
                                },
                                {
                                    "SZOBA_SZAMA": "22",
                                    "(No column name)": "2"
                                },
                                {
                                    "SZOBA_SZAMA": "21",
                                    "(No column name)": "2"
                                },
                                {
                                    "SZOBA_SZAMA": "31",
                                    "(No column name)": "3"
                                },
                                {
                                    "SZOBA_SZAMA": "31",
                                    "(No column name)": "2"
                                },
                                {
                                    "SZOBA_SZAMA": "8",
                                    "(No column name)": "2"
                                },
                                {
                                    "SZOBA_SZAMA": "15",
                                    "(No column name)": "2"
                                },
                                {
                                    "SZOBA_SZAMA": "27",
                                    "(No column name)": "2"
                                },
                                {
                                    "SZOBA_SZAMA": "13",
                                    "(No column name)": "2"
                                },
                                {
                                    "SZOBA_SZAMA": "27",
                                    "(No column name)": "2"
                                },
                                {
                                    "SZOBA_SZAMA": "12",
                                    "(No column name)": "2"
                                },
                                {
                                    "SZOBA_SZAMA": "26",
                                    "(No column name)": "2"
                                },
                                {
                                    "SZOBA_SZAMA": "2",
                                    "(No column name)": "2"
                                },
                                {
                                    "SZOBA_SZAMA": "16",
                                    "(No column name)": "2"
                                },
                                {
                                    "SZOBA_SZAMA": "16",
                                    "(No column name)": "2"
                                },
                                {
                                    "SZOBA_SZAMA": "12",
                                    "(No column name)": "3"
                                },
                                {
                                    "SZOBA_SZAMA": "7",
                                    "(No column name)": "3"
                                },
                                {
                                    "SZOBA_SZAMA": "25",
                                    "(No column name)": "3"
                                }
                            ]
                        },
                        "text/html": [
                            "<table>",
                            "<tr><th>SZOBA_SZAMA</th><th>(No column name)</th></tr>",
                            "<tr><td>6</td><td>NULL</td></tr>",
                            "<tr><td>7</td><td>2</td></tr>",
                            "<tr><td>5</td><td>1</td></tr>",
                            "<tr><td>10</td><td>1</td></tr>",
                            "<tr><td>9</td><td>1</td></tr>",
                            "<tr><td>1</td><td>1</td></tr>",
                            "<tr><td>3</td><td>1</td></tr>",
                            "<tr><td>4</td><td>2</td></tr>",
                            "<tr><td>6</td><td>1</td></tr>",
                            "<tr><td>8</td><td>1</td></tr>",
                            "<tr><td>12</td><td>1</td></tr>",
                            "<tr><td>11</td><td>2</td></tr>",
                            "<tr><td>4</td><td>2</td></tr>",
                            "<tr><td>8</td><td>2</td></tr>",
                            "<tr><td>1</td><td>2</td></tr>",
                            "<tr><td>12</td><td>2</td></tr>",
                            "<tr><td>5</td><td>2</td></tr>",
                            "<tr><td>12</td><td>1</td></tr>",
                            "<tr><td>6</td><td>1</td></tr>",
                            "<tr><td>4</td><td>1</td></tr>",
                            "<tr><td>12</td><td>1</td></tr>",
                            "<tr><td>3</td><td>1</td></tr>",
                            "<tr><td>8</td><td>2</td></tr>",
                            "<tr><td>12</td><td>2</td></tr>",
                            "<tr><td>1</td><td>2</td></tr>",
                            "<tr><td>7</td><td>2</td></tr>",
                            "<tr><td>6</td><td>2</td></tr>",
                            "<tr><td>12</td><td>2</td></tr>",
                            "<tr><td>3</td><td>2</td></tr>",
                            "<tr><td>10</td><td>3</td></tr>",
                            "<tr><td>10</td><td>2</td></tr>",
                            "<tr><td>1</td><td>2</td></tr>",
                            "<tr><td>8</td><td>2</td></tr>",
                            "<tr><td>2</td><td>2</td></tr>",
                            "<tr><td>8</td><td>2</td></tr>",
                            "<tr><td>6</td><td>2</td></tr>",
                            "<tr><td>3</td><td>2</td></tr>",
                            "<tr><td>2</td><td>3</td></tr>",
                            "<tr><td>2</td><td>3</td></tr>",
                            "<tr><td>5</td><td>3</td></tr>",
                            "<tr><td>6</td><td>3</td></tr>",
                            "<tr><td>3</td><td>3</td></tr>",
                            "<tr><td>11</td><td>3</td></tr>",
                            "<tr><td>4</td><td>3</td></tr>",
                            "<tr><td>7</td><td>2</td></tr>",
                            "<tr><td>4</td><td>2</td></tr>",
                            "<tr><td>1</td><td>2</td></tr>",
                            "<tr><td>12</td><td>2</td></tr>",
                            "<tr><td>3</td><td>2</td></tr>",
                            "<tr><td>1</td><td>2</td></tr>",
                            "<tr><td>9</td><td>2</td></tr>",
                            "<tr><td>12</td><td>2</td></tr>",
                            "<tr><td>7</td><td>2</td></tr>",
                            "<tr><td>7</td><td>2</td></tr>",
                            "<tr><td>9</td><td>2</td></tr>",
                            "<tr><td>11</td><td>2</td></tr>",
                            "<tr><td>7</td><td>2</td></tr>",
                            "<tr><td>5</td><td>2</td></tr>",
                            "<tr><td>9</td><td>2</td></tr>",
                            "<tr><td>1</td><td>2</td></tr>",
                            "<tr><td>2</td><td>2</td></tr>",
                            "<tr><td>10</td><td>2</td></tr>",
                            "<tr><td>1</td><td>3</td></tr>",
                            "<tr><td>9</td><td>3</td></tr>",
                            "<tr><td>12</td><td>3</td></tr>",
                            "<tr><td>3</td><td>2</td></tr>",
                            "<tr><td>4</td><td>2</td></tr>",
                            "<tr><td>11</td><td>2</td></tr>",
                            "<tr><td>9</td><td>1</td></tr>",
                            "<tr><td>3</td><td>1</td></tr>",
                            "<tr><td>2</td><td>NULL</td></tr>",
                            "<tr><td>4</td><td>4</td></tr>",
                            "<tr><td>4</td><td>4</td></tr>",
                            "<tr><td>4</td><td>3</td></tr>",
                            "<tr><td>3</td><td>3</td></tr>",
                            "<tr><td>4</td><td>3</td></tr>",
                            "<tr><td>1</td><td>3</td></tr>",
                            "<tr><td>3</td><td>2</td></tr>",
                            "<tr><td>2</td><td>2</td></tr>",
                            "<tr><td>1</td><td>2</td></tr>",
                            "<tr><td>3</td><td>2</td></tr>",
                            "<tr><td>3</td><td>2</td></tr>",
                            "<tr><td>1</td><td>2</td></tr>",
                            "<tr><td>3</td><td>2</td></tr>",
                            "<tr><td>3</td><td>2</td></tr>",
                            "<tr><td>1</td><td>2</td></tr>",
                            "<tr><td>4</td><td>2</td></tr>",
                            "<tr><td>2</td><td>2</td></tr>",
                            "<tr><td>5</td><td>NULL</td></tr>",
                            "<tr><td>1</td><td>2</td></tr>",
                            "<tr><td>2</td><td>3</td></tr>",
                            "<tr><td>5</td><td>2</td></tr>",
                            "<tr><td>8</td><td>2</td></tr>",
                            "<tr><td>6</td><td>2</td></tr>",
                            "<tr><td>1</td><td>2</td></tr>",
                            "<tr><td>7</td><td>2</td></tr>",
                            "<tr><td>3</td><td>2</td></tr>",
                            "<tr><td>7</td><td>1</td></tr>",
                            "<tr><td>6</td><td>1</td></tr>",
                            "<tr><td>3</td><td>1</td></tr>",
                            "<tr><td>1</td><td>1</td></tr>",
                            "<tr><td>1</td><td>1</td></tr>",
                            "<tr><td>4</td><td>1</td></tr>",
                            "<tr><td>2</td><td>1</td></tr>",
                            "<tr><td>3</td><td>2</td></tr>",
                            "<tr><td>5</td><td>2</td></tr>",
                            "<tr><td>4</td><td>2</td></tr>",
                            "<tr><td>7</td><td>2</td></tr>",
                            "<tr><td>2</td><td>2</td></tr>",
                            "<tr><td>4</td><td>2</td></tr>",
                            "<tr><td>4</td><td>2</td></tr>",
                            "<tr><td>4</td><td>2</td></tr>",
                            "<tr><td>6</td><td>2</td></tr>",
                            "<tr><td>3</td><td>3</td></tr>",
                            "<tr><td>8</td><td>3</td></tr>",
                            "<tr><td>2</td><td>3</td></tr>",
                            "<tr><td>6</td><td>3</td></tr>",
                            "<tr><td>2</td><td>4</td></tr>",
                            "<tr><td>6</td><td>3</td></tr>",
                            "<tr><td>5</td><td>3</td></tr>",
                            "<tr><td>3</td><td>3</td></tr>",
                            "<tr><td>6</td><td>3</td></tr>",
                            "<tr><td>1</td><td>2</td></tr>",
                            "<tr><td>8</td><td>2</td></tr>",
                            "<tr><td>2</td><td>2</td></tr>",
                            "<tr><td>3</td><td>3</td></tr>",
                            "<tr><td>1</td><td>3</td></tr>",
                            "<tr><td>7</td><td>NULL</td></tr>",
                            "<tr><td>15</td><td>4</td></tr>",
                            "<tr><td>6</td><td>2</td></tr>",
                            "<tr><td>7</td><td>2</td></tr>",
                            "<tr><td>5</td><td>2</td></tr>",
                            "<tr><td>14</td><td>2</td></tr>",
                            "<tr><td>9</td><td>2</td></tr>",
                            "<tr><td>10</td><td>3</td></tr>",
                            "<tr><td>4</td><td>3</td></tr>",
                            "<tr><td>4</td><td>2</td></tr>",
                            "<tr><td>5</td><td>2</td></tr>",
                            "<tr><td>12</td><td>2</td></tr>",
                            "<tr><td>15</td><td>2</td></tr>",
                            "<tr><td>4</td><td>2</td></tr>",
                            "<tr><td>10</td><td>2</td></tr>",
                            "<tr><td>12</td><td>2</td></tr>",
                            "<tr><td>8</td><td>2</td></tr>",
                            "<tr><td>11</td><td>2</td></tr>",
                            "<tr><td>11</td><td>2</td></tr>",
                            "<tr><td>12</td><td>2</td></tr>",
                            "<tr><td>12</td><td>3</td></tr>",
                            "<tr><td>9</td><td>2</td></tr>",
                            "<tr><td>6</td><td>3</td></tr>",
                            "<tr><td>11</td><td>3</td></tr>",
                            "<tr><td>13</td><td>3</td></tr>",
                            "<tr><td>13</td><td>2</td></tr>",
                            "<tr><td>11</td><td>2</td></tr>",
                            "<tr><td>7</td><td>2</td></tr>",
                            "<tr><td>4</td><td>2</td></tr>",
                            "<tr><td>12</td><td>2</td></tr>",
                            "<tr><td>12</td><td>2</td></tr>",
                            "<tr><td>3</td><td>3</td></tr>",
                            "<tr><td>10</td><td>3</td></tr>",
                            "<tr><td>3</td><td>3</td></tr>",
                            "<tr><td>10</td><td>3</td></tr>",
                            "<tr><td>11</td><td>3</td></tr>",
                            "<tr><td>3</td><td>3</td></tr>",
                            "<tr><td>14</td><td>3</td></tr>",
                            "<tr><td>1</td><td>3</td></tr>",
                            "<tr><td>9</td><td>3</td></tr>",
                            "<tr><td>14</td><td>3</td></tr>",
                            "<tr><td>5</td><td>3</td></tr>",
                            "<tr><td>14</td><td>2</td></tr>",
                            "<tr><td>3</td><td>2</td></tr>",
                            "<tr><td>6</td><td>2</td></tr>",
                            "<tr><td>4</td><td>2</td></tr>",
                            "<tr><td>2</td><td>2</td></tr>",
                            "<tr><td>5</td><td>2</td></tr>",
                            "<tr><td>15</td><td>2</td></tr>",
                            "<tr><td>5</td><td>2</td></tr>",
                            "<tr><td>3</td><td>2</td></tr>",
                            "<tr><td>9</td><td>2</td></tr>",
                            "<tr><td>13</td><td>2</td></tr>",
                            "<tr><td>9</td><td>2</td></tr>",
                            "<tr><td>14</td><td>2</td></tr>",
                            "<tr><td>1</td><td>2</td></tr>",
                            "<tr><td>3</td><td>2</td></tr>",
                            "<tr><td>15</td><td>2</td></tr>",
                            "<tr><td>9</td><td>2</td></tr>",
                            "<tr><td>2</td><td>2</td></tr>",
                            "<tr><td>11</td><td>2</td></tr>",
                            "<tr><td>11</td><td>2</td></tr>",
                            "<tr><td>14</td><td>2</td></tr>",
                            "<tr><td>15</td><td>2</td></tr>",
                            "<tr><td>11</td><td>2</td></tr>",
                            "<tr><td>15</td><td>1</td></tr>",
                            "<tr><td>4</td><td>2</td></tr>",
                            "<tr><td>3</td><td>1</td></tr>",
                            "<tr><td>14</td><td>2</td></tr>",
                            "<tr><td>11</td><td>2</td></tr>",
                            "<tr><td>15</td><td>2</td></tr>",
                            "<tr><td>14</td><td>2</td></tr>",
                            "<tr><td>5</td><td>2</td></tr>",
                            "<tr><td>3</td><td>NULL</td></tr>",
                            "<tr><td>5</td><td>2</td></tr>",
                            "<tr><td>3</td><td>2</td></tr>",
                            "<tr><td>9</td><td>2</td></tr>",
                            "<tr><td>9</td><td>2</td></tr>",
                            "<tr><td>5</td><td>2</td></tr>",
                            "<tr><td>3</td><td>2</td></tr>",
                            "<tr><td>10</td><td>2</td></tr>",
                            "<tr><td>9</td><td>3</td></tr>",
                            "<tr><td>1</td><td>3</td></tr>",
                            "<tr><td>1</td><td>3</td></tr>",
                            "<tr><td>8</td><td>3</td></tr>",
                            "<tr><td>2</td><td>2</td></tr>",
                            "<tr><td>9</td><td>2</td></tr>",
                            "<tr><td>1</td><td>2</td></tr>",
                            "<tr><td>4</td><td>2</td></tr>",
                            "<tr><td>4</td><td>2</td></tr>",
                            "<tr><td>7</td><td>2</td></tr>",
                            "<tr><td>3</td><td>2</td></tr>",
                            "<tr><td>10</td><td>2</td></tr>",
                            "<tr><td>6</td><td>2</td></tr>",
                            "<tr><td>6</td><td>2</td></tr>",
                            "<tr><td>5</td><td>2</td></tr>",
                            "<tr><td>9</td><td>2</td></tr>",
                            "<tr><td>10</td><td>2</td></tr>",
                            "<tr><td>6</td><td>2</td></tr>",
                            "<tr><td>8</td><td>2</td></tr>",
                            "<tr><td>10</td><td>2</td></tr>",
                            "<tr><td>4</td><td>1</td></tr>",
                            "<tr><td>1</td><td>1</td></tr>",
                            "<tr><td>6</td><td>1</td></tr>",
                            "<tr><td>2</td><td>2</td></tr>",
                            "<tr><td>7</td><td>2</td></tr>",
                            "<tr><td>10</td><td>2</td></tr>",
                            "<tr><td>4</td><td>2</td></tr>",
                            "<tr><td>4</td><td>2</td></tr>",
                            "<tr><td>10</td><td>2</td></tr>",
                            "<tr><td>9</td><td>2</td></tr>",
                            "<tr><td>4</td><td>2</td></tr>",
                            "<tr><td>7</td><td>2</td></tr>",
                            "<tr><td>5</td><td>2</td></tr>",
                            "<tr><td>6</td><td>2</td></tr>",
                            "<tr><td>3</td><td>2</td></tr>",
                            "<tr><td>5</td><td>2</td></tr>",
                            "<tr><td>3</td><td>2</td></tr>",
                            "<tr><td>7</td><td>2</td></tr>",
                            "<tr><td>4</td><td>2</td></tr>",
                            "<tr><td>10</td><td>2</td></tr>",
                            "<tr><td>9</td><td>2</td></tr>",
                            "<tr><td>9</td><td>2</td></tr>",
                            "<tr><td>5</td><td>2</td></tr>",
                            "<tr><td>4</td><td>2</td></tr>",
                            "<tr><td>9</td><td>2</td></tr>",
                            "<tr><td>19</td><td>NULL</td></tr>",
                            "<tr><td>34</td><td>4</td></tr>",
                            "<tr><td>29</td><td>3</td></tr>",
                            "<tr><td>30</td><td>2</td></tr>",
                            "<tr><td>21</td><td>2</td></tr>",
                            "<tr><td>28</td><td>2</td></tr>",
                            "<tr><td>25</td><td>2</td></tr>",
                            "<tr><td>5</td><td>2</td></tr>",
                            "<tr><td>14</td><td>2</td></tr>",
                            "<tr><td>18</td><td>2</td></tr>",
                            "<tr><td>5</td><td>2</td></tr>",
                            "<tr><td>18</td><td>1</td></tr>",
                            "<tr><td>29</td><td>2</td></tr>",
                            "<tr><td>16</td><td>2</td></tr>",
                            "<tr><td>4</td><td>2</td></tr>",
                            "<tr><td>21</td><td>2</td></tr>",
                            "<tr><td>33</td><td>2</td></tr>",
                            "<tr><td>34</td><td>2</td></tr>",
                            "<tr><td>2</td><td>2</td></tr>",
                            "<tr><td>33</td><td>2</td></tr>",
                            "<tr><td>25</td><td>2</td></tr>",
                            "<tr><td>34</td><td>2</td></tr>",
                            "<tr><td>9</td><td>2</td></tr>",
                            "<tr><td>18</td><td>2</td></tr>",
                            "<tr><td>15</td><td>2</td></tr>",
                            "<tr><td>20</td><td>2</td></tr>",
                            "<tr><td>31</td><td>2</td></tr>",
                            "<tr><td>5</td><td>2</td></tr>",
                            "<tr><td>14</td><td>2</td></tr>",
                            "<tr><td>23</td><td>2</td></tr>",
                            "<tr><td>31</td><td>2</td></tr>",
                            "<tr><td>7</td><td>1</td></tr>",
                            "<tr><td>13</td><td>1</td></tr>",
                            "<tr><td>13</td><td>1</td></tr>",
                            "<tr><td>25</td><td>1</td></tr>",
                            "<tr><td>17</td><td>2</td></tr>",
                            "<tr><td>35</td><td>2</td></tr>",
                            "<tr><td>23</td><td>2</td></tr>",
                            "<tr><td>25</td><td>2</td></tr>",
                            "<tr><td>27</td><td>2</td></tr>",
                            "<tr><td>28</td><td>2</td></tr>",
                            "<tr><td>31</td><td>2</td></tr>",
                            "<tr><td>4</td><td>2</td></tr>",
                            "<tr><td>34</td><td>2</td></tr>",
                            "<tr><td>33</td><td>2</td></tr>",
                            "<tr><td>24</td><td>2</td></tr>",
                            "<tr><td>21</td><td>2</td></tr>",
                            "<tr><td>22</td><td>1</td></tr>",
                            "<tr><td>26</td><td>2</td></tr>",
                            "<tr><td>19</td><td>1</td></tr>",
                            "<tr><td>31</td><td>2</td></tr>",
                            "<tr><td>5</td><td>2</td></tr>",
                            "<tr><td>34</td><td>3</td></tr>",
                            "<tr><td>11</td><td>3</td></tr>",
                            "<tr><td>22</td><td>3</td></tr>",
                            "<tr><td>27</td><td>2</td></tr>",
                            "<tr><td>28</td><td>2</td></tr>",
                            "<tr><td>29</td><td>2</td></tr>",
                            "<tr><td>12</td><td>2</td></tr>",
                            "<tr><td>13</td><td>2</td></tr>",
                            "<tr><td>21</td><td>2</td></tr>",
                            "<tr><td>22</td><td>2</td></tr>",
                            "<tr><td>24</td><td>2</td></tr>",
                            "<tr><td>9</td><td>2</td></tr>",
                            "<tr><td>6</td><td>2</td></tr>",
                            "<tr><td>17</td><td>3</td></tr>",
                            "<tr><td>12</td><td>3</td></tr>",
                            "<tr><td>9</td><td>3</td></tr>",
                            "<tr><td>14</td><td>2</td></tr>",
                            "<tr><td>1</td><td>2</td></tr>",
                            "<tr><td>25</td><td>2</td></tr>",
                            "<tr><td>34</td><td>2</td></tr>",
                            "<tr><td>2</td><td>2</td></tr>",
                            "<tr><td>3</td><td>2</td></tr>",
                            "<tr><td>35</td><td>2</td></tr>",
                            "<tr><td>21</td><td>2</td></tr>",
                            "<tr><td>25</td><td>2</td></tr>",
                            "<tr><td>7</td><td>2</td></tr>",
                            "<tr><td>14</td><td>2</td></tr>",
                            "<tr><td>25</td><td>2</td></tr>",
                            "<tr><td>30</td><td>2</td></tr>",
                            "<tr><td>20</td><td>2</td></tr>",
                            "<tr><td>1</td><td>2</td></tr>",
                            "<tr><td>31</td><td>2</td></tr>",
                            "<tr><td>10</td><td>2</td></tr>",
                            "<tr><td>13</td><td>2</td></tr>",
                            "<tr><td>10</td><td>2</td></tr>",
                            "<tr><td>6</td><td>2</td></tr>",
                            "<tr><td>5</td><td>2</td></tr>",
                            "<tr><td>21</td><td>2</td></tr>",
                            "<tr><td>25</td><td>2</td></tr>",
                            "<tr><td>9</td><td>2</td></tr>",
                            "<tr><td>28</td><td>2</td></tr>",
                            "<tr><td>34</td><td>2</td></tr>",
                            "<tr><td>15</td><td>2</td></tr>",
                            "<tr><td>21</td><td>2</td></tr>",
                            "<tr><td>12</td><td>2</td></tr>",
                            "<tr><td>24</td><td>2</td></tr>",
                            "<tr><td>6</td><td>2</td></tr>",
                            "<tr><td>2</td><td>2</td></tr>",
                            "<tr><td>10</td><td>2</td></tr>",
                            "<tr><td>25</td><td>2</td></tr>",
                            "<tr><td>9</td><td>2</td></tr>",
                            "<tr><td>10</td><td>2</td></tr>",
                            "<tr><td>3</td><td>2</td></tr>",
                            "<tr><td>9</td><td>2</td></tr>",
                            "<tr><td>12</td><td>2</td></tr>",
                            "<tr><td>1</td><td>2</td></tr>",
                            "<tr><td>20</td><td>2</td></tr>",
                            "<tr><td>30</td><td>1</td></tr>",
                            "<tr><td>6</td><td>2</td></tr>",
                            "<tr><td>15</td><td>2</td></tr>",
                            "<tr><td>17</td><td>2</td></tr>",
                            "<tr><td>10</td><td>2</td></tr>",
                            "<tr><td>20</td><td>2</td></tr>",
                            "<tr><td>9</td><td>3</td></tr>",
                            "<tr><td>3</td><td>2</td></tr>",
                            "<tr><td>9</td><td>2</td></tr>",
                            "<tr><td>17</td><td>2</td></tr>",
                            "<tr><td>29</td><td>2</td></tr>",
                            "<tr><td>1</td><td>2</td></tr>",
                            "<tr><td>33</td><td>2</td></tr>",
                            "<tr><td>31</td><td>2</td></tr>",
                            "<tr><td>29</td><td>2</td></tr>",
                            "<tr><td>9</td><td>2</td></tr>",
                            "<tr><td>10</td><td>2</td></tr>",
                            "<tr><td>9</td><td>2</td></tr>",
                            "<tr><td>9</td><td>2</td></tr>",
                            "<tr><td>23</td><td>2</td></tr>",
                            "<tr><td>9</td><td>2</td></tr>",
                            "<tr><td>19</td><td>2</td></tr>",
                            "<tr><td>21</td><td>2</td></tr>",
                            "<tr><td>6</td><td>3</td></tr>",
                            "<tr><td>5</td><td>3</td></tr>",
                            "<tr><td>24</td><td>3</td></tr>",
                            "<tr><td>21</td><td>2</td></tr>",
                            "<tr><td>33</td><td>2</td></tr>",
                            "<tr><td>30</td><td>2</td></tr>",
                            "<tr><td>8</td><td>2</td></tr>",
                            "<tr><td>21</td><td>2</td></tr>",
                            "<tr><td>32</td><td>2</td></tr>",
                            "<tr><td>31</td><td>2</td></tr>",
                            "<tr><td>35</td><td>1</td></tr>",
                            "<tr><td>34</td><td>1</td></tr>",
                            "<tr><td>35</td><td>1</td></tr>",
                            "<tr><td>18</td><td>1</td></tr>",
                            "<tr><td>6</td><td>1</td></tr>",
                            "<tr><td>8</td><td>2</td></tr>",
                            "<tr><td>23</td><td>1</td></tr>",
                            "<tr><td>33</td><td>1</td></tr>",
                            "<tr><td>26</td><td>2</td></tr>",
                            "<tr><td>13</td><td>2</td></tr>",
                            "<tr><td>3</td><td>2</td></tr>",
                            "<tr><td>28</td><td>2</td></tr>",
                            "<tr><td>32</td><td>2</td></tr>",
                            "<tr><td>15</td><td>2</td></tr>",
                            "<tr><td>30</td><td>2</td></tr>",
                            "<tr><td>9</td><td>2</td></tr>",
                            "<tr><td>21</td><td>2</td></tr>",
                            "<tr><td>26</td><td>1</td></tr>",
                            "<tr><td>28</td><td>2</td></tr>",
                            "<tr><td>32</td><td>2</td></tr>",
                            "<tr><td>15</td><td>2</td></tr>",
                            "<tr><td>8</td><td>2</td></tr>",
                            "<tr><td>2</td><td>1</td></tr>",
                            "<tr><td>12</td><td>1</td></tr>",
                            "<tr><td>32</td><td>2</td></tr>",
                            "<tr><td>8</td><td>2</td></tr>",
                            "<tr><td>6</td><td>1</td></tr>",
                            "<tr><td>6</td><td>2</td></tr>",
                            "<tr><td>3</td><td>2</td></tr>",
                            "<tr><td>2</td><td>2</td></tr>",
                            "<tr><td>27</td><td>2</td></tr>",
                            "<tr><td>32</td><td>3</td></tr>",
                            "<tr><td>10</td><td>2</td></tr>",
                            "<tr><td>29</td><td>2</td></tr>",
                            "<tr><td>18</td><td>2</td></tr>",
                            "<tr><td>15</td><td>2</td></tr>",
                            "<tr><td>18</td><td>2</td></tr>",
                            "<tr><td>3</td><td>NULL</td></tr>",
                            "<tr><td>1</td><td>3</td></tr>",
                            "<tr><td>2</td><td>2</td></tr>",
                            "<tr><td>4</td><td>2</td></tr>",
                            "<tr><td>6</td><td>2</td></tr>",
                            "<tr><td>4</td><td>2</td></tr>",
                            "<tr><td>5</td><td>2</td></tr>",
                            "<tr><td>3</td><td>2</td></tr>",
                            "<tr><td>5</td><td>2</td></tr>",
                            "<tr><td>2</td><td>2</td></tr>",
                            "<tr><td>1</td><td>2</td></tr>",
                            "<tr><td>2</td><td>2</td></tr>",
                            "<tr><td>5</td><td>1</td></tr>",
                            "<tr><td>3</td><td>1</td></tr>",
                            "<tr><td>2</td><td>1</td></tr>",
                            "<tr><td>6</td><td>1</td></tr>",
                            "<tr><td>5</td><td>2</td></tr>",
                            "<tr><td>4</td><td>2</td></tr>",
                            "<tr><td>5</td><td>2</td></tr>",
                            "<tr><td>5</td><td>2</td></tr>",
                            "<tr><td>4</td><td>2</td></tr>",
                            "<tr><td>6</td><td>2</td></tr>",
                            "<tr><td>4</td><td>2</td></tr>",
                            "<tr><td>1</td><td>2</td></tr>",
                            "<tr><td>3</td><td>2</td></tr>",
                            "<tr><td>4</td><td>2</td></tr>",
                            "<tr><td>5</td><td>2</td></tr>",
                            "<tr><td>6</td><td>2</td></tr>",
                            "<tr><td>2</td><td>2</td></tr>",
                            "<tr><td>3</td><td>2</td></tr>",
                            "<tr><td>1</td><td>3</td></tr>",
                            "<tr><td>5</td><td>2</td></tr>",
                            "<tr><td>4</td><td>2</td></tr>",
                            "<tr><td>4</td><td>2</td></tr>",
                            "<tr><td>35</td><td>NULL</td></tr>",
                            "<tr><td>17</td><td>3</td></tr>",
                            "<tr><td>33</td><td>2</td></tr>",
                            "<tr><td>25</td><td>1</td></tr>",
                            "<tr><td>10</td><td>2</td></tr>",
                            "<tr><td>21</td><td>2</td></tr>",
                            "<tr><td>6</td><td>2</td></tr>",
                            "<tr><td>16</td><td>2</td></tr>",
                            "<tr><td>27</td><td>2</td></tr>",
                            "<tr><td>19</td><td>2</td></tr>",
                            "<tr><td>4</td><td>2</td></tr>",
                            "<tr><td>27</td><td>2</td></tr>",
                            "<tr><td>15</td><td>2</td></tr>",
                            "<tr><td>19</td><td>2</td></tr>",
                            "<tr><td>6</td><td>2</td></tr>",
                            "<tr><td>8</td><td>2</td></tr>",
                            "<tr><td>9</td><td>2</td></tr>",
                            "<tr><td>7</td><td>2</td></tr>",
                            "<tr><td>1</td><td>2</td></tr>",
                            "<tr><td>10</td><td>2</td></tr>",
                            "<tr><td>37</td><td>2</td></tr>",
                            "<tr><td>19</td><td>2</td></tr>",
                            "<tr><td>5</td><td>2</td></tr>",
                            "<tr><td>37</td><td>2</td></tr>",
                            "<tr><td>31</td><td>2</td></tr>",
                            "<tr><td>34</td><td>1</td></tr>",
                            "<tr><td>28</td><td>2</td></tr>",
                            "<tr><td>8</td><td>2</td></tr>",
                            "<tr><td>37</td><td>1</td></tr>",
                            "<tr><td>22</td><td>1</td></tr>",
                            "<tr><td>20</td><td>2</td></tr>",
                            "<tr><td>33</td><td>2</td></tr>",
                            "<tr><td>2</td><td>1</td></tr>",
                            "<tr><td>25</td><td>2</td></tr>",
                            "<tr><td>27</td><td>2</td></tr>",
                            "<tr><td>21</td><td>2</td></tr>",
                            "<tr><td>20</td><td>2</td></tr>",
                            "<tr><td>27</td><td>2</td></tr>",
                            "<tr><td>24</td><td>2</td></tr>",
                            "<tr><td>33</td><td>2</td></tr>",
                            "<tr><td>13</td><td>2</td></tr>",
                            "<tr><td>4</td><td>2</td></tr>",
                            "<tr><td>13</td><td>2</td></tr>",
                            "<tr><td>28</td><td>2</td></tr>",
                            "<tr><td>30</td><td>2</td></tr>",
                            "<tr><td>28</td><td>2</td></tr>",
                            "<tr><td>27</td><td>2</td></tr>",
                            "<tr><td>32</td><td>3</td></tr>",
                            "<tr><td>2</td><td>3</td></tr>",
                            "<tr><td>29</td><td>3</td></tr>",
                            "<tr><td>4</td><td>2</td></tr>",
                            "<tr><td>6</td><td>2</td></tr>",
                            "<tr><td>20</td><td>2</td></tr>",
                            "<tr><td>12</td><td>2</td></tr>",
                            "<tr><td>9</td><td>1</td></tr>",
                            "<tr><td>29</td><td>2</td></tr>",
                            "<tr><td>16</td><td>2</td></tr>",
                            "<tr><td>11</td><td>1</td></tr>",
                            "<tr><td>28</td><td>1</td></tr>",
                            "<tr><td>38</td><td>2</td></tr>",
                            "<tr><td>7</td><td>2</td></tr>",
                            "<tr><td>29</td><td>2</td></tr>",
                            "<tr><td>39</td><td>2</td></tr>",
                            "<tr><td>7</td><td>2</td></tr>",
                            "<tr><td>4</td><td>3</td></tr>",
                            "<tr><td>1</td><td>3</td></tr>",
                            "<tr><td>31</td><td>2</td></tr>",
                            "<tr><td>24</td><td>2</td></tr>",
                            "<tr><td>31</td><td>2</td></tr>",
                            "<tr><td>3</td><td>2</td></tr>",
                            "<tr><td>36</td><td>2</td></tr>",
                            "<tr><td>30</td><td>2</td></tr>",
                            "<tr><td>22</td><td>2</td></tr>",
                            "<tr><td>6</td><td>3</td></tr>",
                            "<tr><td>21</td><td>3</td></tr>",
                            "<tr><td>22</td><td>2</td></tr>",
                            "<tr><td>36</td><td>2</td></tr>",
                            "<tr><td>2</td><td>2</td></tr>",
                            "<tr><td>19</td><td>2</td></tr>",
                            "<tr><td>38</td><td>2</td></tr>",
                            "<tr><td>24</td><td>2</td></tr>",
                            "<tr><td>7</td><td>2</td></tr>",
                            "<tr><td>14</td><td>2</td></tr>",
                            "<tr><td>2</td><td>2</td></tr>",
                            "<tr><td>23</td><td>2</td></tr>",
                            "<tr><td>37</td><td>3</td></tr>",
                            "<tr><td>32</td><td>2</td></tr>",
                            "<tr><td>20</td><td>3</td></tr>",
                            "<tr><td>5</td><td>3</td></tr>",
                            "<tr><td>31</td><td>2</td></tr>",
                            "<tr><td>8</td><td>2</td></tr>",
                            "<tr><td>32</td><td>2</td></tr>",
                            "<tr><td>9</td><td>2</td></tr>",
                            "<tr><td>19</td><td>2</td></tr>",
                            "<tr><td>23</td><td>2</td></tr>",
                            "<tr><td>30</td><td>2</td></tr>",
                            "<tr><td>18</td><td>2</td></tr>",
                            "<tr><td>5</td><td>2</td></tr>",
                            "<tr><td>20</td><td>2</td></tr>",
                            "<tr><td>25</td><td>2</td></tr>",
                            "<tr><td>22</td><td>2</td></tr>",
                            "<tr><td>31</td><td>2</td></tr>",
                            "<tr><td>36</td><td>2</td></tr>",
                            "<tr><td>25</td><td>2</td></tr>",
                            "<tr><td>20</td><td>2</td></tr>",
                            "<tr><td>32</td><td>2</td></tr>",
                            "<tr><td>3</td><td>1</td></tr>",
                            "<tr><td>14</td><td>1</td></tr>",
                            "<tr><td>27</td><td>1</td></tr>",
                            "<tr><td>32</td><td>2</td></tr>",
                            "<tr><td>34</td><td>2</td></tr>",
                            "<tr><td>1</td><td>2</td></tr>",
                            "<tr><td>31</td><td>2</td></tr>",
                            "<tr><td>3</td><td>2</td></tr>",
                            "<tr><td>37</td><td>3</td></tr>",
                            "<tr><td>33</td><td>2</td></tr>",
                            "<tr><td>16</td><td>2</td></tr>",
                            "<tr><td>4</td><td>3</td></tr>",
                            "<tr><td>32</td><td>2</td></tr>",
                            "<tr><td>17</td><td>2</td></tr>",
                            "<tr><td>27</td><td>2</td></tr>",
                            "<tr><td>23</td><td>2</td></tr>",
                            "<tr><td>16</td><td>2</td></tr>",
                            "<tr><td>33</td><td>2</td></tr>",
                            "<tr><td>37</td><td>2</td></tr>",
                            "<tr><td>21</td><td>3</td></tr>",
                            "<tr><td>38</td><td>2</td></tr>",
                            "<tr><td>19</td><td>2</td></tr>",
                            "<tr><td>4</td><td>2</td></tr>",
                            "<tr><td>4</td><td>2</td></tr>",
                            "<tr><td>10</td><td>2</td></tr>",
                            "<tr><td>34</td><td>2</td></tr>",
                            "<tr><td>11</td><td>2</td></tr>",
                            "<tr><td>32</td><td>2</td></tr>",
                            "<tr><td>30</td><td>2</td></tr>",
                            "<tr><td>12</td><td>2</td></tr>",
                            "<tr><td>25</td><td>2</td></tr>",
                            "<tr><td>21</td><td>2</td></tr>",
                            "<tr><td>17</td><td>2</td></tr>",
                            "<tr><td>3</td><td>2</td></tr>",
                            "<tr><td>39</td><td>3</td></tr>",
                            "<tr><td>36</td><td>3</td></tr>",
                            "<tr><td>4</td><td>3</td></tr>",
                            "<tr><td>16</td><td>2</td></tr>",
                            "<tr><td>31</td><td>2</td></tr>",
                            "<tr><td>28</td><td>1</td></tr>",
                            "<tr><td>6</td><td>1</td></tr>",
                            "<tr><td>32</td><td>1</td></tr>",
                            "<tr><td>1</td><td>1</td></tr>",
                            "<tr><td>3</td><td>1</td></tr>",
                            "<tr><td>18</td><td>2</td></tr>",
                            "<tr><td>31</td><td>2</td></tr>",
                            "<tr><td>7</td><td>2</td></tr>",
                            "<tr><td>13</td><td>3</td></tr>",
                            "<tr><td>8</td><td>3</td></tr>",
                            "<tr><td>34</td><td>2</td></tr>",
                            "<tr><td>9</td><td>2</td></tr>",
                            "<tr><td>29</td><td>2</td></tr>",
                            "<tr><td>7</td><td>1</td></tr>",
                            "<tr><td>34</td><td>1</td></tr>",
                            "<tr><td>20</td><td>2</td></tr>",
                            "<tr><td>36</td><td>2</td></tr>",
                            "<tr><td>6</td><td>2</td></tr>",
                            "<tr><td>32</td><td>2</td></tr>",
                            "<tr><td>39</td><td>2</td></tr>",
                            "<tr><td>17</td><td>2</td></tr>",
                            "<tr><td>26</td><td>2</td></tr>",
                            "<tr><td>27</td><td>2</td></tr>",
                            "<tr><td>28</td><td>3</td></tr>",
                            "<tr><td>28</td><td>3</td></tr>",
                            "<tr><td>10</td><td>2</td></tr>",
                            "<tr><td>30</td><td>2</td></tr>",
                            "<tr><td>13</td><td>3</td></tr>",
                            "<tr><td>9</td><td>2</td></tr>",
                            "<tr><td>29</td><td>2</td></tr>",
                            "<tr><td>20</td><td>2</td></tr>",
                            "<tr><td>30</td><td>2</td></tr>",
                            "<tr><td>17</td><td>2</td></tr>",
                            "<tr><td>23</td><td>2</td></tr>",
                            "<tr><td>23</td><td>3</td></tr>",
                            "<tr><td>36</td><td>3</td></tr>",
                            "<tr><td>26</td><td>3</td></tr>",
                            "<tr><td>39</td><td>3</td></tr>",
                            "<tr><td>16</td><td>3</td></tr>",
                            "<tr><td>11</td><td>3</td></tr>",
                            "<tr><td>4</td><td>2</td></tr>",
                            "<tr><td>14</td><td>2</td></tr>",
                            "<tr><td>15</td><td>2</td></tr>",
                            "<tr><td>2</td><td>2</td></tr>",
                            "<tr><td>7</td><td>2</td></tr>",
                            "<tr><td>22</td><td>2</td></tr>",
                            "<tr><td>34</td><td>2</td></tr>",
                            "<tr><td>14</td><td>2</td></tr>",
                            "<tr><td>24</td><td>2</td></tr>",
                            "<tr><td>5</td><td>2</td></tr>",
                            "<tr><td>25</td><td>2</td></tr>",
                            "<tr><td>2</td><td>2</td></tr>",
                            "<tr><td>19</td><td>2</td></tr>",
                            "<tr><td>4</td><td>2</td></tr>",
                            "<tr><td>25</td><td>2</td></tr>",
                            "<tr><td>6</td><td>2</td></tr>",
                            "<tr><td>38</td><td>2</td></tr>",
                            "<tr><td>37</td><td>2</td></tr>",
                            "<tr><td>38</td><td>2</td></tr>",
                            "<tr><td>2</td><td>NULL</td></tr>",
                            "<tr><td>1</td><td>2</td></tr>",
                            "<tr><td>1</td><td>2</td></tr>",
                            "<tr><td>3</td><td>2</td></tr>",
                            "<tr><td>2</td><td>2</td></tr>",
                            "<tr><td>2</td><td>2</td></tr>",
                            "<tr><td>4</td><td>1</td></tr>",
                            "<tr><td>1</td><td>2</td></tr>",
                            "<tr><td>4</td><td>2</td></tr>",
                            "<tr><td>3</td><td>2</td></tr>",
                            "<tr><td>5</td><td>2</td></tr>",
                            "<tr><td>5</td><td>2</td></tr>",
                            "<tr><td>2</td><td>2</td></tr>",
                            "<tr><td>1</td><td>2</td></tr>",
                            "<tr><td>1</td><td>2</td></tr>",
                            "<tr><td>5</td><td>2</td></tr>",
                            "<tr><td>3</td><td>2</td></tr>",
                            "<tr><td>3</td><td>2</td></tr>",
                            "<tr><td>4</td><td>2</td></tr>",
                            "<tr><td>5</td><td>2</td></tr>",
                            "<tr><td>5</td><td>3</td></tr>",
                            "<tr><td>4</td><td>2</td></tr>",
                            "<tr><td>3</td><td>2</td></tr>",
                            "<tr><td>4</td><td>2</td></tr>",
                            "<tr><td>4</td><td>2</td></tr>",
                            "<tr><td>2</td><td>2</td></tr>",
                            "<tr><td>1</td><td>2</td></tr>",
                            "<tr><td>3</td><td>2</td></tr>",
                            "<tr><td>5</td><td>2</td></tr>",
                            "<tr><td>7</td><td>NULL</td></tr>",
                            "<tr><td>21</td><td>2</td></tr>",
                            "<tr><td>21</td><td>3</td></tr>",
                            "<tr><td>5</td><td>3</td></tr>",
                            "<tr><td>10</td><td>2</td></tr>",
                            "<tr><td>3</td><td>2</td></tr>",
                            "<tr><td>2</td><td>2</td></tr>",
                            "<tr><td>22</td><td>2</td></tr>",
                            "<tr><td>15</td><td>2</td></tr>",
                            "<tr><td>19</td><td>2</td></tr>",
                            "<tr><td>16</td><td>2</td></tr>",
                            "<tr><td>23</td><td>2</td></tr>",
                            "<tr><td>3</td><td>2</td></tr>",
                            "<tr><td>15</td><td>2</td></tr>",
                            "<tr><td>3</td><td>1</td></tr>",
                            "<tr><td>2</td><td>1</td></tr>",
                            "<tr><td>12</td><td>1</td></tr>",
                            "<tr><td>17</td><td>1</td></tr>",
                            "<tr><td>22</td><td>1</td></tr>",
                            "<tr><td>7</td><td>1</td></tr>",
                            "<tr><td>6</td><td>1</td></tr>",
                            "<tr><td>22</td><td>2</td></tr>",
                            "<tr><td>20</td><td>2</td></tr>",
                            "<tr><td>19</td><td>2</td></tr>",
                            "<tr><td>9</td><td>2</td></tr>",
                            "<tr><td>3</td><td>2</td></tr>",
                            "<tr><td>23</td><td>2</td></tr>",
                            "<tr><td>12</td><td>2</td></tr>",
                            "<tr><td>14</td><td>2</td></tr>",
                            "<tr><td>22</td><td>1</td></tr>",
                            "<tr><td>11</td><td>2</td></tr>",
                            "<tr><td>1</td><td>2</td></tr>",
                            "<tr><td>6</td><td>2</td></tr>",
                            "<tr><td>18</td><td>2</td></tr>",
                            "<tr><td>5</td><td>2</td></tr>",
                            "<tr><td>5</td><td>2</td></tr>",
                            "<tr><td>7</td><td>1</td></tr>",
                            "<tr><td>14</td><td>1</td></tr>",
                            "<tr><td>4</td><td>2</td></tr>",
                            "<tr><td>13</td><td>2</td></tr>",
                            "<tr><td>14</td><td>2</td></tr>",
                            "<tr><td>7</td><td>2</td></tr>",
                            "<tr><td>12</td><td>2</td></tr>",
                            "<tr><td>4</td><td>2</td></tr>",
                            "<tr><td>12</td><td>2</td></tr>",
                            "<tr><td>14</td><td>2</td></tr>",
                            "<tr><td>14</td><td>2</td></tr>",
                            "<tr><td>24</td><td>2</td></tr>",
                            "<tr><td>15</td><td>2</td></tr>",
                            "<tr><td>15</td><td>2</td></tr>",
                            "<tr><td>24</td><td>2</td></tr>",
                            "<tr><td>15</td><td>2</td></tr>",
                            "<tr><td>12</td><td>2</td></tr>",
                            "<tr><td>1</td><td>2</td></tr>",
                            "<tr><td>5</td><td>2</td></tr>",
                            "<tr><td>2</td><td>2</td></tr>",
                            "<tr><td>23</td><td>2</td></tr>",
                            "<tr><td>17</td><td>2</td></tr>",
                            "<tr><td>20</td><td>2</td></tr>",
                            "<tr><td>5</td><td>2</td></tr>",
                            "<tr><td>11</td><td>2</td></tr>",
                            "<tr><td>10</td><td>2</td></tr>",
                            "<tr><td>6</td><td>2</td></tr>",
                            "<tr><td>16</td><td>2</td></tr>",
                            "<tr><td>21</td><td>2</td></tr>",
                            "<tr><td>16</td><td>2</td></tr>",
                            "<tr><td>17</td><td>2</td></tr>",
                            "<tr><td>24</td><td>2</td></tr>",
                            "<tr><td>11</td><td>2</td></tr>",
                            "<tr><td>11</td><td>2</td></tr>",
                            "<tr><td>15</td><td>2</td></tr>",
                            "<tr><td>9</td><td>2</td></tr>",
                            "<tr><td>6</td><td>2</td></tr>",
                            "<tr><td>18</td><td>2</td></tr>",
                            "<tr><td>20</td><td>2</td></tr>",
                            "<tr><td>16</td><td>2</td></tr>",
                            "<tr><td>9</td><td>1</td></tr>",
                            "<tr><td>18</td><td>1</td></tr>",
                            "<tr><td>10</td><td>2</td></tr>",
                            "<tr><td>16</td><td>2</td></tr>",
                            "<tr><td>3</td><td>2</td></tr>",
                            "<tr><td>9</td><td>3</td></tr>",
                            "<tr><td>23</td><td>3</td></tr>",
                            "<tr><td>7</td><td>3</td></tr>",
                            "<tr><td>4</td><td>2</td></tr>",
                            "<tr><td>6</td><td>2</td></tr>",
                            "<tr><td>20</td><td>2</td></tr>",
                            "<tr><td>3</td><td>2</td></tr>",
                            "<tr><td>4</td><td>2</td></tr>",
                            "<tr><td>1</td><td>2</td></tr>",
                            "<tr><td>10</td><td>2</td></tr>",
                            "<tr><td>4</td><td>3</td></tr>",
                            "<tr><td>9</td><td>2</td></tr>",
                            "<tr><td>21</td><td>3</td></tr>",
                            "<tr><td>11</td><td>3</td></tr>",
                            "<tr><td>6</td><td>3</td></tr>",
                            "<tr><td>4</td><td>2</td></tr>",
                            "<tr><td>6</td><td>2</td></tr>",
                            "<tr><td>8</td><td>2</td></tr>",
                            "<tr><td>4</td><td>2</td></tr>",
                            "<tr><td>6</td><td>3</td></tr>",
                            "<tr><td>9</td><td>2</td></tr>",
                            "<tr><td>7</td><td>3</td></tr>",
                            "<tr><td>16</td><td>3</td></tr>",
                            "<tr><td>5</td><td>2</td></tr>",
                            "<tr><td>9</td><td>2</td></tr>",
                            "<tr><td>5</td><td>2</td></tr>",
                            "<tr><td>19</td><td>2</td></tr>",
                            "<tr><td>22</td><td>2</td></tr>",
                            "<tr><td>19</td><td>2</td></tr>",
                            "<tr><td>11</td><td>2</td></tr>",
                            "<tr><td>12</td><td>2</td></tr>",
                            "<tr><td>22</td><td>2</td></tr>",
                            "<tr><td>19</td><td>2</td></tr>",
                            "<tr><td>15</td><td>2</td></tr>",
                            "<tr><td>21</td><td>2</td></tr>",
                            "<tr><td>20</td><td>2</td></tr>",
                            "<tr><td>8</td><td>2</td></tr>",
                            "<tr><td>23</td><td>2</td></tr>",
                            "<tr><td>18</td><td>1</td></tr>",
                            "<tr><td>22</td><td>1</td></tr>",
                            "<tr><td>10</td><td>2</td></tr>",
                            "<tr><td>14</td><td>2</td></tr>",
                            "<tr><td>5</td><td>NULL</td></tr>",
                            "<tr><td>3</td><td>2</td></tr>",
                            "<tr><td>4</td><td>2</td></tr>",
                            "<tr><td>2</td><td>2</td></tr>",
                            "<tr><td>2</td><td>2</td></tr>",
                            "<tr><td>1</td><td>2</td></tr>",
                            "<tr><td>2</td><td>2</td></tr>",
                            "<tr><td>1</td><td>2</td></tr>",
                            "<tr><td>1</td><td>2</td></tr>",
                            "<tr><td>4</td><td>2</td></tr>",
                            "<tr><td>5</td><td>2</td></tr>",
                            "<tr><td>1</td><td>2</td></tr>",
                            "<tr><td>5</td><td>2</td></tr>",
                            "<tr><td>4</td><td>2</td></tr>",
                            "<tr><td>2</td><td>2</td></tr>",
                            "<tr><td>4</td><td>2</td></tr>",
                            "<tr><td>4</td><td>2</td></tr>",
                            "<tr><td>2</td><td>2</td></tr>",
                            "<tr><td>3</td><td>2</td></tr>",
                            "<tr><td>4</td><td>2</td></tr>",
                            "<tr><td>5</td><td>2</td></tr>",
                            "<tr><td>5</td><td>2</td></tr>",
                            "<tr><td>3</td><td>2</td></tr>",
                            "<tr><td>4</td><td>2</td></tr>",
                            "<tr><td>1</td><td>2</td></tr>",
                            "<tr><td>2</td><td>2</td></tr>",
                            "<tr><td>18</td><td>NULL</td></tr>",
                            "<tr><td>6</td><td>2</td></tr>",
                            "<tr><td>5</td><td>1</td></tr>",
                            "<tr><td>7</td><td>1</td></tr>",
                            "<tr><td>21</td><td>1</td></tr>",
                            "<tr><td>12</td><td>2</td></tr>",
                            "<tr><td>26</td><td>2</td></tr>",
                            "<tr><td>20</td><td>2</td></tr>",
                            "<tr><td>22</td><td>2</td></tr>",
                            "<tr><td>23</td><td>2</td></tr>",
                            "<tr><td>29</td><td>2</td></tr>",
                            "<tr><td>1</td><td>2</td></tr>",
                            "<tr><td>2</td><td>2</td></tr>",
                            "<tr><td>5</td><td>2</td></tr>",
                            "<tr><td>15</td><td>2</td></tr>",
                            "<tr><td>3</td><td>2</td></tr>",
                            "<tr><td>1</td><td>2</td></tr>",
                            "<tr><td>21</td><td>2</td></tr>",
                            "<tr><td>11</td><td>2</td></tr>",
                            "<tr><td>23</td><td>2</td></tr>",
                            "<tr><td>20</td><td>2</td></tr>",
                            "<tr><td>1</td><td>2</td></tr>",
                            "<tr><td>1</td><td>2</td></tr>",
                            "<tr><td>1</td><td>1</td></tr>",
                            "<tr><td>21</td><td>1</td></tr>",
                            "<tr><td>28</td><td>1</td></tr>",
                            "<tr><td>16</td><td>2</td></tr>",
                            "<tr><td>24</td><td>2</td></tr>",
                            "<tr><td>9</td><td>2</td></tr>",
                            "<tr><td>10</td><td>3</td></tr>",
                            "<tr><td>18</td><td>2</td></tr>",
                            "<tr><td>4</td><td>2</td></tr>",
                            "<tr><td>21</td><td>2</td></tr>",
                            "<tr><td>29</td><td>2</td></tr>",
                            "<tr><td>17</td><td>3</td></tr>",
                            "<tr><td>19</td><td>3</td></tr>",
                            "<tr><td>6</td><td>3</td></tr>",
                            "<tr><td>32</td><td>3</td></tr>",
                            "<tr><td>23</td><td>3</td></tr>",
                            "<tr><td>17</td><td>2</td></tr>",
                            "<tr><td>5</td><td>2</td></tr>",
                            "<tr><td>29</td><td>2</td></tr>",
                            "<tr><td>34</td><td>3</td></tr>",
                            "<tr><td>7</td><td>3</td></tr>",
                            "<tr><td>8</td><td>2</td></tr>",
                            "<tr><td>26</td><td>2</td></tr>",
                            "<tr><td>14</td><td>2</td></tr>",
                            "<tr><td>33</td><td>2</td></tr>",
                            "<tr><td>34</td><td>2</td></tr>",
                            "<tr><td>18</td><td>2</td></tr>",
                            "<tr><td>10</td><td>2</td></tr>",
                            "<tr><td>26</td><td>2</td></tr>",
                            "<tr><td>15</td><td>2</td></tr>",
                            "<tr><td>17</td><td>2</td></tr>",
                            "<tr><td>9</td><td>2</td></tr>",
                            "<tr><td>21</td><td>2</td></tr>",
                            "<tr><td>32</td><td>2</td></tr>",
                            "<tr><td>29</td><td>2</td></tr>",
                            "<tr><td>17</td><td>2</td></tr>",
                            "<tr><td>21</td><td>2</td></tr>",
                            "<tr><td>28</td><td>2</td></tr>",
                            "<tr><td>10</td><td>2</td></tr>",
                            "<tr><td>20</td><td>2</td></tr>",
                            "<tr><td>24</td><td>2</td></tr>",
                            "<tr><td>21</td><td>2</td></tr>",
                            "<tr><td>23</td><td>1</td></tr>",
                            "<tr><td>25</td><td>2</td></tr>",
                            "<tr><td>8</td><td>2</td></tr>",
                            "<tr><td>24</td><td>2</td></tr>",
                            "<tr><td>21</td><td>2</td></tr>",
                            "<tr><td>31</td><td>2</td></tr>",
                            "<tr><td>17</td><td>2</td></tr>",
                            "<tr><td>18</td><td>2</td></tr>",
                            "<tr><td>23</td><td>2</td></tr>",
                            "<tr><td>5</td><td>2</td></tr>",
                            "<tr><td>24</td><td>2</td></tr>",
                            "<tr><td>8</td><td>2</td></tr>",
                            "<tr><td>25</td><td>2</td></tr>",
                            "<tr><td>33</td><td>2</td></tr>",
                            "<tr><td>23</td><td>3</td></tr>",
                            "<tr><td>26</td><td>2</td></tr>",
                            "<tr><td>2</td><td>2</td></tr>",
                            "<tr><td>13</td><td>2</td></tr>",
                            "<tr><td>4</td><td>2</td></tr>",
                            "<tr><td>4</td><td>2</td></tr>",
                            "<tr><td>11</td><td>3</td></tr>",
                            "<tr><td>14</td><td>2</td></tr>",
                            "<tr><td>13</td><td>3</td></tr>",
                            "<tr><td>29</td><td>2</td></tr>",
                            "<tr><td>8</td><td>3</td></tr>",
                            "<tr><td>31</td><td>2</td></tr>",
                            "<tr><td>24</td><td>2</td></tr>",
                            "<tr><td>27</td><td>2</td></tr>",
                            "<tr><td>29</td><td>2</td></tr>",
                            "<tr><td>34</td><td>2</td></tr>",
                            "<tr><td>19</td><td>2</td></tr>",
                            "<tr><td>31</td><td>2</td></tr>",
                            "<tr><td>33</td><td>2</td></tr>",
                            "<tr><td>11</td><td>2</td></tr>",
                            "<tr><td>30</td><td>2</td></tr>",
                            "<tr><td>34</td><td>2</td></tr>",
                            "<tr><td>21</td><td>2</td></tr>",
                            "<tr><td>11</td><td>2</td></tr>",
                            "<tr><td>34</td><td>2</td></tr>",
                            "<tr><td>1</td><td>2</td></tr>",
                            "<tr><td>8</td><td>2</td></tr>",
                            "<tr><td>12</td><td>2</td></tr>",
                            "<tr><td>19</td><td>2</td></tr>",
                            "<tr><td>22</td><td>2</td></tr>",
                            "<tr><td>34</td><td>2</td></tr>",
                            "<tr><td>8</td><td>2</td></tr>",
                            "<tr><td>33</td><td>2</td></tr>",
                            "<tr><td>13</td><td>2</td></tr>",
                            "<tr><td>7</td><td>2</td></tr>",
                            "<tr><td>21</td><td>2</td></tr>",
                            "<tr><td>31</td><td>2</td></tr>",
                            "<tr><td>18</td><td>2</td></tr>",
                            "<tr><td>6</td><td>3</td></tr>",
                            "<tr><td>25</td><td>2</td></tr>",
                            "<tr><td>14</td><td>2</td></tr>",
                            "<tr><td>34</td><td>2</td></tr>",
                            "<tr><td>18</td><td>2</td></tr>",
                            "<tr><td>18</td><td>2</td></tr>",
                            "<tr><td>29</td><td>2</td></tr>",
                            "<tr><td>14</td><td>2</td></tr>",
                            "<tr><td>20</td><td>2</td></tr>",
                            "<tr><td>22</td><td>2</td></tr>",
                            "<tr><td>4</td><td>2</td></tr>",
                            "<tr><td>4</td><td>2</td></tr>",
                            "<tr><td>6</td><td>2</td></tr>",
                            "<tr><td>10</td><td>1</td></tr>",
                            "<tr><td>12</td><td>2</td></tr>",
                            "<tr><td>27</td><td>2</td></tr>",
                            "<tr><td>33</td><td>2</td></tr>",
                            "<tr><td>18</td><td>2</td></tr>",
                            "<tr><td>32</td><td>2</td></tr>",
                            "<tr><td>18</td><td>2</td></tr>",
                            "<tr><td>27</td><td>2</td></tr>",
                            "<tr><td>18</td><td>2</td></tr>",
                            "<tr><td>7</td><td>2</td></tr>",
                            "<tr><td>8</td><td>2</td></tr>",
                            "<tr><td>32</td><td>1</td></tr>",
                            "<tr><td>6</td><td>2</td></tr>",
                            "<tr><td>17</td><td>1</td></tr>",
                            "<tr><td>9</td><td>1</td></tr>",
                            "<tr><td>5</td><td>1</td></tr>",
                            "<tr><td>1</td><td>2</td></tr>",
                            "<tr><td>12</td><td>2</td></tr>",
                            "<tr><td>33</td><td>2</td></tr>",
                            "<tr><td>24</td><td>2</td></tr>",
                            "<tr><td>23</td><td>2</td></tr>",
                            "<tr><td>11</td><td>2</td></tr>",
                            "<tr><td>18</td><td>2</td></tr>",
                            "<tr><td>3</td><td>2</td></tr>",
                            "<tr><td>34</td><td>2</td></tr>",
                            "<tr><td>8</td><td>2</td></tr>",
                            "<tr><td>18</td><td>2</td></tr>",
                            "<tr><td>9</td><td>1</td></tr>",
                            "<tr><td>5</td><td>1</td></tr>",
                            "<tr><td>19</td><td>1</td></tr>",
                            "<tr><td>21</td><td>2</td></tr>",
                            "<tr><td>25</td><td>2</td></tr>",
                            "<tr><td>22</td><td>2</td></tr>",
                            "<tr><td>21</td><td>2</td></tr>",
                            "<tr><td>31</td><td>3</td></tr>",
                            "<tr><td>31</td><td>2</td></tr>",
                            "<tr><td>8</td><td>2</td></tr>",
                            "<tr><td>15</td><td>2</td></tr>",
                            "<tr><td>27</td><td>2</td></tr>",
                            "<tr><td>13</td><td>2</td></tr>",
                            "<tr><td>27</td><td>2</td></tr>",
                            "<tr><td>12</td><td>2</td></tr>",
                            "<tr><td>26</td><td>2</td></tr>",
                            "<tr><td>2</td><td>2</td></tr>",
                            "<tr><td>16</td><td>2</td></tr>",
                            "<tr><td>16</td><td>2</td></tr>",
                            "<tr><td>12</td><td>3</td></tr>",
                            "<tr><td>7</td><td>3</td></tr>",
                            "<tr><td>25</td><td>3</td></tr>",
                            "</table>"
                        ]
                    }
                }
            ],
            "execution_count": 13
        },
        {
            "cell_type": "markdown",
            "source": [
                "Készítsen lekérdezést, amely megjeleníti, hogy szálláshelyenként, azon belül a pótágyak száma szerint hány főre foglaltak összesen (felnőtt + gyermek)!\n",
                "\n",
                "- Jelenjenek meg a részösszegek és a végösszeg is! #4"
            ],
            "metadata": {
                "azdata_cell_guid": "72d7ada4-841a-4765-8e57-a6db99a9b32e"
            },
            "attachments": {}
        },
        {
            "cell_type": "code",
            "source": [
                "select\r\n",
                "        IIF(szh.szallas_nev IS NULL, 'Összesen', cast(szh.szallas_nev as nvarchar(30))),\r\n",
                "        IIF(sz.potagy IS NULL, 'Részösszeg', cast(sz.potagy as nvarchar(30))),\r\n",
                "\r\n",
                "\r\n",
                "        SUM(FELNOTT_SZAM + GYERMEK_SZAM) as 'összes foglalas'\r\n",
                "from Szallashely szh join Szoba sz on szh.szallas_id = sz.szallas_fk\r\n",
                "    JOIN Foglalas f on sz.SZOBA_ID = f.szoba_fk\r\n",
                "group by rollup (szh.SZALLAS_NEV, sz.potagy)"
            ],
            "metadata": {
                "azdata_cell_guid": "3a809708-966c-4a31-bc8f-62c9be69034e",
                "language": "sql"
            },
            "outputs": [
                {
                    "output_type": "display_data",
                    "data": {
                        "text/html": "(41 rows affected)"
                    },
                    "metadata": {}
                },
                {
                    "output_type": "display_data",
                    "data": {
                        "text/html": "Total execution time: 00:00:00.016"
                    },
                    "metadata": {}
                },
                {
                    "output_type": "execute_result",
                    "metadata": {},
                    "execution_count": 9,
                    "data": {
                        "application/vnd.dataresource+json": {
                            "schema": {
                                "fields": [
                                    {
                                        "name": "(No column name)"
                                    },
                                    {
                                        "name": "(No column name)"
                                    },
                                    {
                                        "name": "összes foglalas"
                                    }
                                ]
                            },
                            "data": [
                                {
                                    "(No column name)": "0",
                                    "összes foglalas": "10"
                                },
                                {
                                    "(No column name)": "1",
                                    "összes foglalas": "31"
                                },
                                {
                                    "(No column name)": "2",
                                    "összes foglalas": "11"
                                },
                                {
                                    "(No column name)": "Részösszeg",
                                    "összes foglalas": "52"
                                },
                                {
                                    "(No column name)": "0",
                                    "összes foglalas": "18"
                                },
                                {
                                    "(No column name)": "1",
                                    "összes foglalas": "52"
                                },
                                {
                                    "(No column name)": "2",
                                    "összes foglalas": "36"
                                },
                                {
                                    "(No column name)": "Részösszeg",
                                    "összes foglalas": "106"
                                },
                                {
                                    "(No column name)": "0",
                                    "összes foglalas": "158"
                                },
                                {
                                    "(No column name)": "1",
                                    "összes foglalas": "113"
                                },
                                {
                                    "(No column name)": "2",
                                    "összes foglalas": "40"
                                },
                                {
                                    "(No column name)": "Részösszeg",
                                    "összes foglalas": "311"
                                },
                                {
                                    "(No column name)": "0",
                                    "összes foglalas": "216"
                                },
                                {
                                    "(No column name)": "1",
                                    "összes foglalas": "93"
                                },
                                {
                                    "(No column name)": "2",
                                    "összes foglalas": "119"
                                },
                                {
                                    "(No column name)": "Részösszeg",
                                    "összes foglalas": "428"
                                },
                                {
                                    "(No column name)": "0",
                                    "összes foglalas": "183"
                                },
                                {
                                    "(No column name)": "1",
                                    "összes foglalas": "258"
                                },
                                {
                                    "(No column name)": "2",
                                    "összes foglalas": "63"
                                },
                                {
                                    "(No column name)": "Részösszeg",
                                    "összes foglalas": "504"
                                },
                                {
                                    "(No column name)": "0",
                                    "összes foglalas": "66"
                                },
                                {
                                    "(No column name)": "Részösszeg",
                                    "összes foglalas": "66"
                                },
                                {
                                    "(No column name)": "0",
                                    "összes foglalas": "168"
                                },
                                {
                                    "(No column name)": "1",
                                    "összes foglalas": "224"
                                },
                                {
                                    "(No column name)": "2",
                                    "összes foglalas": "28"
                                },
                                {
                                    "(No column name)": "Részösszeg",
                                    "összes foglalas": "420"
                                },
                                {
                                    "(No column name)": "0",
                                    "összes foglalas": "105"
                                },
                                {
                                    "(No column name)": "1",
                                    "összes foglalas": "150"
                                },
                                {
                                    "(No column name)": "2",
                                    "összes foglalas": "36"
                                },
                                {
                                    "(No column name)": "Részösszeg",
                                    "összes foglalas": "291"
                                },
                                {
                                    "(No column name)": "0",
                                    "összes foglalas": "31"
                                },
                                {
                                    "(No column name)": "1",
                                    "összes foglalas": "17"
                                },
                                {
                                    "(No column name)": "2",
                                    "összes foglalas": "15"
                                },
                                {
                                    "(No column name)": "Részösszeg",
                                    "összes foglalas": "63"
                                },
                                {
                                    "(No column name)": "0",
                                    "összes foglalas": "67"
                                },
                                {
                                    "(No column name)": "1",
                                    "összes foglalas": "99"
                                },
                                {
                                    "(No column name)": "Részösszeg",
                                    "összes foglalas": "166"
                                },
                                {
                                    "(No column name)": "0",
                                    "összes foglalas": "64"
                                },
                                {
                                    "(No column name)": "1",
                                    "összes foglalas": "19"
                                },
                                {
                                    "(No column name)": "Részösszeg",
                                    "összes foglalas": "83"
                                },
                                {
                                    "(No column name)": "Részösszeg",
                                    "összes foglalas": "2490"
                                }
                            ]
                        },
                        "text/html": [
                            "<table>",
                            "<tr><th>(No column name)</th><th>(No column name)</th><th>összes foglalas</th></tr>",
                            "<tr><td>Családi Ház</td><td>0</td><td>10</td></tr>",
                            "<tr><td>Családi Ház</td><td>1</td><td>31</td></tr>",
                            "<tr><td>Családi Ház</td><td>2</td><td>11</td></tr>",
                            "<tr><td>Családi Ház</td><td>Részösszeg</td><td>52</td></tr>",
                            "<tr><td>Fortuna Apartman</td><td>0</td><td>18</td></tr>",
                            "<tr><td>Fortuna Apartman</td><td>1</td><td>52</td></tr>",
                            "<tr><td>Fortuna Apartman</td><td>2</td><td>36</td></tr>",
                            "<tr><td>Fortuna Apartman</td><td>Részösszeg</td><td>106</td></tr>",
                            "<tr><td>Fortuna Panzió</td><td>0</td><td>158</td></tr>",
                            "<tr><td>Fortuna panzió</td><td>1</td><td>113</td></tr>",
                            "<tr><td>Fortuna panzió</td><td>2</td><td>40</td></tr>",
                            "<tr><td>Fortuna Panzió</td><td>Részösszeg</td><td>311</td></tr>",
                            "<tr><td>Gold Hotel</td><td>0</td><td>216</td></tr>",
                            "<tr><td>Gold Hotel</td><td>1</td><td>93</td></tr>",
                            "<tr><td>Gold Hotel</td><td>2</td><td>119</td></tr>",
                            "<tr><td>Gold Hotel</td><td>Részösszeg</td><td>428</td></tr>",
                            "<tr><td>Hotel Három Hattyú</td><td>0</td><td>183</td></tr>",
                            "<tr><td>Hotel Három Hattyú</td><td>1</td><td>258</td></tr>",
                            "<tr><td>Hotel Három Hattyú</td><td>2</td><td>63</td></tr>",
                            "<tr><td>Hotel Három Hattyú</td><td>Részösszeg</td><td>504</td></tr>",
                            "<tr><td>Jáde panzió</td><td>0</td><td>66</td></tr>",
                            "<tr><td>Jáde panzió</td><td>Részösszeg</td><td>66</td></tr>",
                            "<tr><td>Kentaur Hotel</td><td>0</td><td>168</td></tr>",
                            "<tr><td>Kentaur Hotel</td><td>1</td><td>224</td></tr>",
                            "<tr><td>Kentaur Hotel</td><td>2</td><td>28</td></tr>",
                            "<tr><td>Kentaur Hotel</td><td>Részösszeg</td><td>420</td></tr>",
                            "<tr><td>Lagúna Hotel</td><td>0</td><td>105</td></tr>",
                            "<tr><td>Lagúna Hotel</td><td>1</td><td>150</td></tr>",
                            "<tr><td>Lagúna Hotel</td><td>2</td><td>36</td></tr>",
                            "<tr><td>Lagúna Hotel</td><td>Részösszeg</td><td>291</td></tr>",
                            "<tr><td>Partiszél Vendégház</td><td>0</td><td>31</td></tr>",
                            "<tr><td>Partiszél Vendégház</td><td>1</td><td>17</td></tr>",
                            "<tr><td>Partiszél Vendégház</td><td>2</td><td>15</td></tr>",
                            "<tr><td>Partiszél Vendégház</td><td>Részösszeg</td><td>63</td></tr>",
                            "<tr><td>Sába-Ház</td><td>0</td><td>67</td></tr>",
                            "<tr><td>Sába-Ház</td><td>1</td><td>99</td></tr>",
                            "<tr><td>Sába-Ház</td><td>Részösszeg</td><td>166</td></tr>",
                            "<tr><td>Szieszta Apartmanház</td><td>0</td><td>64</td></tr>",
                            "<tr><td>Szieszta Apartmanház</td><td>1</td><td>19</td></tr>",
                            "<tr><td>Szieszta Apartmanház</td><td>Részösszeg</td><td>83</td></tr>",
                            "<tr><td>Összesen</td><td>Részösszeg</td><td>2490</td></tr>",
                            "</table>"
                        ]
                    }
                }
            ],
            "execution_count": 9
        },
        {
            "cell_type": "code",
            "source": [
                "Készítsünk ideiglenes táblát #MASKED_GUEST néven, ahol \r\n",
                "\r\n",
                "a tábla felépítése megegyezik a vendég tábláéval, DE\r\n",
                "a vendégek nevének csak az első 2, és az utolsó 3 karaktere jelenjen meg, közötte X-ek legyenek! #5"
            ],
            "metadata": {
                "azdata_cell_guid": "c1b2545b-e22b-48b4-b1f2-2c3c30582f91",
                "language": "sql"
            },
            "outputs": [],
            "execution_count": null
        },
        {
            "cell_type": "code",
            "source": [
                "CREATE TABLE [dbo].[Vendeg] as (\r\n",
                "\t[USERNEV] [nvarchar](20) MASKED WITH (Function = 'partial(1,\"XXXX\",1)') NOT NULL,\r\n",
                "\t[NEV] [nvarchar](50) NOT NULL,\r\n",
                "\t[EMAIL] [nvarchar](60) NOT NULL,\r\n",
                "\t[SZAML_CIM] [nvarchar](100) NULL,\r\n",
                "\t[SZUL_DAT] [date] NULL,\r\n",
                " CONSTRAINT [PK_Vendeg] PRIMARY KEY CLUSTERED \r\n",
                "(\r\n",
                "\t[USERNEV] ASC\r\n",
                ")WITH (PAD_INDEX = OFF, STATISTICS_NORECOMPUTE = OFF, IGNORE_DUP_KEY = OFF, ALLOW_ROW_LOCKS = ON, ALLOW_PAGE_LOCKS = ON) ON [PRIMARY]\r\n",
                ") ON [PRIMARY]\r\n",
                "GO"
            ],
            "metadata": {
                "language": "sql",
                "azdata_cell_guid": "9226436a-b863-429e-a9e2-1c6cf7dae20a"
            },
            "outputs": [],
            "execution_count": null
        },
        {
            "cell_type": "code",
            "source": [
                "A Neo4j Sandbox-ban vagy a Desktopban jelenítsük meg azon személyeket, akik egy filmben szerepeltek Tom Hanks-sel.\r\n",
                "\r\n",
                "Egy szereplő neve csak egyszer jelenjen meg\r\n",
                "Tom Hanks ne legyen benne a listában #7"
            ],
            "metadata": {
                "azdata_cell_guid": "a7b60f14-4aa4-4e3f-9519-3a5bea2264cf",
                "language": "sql"
            },
            "outputs": [],
            "execution_count": null
        },
        {
            "cell_type": "code",
            "source": [
                "MATCH (coActor:Person)-[:ACTED_IN]->(movie)<-[:ACTED_IN]-(tom:Person {name: \"Tom Hanks\"})\r\n",
                "WHERE coActor <> tom\r\n",
                "RETURN DISTINCT coActor.name AS coActorName\r\n",
                "\r\n",
                ""
            ],
            "metadata": {
                "azdata_cell_guid": "666c837f-c630-4f21-aed3-127232a195b6",
                "language": "sql"
            },
            "outputs": [],
            "execution_count": null
        },
        {
            "cell_type": "code",
            "source": [
                "Cassandra CQL Shellben hozza létre a következő táblát:\r\n",
                "\r\n",
                "STUDENT(ID, Nev, Teljesitett_felevek, Eredmenyek, Nyelvtudas)\r\n",
                "\r\n",
                "Az ID legyen az elsődleges kulcs\r\n",
                "A Teljesitett félévek legyen LIST, tartalma egész számok, pl: 1, 2, 3\r\n",
                "Az Eredmenyek legyen MAP, tartalma, hogy melyik félévben mennyi volt az átlag, pl: 1: 3,00, 2: 4.55, 3: 4,10\r\n",
                "A Nyelvtudas legyen SET, tartalma a nyelvek megnevezése #7"
            ],
            "metadata": {
                "azdata_cell_guid": "7df2fee4-1fe7-44ee-b1f1-d151e05c6ef2",
                "language": "sql"
            },
            "outputs": [],
            "execution_count": null
        },
        {
            "cell_type": "code",
            "source": [
                "create table STUDENT(\r\n",
                "ID int,\r\n",
                "Nev text,\r\n",
                "Teljesitett_felevek list<int>,\r\n",
                "Eredmenyek map<text, text>,\r\n",
                "Nyelvtudas set<text>,\r\n",
                "PRIMARY KEY (ID)\r\n",
                ");\r\n",
                "\r\n",
                "\r\n",
                "insert into STUDENT(ID, NEV, Teljesitett_felevek, Eredmenyek, Nyelvtudas) values(1, 'Pisti', [1, 2, 3],{'1':'1', '2':'2','3':'3'},{'angol'});\r\n",
                "insert into STUDENT(ID, NEV, Teljesitett_felevek, Eredmenyek, Nyelvtudas) values(2, 'Gazsika', [1, 2, 3, 4],{'1':'5','2':'5','3':'5', '4':'5'},{'angol, francia, wakandai'});"
            ],
            "metadata": {
                "language": "sql",
                "azdata_cell_guid": "6ccb4f40-bf76-4c08-a438-044f70d1f8f6"
            },
            "outputs": [],
            "execution_count": null
        },
        {
            "cell_type": "markdown",
            "source": [
                "Oldja meg REDIS-ben a következő feladatokat:\n",
                "\n",
                "- hozzon létre egy string kulcsot, amely egy könyvtár nevét tartalmazza\n",
                "- hozzon létre egy hash kulcsot, amely egy könyv legalább 3 adatát tartalmazza\n",
                "- hozzon létre egy set kulcsot, amely a könyvtárban lévő könyvek műfajait tartalmazza (legalább 3)\n",
                "- hozzon létre egy list kulcsot, amely a kikölcsönzött könyvek címeit tartalmazza (legalább 3)\n",
                "- hozzon létre egy sorted set kulcsot, amely az adott könyvek címeit és a könyv kölcsönzéseinek számát tartalmazza (legalább 3) #6"
            ],
            "metadata": {
                "azdata_cell_guid": "70a63d16-ff12-44f5-a511-d5773142c494"
            },
            "attachments": {}
        }
    ]
}