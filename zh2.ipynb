{
    "metadata": {
        "kernelspec": {
            "name": "SQL",
            "display_name": "SQL",
            "language": "sql"
        },
        "language_info": {
            "name": "sql",
            "version": ""
        }
    },
    "nbformat_minor": 2,
    "nbformat": 4,
    "cells": [
        {
            "cell_type": "markdown",
            "source": [
                "Listázzuk a foglalások számát szobánként, azon belül a foglalás éve szerint csoportosítva!\n",
                "\n",
                "- Az évnél a Mettől oszlopot használjuk\n",
                "- Jelenítsük meg a részösszegeket és a végösszeget is úgy, hogy ne jelenjen meg minden Oszlop/NULL kombináció!\n",
                "- A részösszegeket jelöljük megfelelően, pl. Részösszeg vagy Szoba összesen"
            ],
            "metadata": {
                "azdata_cell_guid": "d0d24c75-b2aa-491e-a3d5-580e1ae09d62"
            },
            "attachments": {}
        },
        {
            "cell_type": "code",
            "source": [
                "SELECT IIF(sz.SZOBA_ID IS NULL, 'Végösszeg', cast(sz.szoba_id as nvarchar(10))),\r\n",
                "        IIF(YEAR(f.mettol) IS NULL, 'Részösszeg', cast(YEAR(f.mettol) as nvarchar(10))),\r\n",
                "        COUNT(f.SZOBA_FK)\r\n",
                "        \r\n",
                "\r\n",
                "FROM Szoba sz JOIN Foglalas f ON sz.SZOBA_ID = f.SZOBA_FK\r\n",
                "\r\n",
                "group by rollup(sz.SZOBA_ID, YEAR(f.mettol))"
            ],
            "metadata": {
                "azdata_cell_guid": "9a6e2fe7-76e8-4337-8e6b-badb58a07724",
                "language": "sql"
            },
            "outputs": [
                {
                    "output_type": "display_data",
                    "data": {
                        "text/html": "(513 rows affected)"
                    },
                    "metadata": {}
                },
                {
                    "output_type": "display_data",
                    "data": {
                        "text/html": "Total execution time: 00:00:00.019"
                    },
                    "metadata": {}
                },
                {
                    "output_type": "execute_result",
                    "metadata": {},
                    "execution_count": 17,
                    "data": {
                        "application/vnd.dataresource+json": {
                            "schema": {
                                "fields": [
                                    {
                                        "name": "(No column name)"
                                    },
                                    {
                                        "name": "(No column name)"
                                    },
                                    {
                                        "name": "(No column name)"
                                    }
                                ]
                            },
                            "data": [
                                {
                                    "(No column name)": "8"
                                },
                                {
                                    "(No column name)": "8"
                                },
                                {
                                    "(No column name)": "4"
                                },
                                {
                                    "(No column name)": "4"
                                },
                                {
                                    "(No column name)": "6"
                                },
                                {
                                    "(No column name)": "2"
                                },
                                {
                                    "(No column name)": "8"
                                },
                                {
                                    "(No column name)": "5"
                                },
                                {
                                    "(No column name)": "1"
                                },
                                {
                                    "(No column name)": "6"
                                },
                                {
                                    "(No column name)": "4"
                                },
                                {
                                    "(No column name)": "4"
                                },
                                {
                                    "(No column name)": "6"
                                },
                                {
                                    "(No column name)": "6"
                                },
                                {
                                    "(No column name)": "6"
                                },
                                {
                                    "(No column name)": "6"
                                },
                                {
                                    "(No column name)": "5"
                                },
                                {
                                    "(No column name)": "5"
                                },
                                {
                                    "(No column name)": "4"
                                },
                                {
                                    "(No column name)": "2"
                                },
                                {
                                    "(No column name)": "6"
                                },
                                {
                                    "(No column name)": "4"
                                },
                                {
                                    "(No column name)": "4"
                                },
                                {
                                    "(No column name)": "3"
                                },
                                {
                                    "(No column name)": "1"
                                },
                                {
                                    "(No column name)": "4"
                                },
                                {
                                    "(No column name)": "8"
                                },
                                {
                                    "(No column name)": "1"
                                },
                                {
                                    "(No column name)": "9"
                                },
                                {
                                    "(No column name)": "3"
                                },
                                {
                                    "(No column name)": "1"
                                },
                                {
                                    "(No column name)": "4"
                                },
                                {
                                    "(No column name)": "2"
                                },
                                {
                                    "(No column name)": "1"
                                },
                                {
                                    "(No column name)": "3"
                                },
                                {
                                    "(No column name)": "4"
                                },
                                {
                                    "(No column name)": "2"
                                },
                                {
                                    "(No column name)": "6"
                                },
                                {
                                    "(No column name)": "4"
                                },
                                {
                                    "(No column name)": "1"
                                },
                                {
                                    "(No column name)": "5"
                                },
                                {
                                    "(No column name)": "5"
                                },
                                {
                                    "(No column name)": "1"
                                },
                                {
                                    "(No column name)": "6"
                                },
                                {
                                    "(No column name)": "5"
                                },
                                {
                                    "(No column name)": "1"
                                },
                                {
                                    "(No column name)": "6"
                                },
                                {
                                    "(No column name)": "5"
                                },
                                {
                                    "(No column name)": "1"
                                },
                                {
                                    "(No column name)": "6"
                                },
                                {
                                    "(No column name)": "5"
                                },
                                {
                                    "(No column name)": "5"
                                },
                                {
                                    "(No column name)": "4"
                                },
                                {
                                    "(No column name)": "4"
                                },
                                {
                                    "(No column name)": "6"
                                },
                                {
                                    "(No column name)": "6"
                                },
                                {
                                    "(No column name)": "3"
                                },
                                {
                                    "(No column name)": "3"
                                },
                                {
                                    "(No column name)": "2"
                                },
                                {
                                    "(No column name)": "1"
                                },
                                {
                                    "(No column name)": "3"
                                },
                                {
                                    "(No column name)": "2"
                                },
                                {
                                    "(No column name)": "2"
                                },
                                {
                                    "(No column name)": "2"
                                },
                                {
                                    "(No column name)": "2"
                                },
                                {
                                    "(No column name)": "6"
                                },
                                {
                                    "(No column name)": "1"
                                },
                                {
                                    "(No column name)": "7"
                                },
                                {
                                    "(No column name)": "5"
                                },
                                {
                                    "(No column name)": "1"
                                },
                                {
                                    "(No column name)": "6"
                                },
                                {
                                    "(No column name)": "5"
                                },
                                {
                                    "(No column name)": "1"
                                },
                                {
                                    "(No column name)": "6"
                                },
                                {
                                    "(No column name)": "3"
                                },
                                {
                                    "(No column name)": "3"
                                },
                                {
                                    "(No column name)": "3"
                                },
                                {
                                    "(No column name)": "3"
                                },
                                {
                                    "(No column name)": "1"
                                },
                                {
                                    "(No column name)": "1"
                                },
                                {
                                    "(No column name)": "6"
                                },
                                {
                                    "(No column name)": "6"
                                },
                                {
                                    "(No column name)": "4"
                                },
                                {
                                    "(No column name)": "4"
                                },
                                {
                                    "(No column name)": "6"
                                },
                                {
                                    "(No column name)": "3"
                                },
                                {
                                    "(No column name)": "9"
                                },
                                {
                                    "(No column name)": "6"
                                },
                                {
                                    "(No column name)": "6"
                                },
                                {
                                    "(No column name)": "3"
                                },
                                {
                                    "(No column name)": "3"
                                },
                                {
                                    "(No column name)": "5"
                                },
                                {
                                    "(No column name)": "3"
                                },
                                {
                                    "(No column name)": "8"
                                },
                                {
                                    "(No column name)": "4"
                                },
                                {
                                    "(No column name)": "3"
                                },
                                {
                                    "(No column name)": "7"
                                },
                                {
                                    "(No column name)": "4"
                                },
                                {
                                    "(No column name)": "4"
                                },
                                {
                                    "(No column name)": "2"
                                },
                                {
                                    "(No column name)": "2"
                                },
                                {
                                    "(No column name)": "5"
                                },
                                {
                                    "(No column name)": "1"
                                },
                                {
                                    "(No column name)": "6"
                                },
                                {
                                    "(No column name)": "6"
                                },
                                {
                                    "(No column name)": "2"
                                },
                                {
                                    "(No column name)": "8"
                                },
                                {
                                    "(No column name)": "4"
                                },
                                {
                                    "(No column name)": "2"
                                },
                                {
                                    "(No column name)": "6"
                                },
                                {
                                    "(No column name)": "5"
                                },
                                {
                                    "(No column name)": "5"
                                },
                                {
                                    "(No column name)": "3"
                                },
                                {
                                    "(No column name)": "1"
                                },
                                {
                                    "(No column name)": "4"
                                },
                                {
                                    "(No column name)": "2"
                                },
                                {
                                    "(No column name)": "2"
                                },
                                {
                                    "(No column name)": "6"
                                },
                                {
                                    "(No column name)": "3"
                                },
                                {
                                    "(No column name)": "9"
                                },
                                {
                                    "(No column name)": "6"
                                },
                                {
                                    "(No column name)": "1"
                                },
                                {
                                    "(No column name)": "7"
                                },
                                {
                                    "(No column name)": "4"
                                },
                                {
                                    "(No column name)": "4"
                                },
                                {
                                    "(No column name)": "3"
                                },
                                {
                                    "(No column name)": "2"
                                },
                                {
                                    "(No column name)": "5"
                                },
                                {
                                    "(No column name)": "3"
                                },
                                {
                                    "(No column name)": "2"
                                },
                                {
                                    "(No column name)": "5"
                                },
                                {
                                    "(No column name)": "2"
                                },
                                {
                                    "(No column name)": "2"
                                },
                                {
                                    "(No column name)": "6"
                                },
                                {
                                    "(No column name)": "6"
                                },
                                {
                                    "(No column name)": "6"
                                },
                                {
                                    "(No column name)": "2"
                                },
                                {
                                    "(No column name)": "8"
                                },
                                {
                                    "(No column name)": "2"
                                },
                                {
                                    "(No column name)": "2"
                                },
                                {
                                    "(No column name)": "2"
                                },
                                {
                                    "(No column name)": "2"
                                },
                                {
                                    "(No column name)": "4"
                                },
                                {
                                    "(No column name)": "12"
                                },
                                {
                                    "(No column name)": "1"
                                },
                                {
                                    "(No column name)": "13"
                                },
                                {
                                    "(No column name)": "6"
                                },
                                {
                                    "(No column name)": "1"
                                },
                                {
                                    "(No column name)": "7"
                                },
                                {
                                    "(No column name)": "1"
                                },
                                {
                                    "(No column name)": "1"
                                },
                                {
                                    "(No column name)": "4"
                                },
                                {
                                    "(No column name)": "1"
                                },
                                {
                                    "(No column name)": "5"
                                },
                                {
                                    "(No column name)": "4"
                                },
                                {
                                    "(No column name)": "1"
                                },
                                {
                                    "(No column name)": "5"
                                },
                                {
                                    "(No column name)": "4"
                                },
                                {
                                    "(No column name)": "4"
                                },
                                {
                                    "(No column name)": "3"
                                },
                                {
                                    "(No column name)": "3"
                                },
                                {
                                    "(No column name)": "6"
                                },
                                {
                                    "(No column name)": "1"
                                },
                                {
                                    "(No column name)": "1"
                                },
                                {
                                    "(No column name)": "4"
                                },
                                {
                                    "(No column name)": "4"
                                },
                                {
                                    "(No column name)": "4"
                                },
                                {
                                    "(No column name)": "2"
                                },
                                {
                                    "(No column name)": "6"
                                },
                                {
                                    "(No column name)": "3"
                                },
                                {
                                    "(No column name)": "3"
                                },
                                {
                                    "(No column name)": "4"
                                },
                                {
                                    "(No column name)": "4"
                                },
                                {
                                    "(No column name)": "10"
                                },
                                {
                                    "(No column name)": "1"
                                },
                                {
                                    "(No column name)": "11"
                                },
                                {
                                    "(No column name)": "3"
                                },
                                {
                                    "(No column name)": "3"
                                },
                                {
                                    "(No column name)": "4"
                                },
                                {
                                    "(No column name)": "4"
                                },
                                {
                                    "(No column name)": "4"
                                },
                                {
                                    "(No column name)": "4"
                                },
                                {
                                    "(No column name)": "9"
                                },
                                {
                                    "(No column name)": "9"
                                },
                                {
                                    "(No column name)": "1"
                                },
                                {
                                    "(No column name)": "2"
                                },
                                {
                                    "(No column name)": "3"
                                },
                                {
                                    "(No column name)": "2"
                                },
                                {
                                    "(No column name)": "1"
                                },
                                {
                                    "(No column name)": "3"
                                },
                                {
                                    "(No column name)": "4"
                                },
                                {
                                    "(No column name)": "2"
                                },
                                {
                                    "(No column name)": "6"
                                },
                                {
                                    "(No column name)": "5"
                                },
                                {
                                    "(No column name)": "1"
                                },
                                {
                                    "(No column name)": "6"
                                },
                                {
                                    "(No column name)": "4"
                                },
                                {
                                    "(No column name)": "1"
                                },
                                {
                                    "(No column name)": "5"
                                },
                                {
                                    "(No column name)": "7"
                                },
                                {
                                    "(No column name)": "7"
                                },
                                {
                                    "(No column name)": "1"
                                },
                                {
                                    "(No column name)": "4"
                                },
                                {
                                    "(No column name)": "5"
                                },
                                {
                                    "(No column name)": "6"
                                },
                                {
                                    "(No column name)": "6"
                                },
                                {
                                    "(No column name)": "8"
                                },
                                {
                                    "(No column name)": "8"
                                },
                                {
                                    "(No column name)": "4"
                                },
                                {
                                    "(No column name)": "4"
                                },
                                {
                                    "(No column name)": "3"
                                },
                                {
                                    "(No column name)": "1"
                                },
                                {
                                    "(No column name)": "4"
                                },
                                {
                                    "(No column name)": "4"
                                },
                                {
                                    "(No column name)": "1"
                                },
                                {
                                    "(No column name)": "5"
                                },
                                {
                                    "(No column name)": "4"
                                },
                                {
                                    "(No column name)": "1"
                                },
                                {
                                    "(No column name)": "5"
                                },
                                {
                                    "(No column name)": "6"
                                },
                                {
                                    "(No column name)": "2"
                                },
                                {
                                    "(No column name)": "8"
                                },
                                {
                                    "(No column name)": "7"
                                },
                                {
                                    "(No column name)": "1"
                                },
                                {
                                    "(No column name)": "8"
                                },
                                {
                                    "(No column name)": "4"
                                },
                                {
                                    "(No column name)": "4"
                                },
                                {
                                    "(No column name)": "4"
                                },
                                {
                                    "(No column name)": "4"
                                },
                                {
                                    "(No column name)": "4"
                                },
                                {
                                    "(No column name)": "2"
                                },
                                {
                                    "(No column name)": "6"
                                },
                                {
                                    "(No column name)": "5"
                                },
                                {
                                    "(No column name)": "5"
                                },
                                {
                                    "(No column name)": "8"
                                },
                                {
                                    "(No column name)": "2"
                                },
                                {
                                    "(No column name)": "10"
                                },
                                {
                                    "(No column name)": "3"
                                },
                                {
                                    "(No column name)": "1"
                                },
                                {
                                    "(No column name)": "4"
                                },
                                {
                                    "(No column name)": "5"
                                },
                                {
                                    "(No column name)": "2"
                                },
                                {
                                    "(No column name)": "7"
                                },
                                {
                                    "(No column name)": "5"
                                },
                                {
                                    "(No column name)": "2"
                                },
                                {
                                    "(No column name)": "7"
                                },
                                {
                                    "(No column name)": "4"
                                },
                                {
                                    "(No column name)": "4"
                                },
                                {
                                    "(No column name)": "4"
                                },
                                {
                                    "(No column name)": "1"
                                },
                                {
                                    "(No column name)": "5"
                                },
                                {
                                    "(No column name)": "3"
                                },
                                {
                                    "(No column name)": "1"
                                },
                                {
                                    "(No column name)": "4"
                                },
                                {
                                    "(No column name)": "2"
                                },
                                {
                                    "(No column name)": "1"
                                },
                                {
                                    "(No column name)": "3"
                                },
                                {
                                    "(No column name)": "2"
                                },
                                {
                                    "(No column name)": "2"
                                },
                                {
                                    "(No column name)": "3"
                                },
                                {
                                    "(No column name)": "1"
                                },
                                {
                                    "(No column name)": "4"
                                },
                                {
                                    "(No column name)": "2"
                                },
                                {
                                    "(No column name)": "2"
                                },
                                {
                                    "(No column name)": "4"
                                },
                                {
                                    "(No column name)": "1"
                                },
                                {
                                    "(No column name)": "1"
                                },
                                {
                                    "(No column name)": "2"
                                },
                                {
                                    "(No column name)": "5"
                                },
                                {
                                    "(No column name)": "1"
                                },
                                {
                                    "(No column name)": "6"
                                },
                                {
                                    "(No column name)": "3"
                                },
                                {
                                    "(No column name)": "2"
                                },
                                {
                                    "(No column name)": "5"
                                },
                                {
                                    "(No column name)": "2"
                                },
                                {
                                    "(No column name)": "2"
                                },
                                {
                                    "(No column name)": "6"
                                },
                                {
                                    "(No column name)": "1"
                                },
                                {
                                    "(No column name)": "7"
                                },
                                {
                                    "(No column name)": "6"
                                },
                                {
                                    "(No column name)": "2"
                                },
                                {
                                    "(No column name)": "8"
                                },
                                {
                                    "(No column name)": "5"
                                },
                                {
                                    "(No column name)": "5"
                                },
                                {
                                    "(No column name)": "4"
                                },
                                {
                                    "(No column name)": "1"
                                },
                                {
                                    "(No column name)": "5"
                                },
                                {
                                    "(No column name)": "3"
                                },
                                {
                                    "(No column name)": "2"
                                },
                                {
                                    "(No column name)": "5"
                                },
                                {
                                    "(No column name)": "3"
                                },
                                {
                                    "(No column name)": "1"
                                },
                                {
                                    "(No column name)": "4"
                                },
                                {
                                    "(No column name)": "5"
                                },
                                {
                                    "(No column name)": "2"
                                },
                                {
                                    "(No column name)": "7"
                                },
                                {
                                    "(No column name)": "2"
                                },
                                {
                                    "(No column name)": "2"
                                },
                                {
                                    "(No column name)": "7"
                                },
                                {
                                    "(No column name)": "1"
                                },
                                {
                                    "(No column name)": "8"
                                },
                                {
                                    "(No column name)": "5"
                                },
                                {
                                    "(No column name)": "2"
                                },
                                {
                                    "(No column name)": "7"
                                },
                                {
                                    "(No column name)": "3"
                                },
                                {
                                    "(No column name)": "2"
                                },
                                {
                                    "(No column name)": "5"
                                },
                                {
                                    "(No column name)": "4"
                                },
                                {
                                    "(No column name)": "2"
                                },
                                {
                                    "(No column name)": "6"
                                },
                                {
                                    "(No column name)": "8"
                                },
                                {
                                    "(No column name)": "8"
                                },
                                {
                                    "(No column name)": "8"
                                },
                                {
                                    "(No column name)": "1"
                                },
                                {
                                    "(No column name)": "9"
                                },
                                {
                                    "(No column name)": "5"
                                },
                                {
                                    "(No column name)": "5"
                                },
                                {
                                    "(No column name)": "4"
                                },
                                {
                                    "(No column name)": "2"
                                },
                                {
                                    "(No column name)": "6"
                                },
                                {
                                    "(No column name)": "1"
                                },
                                {
                                    "(No column name)": "1"
                                },
                                {
                                    "(No column name)": "4"
                                },
                                {
                                    "(No column name)": "2"
                                },
                                {
                                    "(No column name)": "6"
                                },
                                {
                                    "(No column name)": "6"
                                },
                                {
                                    "(No column name)": "1"
                                },
                                {
                                    "(No column name)": "7"
                                },
                                {
                                    "(No column name)": "3"
                                },
                                {
                                    "(No column name)": "2"
                                },
                                {
                                    "(No column name)": "5"
                                },
                                {
                                    "(No column name)": "2"
                                },
                                {
                                    "(No column name)": "2"
                                },
                                {
                                    "(No column name)": "4"
                                },
                                {
                                    "(No column name)": "5"
                                },
                                {
                                    "(No column name)": "1"
                                },
                                {
                                    "(No column name)": "6"
                                },
                                {
                                    "(No column name)": "4"
                                },
                                {
                                    "(No column name)": "1"
                                },
                                {
                                    "(No column name)": "5"
                                },
                                {
                                    "(No column name)": "5"
                                },
                                {
                                    "(No column name)": "1"
                                },
                                {
                                    "(No column name)": "6"
                                },
                                {
                                    "(No column name)": "5"
                                },
                                {
                                    "(No column name)": "1"
                                },
                                {
                                    "(No column name)": "6"
                                },
                                {
                                    "(No column name)": "5"
                                },
                                {
                                    "(No column name)": "1"
                                },
                                {
                                    "(No column name)": "6"
                                },
                                {
                                    "(No column name)": "3"
                                },
                                {
                                    "(No column name)": "3"
                                },
                                {
                                    "(No column name)": "3"
                                },
                                {
                                    "(No column name)": "3"
                                },
                                {
                                    "(No column name)": "6"
                                },
                                {
                                    "(No column name)": "6"
                                },
                                {
                                    "(No column name)": "7"
                                },
                                {
                                    "(No column name)": "7"
                                },
                                {
                                    "(No column name)": "5"
                                },
                                {
                                    "(No column name)": "2"
                                },
                                {
                                    "(No column name)": "7"
                                },
                                {
                                    "(No column name)": "8"
                                },
                                {
                                    "(No column name)": "8"
                                },
                                {
                                    "(No column name)": "6"
                                },
                                {
                                    "(No column name)": "6"
                                },
                                {
                                    "(No column name)": "1"
                                },
                                {
                                    "(No column name)": "1"
                                },
                                {
                                    "(No column name)": "2"
                                },
                                {
                                    "(No column name)": "6"
                                },
                                {
                                    "(No column name)": "1"
                                },
                                {
                                    "(No column name)": "7"
                                },
                                {
                                    "(No column name)": "4"
                                },
                                {
                                    "(No column name)": "1"
                                },
                                {
                                    "(No column name)": "5"
                                },
                                {
                                    "(No column name)": "5"
                                },
                                {
                                    "(No column name)": "1"
                                },
                                {
                                    "(No column name)": "6"
                                },
                                {
                                    "(No column name)": "5"
                                },
                                {
                                    "(No column name)": "1"
                                },
                                {
                                    "(No column name)": "6"
                                },
                                {
                                    "(No column name)": "1"
                                },
                                {
                                    "(No column name)": "1"
                                },
                                {
                                    "(No column name)": "5"
                                },
                                {
                                    "(No column name)": "1"
                                },
                                {
                                    "(No column name)": "6"
                                },
                                {
                                    "(No column name)": "6"
                                },
                                {
                                    "(No column name)": "1"
                                },
                                {
                                    "(No column name)": "7"
                                },
                                {
                                    "(No column name)": "5"
                                },
                                {
                                    "(No column name)": "1"
                                },
                                {
                                    "(No column name)": "6"
                                },
                                {
                                    "(No column name)": "3"
                                },
                                {
                                    "(No column name)": "3"
                                },
                                {
                                    "(No column name)": "3"
                                },
                                {
                                    "(No column name)": "1"
                                },
                                {
                                    "(No column name)": "4"
                                },
                                {
                                    "(No column name)": "2"
                                },
                                {
                                    "(No column name)": "3"
                                },
                                {
                                    "(No column name)": "5"
                                },
                                {
                                    "(No column name)": "4"
                                },
                                {
                                    "(No column name)": "1"
                                },
                                {
                                    "(No column name)": "5"
                                },
                                {
                                    "(No column name)": "4"
                                },
                                {
                                    "(No column name)": "1"
                                },
                                {
                                    "(No column name)": "5"
                                },
                                {
                                    "(No column name)": "4"
                                },
                                {
                                    "(No column name)": "3"
                                },
                                {
                                    "(No column name)": "7"
                                },
                                {
                                    "(No column name)": "4"
                                },
                                {
                                    "(No column name)": "1"
                                },
                                {
                                    "(No column name)": "5"
                                },
                                {
                                    "(No column name)": "3"
                                },
                                {
                                    "(No column name)": "3"
                                },
                                {
                                    "(No column name)": "4"
                                },
                                {
                                    "(No column name)": "1"
                                },
                                {
                                    "(No column name)": "5"
                                },
                                {
                                    "(No column name)": "5"
                                },
                                {
                                    "(No column name)": "1"
                                },
                                {
                                    "(No column name)": "6"
                                },
                                {
                                    "(No column name)": "3"
                                },
                                {
                                    "(No column name)": "3"
                                },
                                {
                                    "(No column name)": "6"
                                },
                                {
                                    "(No column name)": "1"
                                },
                                {
                                    "(No column name)": "7"
                                },
                                {
                                    "(No column name)": "5"
                                },
                                {
                                    "(No column name)": "5"
                                },
                                {
                                    "(No column name)": "7"
                                },
                                {
                                    "(No column name)": "7"
                                },
                                {
                                    "(No column name)": "2"
                                },
                                {
                                    "(No column name)": "1"
                                },
                                {
                                    "(No column name)": "3"
                                },
                                {
                                    "(No column name)": "1"
                                },
                                {
                                    "(No column name)": "1"
                                },
                                {
                                    "(No column name)": "2"
                                },
                                {
                                    "(No column name)": "5"
                                },
                                {
                                    "(No column name)": "5"
                                },
                                {
                                    "(No column name)": "5"
                                },
                                {
                                    "(No column name)": "1"
                                },
                                {
                                    "(No column name)": "6"
                                },
                                {
                                    "(No column name)": "5"
                                },
                                {
                                    "(No column name)": "5"
                                },
                                {
                                    "(No column name)": "4"
                                },
                                {
                                    "(No column name)": "1"
                                },
                                {
                                    "(No column name)": "5"
                                },
                                {
                                    "(No column name)": "7"
                                },
                                {
                                    "(No column name)": "2"
                                },
                                {
                                    "(No column name)": "9"
                                },
                                {
                                    "(No column name)": "3"
                                },
                                {
                                    "(No column name)": "1"
                                },
                                {
                                    "(No column name)": "4"
                                },
                                {
                                    "(No column name)": "4"
                                },
                                {
                                    "(No column name)": "4"
                                },
                                {
                                    "(No column name)": "5"
                                },
                                {
                                    "(No column name)": "5"
                                },
                                {
                                    "(No column name)": "4"
                                },
                                {
                                    "(No column name)": "2"
                                },
                                {
                                    "(No column name)": "6"
                                },
                                {
                                    "(No column name)": "3"
                                },
                                {
                                    "(No column name)": "1"
                                },
                                {
                                    "(No column name)": "4"
                                },
                                {
                                    "(No column name)": "4"
                                },
                                {
                                    "(No column name)": "4"
                                },
                                {
                                    "(No column name)": "2"
                                },
                                {
                                    "(No column name)": "1"
                                },
                                {
                                    "(No column name)": "3"
                                },
                                {
                                    "(No column name)": "1"
                                },
                                {
                                    "(No column name)": "2"
                                },
                                {
                                    "(No column name)": "3"
                                },
                                {
                                    "(No column name)": "6"
                                },
                                {
                                    "(No column name)": "6"
                                },
                                {
                                    "(No column name)": "10"
                                },
                                {
                                    "(No column name)": "2"
                                },
                                {
                                    "(No column name)": "12"
                                },
                                {
                                    "(No column name)": "3"
                                },
                                {
                                    "(No column name)": "1"
                                },
                                {
                                    "(No column name)": "4"
                                },
                                {
                                    "(No column name)": "4"
                                },
                                {
                                    "(No column name)": "4"
                                },
                                {
                                    "(No column name)": "10"
                                },
                                {
                                    "(No column name)": "2"
                                },
                                {
                                    "(No column name)": "12"
                                },
                                {
                                    "(No column name)": "3"
                                },
                                {
                                    "(No column name)": "1"
                                },
                                {
                                    "(No column name)": "4"
                                },
                                {
                                    "(No column name)": "7"
                                },
                                {
                                    "(No column name)": "7"
                                },
                                {
                                    "(No column name)": "6"
                                },
                                {
                                    "(No column name)": "6"
                                },
                                {
                                    "(No column name)": "3"
                                },
                                {
                                    "(No column name)": "2"
                                },
                                {
                                    "(No column name)": "5"
                                },
                                {
                                    "(No column name)": "4"
                                },
                                {
                                    "(No column name)": "1"
                                },
                                {
                                    "(No column name)": "5"
                                },
                                {
                                    "(No column name)": "3"
                                },
                                {
                                    "(No column name)": "2"
                                },
                                {
                                    "(No column name)": "5"
                                },
                                {
                                    "(No column name)": "2"
                                },
                                {
                                    "(No column name)": "2"
                                },
                                {
                                    "(No column name)": "7"
                                },
                                {
                                    "(No column name)": "7"
                                },
                                {
                                    "(No column name)": "1"
                                },
                                {
                                    "(No column name)": "1"
                                },
                                {
                                    "(No column name)": "4"
                                },
                                {
                                    "(No column name)": "2"
                                },
                                {
                                    "(No column name)": "6"
                                },
                                {
                                    "(No column name)": "4"
                                },
                                {
                                    "(No column name)": "4"
                                },
                                {
                                    "(No column name)": "6"
                                },
                                {
                                    "(No column name)": "6"
                                },
                                {
                                    "(No column name)": "7"
                                },
                                {
                                    "(No column name)": "1"
                                },
                                {
                                    "(No column name)": "8"
                                },
                                {
                                    "(No column name)": "1027"
                                }
                            ]
                        },
                        "text/html": [
                            "<table>",
                            "<tr><th>(No column name)</th><th>(No column name)</th><th>(No column name)</th></tr>",
                            "<tr><td>1</td><td>2016</td><td>8</td></tr>",
                            "<tr><td>1</td><td>Részösszeg</td><td>8</td></tr>",
                            "<tr><td>2</td><td>2016</td><td>4</td></tr>",
                            "<tr><td>2</td><td>Részösszeg</td><td>4</td></tr>",
                            "<tr><td>3</td><td>2016</td><td>6</td></tr>",
                            "<tr><td>3</td><td>2017</td><td>2</td></tr>",
                            "<tr><td>3</td><td>Részösszeg</td><td>8</td></tr>",
                            "<tr><td>4</td><td>2016</td><td>5</td></tr>",
                            "<tr><td>4</td><td>2017</td><td>1</td></tr>",
                            "<tr><td>4</td><td>Részösszeg</td><td>6</td></tr>",
                            "<tr><td>5</td><td>2016</td><td>4</td></tr>",
                            "<tr><td>5</td><td>Részösszeg</td><td>4</td></tr>",
                            "<tr><td>6</td><td>2016</td><td>6</td></tr>",
                            "<tr><td>6</td><td>Részösszeg</td><td>6</td></tr>",
                            "<tr><td>7</td><td>2016</td><td>6</td></tr>",
                            "<tr><td>7</td><td>Részösszeg</td><td>6</td></tr>",
                            "<tr><td>8</td><td>2016</td><td>5</td></tr>",
                            "<tr><td>8</td><td>Részösszeg</td><td>5</td></tr>",
                            "<tr><td>9</td><td>2016</td><td>4</td></tr>",
                            "<tr><td>9</td><td>2017</td><td>2</td></tr>",
                            "<tr><td>9</td><td>Részösszeg</td><td>6</td></tr>",
                            "<tr><td>10</td><td>2016</td><td>4</td></tr>",
                            "<tr><td>10</td><td>Részösszeg</td><td>4</td></tr>",
                            "<tr><td>11</td><td>2016</td><td>3</td></tr>",
                            "<tr><td>11</td><td>2017</td><td>1</td></tr>",
                            "<tr><td>11</td><td>Részösszeg</td><td>4</td></tr>",
                            "<tr><td>12</td><td>2016</td><td>8</td></tr>",
                            "<tr><td>12</td><td>2017</td><td>1</td></tr>",
                            "<tr><td>12</td><td>Részösszeg</td><td>9</td></tr>",
                            "<tr><td>13</td><td>2016</td><td>3</td></tr>",
                            "<tr><td>13</td><td>2017</td><td>1</td></tr>",
                            "<tr><td>13</td><td>Részösszeg</td><td>4</td></tr>",
                            "<tr><td>14</td><td>2016</td><td>2</td></tr>",
                            "<tr><td>14</td><td>2017</td><td>1</td></tr>",
                            "<tr><td>14</td><td>Részösszeg</td><td>3</td></tr>",
                            "<tr><td>15</td><td>2016</td><td>4</td></tr>",
                            "<tr><td>15</td><td>2017</td><td>2</td></tr>",
                            "<tr><td>15</td><td>Részösszeg</td><td>6</td></tr>",
                            "<tr><td>16</td><td>2016</td><td>4</td></tr>",
                            "<tr><td>16</td><td>2017</td><td>1</td></tr>",
                            "<tr><td>16</td><td>Részösszeg</td><td>5</td></tr>",
                            "<tr><td>17</td><td>2016</td><td>5</td></tr>",
                            "<tr><td>17</td><td>2017</td><td>1</td></tr>",
                            "<tr><td>17</td><td>Részösszeg</td><td>6</td></tr>",
                            "<tr><td>18</td><td>2016</td><td>5</td></tr>",
                            "<tr><td>18</td><td>2017</td><td>1</td></tr>",
                            "<tr><td>18</td><td>Részösszeg</td><td>6</td></tr>",
                            "<tr><td>19</td><td>2016</td><td>5</td></tr>",
                            "<tr><td>19</td><td>2017</td><td>1</td></tr>",
                            "<tr><td>19</td><td>Részösszeg</td><td>6</td></tr>",
                            "<tr><td>20</td><td>2016</td><td>5</td></tr>",
                            "<tr><td>20</td><td>Részösszeg</td><td>5</td></tr>",
                            "<tr><td>21</td><td>2016</td><td>4</td></tr>",
                            "<tr><td>21</td><td>Részösszeg</td><td>4</td></tr>",
                            "<tr><td>22</td><td>2016</td><td>6</td></tr>",
                            "<tr><td>22</td><td>Részösszeg</td><td>6</td></tr>",
                            "<tr><td>23</td><td>2016</td><td>3</td></tr>",
                            "<tr><td>23</td><td>Részösszeg</td><td>3</td></tr>",
                            "<tr><td>24</td><td>2016</td><td>2</td></tr>",
                            "<tr><td>24</td><td>2017</td><td>1</td></tr>",
                            "<tr><td>24</td><td>Részösszeg</td><td>3</td></tr>",
                            "<tr><td>25</td><td>2016</td><td>2</td></tr>",
                            "<tr><td>25</td><td>Részösszeg</td><td>2</td></tr>",
                            "<tr><td>26</td><td>2016</td><td>2</td></tr>",
                            "<tr><td>26</td><td>Részösszeg</td><td>2</td></tr>",
                            "<tr><td>27</td><td>2016</td><td>6</td></tr>",
                            "<tr><td>27</td><td>2017</td><td>1</td></tr>",
                            "<tr><td>27</td><td>Részösszeg</td><td>7</td></tr>",
                            "<tr><td>28</td><td>2016</td><td>5</td></tr>",
                            "<tr><td>28</td><td>2017</td><td>1</td></tr>",
                            "<tr><td>28</td><td>Részösszeg</td><td>6</td></tr>",
                            "<tr><td>29</td><td>2016</td><td>5</td></tr>",
                            "<tr><td>29</td><td>2017</td><td>1</td></tr>",
                            "<tr><td>29</td><td>Részösszeg</td><td>6</td></tr>",
                            "<tr><td>30</td><td>2016</td><td>3</td></tr>",
                            "<tr><td>30</td><td>Részösszeg</td><td>3</td></tr>",
                            "<tr><td>31</td><td>2016</td><td>3</td></tr>",
                            "<tr><td>31</td><td>Részösszeg</td><td>3</td></tr>",
                            "<tr><td>32</td><td>2016</td><td>1</td></tr>",
                            "<tr><td>32</td><td>Részösszeg</td><td>1</td></tr>",
                            "<tr><td>33</td><td>2016</td><td>6</td></tr>",
                            "<tr><td>33</td><td>Részösszeg</td><td>6</td></tr>",
                            "<tr><td>34</td><td>2016</td><td>4</td></tr>",
                            "<tr><td>34</td><td>Részösszeg</td><td>4</td></tr>",
                            "<tr><td>35</td><td>2016</td><td>6</td></tr>",
                            "<tr><td>35</td><td>2017</td><td>3</td></tr>",
                            "<tr><td>35</td><td>Részösszeg</td><td>9</td></tr>",
                            "<tr><td>36</td><td>2016</td><td>6</td></tr>",
                            "<tr><td>36</td><td>Részösszeg</td><td>6</td></tr>",
                            "<tr><td>37</td><td>2016</td><td>3</td></tr>",
                            "<tr><td>37</td><td>Részösszeg</td><td>3</td></tr>",
                            "<tr><td>38</td><td>2016</td><td>5</td></tr>",
                            "<tr><td>38</td><td>2017</td><td>3</td></tr>",
                            "<tr><td>38</td><td>Részösszeg</td><td>8</td></tr>",
                            "<tr><td>39</td><td>2016</td><td>4</td></tr>",
                            "<tr><td>39</td><td>2017</td><td>3</td></tr>",
                            "<tr><td>39</td><td>Részösszeg</td><td>7</td></tr>",
                            "<tr><td>40</td><td>2016</td><td>4</td></tr>",
                            "<tr><td>40</td><td>Részösszeg</td><td>4</td></tr>",
                            "<tr><td>41</td><td>2016</td><td>2</td></tr>",
                            "<tr><td>41</td><td>Részösszeg</td><td>2</td></tr>",
                            "<tr><td>42</td><td>2016</td><td>5</td></tr>",
                            "<tr><td>42</td><td>2017</td><td>1</td></tr>",
                            "<tr><td>42</td><td>Részösszeg</td><td>6</td></tr>",
                            "<tr><td>43</td><td>2016</td><td>6</td></tr>",
                            "<tr><td>43</td><td>2017</td><td>2</td></tr>",
                            "<tr><td>43</td><td>Részösszeg</td><td>8</td></tr>",
                            "<tr><td>44</td><td>2016</td><td>4</td></tr>",
                            "<tr><td>44</td><td>2017</td><td>2</td></tr>",
                            "<tr><td>44</td><td>Részösszeg</td><td>6</td></tr>",
                            "<tr><td>45</td><td>2016</td><td>5</td></tr>",
                            "<tr><td>45</td><td>Részösszeg</td><td>5</td></tr>",
                            "<tr><td>46</td><td>2016</td><td>3</td></tr>",
                            "<tr><td>46</td><td>2017</td><td>1</td></tr>",
                            "<tr><td>46</td><td>Részösszeg</td><td>4</td></tr>",
                            "<tr><td>47</td><td>2016</td><td>2</td></tr>",
                            "<tr><td>47</td><td>Részösszeg</td><td>2</td></tr>",
                            "<tr><td>48</td><td>2016</td><td>6</td></tr>",
                            "<tr><td>48</td><td>2017</td><td>3</td></tr>",
                            "<tr><td>48</td><td>Részösszeg</td><td>9</td></tr>",
                            "<tr><td>49</td><td>2016</td><td>6</td></tr>",
                            "<tr><td>49</td><td>2017</td><td>1</td></tr>",
                            "<tr><td>49</td><td>Részösszeg</td><td>7</td></tr>",
                            "<tr><td>50</td><td>2016</td><td>4</td></tr>",
                            "<tr><td>50</td><td>Részösszeg</td><td>4</td></tr>",
                            "<tr><td>51</td><td>2016</td><td>3</td></tr>",
                            "<tr><td>51</td><td>2017</td><td>2</td></tr>",
                            "<tr><td>51</td><td>Részösszeg</td><td>5</td></tr>",
                            "<tr><td>52</td><td>2016</td><td>3</td></tr>",
                            "<tr><td>52</td><td>2017</td><td>2</td></tr>",
                            "<tr><td>52</td><td>Részösszeg</td><td>5</td></tr>",
                            "<tr><td>53</td><td>2016</td><td>2</td></tr>",
                            "<tr><td>53</td><td>Részösszeg</td><td>2</td></tr>",
                            "<tr><td>54</td><td>2016</td><td>6</td></tr>",
                            "<tr><td>54</td><td>Részösszeg</td><td>6</td></tr>",
                            "<tr><td>55</td><td>2016</td><td>6</td></tr>",
                            "<tr><td>55</td><td>2017</td><td>2</td></tr>",
                            "<tr><td>55</td><td>Részösszeg</td><td>8</td></tr>",
                            "<tr><td>56</td><td>2016</td><td>2</td></tr>",
                            "<tr><td>56</td><td>Részösszeg</td><td>2</td></tr>",
                            "<tr><td>57</td><td>2016</td><td>2</td></tr>",
                            "<tr><td>57</td><td>2017</td><td>2</td></tr>",
                            "<tr><td>57</td><td>Részösszeg</td><td>4</td></tr>",
                            "<tr><td>58</td><td>2016</td><td>12</td></tr>",
                            "<tr><td>58</td><td>2017</td><td>1</td></tr>",
                            "<tr><td>58</td><td>Részösszeg</td><td>13</td></tr>",
                            "<tr><td>59</td><td>2016</td><td>6</td></tr>",
                            "<tr><td>59</td><td>2017</td><td>1</td></tr>",
                            "<tr><td>59</td><td>Részösszeg</td><td>7</td></tr>",
                            "<tr><td>60</td><td>2016</td><td>1</td></tr>",
                            "<tr><td>60</td><td>Részösszeg</td><td>1</td></tr>",
                            "<tr><td>61</td><td>2016</td><td>4</td></tr>",
                            "<tr><td>61</td><td>2017</td><td>1</td></tr>",
                            "<tr><td>61</td><td>Részösszeg</td><td>5</td></tr>",
                            "<tr><td>62</td><td>2016</td><td>4</td></tr>",
                            "<tr><td>62</td><td>2017</td><td>1</td></tr>",
                            "<tr><td>62</td><td>Részösszeg</td><td>5</td></tr>",
                            "<tr><td>63</td><td>2016</td><td>4</td></tr>",
                            "<tr><td>63</td><td>Részösszeg</td><td>4</td></tr>",
                            "<tr><td>64</td><td>2016</td><td>3</td></tr>",
                            "<tr><td>64</td><td>2017</td><td>3</td></tr>",
                            "<tr><td>64</td><td>Részösszeg</td><td>6</td></tr>",
                            "<tr><td>65</td><td>2016</td><td>1</td></tr>",
                            "<tr><td>65</td><td>Részösszeg</td><td>1</td></tr>",
                            "<tr><td>66</td><td>2016</td><td>4</td></tr>",
                            "<tr><td>66</td><td>Részösszeg</td><td>4</td></tr>",
                            "<tr><td>67</td><td>2016</td><td>4</td></tr>",
                            "<tr><td>67</td><td>2017</td><td>2</td></tr>",
                            "<tr><td>67</td><td>Részösszeg</td><td>6</td></tr>",
                            "<tr><td>68</td><td>2016</td><td>3</td></tr>",
                            "<tr><td>68</td><td>Részösszeg</td><td>3</td></tr>",
                            "<tr><td>69</td><td>2016</td><td>4</td></tr>",
                            "<tr><td>69</td><td>Részösszeg</td><td>4</td></tr>",
                            "<tr><td>70</td><td>2016</td><td>10</td></tr>",
                            "<tr><td>70</td><td>2017</td><td>1</td></tr>",
                            "<tr><td>70</td><td>Részösszeg</td><td>11</td></tr>",
                            "<tr><td>71</td><td>2016</td><td>3</td></tr>",
                            "<tr><td>71</td><td>Részösszeg</td><td>3</td></tr>",
                            "<tr><td>72</td><td>2016</td><td>4</td></tr>",
                            "<tr><td>72</td><td>Részösszeg</td><td>4</td></tr>",
                            "<tr><td>73</td><td>2016</td><td>4</td></tr>",
                            "<tr><td>73</td><td>Részösszeg</td><td>4</td></tr>",
                            "<tr><td>74</td><td>2016</td><td>9</td></tr>",
                            "<tr><td>74</td><td>Részösszeg</td><td>9</td></tr>",
                            "<tr><td>75</td><td>2016</td><td>1</td></tr>",
                            "<tr><td>75</td><td>2017</td><td>2</td></tr>",
                            "<tr><td>75</td><td>Részösszeg</td><td>3</td></tr>",
                            "<tr><td>76</td><td>2016</td><td>2</td></tr>",
                            "<tr><td>76</td><td>2017</td><td>1</td></tr>",
                            "<tr><td>76</td><td>Részösszeg</td><td>3</td></tr>",
                            "<tr><td>77</td><td>2016</td><td>4</td></tr>",
                            "<tr><td>77</td><td>2017</td><td>2</td></tr>",
                            "<tr><td>77</td><td>Részösszeg</td><td>6</td></tr>",
                            "<tr><td>78</td><td>2016</td><td>5</td></tr>",
                            "<tr><td>78</td><td>2017</td><td>1</td></tr>",
                            "<tr><td>78</td><td>Részösszeg</td><td>6</td></tr>",
                            "<tr><td>79</td><td>2016</td><td>4</td></tr>",
                            "<tr><td>79</td><td>2017</td><td>1</td></tr>",
                            "<tr><td>79</td><td>Részösszeg</td><td>5</td></tr>",
                            "<tr><td>80</td><td>2016</td><td>7</td></tr>",
                            "<tr><td>80</td><td>Részösszeg</td><td>7</td></tr>",
                            "<tr><td>81</td><td>2016</td><td>1</td></tr>",
                            "<tr><td>81</td><td>2017</td><td>4</td></tr>",
                            "<tr><td>81</td><td>Részösszeg</td><td>5</td></tr>",
                            "<tr><td>82</td><td>2016</td><td>6</td></tr>",
                            "<tr><td>82</td><td>Részösszeg</td><td>6</td></tr>",
                            "<tr><td>83</td><td>2016</td><td>8</td></tr>",
                            "<tr><td>83</td><td>Részösszeg</td><td>8</td></tr>",
                            "<tr><td>84</td><td>2016</td><td>4</td></tr>",
                            "<tr><td>84</td><td>Részösszeg</td><td>4</td></tr>",
                            "<tr><td>85</td><td>2016</td><td>3</td></tr>",
                            "<tr><td>85</td><td>2017</td><td>1</td></tr>",
                            "<tr><td>85</td><td>Részösszeg</td><td>4</td></tr>",
                            "<tr><td>86</td><td>2016</td><td>4</td></tr>",
                            "<tr><td>86</td><td>2017</td><td>1</td></tr>",
                            "<tr><td>86</td><td>Részösszeg</td><td>5</td></tr>",
                            "<tr><td>87</td><td>2016</td><td>4</td></tr>",
                            "<tr><td>87</td><td>2017</td><td>1</td></tr>",
                            "<tr><td>87</td><td>Részösszeg</td><td>5</td></tr>",
                            "<tr><td>88</td><td>2016</td><td>6</td></tr>",
                            "<tr><td>88</td><td>2017</td><td>2</td></tr>",
                            "<tr><td>88</td><td>Részösszeg</td><td>8</td></tr>",
                            "<tr><td>89</td><td>2016</td><td>7</td></tr>",
                            "<tr><td>89</td><td>2017</td><td>1</td></tr>",
                            "<tr><td>89</td><td>Részösszeg</td><td>8</td></tr>",
                            "<tr><td>90</td><td>2016</td><td>4</td></tr>",
                            "<tr><td>90</td><td>Részösszeg</td><td>4</td></tr>",
                            "<tr><td>91</td><td>2016</td><td>4</td></tr>",
                            "<tr><td>91</td><td>Részösszeg</td><td>4</td></tr>",
                            "<tr><td>92</td><td>2016</td><td>4</td></tr>",
                            "<tr><td>92</td><td>2017</td><td>2</td></tr>",
                            "<tr><td>92</td><td>Részösszeg</td><td>6</td></tr>",
                            "<tr><td>93</td><td>2016</td><td>5</td></tr>",
                            "<tr><td>93</td><td>Részösszeg</td><td>5</td></tr>",
                            "<tr><td>94</td><td>2016</td><td>8</td></tr>",
                            "<tr><td>94</td><td>2017</td><td>2</td></tr>",
                            "<tr><td>94</td><td>Részösszeg</td><td>10</td></tr>",
                            "<tr><td>95</td><td>2016</td><td>3</td></tr>",
                            "<tr><td>95</td><td>2017</td><td>1</td></tr>",
                            "<tr><td>95</td><td>Részösszeg</td><td>4</td></tr>",
                            "<tr><td>96</td><td>2016</td><td>5</td></tr>",
                            "<tr><td>96</td><td>2017</td><td>2</td></tr>",
                            "<tr><td>96</td><td>Részösszeg</td><td>7</td></tr>",
                            "<tr><td>97</td><td>2016</td><td>5</td></tr>",
                            "<tr><td>97</td><td>2017</td><td>2</td></tr>",
                            "<tr><td>97</td><td>Részösszeg</td><td>7</td></tr>",
                            "<tr><td>98</td><td>2016</td><td>4</td></tr>",
                            "<tr><td>98</td><td>Részösszeg</td><td>4</td></tr>",
                            "<tr><td>99</td><td>2016</td><td>4</td></tr>",
                            "<tr><td>99</td><td>2017</td><td>1</td></tr>",
                            "<tr><td>99</td><td>Részösszeg</td><td>5</td></tr>",
                            "<tr><td>100</td><td>2016</td><td>3</td></tr>",
                            "<tr><td>100</td><td>2017</td><td>1</td></tr>",
                            "<tr><td>100</td><td>Részösszeg</td><td>4</td></tr>",
                            "<tr><td>101</td><td>2016</td><td>2</td></tr>",
                            "<tr><td>101</td><td>2017</td><td>1</td></tr>",
                            "<tr><td>101</td><td>Részösszeg</td><td>3</td></tr>",
                            "<tr><td>102</td><td>2016</td><td>2</td></tr>",
                            "<tr><td>102</td><td>Részösszeg</td><td>2</td></tr>",
                            "<tr><td>103</td><td>2016</td><td>3</td></tr>",
                            "<tr><td>103</td><td>2017</td><td>1</td></tr>",
                            "<tr><td>103</td><td>Részösszeg</td><td>4</td></tr>",
                            "<tr><td>104</td><td>2016</td><td>2</td></tr>",
                            "<tr><td>104</td><td>2017</td><td>2</td></tr>",
                            "<tr><td>104</td><td>Részösszeg</td><td>4</td></tr>",
                            "<tr><td>105</td><td>2016</td><td>1</td></tr>",
                            "<tr><td>105</td><td>2017</td><td>1</td></tr>",
                            "<tr><td>105</td><td>Részösszeg</td><td>2</td></tr>",
                            "<tr><td>106</td><td>2016</td><td>5</td></tr>",
                            "<tr><td>106</td><td>2017</td><td>1</td></tr>",
                            "<tr><td>106</td><td>Részösszeg</td><td>6</td></tr>",
                            "<tr><td>107</td><td>2016</td><td>3</td></tr>",
                            "<tr><td>107</td><td>2017</td><td>2</td></tr>",
                            "<tr><td>107</td><td>Részösszeg</td><td>5</td></tr>",
                            "<tr><td>108</td><td>2016</td><td>2</td></tr>",
                            "<tr><td>108</td><td>Részösszeg</td><td>2</td></tr>",
                            "<tr><td>109</td><td>2016</td><td>6</td></tr>",
                            "<tr><td>109</td><td>2017</td><td>1</td></tr>",
                            "<tr><td>109</td><td>Részösszeg</td><td>7</td></tr>",
                            "<tr><td>110</td><td>2016</td><td>6</td></tr>",
                            "<tr><td>110</td><td>2017</td><td>2</td></tr>",
                            "<tr><td>110</td><td>Részösszeg</td><td>8</td></tr>",
                            "<tr><td>111</td><td>2016</td><td>5</td></tr>",
                            "<tr><td>111</td><td>Részösszeg</td><td>5</td></tr>",
                            "<tr><td>112</td><td>2016</td><td>4</td></tr>",
                            "<tr><td>112</td><td>2017</td><td>1</td></tr>",
                            "<tr><td>112</td><td>Részösszeg</td><td>5</td></tr>",
                            "<tr><td>113</td><td>2016</td><td>3</td></tr>",
                            "<tr><td>113</td><td>2017</td><td>2</td></tr>",
                            "<tr><td>113</td><td>Részösszeg</td><td>5</td></tr>",
                            "<tr><td>114</td><td>2016</td><td>3</td></tr>",
                            "<tr><td>114</td><td>2017</td><td>1</td></tr>",
                            "<tr><td>114</td><td>Részösszeg</td><td>4</td></tr>",
                            "<tr><td>115</td><td>2016</td><td>5</td></tr>",
                            "<tr><td>115</td><td>2017</td><td>2</td></tr>",
                            "<tr><td>115</td><td>Részösszeg</td><td>7</td></tr>",
                            "<tr><td>116</td><td>2017</td><td>2</td></tr>",
                            "<tr><td>116</td><td>Részösszeg</td><td>2</td></tr>",
                            "<tr><td>117</td><td>2016</td><td>7</td></tr>",
                            "<tr><td>117</td><td>2017</td><td>1</td></tr>",
                            "<tr><td>117</td><td>Részösszeg</td><td>8</td></tr>",
                            "<tr><td>118</td><td>2016</td><td>5</td></tr>",
                            "<tr><td>118</td><td>2017</td><td>2</td></tr>",
                            "<tr><td>118</td><td>Részösszeg</td><td>7</td></tr>",
                            "<tr><td>119</td><td>2016</td><td>3</td></tr>",
                            "<tr><td>119</td><td>2017</td><td>2</td></tr>",
                            "<tr><td>119</td><td>Részösszeg</td><td>5</td></tr>",
                            "<tr><td>120</td><td>2016</td><td>4</td></tr>",
                            "<tr><td>120</td><td>2017</td><td>2</td></tr>",
                            "<tr><td>120</td><td>Részösszeg</td><td>6</td></tr>",
                            "<tr><td>121</td><td>2016</td><td>8</td></tr>",
                            "<tr><td>121</td><td>Részösszeg</td><td>8</td></tr>",
                            "<tr><td>122</td><td>2016</td><td>8</td></tr>",
                            "<tr><td>122</td><td>2017</td><td>1</td></tr>",
                            "<tr><td>122</td><td>Részösszeg</td><td>9</td></tr>",
                            "<tr><td>123</td><td>2016</td><td>5</td></tr>",
                            "<tr><td>123</td><td>Részösszeg</td><td>5</td></tr>",
                            "<tr><td>124</td><td>2016</td><td>4</td></tr>",
                            "<tr><td>124</td><td>2017</td><td>2</td></tr>",
                            "<tr><td>124</td><td>Részösszeg</td><td>6</td></tr>",
                            "<tr><td>125</td><td>2016</td><td>1</td></tr>",
                            "<tr><td>125</td><td>Részösszeg</td><td>1</td></tr>",
                            "<tr><td>126</td><td>2016</td><td>4</td></tr>",
                            "<tr><td>126</td><td>2017</td><td>2</td></tr>",
                            "<tr><td>126</td><td>Részösszeg</td><td>6</td></tr>",
                            "<tr><td>127</td><td>2016</td><td>6</td></tr>",
                            "<tr><td>127</td><td>2017</td><td>1</td></tr>",
                            "<tr><td>127</td><td>Részösszeg</td><td>7</td></tr>",
                            "<tr><td>128</td><td>2016</td><td>3</td></tr>",
                            "<tr><td>128</td><td>2017</td><td>2</td></tr>",
                            "<tr><td>128</td><td>Részösszeg</td><td>5</td></tr>",
                            "<tr><td>129</td><td>2016</td><td>2</td></tr>",
                            "<tr><td>129</td><td>2017</td><td>2</td></tr>",
                            "<tr><td>129</td><td>Részösszeg</td><td>4</td></tr>",
                            "<tr><td>130</td><td>2016</td><td>5</td></tr>",
                            "<tr><td>130</td><td>2017</td><td>1</td></tr>",
                            "<tr><td>130</td><td>Részösszeg</td><td>6</td></tr>",
                            "<tr><td>131</td><td>2016</td><td>4</td></tr>",
                            "<tr><td>131</td><td>2017</td><td>1</td></tr>",
                            "<tr><td>131</td><td>Részösszeg</td><td>5</td></tr>",
                            "<tr><td>132</td><td>2016</td><td>5</td></tr>",
                            "<tr><td>132</td><td>2017</td><td>1</td></tr>",
                            "<tr><td>132</td><td>Részösszeg</td><td>6</td></tr>",
                            "<tr><td>133</td><td>2016</td><td>5</td></tr>",
                            "<tr><td>133</td><td>2017</td><td>1</td></tr>",
                            "<tr><td>133</td><td>Részösszeg</td><td>6</td></tr>",
                            "<tr><td>134</td><td>2016</td><td>5</td></tr>",
                            "<tr><td>134</td><td>2017</td><td>1</td></tr>",
                            "<tr><td>134</td><td>Részösszeg</td><td>6</td></tr>",
                            "<tr><td>135</td><td>2016</td><td>3</td></tr>",
                            "<tr><td>135</td><td>Részösszeg</td><td>3</td></tr>",
                            "<tr><td>136</td><td>2016</td><td>3</td></tr>",
                            "<tr><td>136</td><td>Részösszeg</td><td>3</td></tr>",
                            "<tr><td>137</td><td>2016</td><td>6</td></tr>",
                            "<tr><td>137</td><td>Részösszeg</td><td>6</td></tr>",
                            "<tr><td>138</td><td>2016</td><td>7</td></tr>",
                            "<tr><td>138</td><td>Részösszeg</td><td>7</td></tr>",
                            "<tr><td>139</td><td>2016</td><td>5</td></tr>",
                            "<tr><td>139</td><td>2017</td><td>2</td></tr>",
                            "<tr><td>139</td><td>Részösszeg</td><td>7</td></tr>",
                            "<tr><td>140</td><td>2016</td><td>8</td></tr>",
                            "<tr><td>140</td><td>Részösszeg</td><td>8</td></tr>",
                            "<tr><td>141</td><td>2016</td><td>6</td></tr>",
                            "<tr><td>141</td><td>Részösszeg</td><td>6</td></tr>",
                            "<tr><td>142</td><td>2016</td><td>1</td></tr>",
                            "<tr><td>142</td><td>2017</td><td>1</td></tr>",
                            "<tr><td>142</td><td>Részösszeg</td><td>2</td></tr>",
                            "<tr><td>143</td><td>2016</td><td>6</td></tr>",
                            "<tr><td>143</td><td>2017</td><td>1</td></tr>",
                            "<tr><td>143</td><td>Részösszeg</td><td>7</td></tr>",
                            "<tr><td>144</td><td>2016</td><td>4</td></tr>",
                            "<tr><td>144</td><td>2017</td><td>1</td></tr>",
                            "<tr><td>144</td><td>Részösszeg</td><td>5</td></tr>",
                            "<tr><td>145</td><td>2016</td><td>5</td></tr>",
                            "<tr><td>145</td><td>2017</td><td>1</td></tr>",
                            "<tr><td>145</td><td>Részösszeg</td><td>6</td></tr>",
                            "<tr><td>146</td><td>2016</td><td>5</td></tr>",
                            "<tr><td>146</td><td>2017</td><td>1</td></tr>",
                            "<tr><td>146</td><td>Részösszeg</td><td>6</td></tr>",
                            "<tr><td>147</td><td>2016</td><td>1</td></tr>",
                            "<tr><td>147</td><td>Részösszeg</td><td>1</td></tr>",
                            "<tr><td>148</td><td>2016</td><td>5</td></tr>",
                            "<tr><td>148</td><td>2017</td><td>1</td></tr>",
                            "<tr><td>148</td><td>Részösszeg</td><td>6</td></tr>",
                            "<tr><td>149</td><td>2016</td><td>6</td></tr>",
                            "<tr><td>149</td><td>2017</td><td>1</td></tr>",
                            "<tr><td>149</td><td>Részösszeg</td><td>7</td></tr>",
                            "<tr><td>150</td><td>2016</td><td>5</td></tr>",
                            "<tr><td>150</td><td>2017</td><td>1</td></tr>",
                            "<tr><td>150</td><td>Részösszeg</td><td>6</td></tr>",
                            "<tr><td>151</td><td>2016</td><td>3</td></tr>",
                            "<tr><td>151</td><td>Részösszeg</td><td>3</td></tr>",
                            "<tr><td>152</td><td>2016</td><td>3</td></tr>",
                            "<tr><td>152</td><td>2017</td><td>1</td></tr>",
                            "<tr><td>152</td><td>Részösszeg</td><td>4</td></tr>",
                            "<tr><td>153</td><td>2016</td><td>2</td></tr>",
                            "<tr><td>153</td><td>2017</td><td>3</td></tr>",
                            "<tr><td>153</td><td>Részösszeg</td><td>5</td></tr>",
                            "<tr><td>154</td><td>2016</td><td>4</td></tr>",
                            "<tr><td>154</td><td>2017</td><td>1</td></tr>",
                            "<tr><td>154</td><td>Részösszeg</td><td>5</td></tr>",
                            "<tr><td>155</td><td>2016</td><td>4</td></tr>",
                            "<tr><td>155</td><td>2017</td><td>1</td></tr>",
                            "<tr><td>155</td><td>Részösszeg</td><td>5</td></tr>",
                            "<tr><td>156</td><td>2016</td><td>4</td></tr>",
                            "<tr><td>156</td><td>2017</td><td>3</td></tr>",
                            "<tr><td>156</td><td>Részösszeg</td><td>7</td></tr>",
                            "<tr><td>157</td><td>2016</td><td>4</td></tr>",
                            "<tr><td>157</td><td>2017</td><td>1</td></tr>",
                            "<tr><td>157</td><td>Részösszeg</td><td>5</td></tr>",
                            "<tr><td>158</td><td>2016</td><td>3</td></tr>",
                            "<tr><td>158</td><td>Részösszeg</td><td>3</td></tr>",
                            "<tr><td>160</td><td>2016</td><td>4</td></tr>",
                            "<tr><td>160</td><td>2017</td><td>1</td></tr>",
                            "<tr><td>160</td><td>Részösszeg</td><td>5</td></tr>",
                            "<tr><td>161</td><td>2016</td><td>5</td></tr>",
                            "<tr><td>161</td><td>2017</td><td>1</td></tr>",
                            "<tr><td>161</td><td>Részösszeg</td><td>6</td></tr>",
                            "<tr><td>162</td><td>2016</td><td>3</td></tr>",
                            "<tr><td>162</td><td>Részösszeg</td><td>3</td></tr>",
                            "<tr><td>163</td><td>2016</td><td>6</td></tr>",
                            "<tr><td>163</td><td>2017</td><td>1</td></tr>",
                            "<tr><td>163</td><td>Részösszeg</td><td>7</td></tr>",
                            "<tr><td>164</td><td>2016</td><td>5</td></tr>",
                            "<tr><td>164</td><td>Részösszeg</td><td>5</td></tr>",
                            "<tr><td>165</td><td>2016</td><td>7</td></tr>",
                            "<tr><td>165</td><td>Részösszeg</td><td>7</td></tr>",
                            "<tr><td>166</td><td>2016</td><td>2</td></tr>",
                            "<tr><td>166</td><td>2017</td><td>1</td></tr>",
                            "<tr><td>166</td><td>Részösszeg</td><td>3</td></tr>",
                            "<tr><td>167</td><td>2016</td><td>1</td></tr>",
                            "<tr><td>167</td><td>2017</td><td>1</td></tr>",
                            "<tr><td>167</td><td>Részösszeg</td><td>2</td></tr>",
                            "<tr><td>168</td><td>2016</td><td>5</td></tr>",
                            "<tr><td>168</td><td>Részösszeg</td><td>5</td></tr>",
                            "<tr><td>169</td><td>2016</td><td>5</td></tr>",
                            "<tr><td>169</td><td>2017</td><td>1</td></tr>",
                            "<tr><td>169</td><td>Részösszeg</td><td>6</td></tr>",
                            "<tr><td>170</td><td>2016</td><td>5</td></tr>",
                            "<tr><td>170</td><td>Részösszeg</td><td>5</td></tr>",
                            "<tr><td>171</td><td>2016</td><td>4</td></tr>",
                            "<tr><td>171</td><td>2017</td><td>1</td></tr>",
                            "<tr><td>171</td><td>Részösszeg</td><td>5</td></tr>",
                            "<tr><td>172</td><td>2016</td><td>7</td></tr>",
                            "<tr><td>172</td><td>2017</td><td>2</td></tr>",
                            "<tr><td>172</td><td>Részösszeg</td><td>9</td></tr>",
                            "<tr><td>173</td><td>2016</td><td>3</td></tr>",
                            "<tr><td>173</td><td>2017</td><td>1</td></tr>",
                            "<tr><td>173</td><td>Részösszeg</td><td>4</td></tr>",
                            "<tr><td>174</td><td>2016</td><td>4</td></tr>",
                            "<tr><td>174</td><td>Részösszeg</td><td>4</td></tr>",
                            "<tr><td>175</td><td>2016</td><td>5</td></tr>",
                            "<tr><td>175</td><td>Részösszeg</td><td>5</td></tr>",
                            "<tr><td>176</td><td>2016</td><td>4</td></tr>",
                            "<tr><td>176</td><td>2017</td><td>2</td></tr>",
                            "<tr><td>176</td><td>Részösszeg</td><td>6</td></tr>",
                            "<tr><td>177</td><td>2016</td><td>3</td></tr>",
                            "<tr><td>177</td><td>2017</td><td>1</td></tr>",
                            "<tr><td>177</td><td>Részösszeg</td><td>4</td></tr>",
                            "<tr><td>178</td><td>2016</td><td>4</td></tr>",
                            "<tr><td>178</td><td>Részösszeg</td><td>4</td></tr>",
                            "<tr><td>179</td><td>2016</td><td>2</td></tr>",
                            "<tr><td>179</td><td>2017</td><td>1</td></tr>",
                            "<tr><td>179</td><td>Részösszeg</td><td>3</td></tr>",
                            "<tr><td>180</td><td>2016</td><td>1</td></tr>",
                            "<tr><td>180</td><td>2017</td><td>2</td></tr>",
                            "<tr><td>180</td><td>Részösszeg</td><td>3</td></tr>",
                            "<tr><td>181</td><td>2016</td><td>6</td></tr>",
                            "<tr><td>181</td><td>Részösszeg</td><td>6</td></tr>",
                            "<tr><td>182</td><td>2016</td><td>10</td></tr>",
                            "<tr><td>182</td><td>2017</td><td>2</td></tr>",
                            "<tr><td>182</td><td>Részösszeg</td><td>12</td></tr>",
                            "<tr><td>183</td><td>2016</td><td>3</td></tr>",
                            "<tr><td>183</td><td>2017</td><td>1</td></tr>",
                            "<tr><td>183</td><td>Részösszeg</td><td>4</td></tr>",
                            "<tr><td>184</td><td>2016</td><td>4</td></tr>",
                            "<tr><td>184</td><td>Részösszeg</td><td>4</td></tr>",
                            "<tr><td>185</td><td>2016</td><td>10</td></tr>",
                            "<tr><td>185</td><td>2017</td><td>2</td></tr>",
                            "<tr><td>185</td><td>Részösszeg</td><td>12</td></tr>",
                            "<tr><td>186</td><td>2016</td><td>3</td></tr>",
                            "<tr><td>186</td><td>2017</td><td>1</td></tr>",
                            "<tr><td>186</td><td>Részösszeg</td><td>4</td></tr>",
                            "<tr><td>187</td><td>2016</td><td>7</td></tr>",
                            "<tr><td>187</td><td>Részösszeg</td><td>7</td></tr>",
                            "<tr><td>188</td><td>2016</td><td>6</td></tr>",
                            "<tr><td>188</td><td>Részösszeg</td><td>6</td></tr>",
                            "<tr><td>189</td><td>2016</td><td>3</td></tr>",
                            "<tr><td>189</td><td>2017</td><td>2</td></tr>",
                            "<tr><td>189</td><td>Részösszeg</td><td>5</td></tr>",
                            "<tr><td>190</td><td>2016</td><td>4</td></tr>",
                            "<tr><td>190</td><td>2017</td><td>1</td></tr>",
                            "<tr><td>190</td><td>Részösszeg</td><td>5</td></tr>",
                            "<tr><td>191</td><td>2016</td><td>3</td></tr>",
                            "<tr><td>191</td><td>2017</td><td>2</td></tr>",
                            "<tr><td>191</td><td>Részösszeg</td><td>5</td></tr>",
                            "<tr><td>192</td><td>2016</td><td>2</td></tr>",
                            "<tr><td>192</td><td>Részösszeg</td><td>2</td></tr>",
                            "<tr><td>193</td><td>2016</td><td>7</td></tr>",
                            "<tr><td>193</td><td>Részösszeg</td><td>7</td></tr>",
                            "<tr><td>194</td><td>2016</td><td>1</td></tr>",
                            "<tr><td>194</td><td>Részösszeg</td><td>1</td></tr>",
                            "<tr><td>195</td><td>2016</td><td>4</td></tr>",
                            "<tr><td>195</td><td>2017</td><td>2</td></tr>",
                            "<tr><td>195</td><td>Részösszeg</td><td>6</td></tr>",
                            "<tr><td>196</td><td>2016</td><td>4</td></tr>",
                            "<tr><td>196</td><td>Részösszeg</td><td>4</td></tr>",
                            "<tr><td>197</td><td>2016</td><td>6</td></tr>",
                            "<tr><td>197</td><td>Részösszeg</td><td>6</td></tr>",
                            "<tr><td>198</td><td>2016</td><td>7</td></tr>",
                            "<tr><td>198</td><td>2017</td><td>1</td></tr>",
                            "<tr><td>198</td><td>Részösszeg</td><td>8</td></tr>",
                            "<tr><td>Végösszeg</td><td>Részösszeg</td><td>1027</td></tr>",
                            "</table>"
                        ]
                    }
                }
            ],
            "execution_count": 17
        },
        {
            "cell_type": "markdown",
            "source": [
                "Rangsoroljuk az egyes szobákat a foglalások száma, azon belül férőhely szerint!\n",
                "\n",
                "- Holtverseny esetén a sorszámok sűrűn kövessék egymást\n",
                "- Az 1-es számot a legtöbbet foglalt, azon belül legkevesebb férőhelyű szoba kapja\n",
                "- Csak a szoba azonosítója, a férőhely és a helyezés jelenjen meg"
            ],
            "metadata": {
                "azdata_cell_guid": "c602c568-0d76-4162-9394-a99022cc93d8"
            },
            "attachments": {}
        },
        {
            "cell_type": "code",
            "source": [
                "SELECT  sz.SZOBA_ID,\r\n",
                "        sz.FEROHELY,\r\n",
                "        dense_rank() over(partition by count(f.SZOBA_FK) order by sz.FEROHELY asc)\r\n",
                "  \r\n",
                "\r\n",
                "from Szoba sz join Foglalas f on sz.szoba_id = f.SZOBA_FK\r\n",
                ""
            ],
            "metadata": {
                "azdata_cell_guid": "b7810222-82cb-457e-ab0b-bc085c8da442",
                "language": "sql",
                "tags": []
            },
            "outputs": [
                {
                    "output_type": "error",
                    "evalue": "Msg 8120, Level 16, State 1, Line 1\r\nColumn 'Szoba.SZOBA_ID' is invalid in the select list because it is not contained in either an aggregate function or the GROUP BY clause.",
                    "ename": "",
                    "traceback": []
                },
                {
                    "output_type": "display_data",
                    "data": {
                        "text/html": "Total execution time: 00:00:00.003"
                    },
                    "metadata": {}
                }
            ],
            "execution_count": 18
        },
        {
            "cell_type": "markdown",
            "source": [
                "Kérdezzük le az átlagosnál kevesebb főre történt foglalások adatait!\n",
                "\n",
                "a. Egy új oszlopban jelenjen meg az ügyfél neve is!\n",
                "\n",
                "b. Egy másik új oszlop mutassa meg, hogy az ügyfél előző három foglalása átlagosan hány főre történt! Az oszlop neve legyen 'Előző három foglalás átlaga'\n",
                "\n",
                "c. A listában azon vendégek is jelenjenek meg, akik még nem foglaltak!"
            ],
            "metadata": {
                "azdata_cell_guid": "9ba90353-70e8-42ca-a999-47d8dc90568e"
            },
            "attachments": {}
        },
        {
            "cell_type": "code",
            "source": [
                "SELECT f.*,\r\n",
                "v.usernev,\r\n",
                "avg(f.FELNOTT_SZAM + f.GYERMEK_SZAM) over(partition by v.usernev order by f.FELNOTT_SZAM + f.GYERMEK_SZAM asc rows between 3 PRECEDING and 1 PRECEDING) AS 'Előző 3 foglalás átlaga'\r\n",
                "\r\n",
                "FROM Vendeg v JOIN Foglalas f on v.usernev = f.UGYFEL_FK\r\n",
                "\r\n",
                "where f.FELNOTT_SZAM + f.GYERMEK_SZAM < (\r\n",
                "select avg(FELNOTT_SZAM + GYERMEK_SZAM)\r\n",
                "\r\n",
                "from Foglalas\r\n",
                ")"
            ],
            "metadata": {
                "azdata_cell_guid": "34f157ef-a141-45dc-862e-766e5e566fad",
                "language": "sql"
            },
            "outputs": [
                {
                    "output_type": "display_data",
                    "data": {
                        "text/html": "(147 rows affected)"
                    },
                    "metadata": {}
                },
                {
                    "output_type": "display_data",
                    "data": {
                        "text/html": "Total execution time: 00:00:00.018"
                    },
                    "metadata": {}
                },
                {
                    "output_type": "execute_result",
                    "metadata": {},
                    "execution_count": 4,
                    "data": {
                        "application/vnd.dataresource+json": {
                            "schema": {
                                "fields": [
                                    {
                                        "name": "FOGLALAS_PK"
                                    },
                                    {
                                        "name": "UGYFEL_FK"
                                    },
                                    {
                                        "name": "SZOBA_FK"
                                    },
                                    {
                                        "name": "METTOL"
                                    },
                                    {
                                        "name": "MEDDIG"
                                    },
                                    {
                                        "name": "FELNOTT_SZAM"
                                    },
                                    {
                                        "name": "GYERMEK_SZAM"
                                    },
                                    {
                                        "name": "usernev"
                                    },
                                    {
                                        "name": "Előző 3 foglalás átlaga"
                                    }
                                ]
                            },
                            "data": [
                                {
                                    "FOGLALAS_PK": "803",
                                    "UGYFEL_FK": "adam1",
                                    "SZOBA_FK": "1",
                                    "METTOL": "2016-08-20",
                                    "MEDDIG": "2016-08-24",
                                    "FELNOTT_SZAM": "1",
                                    "GYERMEK_SZAM": "0",
                                    "usernev": "adam1",
                                    "Előző 3 foglalás átlaga": "NULL"
                                },
                                {
                                    "FOGLALAS_PK": "1504",
                                    "UGYFEL_FK": "adam3",
                                    "SZOBA_FK": "57",
                                    "METTOL": "2017-02-06",
                                    "MEDDIG": "2017-02-10",
                                    "FELNOTT_SZAM": "1",
                                    "GYERMEK_SZAM": "0",
                                    "usernev": "adam3",
                                    "Előző 3 foglalás átlaga": "NULL"
                                },
                                {
                                    "FOGLALAS_PK": "857",
                                    "UGYFEL_FK": "agnes",
                                    "SZOBA_FK": "165",
                                    "METTOL": "2016-05-25",
                                    "MEDDIG": "2016-05-30",
                                    "FELNOTT_SZAM": "1",
                                    "GYERMEK_SZAM": "0",
                                    "usernev": "agnes",
                                    "Előző 3 foglalás átlaga": "NULL"
                                },
                                {
                                    "FOGLALAS_PK": "755",
                                    "UGYFEL_FK": "agnes3",
                                    "SZOBA_FK": "20",
                                    "METTOL": "2016-08-04",
                                    "MEDDIG": "2016-08-10",
                                    "FELNOTT_SZAM": "1",
                                    "GYERMEK_SZAM": "0",
                                    "usernev": "agnes3",
                                    "Előző 3 foglalás átlaga": "NULL"
                                },
                                {
                                    "FOGLALAS_PK": "980",
                                    "UGYFEL_FK": "AGNESH",
                                    "SZOBA_FK": "143",
                                    "METTOL": "2016-06-23",
                                    "MEDDIG": "2016-06-26",
                                    "FELNOTT_SZAM": "1",
                                    "GYERMEK_SZAM": "0",
                                    "usernev": "AGNESH",
                                    "Előző 3 foglalás átlaga": "NULL"
                                },
                                {
                                    "FOGLALAS_PK": "1225",
                                    "UGYFEL_FK": "AGNESH",
                                    "SZOBA_FK": "69",
                                    "METTOL": "2016-10-30",
                                    "MEDDIG": "2016-11-04",
                                    "FELNOTT_SZAM": "1",
                                    "GYERMEK_SZAM": "0",
                                    "usernev": "AGNESH",
                                    "Előző 3 foglalás átlaga": "1"
                                },
                                {
                                    "FOGLALAS_PK": "1034",
                                    "UGYFEL_FK": "akos",
                                    "SZOBA_FK": "127",
                                    "METTOL": "2016-09-06",
                                    "MEDDIG": "2016-09-12",
                                    "FELNOTT_SZAM": "1",
                                    "GYERMEK_SZAM": "0",
                                    "usernev": "akos",
                                    "Előző 3 foglalás átlaga": "NULL"
                                },
                                {
                                    "FOGLALAS_PK": "705",
                                    "UGYFEL_FK": "akos",
                                    "SZOBA_FK": "37",
                                    "METTOL": "2016-07-22",
                                    "MEDDIG": "2016-07-26",
                                    "FELNOTT_SZAM": "1",
                                    "GYERMEK_SZAM": "0",
                                    "usernev": "akos",
                                    "Előző 3 foglalás átlaga": "1"
                                },
                                {
                                    "FOGLALAS_PK": "651",
                                    "UGYFEL_FK": "aladar",
                                    "SZOBA_FK": "4",
                                    "METTOL": "2016-05-17",
                                    "MEDDIG": "2016-05-24",
                                    "FELNOTT_SZAM": "1",
                                    "GYERMEK_SZAM": "0",
                                    "usernev": "aladar",
                                    "Előző 3 foglalás átlaga": "NULL"
                                },
                                {
                                    "FOGLALAS_PK": "1079",
                                    "UGYFEL_FK": "aladar",
                                    "SZOBA_FK": "86",
                                    "METTOL": "2016-09-24",
                                    "MEDDIG": "2016-09-28",
                                    "FELNOTT_SZAM": "1",
                                    "GYERMEK_SZAM": "0",
                                    "usernev": "aladar",
                                    "Előző 3 foglalás átlaga": "1"
                                },
                                {
                                    "FOGLALAS_PK": "1436",
                                    "UGYFEL_FK": "alexandra",
                                    "SZOBA_FK": "35",
                                    "METTOL": "2017-01-13",
                                    "MEDDIG": "2017-01-14",
                                    "FELNOTT_SZAM": "1",
                                    "GYERMEK_SZAM": "0",
                                    "usernev": "alexandra",
                                    "Előző 3 foglalás átlaga": "NULL"
                                },
                                {
                                    "FOGLALAS_PK": "955",
                                    "UGYFEL_FK": "andi",
                                    "SZOBA_FK": "47",
                                    "METTOL": "2016-06-13",
                                    "MEDDIG": "2016-06-14",
                                    "FELNOTT_SZAM": "1",
                                    "GYERMEK_SZAM": "0",
                                    "usernev": "andi",
                                    "Előző 3 foglalás átlaga": "NULL"
                                },
                                {
                                    "FOGLALAS_PK": "884",
                                    "UGYFEL_FK": "andras2",
                                    "SZOBA_FK": "98",
                                    "METTOL": "2016-05-30",
                                    "MEDDIG": "2016-06-04",
                                    "FELNOTT_SZAM": "1",
                                    "GYERMEK_SZAM": "0",
                                    "usernev": "andras2",
                                    "Előző 3 foglalás átlaga": "NULL"
                                },
                                {
                                    "FOGLALAS_PK": "697",
                                    "UGYFEL_FK": "andras21",
                                    "SZOBA_FK": "12",
                                    "METTOL": "2016-07-20",
                                    "MEDDIG": "2016-07-22",
                                    "FELNOTT_SZAM": "1",
                                    "GYERMEK_SZAM": "0",
                                    "usernev": "andras21",
                                    "Előző 3 foglalás átlaga": "NULL"
                                },
                                {
                                    "FOGLALAS_PK": "880",
                                    "UGYFEL_FK": "andras3",
                                    "SZOBA_FK": "184",
                                    "METTOL": "2016-05-30",
                                    "MEDDIG": "2016-06-03",
                                    "FELNOTT_SZAM": "1",
                                    "GYERMEK_SZAM": "0",
                                    "usernev": "andras3",
                                    "Előző 3 foglalás átlaga": "NULL"
                                },
                                {
                                    "FOGLALAS_PK": "949",
                                    "UGYFEL_FK": "andras3",
                                    "SZOBA_FK": "1",
                                    "METTOL": "2016-06-10",
                                    "MEDDIG": "2016-06-11",
                                    "FELNOTT_SZAM": "1",
                                    "GYERMEK_SZAM": "0",
                                    "usernev": "andras3",
                                    "Előző 3 foglalás átlaga": "1"
                                },
                                {
                                    "FOGLALAS_PK": "799",
                                    "UGYFEL_FK": "andras41",
                                    "SZOBA_FK": "175",
                                    "METTOL": "2016-08-19",
                                    "MEDDIG": "2016-08-23",
                                    "FELNOTT_SZAM": "1",
                                    "GYERMEK_SZAM": "0",
                                    "usernev": "andras41",
                                    "Előző 3 foglalás átlaga": "NULL"
                                },
                                {
                                    "FOGLALAS_PK": "1308",
                                    "UGYFEL_FK": "andras41",
                                    "SZOBA_FK": "182",
                                    "METTOL": "2016-11-23",
                                    "MEDDIG": "2016-11-24",
                                    "FELNOTT_SZAM": "1",
                                    "GYERMEK_SZAM": "0",
                                    "usernev": "andras41",
                                    "Előző 3 foglalás átlaga": "1"
                                },
                                {
                                    "FOGLALAS_PK": "1074",
                                    "UGYFEL_FK": "andras41",
                                    "SZOBA_FK": "195",
                                    "METTOL": "2016-09-22",
                                    "MEDDIG": "2016-09-29",
                                    "FELNOTT_SZAM": "1",
                                    "GYERMEK_SZAM": "0",
                                    "usernev": "andras41",
                                    "Előző 3 foglalás átlaga": "1"
                                },
                                {
                                    "FOGLALAS_PK": "600",
                                    "UGYFEL_FK": "ANDRASE",
                                    "SZOBA_FK": "190",
                                    "METTOL": "2016-04-24",
                                    "MEDDIG": "2016-05-01",
                                    "FELNOTT_SZAM": "1",
                                    "GYERMEK_SZAM": "0",
                                    "usernev": "ANDRASE",
                                    "Előző 3 foglalás átlaga": "NULL"
                                },
                                {
                                    "FOGLALAS_PK": "860",
                                    "UGYFEL_FK": "andrea4",
                                    "SZOBA_FK": "70",
                                    "METTOL": "2016-05-27",
                                    "MEDDIG": "2016-05-29",
                                    "FELNOTT_SZAM": "1",
                                    "GYERMEK_SZAM": "0",
                                    "usernev": "andrea4",
                                    "Előző 3 foglalás átlaga": "NULL"
                                },
                                {
                                    "FOGLALAS_PK": "567",
                                    "UGYFEL_FK": "anett3",
                                    "SZOBA_FK": "170",
                                    "METTOL": "2016-04-10",
                                    "MEDDIG": "2016-04-17",
                                    "FELNOTT_SZAM": "1",
                                    "GYERMEK_SZAM": "0",
                                    "usernev": "anett3",
                                    "Előző 3 foglalás átlaga": "NULL"
                                },
                                {
                                    "FOGLALAS_PK": "1159",
                                    "UGYFEL_FK": "anett3",
                                    "SZOBA_FK": "73",
                                    "METTOL": "2016-10-16",
                                    "MEDDIG": "2016-10-21",
                                    "FELNOTT_SZAM": "1",
                                    "GYERMEK_SZAM": "0",
                                    "usernev": "anett3",
                                    "Előző 3 foglalás átlaga": "1"
                                },
                                {
                                    "FOGLALAS_PK": "1001",
                                    "UGYFEL_FK": "aniko4",
                                    "SZOBA_FK": "4",
                                    "METTOL": "2016-07-02",
                                    "MEDDIG": "2016-07-09",
                                    "FELNOTT_SZAM": "1",
                                    "GYERMEK_SZAM": "0",
                                    "usernev": "aniko4",
                                    "Előző 3 foglalás átlaga": "NULL"
                                },
                                {
                                    "FOGLALAS_PK": "965",
                                    "UGYFEL_FK": "ANIKOS",
                                    "SZOBA_FK": "5",
                                    "METTOL": "2016-06-16",
                                    "MEDDIG": "2016-06-23",
                                    "FELNOTT_SZAM": "1",
                                    "GYERMEK_SZAM": "0",
                                    "usernev": "ANIKOS",
                                    "Előző 3 foglalás átlaga": "NULL"
                                },
                                {
                                    "FOGLALAS_PK": "684",
                                    "UGYFEL_FK": "ANNAMARIAR",
                                    "SZOBA_FK": "184",
                                    "METTOL": "2016-07-18",
                                    "MEDDIG": "2016-07-21",
                                    "FELNOTT_SZAM": "1",
                                    "GYERMEK_SZAM": "0",
                                    "usernev": "ANNAMARIAR",
                                    "Előző 3 foglalás átlaga": "NULL"
                                },
                                {
                                    "FOGLALAS_PK": "1066",
                                    "UGYFEL_FK": "ARPADH",
                                    "SZOBA_FK": "49",
                                    "METTOL": "2016-09-18",
                                    "MEDDIG": "2016-09-25",
                                    "FELNOTT_SZAM": "1",
                                    "GYERMEK_SZAM": "0",
                                    "usernev": "ARPADH",
                                    "Előző 3 foglalás átlaga": "NULL"
                                },
                                {
                                    "FOGLALAS_PK": "1056",
                                    "UGYFEL_FK": "ARPADH",
                                    "SZOBA_FK": "47",
                                    "METTOL": "2016-09-16",
                                    "MEDDIG": "2016-09-23",
                                    "FELNOTT_SZAM": "1",
                                    "GYERMEK_SZAM": "0",
                                    "usernev": "ARPADH",
                                    "Előző 3 foglalás átlaga": "1"
                                },
                                {
                                    "FOGLALAS_PK": "1342",
                                    "UGYFEL_FK": "ARPADH",
                                    "SZOBA_FK": "170",
                                    "METTOL": "2016-12-04",
                                    "MEDDIG": "2016-12-10",
                                    "FELNOTT_SZAM": "1",
                                    "GYERMEK_SZAM": "0",
                                    "usernev": "ARPADH",
                                    "Előző 3 foglalás átlaga": "1"
                                },
                                {
                                    "FOGLALAS_PK": "1420",
                                    "UGYFEL_FK": "ARPADM",
                                    "SZOBA_FK": "198",
                                    "METTOL": "2017-01-05",
                                    "MEDDIG": "2017-01-10",
                                    "FELNOTT_SZAM": "1",
                                    "GYERMEK_SZAM": "0",
                                    "usernev": "ARPADM",
                                    "Előző 3 foglalás átlaga": "NULL"
                                },
                                {
                                    "FOGLALAS_PK": "1154",
                                    "UGYFEL_FK": "attila",
                                    "SZOBA_FK": "115",
                                    "METTOL": "2016-10-15",
                                    "MEDDIG": "2016-10-19",
                                    "FELNOTT_SZAM": "1",
                                    "GYERMEK_SZAM": "0",
                                    "usernev": "attila",
                                    "Előző 3 foglalás átlaga": "NULL"
                                },
                                {
                                    "FOGLALAS_PK": "657",
                                    "UGYFEL_FK": "attila1",
                                    "SZOBA_FK": "137",
                                    "METTOL": "2016-05-20",
                                    "MEDDIG": "2016-05-26",
                                    "FELNOTT_SZAM": "1",
                                    "GYERMEK_SZAM": "0",
                                    "usernev": "attila1",
                                    "Előző 3 foglalás átlaga": "NULL"
                                },
                                {
                                    "FOGLALAS_PK": "1578",
                                    "UGYFEL_FK": "balazs2",
                                    "SZOBA_FK": "148",
                                    "METTOL": "2017-02-27",
                                    "MEDDIG": "2017-03-06",
                                    "FELNOTT_SZAM": "1",
                                    "GYERMEK_SZAM": "0",
                                    "usernev": "balazs2",
                                    "Előző 3 foglalás átlaga": "NULL"
                                },
                                {
                                    "FOGLALAS_PK": "948",
                                    "UGYFEL_FK": "balint1",
                                    "SZOBA_FK": "19",
                                    "METTOL": "2016-06-10",
                                    "MEDDIG": "2016-06-12",
                                    "FELNOTT_SZAM": "1",
                                    "GYERMEK_SZAM": "0",
                                    "usernev": "balint1",
                                    "Előző 3 foglalás átlaga": "NULL"
                                },
                                {
                                    "FOGLALAS_PK": "1057",
                                    "UGYFEL_FK": "balint1",
                                    "SZOBA_FK": "86",
                                    "METTOL": "2016-09-16",
                                    "MEDDIG": "2016-09-21",
                                    "FELNOTT_SZAM": "1",
                                    "GYERMEK_SZAM": "0",
                                    "usernev": "balint1",
                                    "Előző 3 foglalás átlaga": "1"
                                },
                                {
                                    "FOGLALAS_PK": "702",
                                    "UGYFEL_FK": "balint2",
                                    "SZOBA_FK": "62",
                                    "METTOL": "2016-07-21",
                                    "MEDDIG": "2016-07-26",
                                    "FELNOTT_SZAM": "1",
                                    "GYERMEK_SZAM": "0",
                                    "usernev": "balint2",
                                    "Előző 3 foglalás átlaga": "NULL"
                                },
                                {
                                    "FOGLALAS_PK": "1005",
                                    "UGYFEL_FK": "beata4",
                                    "SZOBA_FK": "22",
                                    "METTOL": "2016-07-03",
                                    "MEDDIG": "2016-07-06",
                                    "FELNOTT_SZAM": "1",
                                    "GYERMEK_SZAM": "0",
                                    "usernev": "beata4",
                                    "Előző 3 foglalás átlaga": "NULL"
                                },
                                {
                                    "FOGLALAS_PK": "1112",
                                    "UGYFEL_FK": "beata4",
                                    "SZOBA_FK": "155",
                                    "METTOL": "2016-10-01",
                                    "MEDDIG": "2016-10-05",
                                    "FELNOTT_SZAM": "1",
                                    "GYERMEK_SZAM": "0",
                                    "usernev": "beata4",
                                    "Előző 3 foglalás átlaga": "1"
                                },
                                {
                                    "FOGLALAS_PK": "586",
                                    "UGYFEL_FK": "BEATRIXS",
                                    "SZOBA_FK": "107",
                                    "METTOL": "2016-04-18",
                                    "MEDDIG": "2016-04-24",
                                    "FELNOTT_SZAM": "1",
                                    "GYERMEK_SZAM": "0",
                                    "usernev": "BEATRIXS",
                                    "Előző 3 foglalás átlaga": "NULL"
                                },
                                {
                                    "FOGLALAS_PK": "1350",
                                    "UGYFEL_FK": "BELAF",
                                    "SZOBA_FK": "173",
                                    "METTOL": "2016-12-06",
                                    "MEDDIG": "2016-12-09",
                                    "FELNOTT_SZAM": "1",
                                    "GYERMEK_SZAM": "0",
                                    "usernev": "BELAF",
                                    "Előző 3 foglalás átlaga": "NULL"
                                },
                                {
                                    "FOGLALAS_PK": "872",
                                    "UGYFEL_FK": "bence",
                                    "SZOBA_FK": "28",
                                    "METTOL": "2016-05-29",
                                    "MEDDIG": "2016-06-03",
                                    "FELNOTT_SZAM": "1",
                                    "GYERMEK_SZAM": "0",
                                    "usernev": "bence",
                                    "Előző 3 foglalás átlaga": "NULL"
                                },
                                {
                                    "FOGLALAS_PK": "1568",
                                    "UGYFEL_FK": "bernadett1",
                                    "SZOBA_FK": "29",
                                    "METTOL": "2017-02-24",
                                    "MEDDIG": "2017-03-03",
                                    "FELNOTT_SZAM": "1",
                                    "GYERMEK_SZAM": "0",
                                    "usernev": "bernadett1",
                                    "Előző 3 foglalás átlaga": "NULL"
                                },
                                {
                                    "FOGLALAS_PK": "1367",
                                    "UGYFEL_FK": "bernadett2",
                                    "SZOBA_FK": "80",
                                    "METTOL": "2016-12-17",
                                    "MEDDIG": "2016-12-20",
                                    "FELNOTT_SZAM": "1",
                                    "GYERMEK_SZAM": "0",
                                    "usernev": "bernadett2",
                                    "Előző 3 foglalás átlaga": "NULL"
                                },
                                {
                                    "FOGLALAS_PK": "974",
                                    "UGYFEL_FK": "bertalan",
                                    "SZOBA_FK": "169",
                                    "METTOL": "2016-06-20",
                                    "MEDDIG": "2016-06-21",
                                    "FELNOTT_SZAM": "1",
                                    "GYERMEK_SZAM": "0",
                                    "usernev": "bertalan",
                                    "Előző 3 foglalás átlaga": "NULL"
                                },
                                {
                                    "FOGLALAS_PK": "1469",
                                    "UGYFEL_FK": "brigitta",
                                    "SZOBA_FK": "13",
                                    "METTOL": "2017-01-23",
                                    "MEDDIG": "2017-01-25",
                                    "FELNOTT_SZAM": "1",
                                    "GYERMEK_SZAM": "0",
                                    "usernev": "brigitta",
                                    "Előző 3 foglalás átlaga": "NULL"
                                },
                                {
                                    "FOGLALAS_PK": "1466",
                                    "UGYFEL_FK": "dani",
                                    "SZOBA_FK": "57",
                                    "METTOL": "2017-01-22",
                                    "MEDDIG": "2017-01-29",
                                    "FELNOTT_SZAM": "1",
                                    "GYERMEK_SZAM": "0",
                                    "usernev": "dani",
                                    "Előző 3 foglalás átlaga": "NULL"
                                },
                                {
                                    "FOGLALAS_PK": "1102",
                                    "UGYFEL_FK": "dani",
                                    "SZOBA_FK": "108",
                                    "METTOL": "2016-10-01",
                                    "MEDDIG": "2016-10-02",
                                    "FELNOTT_SZAM": "1",
                                    "GYERMEK_SZAM": "0",
                                    "usernev": "dani",
                                    "Előző 3 foglalás átlaga": "1"
                                },
                                {
                                    "FOGLALAS_PK": "1430",
                                    "UGYFEL_FK": "daniel",
                                    "SZOBA_FK": "12",
                                    "METTOL": "2017-01-09",
                                    "MEDDIG": "2017-01-11",
                                    "FELNOTT_SZAM": "1",
                                    "GYERMEK_SZAM": "0",
                                    "usernev": "daniel",
                                    "Előző 3 foglalás átlaga": "NULL"
                                },
                                {
                                    "FOGLALAS_PK": "757",
                                    "UGYFEL_FK": "david",
                                    "SZOBA_FK": "88",
                                    "METTOL": "2016-08-05",
                                    "MEDDIG": "2016-08-12",
                                    "FELNOTT_SZAM": "1",
                                    "GYERMEK_SZAM": "0",
                                    "usernev": "david",
                                    "Előző 3 foglalás átlaga": "NULL"
                                },
                                {
                                    "FOGLALAS_PK": "1250",
                                    "UGYFEL_FK": "emese",
                                    "SZOBA_FK": "107",
                                    "METTOL": "2016-11-05",
                                    "MEDDIG": "2016-11-09",
                                    "FELNOTT_SZAM": "1",
                                    "GYERMEK_SZAM": "0",
                                    "usernev": "emese",
                                    "Előző 3 foglalás átlaga": "NULL"
                                },
                                {
                                    "FOGLALAS_PK": "1187",
                                    "UGYFEL_FK": "eszter2",
                                    "SZOBA_FK": "46",
                                    "METTOL": "2016-10-23",
                                    "MEDDIG": "2016-10-30",
                                    "FELNOTT_SZAM": "1",
                                    "GYERMEK_SZAM": "0",
                                    "usernev": "eszter2",
                                    "Előző 3 foglalás átlaga": "NULL"
                                },
                                {
                                    "FOGLALAS_PK": "1171",
                                    "UGYFEL_FK": "eszter2",
                                    "SZOBA_FK": "172",
                                    "METTOL": "2016-10-20",
                                    "MEDDIG": "2016-10-25",
                                    "FELNOTT_SZAM": "1",
                                    "GYERMEK_SZAM": "0",
                                    "usernev": "eszter2",
                                    "Előző 3 foglalás átlaga": "1"
                                },
                                {
                                    "FOGLALAS_PK": "1109",
                                    "UGYFEL_FK": "eszter2",
                                    "SZOBA_FK": "110",
                                    "METTOL": "2016-10-01",
                                    "MEDDIG": "2016-10-06",
                                    "FELNOTT_SZAM": "1",
                                    "GYERMEK_SZAM": "0",
                                    "usernev": "eszter2",
                                    "Előző 3 foglalás átlaga": "1"
                                },
                                {
                                    "FOGLALAS_PK": "1017",
                                    "UGYFEL_FK": "eszter2",
                                    "SZOBA_FK": "190",
                                    "METTOL": "2016-07-08",
                                    "MEDDIG": "2016-07-09",
                                    "FELNOTT_SZAM": "1",
                                    "GYERMEK_SZAM": "0",
                                    "usernev": "eszter2",
                                    "Előző 3 foglalás átlaga": "1"
                                },
                                {
                                    "FOGLALAS_PK": "1480",
                                    "UGYFEL_FK": "eszter2",
                                    "SZOBA_FK": "35",
                                    "METTOL": "2016-12-29",
                                    "MEDDIG": "2017-02-04",
                                    "FELNOTT_SZAM": "1",
                                    "GYERMEK_SZAM": "0",
                                    "usernev": "eszter2",
                                    "Előző 3 foglalás átlaga": "1"
                                },
                                {
                                    "FOGLALAS_PK": "1336",
                                    "UGYFEL_FK": "eszter2",
                                    "SZOBA_FK": "172",
                                    "METTOL": "2016-12-02",
                                    "MEDDIG": "2016-12-07",
                                    "FELNOTT_SZAM": "1",
                                    "GYERMEK_SZAM": "0",
                                    "usernev": "eszter2",
                                    "Előző 3 foglalás átlaga": "1"
                                },
                                {
                                    "FOGLALAS_PK": "845",
                                    "UGYFEL_FK": "eva2",
                                    "SZOBA_FK": "63",
                                    "METTOL": "2016-09-02",
                                    "MEDDIG": "2016-09-03",
                                    "FELNOTT_SZAM": "1",
                                    "GYERMEK_SZAM": "0",
                                    "usernev": "eva2",
                                    "Előző 3 foglalás átlaga": "NULL"
                                },
                                {
                                    "FOGLALAS_PK": "1366",
                                    "UGYFEL_FK": "fruzsina4",
                                    "SZOBA_FK": "81",
                                    "METTOL": "2016-12-16",
                                    "MEDDIG": "2016-12-21",
                                    "FELNOTT_SZAM": "1",
                                    "GYERMEK_SZAM": "0",
                                    "usernev": "fruzsina4",
                                    "Előző 3 foglalás átlaga": "NULL"
                                },
                                {
                                    "FOGLALAS_PK": "1026",
                                    "UGYFEL_FK": "gabor1",
                                    "SZOBA_FK": "119",
                                    "METTOL": "2016-07-12",
                                    "MEDDIG": "2016-07-15",
                                    "FELNOTT_SZAM": "1",
                                    "GYERMEK_SZAM": "0",
                                    "usernev": "gabor1",
                                    "Előző 3 foglalás átlaga": "NULL"
                                },
                                {
                                    "FOGLALAS_PK": "1169",
                                    "UGYFEL_FK": "gabor1",
                                    "SZOBA_FK": "93",
                                    "METTOL": "2016-10-20",
                                    "MEDDIG": "2016-10-24",
                                    "FELNOTT_SZAM": "1",
                                    "GYERMEK_SZAM": "0",
                                    "usernev": "gabor1",
                                    "Előző 3 foglalás átlaga": "1"
                                },
                                {
                                    "FOGLALAS_PK": "878",
                                    "UGYFEL_FK": "gabor4",
                                    "SZOBA_FK": "83",
                                    "METTOL": "2016-05-30",
                                    "MEDDIG": "2016-06-05",
                                    "FELNOTT_SZAM": "1",
                                    "GYERMEK_SZAM": "0",
                                    "usernev": "gabor4",
                                    "Előző 3 foglalás átlaga": "NULL"
                                },
                                {
                                    "FOGLALAS_PK": "945",
                                    "UGYFEL_FK": "GYONGYIK",
                                    "SZOBA_FK": "23",
                                    "METTOL": "2016-06-10",
                                    "MEDDIG": "2016-06-17",
                                    "FELNOTT_SZAM": "1",
                                    "GYERMEK_SZAM": "0",
                                    "usernev": "GYONGYIK",
                                    "Előző 3 foglalás átlaga": "NULL"
                                },
                                {
                                    "FOGLALAS_PK": "1213",
                                    "UGYFEL_FK": "GYORGYO",
                                    "SZOBA_FK": "91",
                                    "METTOL": "2016-10-28",
                                    "MEDDIG": "2016-10-31",
                                    "FELNOTT_SZAM": "1",
                                    "GYERMEK_SZAM": "0",
                                    "usernev": "GYORGYO",
                                    "Előző 3 foglalás átlaga": "NULL"
                                },
                                {
                                    "FOGLALAS_PK": "818",
                                    "UGYFEL_FK": "henrik3",
                                    "SZOBA_FK": "8",
                                    "METTOL": "2016-08-24",
                                    "MEDDIG": "2016-08-28",
                                    "FELNOTT_SZAM": "1",
                                    "GYERMEK_SZAM": "0",
                                    "usernev": "henrik3",
                                    "Előző 3 foglalás átlaga": "NULL"
                                },
                                {
                                    "FOGLALAS_PK": "689",
                                    "UGYFEL_FK": "istvan1",
                                    "SZOBA_FK": "102",
                                    "METTOL": "2016-07-19",
                                    "MEDDIG": "2016-07-24",
                                    "FELNOTT_SZAM": "1",
                                    "GYERMEK_SZAM": "0",
                                    "usernev": "istvan1",
                                    "Előző 3 foglalás átlaga": "NULL"
                                },
                                {
                                    "FOGLALAS_PK": "904",
                                    "UGYFEL_FK": "janos3",
                                    "SZOBA_FK": "34",
                                    "METTOL": "2016-06-04",
                                    "MEDDIG": "2016-06-06",
                                    "FELNOTT_SZAM": "1",
                                    "GYERMEK_SZAM": "0",
                                    "usernev": "janos3",
                                    "Előző 3 foglalás átlaga": "NULL"
                                },
                                {
                                    "FOGLALAS_PK": "1177",
                                    "UGYFEL_FK": "janos3",
                                    "SZOBA_FK": "150",
                                    "METTOL": "2016-10-22",
                                    "MEDDIG": "2016-10-23",
                                    "FELNOTT_SZAM": "1",
                                    "GYERMEK_SZAM": "0",
                                    "usernev": "janos3",
                                    "Előző 3 foglalás átlaga": "1"
                                },
                                {
                                    "FOGLALAS_PK": "631",
                                    "UGYFEL_FK": "JANOSG",
                                    "SZOBA_FK": "98",
                                    "METTOL": "2016-05-09",
                                    "MEDDIG": "2016-05-15",
                                    "FELNOTT_SZAM": "1",
                                    "GYERMEK_SZAM": "0",
                                    "usernev": "JANOSG",
                                    "Előző 3 foglalás átlaga": "NULL"
                                },
                                {
                                    "FOGLALAS_PK": "852",
                                    "UGYFEL_FK": "JOZSEFG",
                                    "SZOBA_FK": "24",
                                    "METTOL": "2016-05-23",
                                    "MEDDIG": "2016-05-25",
                                    "FELNOTT_SZAM": "1",
                                    "GYERMEK_SZAM": "0",
                                    "usernev": "JOZSEFG",
                                    "Előző 3 foglalás átlaga": "NULL"
                                },
                                {
                                    "FOGLALAS_PK": "1461",
                                    "UGYFEL_FK": "JOZSEFG",
                                    "SZOBA_FK": "77",
                                    "METTOL": "2017-01-22",
                                    "MEDDIG": "2017-01-26",
                                    "FELNOTT_SZAM": "1",
                                    "GYERMEK_SZAM": "0",
                                    "usernev": "JOZSEFG",
                                    "Előző 3 foglalás átlaga": "1"
                                },
                                {
                                    "FOGLALAS_PK": "1379",
                                    "UGYFEL_FK": "JUDITH",
                                    "SZOBA_FK": "83",
                                    "METTOL": "2016-12-19",
                                    "MEDDIG": "2016-12-26",
                                    "FELNOTT_SZAM": "1",
                                    "GYERMEK_SZAM": "0",
                                    "usernev": "JUDITH",
                                    "Előző 3 foglalás átlaga": "NULL"
                                },
                                {
                                    "FOGLALAS_PK": "638",
                                    "UGYFEL_FK": "julia",
                                    "SZOBA_FK": "67",
                                    "METTOL": "2016-05-12",
                                    "MEDDIG": "2016-05-17",
                                    "FELNOTT_SZAM": "1",
                                    "GYERMEK_SZAM": "0",
                                    "usernev": "julia",
                                    "Előző 3 foglalás átlaga": "NULL"
                                },
                                {
                                    "FOGLALAS_PK": "1258",
                                    "UGYFEL_FK": "julia4",
                                    "SZOBA_FK": "52",
                                    "METTOL": "2016-11-07",
                                    "MEDDIG": "2016-11-12",
                                    "FELNOTT_SZAM": "1",
                                    "GYERMEK_SZAM": "0",
                                    "usernev": "julia4",
                                    "Előző 3 foglalás átlaga": "NULL"
                                },
                                {
                                    "FOGLALAS_PK": "601",
                                    "UGYFEL_FK": "kata",
                                    "SZOBA_FK": "39",
                                    "METTOL": "2016-04-25",
                                    "MEDDIG": "2016-05-01",
                                    "FELNOTT_SZAM": "1",
                                    "GYERMEK_SZAM": "0",
                                    "usernev": "kata",
                                    "Előző 3 foglalás átlaga": "NULL"
                                },
                                {
                                    "FOGLALAS_PK": "1006",
                                    "UGYFEL_FK": "kata",
                                    "SZOBA_FK": "70",
                                    "METTOL": "2016-07-03",
                                    "MEDDIG": "2016-07-06",
                                    "FELNOTT_SZAM": "1",
                                    "GYERMEK_SZAM": "0",
                                    "usernev": "kata",
                                    "Előző 3 foglalás átlaga": "1"
                                },
                                {
                                    "FOGLALAS_PK": "1015",
                                    "UGYFEL_FK": "katalin",
                                    "SZOBA_FK": "174",
                                    "METTOL": "2016-07-06",
                                    "MEDDIG": "2016-07-11",
                                    "FELNOTT_SZAM": "1",
                                    "GYERMEK_SZAM": "0",
                                    "usernev": "katalin",
                                    "Előző 3 foglalás átlaga": "NULL"
                                },
                                {
                                    "FOGLALAS_PK": "661",
                                    "UGYFEL_FK": "katalin",
                                    "SZOBA_FK": "136",
                                    "METTOL": "2016-05-21",
                                    "MEDDIG": "2016-05-26",
                                    "FELNOTT_SZAM": "1",
                                    "GYERMEK_SZAM": "0",
                                    "usernev": "katalin",
                                    "Előző 3 foglalás átlaga": "1"
                                },
                                {
                                    "FOGLALAS_PK": "733",
                                    "UGYFEL_FK": "katalin",
                                    "SZOBA_FK": "140",
                                    "METTOL": "2016-07-28",
                                    "MEDDIG": "2016-07-29",
                                    "FELNOTT_SZAM": "1",
                                    "GYERMEK_SZAM": "0",
                                    "usernev": "katalin",
                                    "Előző 3 foglalás átlaga": "1"
                                },
                                {
                                    "FOGLALAS_PK": "1372",
                                    "UGYFEL_FK": "katalin",
                                    "SZOBA_FK": "106",
                                    "METTOL": "2016-12-17",
                                    "MEDDIG": "2016-12-24",
                                    "FELNOTT_SZAM": "1",
                                    "GYERMEK_SZAM": "0",
                                    "usernev": "katalin",
                                    "Előző 3 foglalás átlaga": "1"
                                },
                                {
                                    "FOGLALAS_PK": "997",
                                    "UGYFEL_FK": "katalin4",
                                    "SZOBA_FK": "82",
                                    "METTOL": "2016-07-01",
                                    "MEDDIG": "2016-07-07",
                                    "FELNOTT_SZAM": "1",
                                    "GYERMEK_SZAM": "0",
                                    "usernev": "katalin4",
                                    "Előző 3 foglalás átlaga": "NULL"
                                },
                                {
                                    "FOGLALAS_PK": "954",
                                    "UGYFEL_FK": "katka",
                                    "SZOBA_FK": "84",
                                    "METTOL": "2016-06-13",
                                    "MEDDIG": "2016-06-18",
                                    "FELNOTT_SZAM": "1",
                                    "GYERMEK_SZAM": "0",
                                    "usernev": "katka",
                                    "Előző 3 foglalás átlaga": "NULL"
                                },
                                {
                                    "FOGLALAS_PK": "787",
                                    "UGYFEL_FK": "krisztian4",
                                    "SZOBA_FK": "50",
                                    "METTOL": "2016-08-16",
                                    "MEDDIG": "2016-08-19",
                                    "FELNOTT_SZAM": "1",
                                    "GYERMEK_SZAM": "0",
                                    "usernev": "krisztian4",
                                    "Előző 3 foglalás átlaga": "NULL"
                                },
                                {
                                    "FOGLALAS_PK": "834",
                                    "UGYFEL_FK": "krisztian4",
                                    "SZOBA_FK": "149",
                                    "METTOL": "2016-08-29",
                                    "MEDDIG": "2016-09-03",
                                    "FELNOTT_SZAM": "1",
                                    "GYERMEK_SZAM": "0",
                                    "usernev": "krisztian4",
                                    "Előző 3 foglalás átlaga": "1"
                                },
                                {
                                    "FOGLALAS_PK": "1422",
                                    "UGYFEL_FK": "krisztian4",
                                    "SZOBA_FK": "182",
                                    "METTOL": "2017-01-06",
                                    "MEDDIG": "2017-01-09",
                                    "FELNOTT_SZAM": "1",
                                    "GYERMEK_SZAM": "0",
                                    "usernev": "krisztian4",
                                    "Előző 3 foglalás átlaga": "1"
                                },
                                {
                                    "FOGLALAS_PK": "1443",
                                    "UGYFEL_FK": "KRISZTIANM",
                                    "SZOBA_FK": "81",
                                    "METTOL": "2017-01-16",
                                    "MEDDIG": "2017-01-23",
                                    "FELNOTT_SZAM": "1",
                                    "GYERMEK_SZAM": "0",
                                    "usernev": "KRISZTIANM",
                                    "Előző 3 foglalás átlaga": "NULL"
                                },
                                {
                                    "FOGLALAS_PK": "1306",
                                    "UGYFEL_FK": "krisztina",
                                    "SZOBA_FK": "133",
                                    "METTOL": "2016-11-22",
                                    "MEDDIG": "2016-11-25",
                                    "FELNOTT_SZAM": "1",
                                    "GYERMEK_SZAM": "0",
                                    "usernev": "krisztina",
                                    "Előző 3 foglalás átlaga": "NULL"
                                },
                                {
                                    "FOGLALAS_PK": "1048",
                                    "UGYFEL_FK": "krisztina",
                                    "SZOBA_FK": "95",
                                    "METTOL": "2016-09-13",
                                    "MEDDIG": "2016-09-16",
                                    "FELNOTT_SZAM": "1",
                                    "GYERMEK_SZAM": "0",
                                    "usernev": "krisztina",
                                    "Előző 3 foglalás átlaga": "1"
                                },
                                {
                                    "FOGLALAS_PK": "648",
                                    "UGYFEL_FK": "krisztina1",
                                    "SZOBA_FK": "157",
                                    "METTOL": "2016-05-16",
                                    "MEDDIG": "2016-05-20",
                                    "FELNOTT_SZAM": "1",
                                    "GYERMEK_SZAM": "0",
                                    "usernev": "krisztina1",
                                    "Előző 3 foglalás átlaga": "NULL"
                                },
                                {
                                    "FOGLALAS_PK": "935",
                                    "UGYFEL_FK": "KRISZTINAG",
                                    "SZOBA_FK": "56",
                                    "METTOL": "2016-06-08",
                                    "MEDDIG": "2016-06-12",
                                    "FELNOTT_SZAM": "1",
                                    "GYERMEK_SZAM": "0",
                                    "usernev": "KRISZTINAG",
                                    "Előző 3 foglalás átlaga": "NULL"
                                },
                                {
                                    "FOGLALAS_PK": "854",
                                    "UGYFEL_FK": "KRISZTINAG",
                                    "SZOBA_FK": "167",
                                    "METTOL": "2016-05-24",
                                    "MEDDIG": "2016-05-31",
                                    "FELNOTT_SZAM": "1",
                                    "GYERMEK_SZAM": "0",
                                    "usernev": "KRISZTINAG",
                                    "Előző 3 foglalás átlaga": "1"
                                },
                                {
                                    "FOGLALAS_PK": "1523",
                                    "UGYFEL_FK": "lajos",
                                    "SZOBA_FK": "11",
                                    "METTOL": "2017-02-12",
                                    "MEDDIG": "2017-02-13",
                                    "FELNOTT_SZAM": "1",
                                    "GYERMEK_SZAM": "0",
                                    "usernev": "lajos",
                                    "Előző 3 foglalás átlaga": "NULL"
                                },
                                {
                                    "FOGLALAS_PK": "923",
                                    "UGYFEL_FK": "LASZLOA",
                                    "SZOBA_FK": "123",
                                    "METTOL": "2016-06-07",
                                    "MEDDIG": "2016-06-11",
                                    "FELNOTT_SZAM": "1",
                                    "GYERMEK_SZAM": "0",
                                    "usernev": "LASZLOA",
                                    "Előző 3 foglalás átlaga": "NULL"
                                },
                                {
                                    "FOGLALAS_PK": "892",
                                    "UGYFEL_FK": "LASZLON",
                                    "SZOBA_FK": "165",
                                    "METTOL": "2016-06-03",
                                    "MEDDIG": "2016-06-06",
                                    "FELNOTT_SZAM": "1",
                                    "GYERMEK_SZAM": "0",
                                    "usernev": "LASZLON",
                                    "Előző 3 foglalás átlaga": "NULL"
                                },
                                {
                                    "FOGLALAS_PK": "1329",
                                    "UGYFEL_FK": "LASZLON",
                                    "SZOBA_FK": "171",
                                    "METTOL": "2016-11-29",
                                    "MEDDIG": "2016-12-04",
                                    "FELNOTT_SZAM": "1",
                                    "GYERMEK_SZAM": "0",
                                    "usernev": "LASZLON",
                                    "Előző 3 foglalás átlaga": "1"
                                },
                                {
                                    "FOGLALAS_PK": "1136",
                                    "UGYFEL_FK": "LASZLON",
                                    "SZOBA_FK": "30",
                                    "METTOL": "2016-10-09",
                                    "MEDDIG": "2016-10-14",
                                    "FELNOTT_SZAM": "1",
                                    "GYERMEK_SZAM": "0",
                                    "usernev": "LASZLON",
                                    "Előző 3 foglalás átlaga": "1"
                                },
                                {
                                    "FOGLALAS_PK": "981",
                                    "UGYFEL_FK": "maria1",
                                    "SZOBA_FK": "171",
                                    "METTOL": "2016-06-23",
                                    "MEDDIG": "2016-06-27",
                                    "FELNOTT_SZAM": "1",
                                    "GYERMEK_SZAM": "0",
                                    "usernev": "maria1",
                                    "Előző 3 foglalás átlaga": "NULL"
                                },
                                {
                                    "FOGLALAS_PK": "652",
                                    "UGYFEL_FK": "maria1",
                                    "SZOBA_FK": "149",
                                    "METTOL": "2016-05-18",
                                    "MEDDIG": "2016-05-19",
                                    "FELNOTT_SZAM": "1",
                                    "GYERMEK_SZAM": "0",
                                    "usernev": "maria1",
                                    "Előző 3 foglalás átlaga": "1"
                                },
                                {
                                    "FOGLALAS_PK": "846",
                                    "UGYFEL_FK": "maria1",
                                    "SZOBA_FK": "45",
                                    "METTOL": "2016-09-02",
                                    "MEDDIG": "2016-09-05",
                                    "FELNOTT_SZAM": "1",
                                    "GYERMEK_SZAM": "0",
                                    "usernev": "maria1",
                                    "Előző 3 foglalás átlaga": "1"
                                },
                                {
                                    "FOGLALAS_PK": "1172",
                                    "UGYFEL_FK": "mark",
                                    "SZOBA_FK": "197",
                                    "METTOL": "2016-10-20",
                                    "MEDDIG": "2016-10-27",
                                    "FELNOTT_SZAM": "1",
                                    "GYERMEK_SZAM": "0",
                                    "usernev": "mark",
                                    "Előző 3 foglalás átlaga": "NULL"
                                },
                                {
                                    "FOGLALAS_PK": "620",
                                    "UGYFEL_FK": "marton",
                                    "SZOBA_FK": "1",
                                    "METTOL": "2016-05-05",
                                    "MEDDIG": "2016-05-10",
                                    "FELNOTT_SZAM": "1",
                                    "GYERMEK_SZAM": "0",
                                    "usernev": "marton",
                                    "Előző 3 foglalás átlaga": "NULL"
                                },
                                {
                                    "FOGLALAS_PK": "891",
                                    "UGYFEL_FK": "MATYASS",
                                    "SZOBA_FK": "63",
                                    "METTOL": "2016-06-02",
                                    "MEDDIG": "2016-06-08",
                                    "FELNOTT_SZAM": "1",
                                    "GYERMEK_SZAM": "0",
                                    "usernev": "MATYASS",
                                    "Előző 3 foglalás átlaga": "NULL"
                                },
                                {
                                    "FOGLALAS_PK": "1190",
                                    "UGYFEL_FK": "MATYASS",
                                    "SZOBA_FK": "161",
                                    "METTOL": "2016-10-24",
                                    "MEDDIG": "2016-10-31",
                                    "FELNOTT_SZAM": "1",
                                    "GYERMEK_SZAM": "0",
                                    "usernev": "MATYASS",
                                    "Előző 3 foglalás átlaga": "1"
                                },
                                {
                                    "FOGLALAS_PK": "990",
                                    "UGYFEL_FK": "MIHALYJ",
                                    "SZOBA_FK": "6",
                                    "METTOL": "2016-06-27",
                                    "MEDDIG": "2016-07-01",
                                    "FELNOTT_SZAM": "1",
                                    "GYERMEK_SZAM": "0",
                                    "usernev": "MIHALYJ",
                                    "Előző 3 foglalás átlaga": "NULL"
                                },
                                {
                                    "FOGLALAS_PK": "839",
                                    "UGYFEL_FK": "MIHALYJ",
                                    "SZOBA_FK": "172",
                                    "METTOL": "2016-08-29",
                                    "MEDDIG": "2016-09-03",
                                    "FELNOTT_SZAM": "1",
                                    "GYERMEK_SZAM": "0",
                                    "usernev": "MIHALYJ",
                                    "Előző 3 foglalás átlaga": "1"
                                },
                                {
                                    "FOGLALAS_PK": "1134",
                                    "UGYFEL_FK": "miklos2",
                                    "SZOBA_FK": "126",
                                    "METTOL": "2016-10-08",
                                    "MEDDIG": "2016-10-09",
                                    "FELNOTT_SZAM": "1",
                                    "GYERMEK_SZAM": "0",
                                    "usernev": "miklos2",
                                    "Előző 3 foglalás átlaga": "NULL"
                                },
                                {
                                    "FOGLALAS_PK": "1450",
                                    "UGYFEL_FK": "MONIKAM",
                                    "SZOBA_FK": "139",
                                    "METTOL": "2017-01-17",
                                    "MEDDIG": "2017-01-24",
                                    "FELNOTT_SZAM": "1",
                                    "GYERMEK_SZAM": "0",
                                    "usernev": "MONIKAM",
                                    "Előző 3 foglalás átlaga": "NULL"
                                },
                                {
                                    "FOGLALAS_PK": "708",
                                    "UGYFEL_FK": "MONIKAM",
                                    "SZOBA_FK": "106",
                                    "METTOL": "2016-07-23",
                                    "MEDDIG": "2016-07-30",
                                    "FELNOTT_SZAM": "1",
                                    "GYERMEK_SZAM": "0",
                                    "usernev": "MONIKAM",
                                    "Előző 3 foglalás átlaga": "1"
                                },
                                {
                                    "FOGLALAS_PK": "897",
                                    "UGYFEL_FK": "nikolett3",
                                    "SZOBA_FK": "165",
                                    "METTOL": "2016-06-03",
                                    "MEDDIG": "2016-06-09",
                                    "FELNOTT_SZAM": "1",
                                    "GYERMEK_SZAM": "0",
                                    "usernev": "nikolett3",
                                    "Előző 3 foglalás átlaga": "NULL"
                                },
                                {
                                    "FOGLALAS_PK": "976",
                                    "UGYFEL_FK": "nikolett3",
                                    "SZOBA_FK": "76",
                                    "METTOL": "2016-06-22",
                                    "MEDDIG": "2016-06-24",
                                    "FELNOTT_SZAM": "1",
                                    "GYERMEK_SZAM": "0",
                                    "usernev": "nikolett3",
                                    "Előző 3 foglalás átlaga": "1"
                                },
                                {
                                    "FOGLALAS_PK": "1018",
                                    "UGYFEL_FK": "norbert",
                                    "SZOBA_FK": "40",
                                    "METTOL": "2016-07-08",
                                    "MEDDIG": "2016-07-13",
                                    "FELNOTT_SZAM": "1",
                                    "GYERMEK_SZAM": "0",
                                    "usernev": "norbert",
                                    "Előző 3 foglalás átlaga": "NULL"
                                },
                                {
                                    "FOGLALAS_PK": "1576",
                                    "UGYFEL_FK": "norbert",
                                    "SZOBA_FK": "189",
                                    "METTOL": "2017-02-26",
                                    "MEDDIG": "2017-03-01",
                                    "FELNOTT_SZAM": "1",
                                    "GYERMEK_SZAM": "0",
                                    "usernev": "norbert",
                                    "Előző 3 foglalás átlaga": "1"
                                },
                                {
                                    "FOGLALAS_PK": "782",
                                    "UGYFEL_FK": "norbert2",
                                    "SZOBA_FK": "163",
                                    "METTOL": "2016-08-16",
                                    "MEDDIG": "2016-08-19",
                                    "FELNOTT_SZAM": "1",
                                    "GYERMEK_SZAM": "0",
                                    "usernev": "norbert2",
                                    "Előző 3 foglalás átlaga": "NULL"
                                },
                                {
                                    "FOGLALAS_PK": "587",
                                    "UGYFEL_FK": "norbert2",
                                    "SZOBA_FK": "123",
                                    "METTOL": "2016-04-19",
                                    "MEDDIG": "2016-04-26",
                                    "FELNOTT_SZAM": "1",
                                    "GYERMEK_SZAM": "0",
                                    "usernev": "norbert2",
                                    "Előző 3 foglalás átlaga": "1"
                                },
                                {
                                    "FOGLALAS_PK": "1541",
                                    "UGYFEL_FK": "norbert4",
                                    "SZOBA_FK": "155",
                                    "METTOL": "2017-02-16",
                                    "MEDDIG": "2017-02-17",
                                    "FELNOTT_SZAM": "1",
                                    "GYERMEK_SZAM": "0",
                                    "usernev": "norbert4",
                                    "Előző 3 foglalás átlaga": "NULL"
                                },
                                {
                                    "FOGLALAS_PK": "1252",
                                    "UGYFEL_FK": "norbert5",
                                    "SZOBA_FK": "7",
                                    "METTOL": "2016-11-05",
                                    "MEDDIG": "2016-11-07",
                                    "FELNOTT_SZAM": "1",
                                    "GYERMEK_SZAM": "0",
                                    "usernev": "norbert5",
                                    "Előző 3 foglalás átlaga": "NULL"
                                },
                                {
                                    "FOGLALAS_PK": "1434",
                                    "UGYFEL_FK": "peter3",
                                    "SZOBA_FK": "3",
                                    "METTOL": "2017-01-12",
                                    "MEDDIG": "2017-01-17",
                                    "FELNOTT_SZAM": "1",
                                    "GYERMEK_SZAM": "0",
                                    "usernev": "peter3",
                                    "Előző 3 foglalás átlaga": "NULL"
                                },
                                {
                                    "FOGLALAS_PK": "1396",
                                    "UGYFEL_FK": "peter3",
                                    "SZOBA_FK": "72",
                                    "METTOL": "2016-12-25",
                                    "MEDDIG": "2016-12-28",
                                    "FELNOTT_SZAM": "1",
                                    "GYERMEK_SZAM": "0",
                                    "usernev": "peter3",
                                    "Előző 3 foglalás átlaga": "1"
                                },
                                {
                                    "FOGLALAS_PK": "562",
                                    "UGYFEL_FK": "PETERB",
                                    "SZOBA_FK": "7",
                                    "METTOL": "2016-04-06",
                                    "MEDDIG": "2016-04-10",
                                    "FELNOTT_SZAM": "1",
                                    "GYERMEK_SZAM": "0",
                                    "usernev": "PETERB",
                                    "Előző 3 foglalás átlaga": "NULL"
                                },
                                {
                                    "FOGLALAS_PK": "781",
                                    "UGYFEL_FK": "PETERB",
                                    "SZOBA_FK": "166",
                                    "METTOL": "2016-08-16",
                                    "MEDDIG": "2016-08-23",
                                    "FELNOTT_SZAM": "1",
                                    "GYERMEK_SZAM": "0",
                                    "usernev": "PETERB",
                                    "Előző 3 foglalás átlaga": "1"
                                },
                                {
                                    "FOGLALAS_PK": "1312",
                                    "UGYFEL_FK": "RENATAK",
                                    "SZOBA_FK": "94",
                                    "METTOL": "2016-11-23",
                                    "MEDDIG": "2016-11-26",
                                    "FELNOTT_SZAM": "1",
                                    "GYERMEK_SZAM": "0",
                                    "usernev": "RENATAK",
                                    "Előző 3 foglalás átlaga": "NULL"
                                },
                                {
                                    "FOGLALAS_PK": "1224",
                                    "UGYFEL_FK": "RENATAK",
                                    "SZOBA_FK": "50",
                                    "METTOL": "2016-10-30",
                                    "MEDDIG": "2016-10-31",
                                    "FELNOTT_SZAM": "1",
                                    "GYERMEK_SZAM": "0",
                                    "usernev": "RENATAK",
                                    "Előző 3 foglalás átlaga": "1"
                                },
                                {
                                    "FOGLALAS_PK": "1543",
                                    "UGYFEL_FK": "RENATAK",
                                    "SZOBA_FK": "95",
                                    "METTOL": "2017-02-16",
                                    "MEDDIG": "2017-02-23",
                                    "FELNOTT_SZAM": "1",
                                    "GYERMEK_SZAM": "0",
                                    "usernev": "RENATAK",
                                    "Előző 3 foglalás átlaga": "1"
                                },
                                {
                                    "FOGLALAS_PK": "1581",
                                    "UGYFEL_FK": "RENATAK",
                                    "SZOBA_FK": "48",
                                    "METTOL": "2017-03-01",
                                    "MEDDIG": "2017-03-06",
                                    "FELNOTT_SZAM": "1",
                                    "GYERMEK_SZAM": "0",
                                    "usernev": "RENATAK",
                                    "Előző 3 foglalás átlaga": "1"
                                },
                                {
                                    "FOGLALAS_PK": "1529",
                                    "UGYFEL_FK": "RENATAS",
                                    "SZOBA_FK": "35",
                                    "METTOL": "2017-02-13",
                                    "MEDDIG": "2017-02-17",
                                    "FELNOTT_SZAM": "1",
                                    "GYERMEK_SZAM": "0",
                                    "usernev": "RENATAS",
                                    "Előző 3 foglalás átlaga": "NULL"
                                },
                                {
                                    "FOGLALAS_PK": "1374",
                                    "UGYFEL_FK": "robert2",
                                    "SZOBA_FK": "118",
                                    "METTOL": "2016-12-17",
                                    "MEDDIG": "2016-12-22",
                                    "FELNOTT_SZAM": "1",
                                    "GYERMEK_SZAM": "0",
                                    "usernev": "robert2",
                                    "Előző 3 foglalás átlaga": "NULL"
                                },
                                {
                                    "FOGLALAS_PK": "1186",
                                    "UGYFEL_FK": "ROBERTI",
                                    "SZOBA_FK": "58",
                                    "METTOL": "2016-10-23",
                                    "MEDDIG": "2016-10-29",
                                    "FELNOTT_SZAM": "1",
                                    "GYERMEK_SZAM": "0",
                                    "usernev": "ROBERTI",
                                    "Előző 3 foglalás átlaga": "NULL"
                                },
                                {
                                    "FOGLALAS_PK": "1384",
                                    "UGYFEL_FK": "roland1",
                                    "SZOBA_FK": "84",
                                    "METTOL": "2016-12-22",
                                    "MEDDIG": "2016-12-29",
                                    "FELNOTT_SZAM": "1",
                                    "GYERMEK_SZAM": "0",
                                    "usernev": "roland1",
                                    "Előző 3 foglalás átlaga": "NULL"
                                },
                                {
                                    "FOGLALAS_PK": "858",
                                    "UGYFEL_FK": "sandor3",
                                    "SZOBA_FK": "121",
                                    "METTOL": "2016-05-25",
                                    "MEDDIG": "2016-05-30",
                                    "FELNOTT_SZAM": "1",
                                    "GYERMEK_SZAM": "0",
                                    "usernev": "sandor3",
                                    "Előző 3 foglalás átlaga": "NULL"
                                },
                                {
                                    "FOGLALAS_PK": "1339",
                                    "UGYFEL_FK": "sandor4",
                                    "SZOBA_FK": "120",
                                    "METTOL": "2016-12-03",
                                    "MEDDIG": "2016-12-09",
                                    "FELNOTT_SZAM": "1",
                                    "GYERMEK_SZAM": "0",
                                    "usernev": "sandor4",
                                    "Előző 3 foglalás átlaga": "NULL"
                                },
                                {
                                    "FOGLALAS_PK": "1156",
                                    "UGYFEL_FK": "sandor4",
                                    "SZOBA_FK": "140",
                                    "METTOL": "2016-10-15",
                                    "MEDDIG": "2016-10-18",
                                    "FELNOTT_SZAM": "1",
                                    "GYERMEK_SZAM": "0",
                                    "usernev": "sandor4",
                                    "Előző 3 foglalás átlaga": "1"
                                },
                                {
                                    "FOGLALAS_PK": "1351",
                                    "UGYFEL_FK": "sara",
                                    "SZOBA_FK": "38",
                                    "METTOL": "2016-12-06",
                                    "MEDDIG": "2016-12-10",
                                    "FELNOTT_SZAM": "1",
                                    "GYERMEK_SZAM": "0",
                                    "usernev": "sara",
                                    "Előző 3 foglalás átlaga": "NULL"
                                },
                                {
                                    "FOGLALAS_PK": "1508",
                                    "UGYFEL_FK": "SZILARDS",
                                    "SZOBA_FK": "191",
                                    "METTOL": "2017-02-08",
                                    "MEDDIG": "2017-02-15",
                                    "FELNOTT_SZAM": "1",
                                    "GYERMEK_SZAM": "0",
                                    "usernev": "SZILARDS",
                                    "Előző 3 foglalás átlaga": "NULL"
                                },
                                {
                                    "FOGLALAS_PK": "1338",
                                    "UGYFEL_FK": "TAMASF",
                                    "SZOBA_FK": "145",
                                    "METTOL": "2016-12-02",
                                    "MEDDIG": "2016-12-04",
                                    "FELNOTT_SZAM": "1",
                                    "GYERMEK_SZAM": "0",
                                    "usernev": "TAMASF",
                                    "Előző 3 foglalás átlaga": "NULL"
                                },
                                {
                                    "FOGLALAS_PK": "1251",
                                    "UGYFEL_FK": "tibor",
                                    "SZOBA_FK": "184",
                                    "METTOL": "2016-11-05",
                                    "MEDDIG": "2016-11-09",
                                    "FELNOTT_SZAM": "1",
                                    "GYERMEK_SZAM": "0",
                                    "usernev": "tibor",
                                    "Előző 3 foglalás átlaga": "NULL"
                                },
                                {
                                    "FOGLALAS_PK": "881",
                                    "UGYFEL_FK": "tihamer",
                                    "SZOBA_FK": "131",
                                    "METTOL": "2016-05-30",
                                    "MEDDIG": "2016-06-05",
                                    "FELNOTT_SZAM": "1",
                                    "GYERMEK_SZAM": "0",
                                    "usernev": "tihamer",
                                    "Előző 3 foglalás átlaga": "NULL"
                                },
                                {
                                    "FOGLALAS_PK": "669",
                                    "UGYFEL_FK": "tunde",
                                    "SZOBA_FK": "173",
                                    "METTOL": "2016-07-14",
                                    "MEDDIG": "2016-07-21",
                                    "FELNOTT_SZAM": "1",
                                    "GYERMEK_SZAM": "0",
                                    "usernev": "tunde",
                                    "Előző 3 foglalás átlaga": "NULL"
                                },
                                {
                                    "FOGLALAS_PK": "709",
                                    "UGYFEL_FK": "valentin",
                                    "SZOBA_FK": "172",
                                    "METTOL": "2016-07-24",
                                    "MEDDIG": "2016-07-29",
                                    "FELNOTT_SZAM": "1",
                                    "GYERMEK_SZAM": "0",
                                    "usernev": "valentin",
                                    "Előző 3 foglalás átlaga": "NULL"
                                },
                                {
                                    "FOGLALAS_PK": "790",
                                    "UGYFEL_FK": "veronika4",
                                    "SZOBA_FK": "10",
                                    "METTOL": "2016-08-16",
                                    "MEDDIG": "2016-08-21",
                                    "FELNOTT_SZAM": "1",
                                    "GYERMEK_SZAM": "0",
                                    "usernev": "veronika4",
                                    "Előző 3 foglalás átlaga": "NULL"
                                },
                                {
                                    "FOGLALAS_PK": "610",
                                    "UGYFEL_FK": "VIKTORIAU",
                                    "SZOBA_FK": "106",
                                    "METTOL": "2016-04-30",
                                    "MEDDIG": "2016-05-03",
                                    "FELNOTT_SZAM": "1",
                                    "GYERMEK_SZAM": "0",
                                    "usernev": "VIKTORIAU",
                                    "Előző 3 foglalás átlaga": "NULL"
                                },
                                {
                                    "FOGLALAS_PK": "1103",
                                    "UGYFEL_FK": "vivien3",
                                    "SZOBA_FK": "87",
                                    "METTOL": "2016-10-01",
                                    "MEDDIG": "2016-10-04",
                                    "FELNOTT_SZAM": "1",
                                    "GYERMEK_SZAM": "0",
                                    "usernev": "vivien3",
                                    "Előző 3 foglalás átlaga": "NULL"
                                },
                                {
                                    "FOGLALAS_PK": "1230",
                                    "UGYFEL_FK": "zoltan4",
                                    "SZOBA_FK": "182",
                                    "METTOL": "2016-10-30",
                                    "MEDDIG": "2016-11-06",
                                    "FELNOTT_SZAM": "1",
                                    "GYERMEK_SZAM": "0",
                                    "usernev": "zoltan4",
                                    "Előző 3 foglalás átlaga": "NULL"
                                },
                                {
                                    "FOGLALAS_PK": "1403",
                                    "UGYFEL_FK": "zoltan4",
                                    "SZOBA_FK": "124",
                                    "METTOL": "2016-12-29",
                                    "MEDDIG": "2017-01-04",
                                    "FELNOTT_SZAM": "1",
                                    "GYERMEK_SZAM": "0",
                                    "usernev": "zoltan4",
                                    "Előző 3 foglalás átlaga": "1"
                                },
                                {
                                    "FOGLALAS_PK": "779",
                                    "UGYFEL_FK": "zoltan4",
                                    "SZOBA_FK": "130",
                                    "METTOL": "2016-08-15",
                                    "MEDDIG": "2016-08-21",
                                    "FELNOTT_SZAM": "1",
                                    "GYERMEK_SZAM": "0",
                                    "usernev": "zoltan4",
                                    "Előző 3 foglalás átlaga": "1"
                                },
                                {
                                    "FOGLALAS_PK": "893",
                                    "UGYFEL_FK": "zoltan4",
                                    "SZOBA_FK": "151",
                                    "METTOL": "2016-06-03",
                                    "MEDDIG": "2016-06-06",
                                    "FELNOTT_SZAM": "1",
                                    "GYERMEK_SZAM": "0",
                                    "usernev": "zoltan4",
                                    "Előző 3 foglalás átlaga": "1"
                                },
                                {
                                    "FOGLALAS_PK": "867",
                                    "UGYFEL_FK": "ZSOLTJ",
                                    "SZOBA_FK": "175",
                                    "METTOL": "2016-05-28",
                                    "MEDDIG": "2016-06-03",
                                    "FELNOTT_SZAM": "1",
                                    "GYERMEK_SZAM": "0",
                                    "usernev": "ZSOLTJ",
                                    "Előző 3 foglalás átlaga": "NULL"
                                },
                                {
                                    "FOGLALAS_PK": "1428",
                                    "UGYFEL_FK": "zsuzsanna",
                                    "SZOBA_FK": "126",
                                    "METTOL": "2017-01-09",
                                    "MEDDIG": "2017-01-16",
                                    "FELNOTT_SZAM": "1",
                                    "GYERMEK_SZAM": "0",
                                    "usernev": "zsuzsanna",
                                    "Előző 3 foglalás átlaga": "NULL"
                                },
                                {
                                    "FOGLALAS_PK": "1202",
                                    "UGYFEL_FK": "ZSUZSAV",
                                    "SZOBA_FK": "52",
                                    "METTOL": "2016-10-26",
                                    "MEDDIG": "2016-10-28",
                                    "FELNOTT_SZAM": "1",
                                    "GYERMEK_SZAM": "0",
                                    "usernev": "ZSUZSAV",
                                    "Előző 3 foglalás átlaga": "NULL"
                                }
                            ]
                        },
                        "text/html": [
                            "<table>",
                            "<tr><th>FOGLALAS_PK</th><th>UGYFEL_FK</th><th>SZOBA_FK</th><th>METTOL</th><th>MEDDIG</th><th>FELNOTT_SZAM</th><th>GYERMEK_SZAM</th><th>usernev</th><th>Előző 3 foglalás átlaga</th></tr>",
                            "<tr><td>803</td><td>adam1</td><td>1</td><td>2016-08-20</td><td>2016-08-24</td><td>1</td><td>0</td><td>adam1</td><td>NULL</td></tr>",
                            "<tr><td>1504</td><td>adam3</td><td>57</td><td>2017-02-06</td><td>2017-02-10</td><td>1</td><td>0</td><td>adam3</td><td>NULL</td></tr>",
                            "<tr><td>857</td><td>agnes</td><td>165</td><td>2016-05-25</td><td>2016-05-30</td><td>1</td><td>0</td><td>agnes</td><td>NULL</td></tr>",
                            "<tr><td>755</td><td>agnes3</td><td>20</td><td>2016-08-04</td><td>2016-08-10</td><td>1</td><td>0</td><td>agnes3</td><td>NULL</td></tr>",
                            "<tr><td>980</td><td>AGNESH</td><td>143</td><td>2016-06-23</td><td>2016-06-26</td><td>1</td><td>0</td><td>AGNESH</td><td>NULL</td></tr>",
                            "<tr><td>1225</td><td>AGNESH</td><td>69</td><td>2016-10-30</td><td>2016-11-04</td><td>1</td><td>0</td><td>AGNESH</td><td>1</td></tr>",
                            "<tr><td>1034</td><td>akos</td><td>127</td><td>2016-09-06</td><td>2016-09-12</td><td>1</td><td>0</td><td>akos</td><td>NULL</td></tr>",
                            "<tr><td>705</td><td>akos</td><td>37</td><td>2016-07-22</td><td>2016-07-26</td><td>1</td><td>0</td><td>akos</td><td>1</td></tr>",
                            "<tr><td>651</td><td>aladar</td><td>4</td><td>2016-05-17</td><td>2016-05-24</td><td>1</td><td>0</td><td>aladar</td><td>NULL</td></tr>",
                            "<tr><td>1079</td><td>aladar</td><td>86</td><td>2016-09-24</td><td>2016-09-28</td><td>1</td><td>0</td><td>aladar</td><td>1</td></tr>",
                            "<tr><td>1436</td><td>alexandra</td><td>35</td><td>2017-01-13</td><td>2017-01-14</td><td>1</td><td>0</td><td>alexandra</td><td>NULL</td></tr>",
                            "<tr><td>955</td><td>andi</td><td>47</td><td>2016-06-13</td><td>2016-06-14</td><td>1</td><td>0</td><td>andi</td><td>NULL</td></tr>",
                            "<tr><td>884</td><td>andras2</td><td>98</td><td>2016-05-30</td><td>2016-06-04</td><td>1</td><td>0</td><td>andras2</td><td>NULL</td></tr>",
                            "<tr><td>697</td><td>andras21</td><td>12</td><td>2016-07-20</td><td>2016-07-22</td><td>1</td><td>0</td><td>andras21</td><td>NULL</td></tr>",
                            "<tr><td>880</td><td>andras3</td><td>184</td><td>2016-05-30</td><td>2016-06-03</td><td>1</td><td>0</td><td>andras3</td><td>NULL</td></tr>",
                            "<tr><td>949</td><td>andras3</td><td>1</td><td>2016-06-10</td><td>2016-06-11</td><td>1</td><td>0</td><td>andras3</td><td>1</td></tr>",
                            "<tr><td>799</td><td>andras41</td><td>175</td><td>2016-08-19</td><td>2016-08-23</td><td>1</td><td>0</td><td>andras41</td><td>NULL</td></tr>",
                            "<tr><td>1308</td><td>andras41</td><td>182</td><td>2016-11-23</td><td>2016-11-24</td><td>1</td><td>0</td><td>andras41</td><td>1</td></tr>",
                            "<tr><td>1074</td><td>andras41</td><td>195</td><td>2016-09-22</td><td>2016-09-29</td><td>1</td><td>0</td><td>andras41</td><td>1</td></tr>",
                            "<tr><td>600</td><td>ANDRASE</td><td>190</td><td>2016-04-24</td><td>2016-05-01</td><td>1</td><td>0</td><td>ANDRASE</td><td>NULL</td></tr>",
                            "<tr><td>860</td><td>andrea4</td><td>70</td><td>2016-05-27</td><td>2016-05-29</td><td>1</td><td>0</td><td>andrea4</td><td>NULL</td></tr>",
                            "<tr><td>567</td><td>anett3</td><td>170</td><td>2016-04-10</td><td>2016-04-17</td><td>1</td><td>0</td><td>anett3</td><td>NULL</td></tr>",
                            "<tr><td>1159</td><td>anett3</td><td>73</td><td>2016-10-16</td><td>2016-10-21</td><td>1</td><td>0</td><td>anett3</td><td>1</td></tr>",
                            "<tr><td>1001</td><td>aniko4</td><td>4</td><td>2016-07-02</td><td>2016-07-09</td><td>1</td><td>0</td><td>aniko4</td><td>NULL</td></tr>",
                            "<tr><td>965</td><td>ANIKOS</td><td>5</td><td>2016-06-16</td><td>2016-06-23</td><td>1</td><td>0</td><td>ANIKOS</td><td>NULL</td></tr>",
                            "<tr><td>684</td><td>ANNAMARIAR</td><td>184</td><td>2016-07-18</td><td>2016-07-21</td><td>1</td><td>0</td><td>ANNAMARIAR</td><td>NULL</td></tr>",
                            "<tr><td>1066</td><td>ARPADH</td><td>49</td><td>2016-09-18</td><td>2016-09-25</td><td>1</td><td>0</td><td>ARPADH</td><td>NULL</td></tr>",
                            "<tr><td>1056</td><td>ARPADH</td><td>47</td><td>2016-09-16</td><td>2016-09-23</td><td>1</td><td>0</td><td>ARPADH</td><td>1</td></tr>",
                            "<tr><td>1342</td><td>ARPADH</td><td>170</td><td>2016-12-04</td><td>2016-12-10</td><td>1</td><td>0</td><td>ARPADH</td><td>1</td></tr>",
                            "<tr><td>1420</td><td>ARPADM</td><td>198</td><td>2017-01-05</td><td>2017-01-10</td><td>1</td><td>0</td><td>ARPADM</td><td>NULL</td></tr>",
                            "<tr><td>1154</td><td>attila</td><td>115</td><td>2016-10-15</td><td>2016-10-19</td><td>1</td><td>0</td><td>attila</td><td>NULL</td></tr>",
                            "<tr><td>657</td><td>attila1</td><td>137</td><td>2016-05-20</td><td>2016-05-26</td><td>1</td><td>0</td><td>attila1</td><td>NULL</td></tr>",
                            "<tr><td>1578</td><td>balazs2</td><td>148</td><td>2017-02-27</td><td>2017-03-06</td><td>1</td><td>0</td><td>balazs2</td><td>NULL</td></tr>",
                            "<tr><td>948</td><td>balint1</td><td>19</td><td>2016-06-10</td><td>2016-06-12</td><td>1</td><td>0</td><td>balint1</td><td>NULL</td></tr>",
                            "<tr><td>1057</td><td>balint1</td><td>86</td><td>2016-09-16</td><td>2016-09-21</td><td>1</td><td>0</td><td>balint1</td><td>1</td></tr>",
                            "<tr><td>702</td><td>balint2</td><td>62</td><td>2016-07-21</td><td>2016-07-26</td><td>1</td><td>0</td><td>balint2</td><td>NULL</td></tr>",
                            "<tr><td>1005</td><td>beata4</td><td>22</td><td>2016-07-03</td><td>2016-07-06</td><td>1</td><td>0</td><td>beata4</td><td>NULL</td></tr>",
                            "<tr><td>1112</td><td>beata4</td><td>155</td><td>2016-10-01</td><td>2016-10-05</td><td>1</td><td>0</td><td>beata4</td><td>1</td></tr>",
                            "<tr><td>586</td><td>BEATRIXS</td><td>107</td><td>2016-04-18</td><td>2016-04-24</td><td>1</td><td>0</td><td>BEATRIXS</td><td>NULL</td></tr>",
                            "<tr><td>1350</td><td>BELAF</td><td>173</td><td>2016-12-06</td><td>2016-12-09</td><td>1</td><td>0</td><td>BELAF</td><td>NULL</td></tr>",
                            "<tr><td>872</td><td>bence</td><td>28</td><td>2016-05-29</td><td>2016-06-03</td><td>1</td><td>0</td><td>bence</td><td>NULL</td></tr>",
                            "<tr><td>1568</td><td>bernadett1</td><td>29</td><td>2017-02-24</td><td>2017-03-03</td><td>1</td><td>0</td><td>bernadett1</td><td>NULL</td></tr>",
                            "<tr><td>1367</td><td>bernadett2</td><td>80</td><td>2016-12-17</td><td>2016-12-20</td><td>1</td><td>0</td><td>bernadett2</td><td>NULL</td></tr>",
                            "<tr><td>974</td><td>bertalan</td><td>169</td><td>2016-06-20</td><td>2016-06-21</td><td>1</td><td>0</td><td>bertalan</td><td>NULL</td></tr>",
                            "<tr><td>1469</td><td>brigitta</td><td>13</td><td>2017-01-23</td><td>2017-01-25</td><td>1</td><td>0</td><td>brigitta</td><td>NULL</td></tr>",
                            "<tr><td>1466</td><td>dani</td><td>57</td><td>2017-01-22</td><td>2017-01-29</td><td>1</td><td>0</td><td>dani</td><td>NULL</td></tr>",
                            "<tr><td>1102</td><td>dani</td><td>108</td><td>2016-10-01</td><td>2016-10-02</td><td>1</td><td>0</td><td>dani</td><td>1</td></tr>",
                            "<tr><td>1430</td><td>daniel</td><td>12</td><td>2017-01-09</td><td>2017-01-11</td><td>1</td><td>0</td><td>daniel</td><td>NULL</td></tr>",
                            "<tr><td>757</td><td>david</td><td>88</td><td>2016-08-05</td><td>2016-08-12</td><td>1</td><td>0</td><td>david</td><td>NULL</td></tr>",
                            "<tr><td>1250</td><td>emese</td><td>107</td><td>2016-11-05</td><td>2016-11-09</td><td>1</td><td>0</td><td>emese</td><td>NULL</td></tr>",
                            "<tr><td>1187</td><td>eszter2</td><td>46</td><td>2016-10-23</td><td>2016-10-30</td><td>1</td><td>0</td><td>eszter2</td><td>NULL</td></tr>",
                            "<tr><td>1171</td><td>eszter2</td><td>172</td><td>2016-10-20</td><td>2016-10-25</td><td>1</td><td>0</td><td>eszter2</td><td>1</td></tr>",
                            "<tr><td>1109</td><td>eszter2</td><td>110</td><td>2016-10-01</td><td>2016-10-06</td><td>1</td><td>0</td><td>eszter2</td><td>1</td></tr>",
                            "<tr><td>1017</td><td>eszter2</td><td>190</td><td>2016-07-08</td><td>2016-07-09</td><td>1</td><td>0</td><td>eszter2</td><td>1</td></tr>",
                            "<tr><td>1480</td><td>eszter2</td><td>35</td><td>2016-12-29</td><td>2017-02-04</td><td>1</td><td>0</td><td>eszter2</td><td>1</td></tr>",
                            "<tr><td>1336</td><td>eszter2</td><td>172</td><td>2016-12-02</td><td>2016-12-07</td><td>1</td><td>0</td><td>eszter2</td><td>1</td></tr>",
                            "<tr><td>845</td><td>eva2</td><td>63</td><td>2016-09-02</td><td>2016-09-03</td><td>1</td><td>0</td><td>eva2</td><td>NULL</td></tr>",
                            "<tr><td>1366</td><td>fruzsina4</td><td>81</td><td>2016-12-16</td><td>2016-12-21</td><td>1</td><td>0</td><td>fruzsina4</td><td>NULL</td></tr>",
                            "<tr><td>1026</td><td>gabor1</td><td>119</td><td>2016-07-12</td><td>2016-07-15</td><td>1</td><td>0</td><td>gabor1</td><td>NULL</td></tr>",
                            "<tr><td>1169</td><td>gabor1</td><td>93</td><td>2016-10-20</td><td>2016-10-24</td><td>1</td><td>0</td><td>gabor1</td><td>1</td></tr>",
                            "<tr><td>878</td><td>gabor4</td><td>83</td><td>2016-05-30</td><td>2016-06-05</td><td>1</td><td>0</td><td>gabor4</td><td>NULL</td></tr>",
                            "<tr><td>945</td><td>GYONGYIK</td><td>23</td><td>2016-06-10</td><td>2016-06-17</td><td>1</td><td>0</td><td>GYONGYIK</td><td>NULL</td></tr>",
                            "<tr><td>1213</td><td>GYORGYO</td><td>91</td><td>2016-10-28</td><td>2016-10-31</td><td>1</td><td>0</td><td>GYORGYO</td><td>NULL</td></tr>",
                            "<tr><td>818</td><td>henrik3</td><td>8</td><td>2016-08-24</td><td>2016-08-28</td><td>1</td><td>0</td><td>henrik3</td><td>NULL</td></tr>",
                            "<tr><td>689</td><td>istvan1</td><td>102</td><td>2016-07-19</td><td>2016-07-24</td><td>1</td><td>0</td><td>istvan1</td><td>NULL</td></tr>",
                            "<tr><td>904</td><td>janos3</td><td>34</td><td>2016-06-04</td><td>2016-06-06</td><td>1</td><td>0</td><td>janos3</td><td>NULL</td></tr>",
                            "<tr><td>1177</td><td>janos3</td><td>150</td><td>2016-10-22</td><td>2016-10-23</td><td>1</td><td>0</td><td>janos3</td><td>1</td></tr>",
                            "<tr><td>631</td><td>JANOSG</td><td>98</td><td>2016-05-09</td><td>2016-05-15</td><td>1</td><td>0</td><td>JANOSG</td><td>NULL</td></tr>",
                            "<tr><td>852</td><td>JOZSEFG</td><td>24</td><td>2016-05-23</td><td>2016-05-25</td><td>1</td><td>0</td><td>JOZSEFG</td><td>NULL</td></tr>",
                            "<tr><td>1461</td><td>JOZSEFG</td><td>77</td><td>2017-01-22</td><td>2017-01-26</td><td>1</td><td>0</td><td>JOZSEFG</td><td>1</td></tr>",
                            "<tr><td>1379</td><td>JUDITH</td><td>83</td><td>2016-12-19</td><td>2016-12-26</td><td>1</td><td>0</td><td>JUDITH</td><td>NULL</td></tr>",
                            "<tr><td>638</td><td>julia</td><td>67</td><td>2016-05-12</td><td>2016-05-17</td><td>1</td><td>0</td><td>julia</td><td>NULL</td></tr>",
                            "<tr><td>1258</td><td>julia4</td><td>52</td><td>2016-11-07</td><td>2016-11-12</td><td>1</td><td>0</td><td>julia4</td><td>NULL</td></tr>",
                            "<tr><td>601</td><td>kata</td><td>39</td><td>2016-04-25</td><td>2016-05-01</td><td>1</td><td>0</td><td>kata</td><td>NULL</td></tr>",
                            "<tr><td>1006</td><td>kata</td><td>70</td><td>2016-07-03</td><td>2016-07-06</td><td>1</td><td>0</td><td>kata</td><td>1</td></tr>",
                            "<tr><td>1015</td><td>katalin</td><td>174</td><td>2016-07-06</td><td>2016-07-11</td><td>1</td><td>0</td><td>katalin</td><td>NULL</td></tr>",
                            "<tr><td>661</td><td>katalin</td><td>136</td><td>2016-05-21</td><td>2016-05-26</td><td>1</td><td>0</td><td>katalin</td><td>1</td></tr>",
                            "<tr><td>733</td><td>katalin</td><td>140</td><td>2016-07-28</td><td>2016-07-29</td><td>1</td><td>0</td><td>katalin</td><td>1</td></tr>",
                            "<tr><td>1372</td><td>katalin</td><td>106</td><td>2016-12-17</td><td>2016-12-24</td><td>1</td><td>0</td><td>katalin</td><td>1</td></tr>",
                            "<tr><td>997</td><td>katalin4</td><td>82</td><td>2016-07-01</td><td>2016-07-07</td><td>1</td><td>0</td><td>katalin4</td><td>NULL</td></tr>",
                            "<tr><td>954</td><td>katka</td><td>84</td><td>2016-06-13</td><td>2016-06-18</td><td>1</td><td>0</td><td>katka</td><td>NULL</td></tr>",
                            "<tr><td>787</td><td>krisztian4</td><td>50</td><td>2016-08-16</td><td>2016-08-19</td><td>1</td><td>0</td><td>krisztian4</td><td>NULL</td></tr>",
                            "<tr><td>834</td><td>krisztian4</td><td>149</td><td>2016-08-29</td><td>2016-09-03</td><td>1</td><td>0</td><td>krisztian4</td><td>1</td></tr>",
                            "<tr><td>1422</td><td>krisztian4</td><td>182</td><td>2017-01-06</td><td>2017-01-09</td><td>1</td><td>0</td><td>krisztian4</td><td>1</td></tr>",
                            "<tr><td>1443</td><td>KRISZTIANM</td><td>81</td><td>2017-01-16</td><td>2017-01-23</td><td>1</td><td>0</td><td>KRISZTIANM</td><td>NULL</td></tr>",
                            "<tr><td>1306</td><td>krisztina</td><td>133</td><td>2016-11-22</td><td>2016-11-25</td><td>1</td><td>0</td><td>krisztina</td><td>NULL</td></tr>",
                            "<tr><td>1048</td><td>krisztina</td><td>95</td><td>2016-09-13</td><td>2016-09-16</td><td>1</td><td>0</td><td>krisztina</td><td>1</td></tr>",
                            "<tr><td>648</td><td>krisztina1</td><td>157</td><td>2016-05-16</td><td>2016-05-20</td><td>1</td><td>0</td><td>krisztina1</td><td>NULL</td></tr>",
                            "<tr><td>935</td><td>KRISZTINAG</td><td>56</td><td>2016-06-08</td><td>2016-06-12</td><td>1</td><td>0</td><td>KRISZTINAG</td><td>NULL</td></tr>",
                            "<tr><td>854</td><td>KRISZTINAG</td><td>167</td><td>2016-05-24</td><td>2016-05-31</td><td>1</td><td>0</td><td>KRISZTINAG</td><td>1</td></tr>",
                            "<tr><td>1523</td><td>lajos</td><td>11</td><td>2017-02-12</td><td>2017-02-13</td><td>1</td><td>0</td><td>lajos</td><td>NULL</td></tr>",
                            "<tr><td>923</td><td>LASZLOA</td><td>123</td><td>2016-06-07</td><td>2016-06-11</td><td>1</td><td>0</td><td>LASZLOA</td><td>NULL</td></tr>",
                            "<tr><td>892</td><td>LASZLON</td><td>165</td><td>2016-06-03</td><td>2016-06-06</td><td>1</td><td>0</td><td>LASZLON</td><td>NULL</td></tr>",
                            "<tr><td>1329</td><td>LASZLON</td><td>171</td><td>2016-11-29</td><td>2016-12-04</td><td>1</td><td>0</td><td>LASZLON</td><td>1</td></tr>",
                            "<tr><td>1136</td><td>LASZLON</td><td>30</td><td>2016-10-09</td><td>2016-10-14</td><td>1</td><td>0</td><td>LASZLON</td><td>1</td></tr>",
                            "<tr><td>981</td><td>maria1</td><td>171</td><td>2016-06-23</td><td>2016-06-27</td><td>1</td><td>0</td><td>maria1</td><td>NULL</td></tr>",
                            "<tr><td>652</td><td>maria1</td><td>149</td><td>2016-05-18</td><td>2016-05-19</td><td>1</td><td>0</td><td>maria1</td><td>1</td></tr>",
                            "<tr><td>846</td><td>maria1</td><td>45</td><td>2016-09-02</td><td>2016-09-05</td><td>1</td><td>0</td><td>maria1</td><td>1</td></tr>",
                            "<tr><td>1172</td><td>mark</td><td>197</td><td>2016-10-20</td><td>2016-10-27</td><td>1</td><td>0</td><td>mark</td><td>NULL</td></tr>",
                            "<tr><td>620</td><td>marton</td><td>1</td><td>2016-05-05</td><td>2016-05-10</td><td>1</td><td>0</td><td>marton</td><td>NULL</td></tr>",
                            "<tr><td>891</td><td>MATYASS</td><td>63</td><td>2016-06-02</td><td>2016-06-08</td><td>1</td><td>0</td><td>MATYASS</td><td>NULL</td></tr>",
                            "<tr><td>1190</td><td>MATYASS</td><td>161</td><td>2016-10-24</td><td>2016-10-31</td><td>1</td><td>0</td><td>MATYASS</td><td>1</td></tr>",
                            "<tr><td>990</td><td>MIHALYJ</td><td>6</td><td>2016-06-27</td><td>2016-07-01</td><td>1</td><td>0</td><td>MIHALYJ</td><td>NULL</td></tr>",
                            "<tr><td>839</td><td>MIHALYJ</td><td>172</td><td>2016-08-29</td><td>2016-09-03</td><td>1</td><td>0</td><td>MIHALYJ</td><td>1</td></tr>",
                            "<tr><td>1134</td><td>miklos2</td><td>126</td><td>2016-10-08</td><td>2016-10-09</td><td>1</td><td>0</td><td>miklos2</td><td>NULL</td></tr>",
                            "<tr><td>1450</td><td>MONIKAM</td><td>139</td><td>2017-01-17</td><td>2017-01-24</td><td>1</td><td>0</td><td>MONIKAM</td><td>NULL</td></tr>",
                            "<tr><td>708</td><td>MONIKAM</td><td>106</td><td>2016-07-23</td><td>2016-07-30</td><td>1</td><td>0</td><td>MONIKAM</td><td>1</td></tr>",
                            "<tr><td>897</td><td>nikolett3</td><td>165</td><td>2016-06-03</td><td>2016-06-09</td><td>1</td><td>0</td><td>nikolett3</td><td>NULL</td></tr>",
                            "<tr><td>976</td><td>nikolett3</td><td>76</td><td>2016-06-22</td><td>2016-06-24</td><td>1</td><td>0</td><td>nikolett3</td><td>1</td></tr>",
                            "<tr><td>1018</td><td>norbert</td><td>40</td><td>2016-07-08</td><td>2016-07-13</td><td>1</td><td>0</td><td>norbert</td><td>NULL</td></tr>",
                            "<tr><td>1576</td><td>norbert</td><td>189</td><td>2017-02-26</td><td>2017-03-01</td><td>1</td><td>0</td><td>norbert</td><td>1</td></tr>",
                            "<tr><td>782</td><td>norbert2</td><td>163</td><td>2016-08-16</td><td>2016-08-19</td><td>1</td><td>0</td><td>norbert2</td><td>NULL</td></tr>",
                            "<tr><td>587</td><td>norbert2</td><td>123</td><td>2016-04-19</td><td>2016-04-26</td><td>1</td><td>0</td><td>norbert2</td><td>1</td></tr>",
                            "<tr><td>1541</td><td>norbert4</td><td>155</td><td>2017-02-16</td><td>2017-02-17</td><td>1</td><td>0</td><td>norbert4</td><td>NULL</td></tr>",
                            "<tr><td>1252</td><td>norbert5</td><td>7</td><td>2016-11-05</td><td>2016-11-07</td><td>1</td><td>0</td><td>norbert5</td><td>NULL</td></tr>",
                            "<tr><td>1434</td><td>peter3</td><td>3</td><td>2017-01-12</td><td>2017-01-17</td><td>1</td><td>0</td><td>peter3</td><td>NULL</td></tr>",
                            "<tr><td>1396</td><td>peter3</td><td>72</td><td>2016-12-25</td><td>2016-12-28</td><td>1</td><td>0</td><td>peter3</td><td>1</td></tr>",
                            "<tr><td>562</td><td>PETERB</td><td>7</td><td>2016-04-06</td><td>2016-04-10</td><td>1</td><td>0</td><td>PETERB</td><td>NULL</td></tr>",
                            "<tr><td>781</td><td>PETERB</td><td>166</td><td>2016-08-16</td><td>2016-08-23</td><td>1</td><td>0</td><td>PETERB</td><td>1</td></tr>",
                            "<tr><td>1312</td><td>RENATAK</td><td>94</td><td>2016-11-23</td><td>2016-11-26</td><td>1</td><td>0</td><td>RENATAK</td><td>NULL</td></tr>",
                            "<tr><td>1224</td><td>RENATAK</td><td>50</td><td>2016-10-30</td><td>2016-10-31</td><td>1</td><td>0</td><td>RENATAK</td><td>1</td></tr>",
                            "<tr><td>1543</td><td>RENATAK</td><td>95</td><td>2017-02-16</td><td>2017-02-23</td><td>1</td><td>0</td><td>RENATAK</td><td>1</td></tr>",
                            "<tr><td>1581</td><td>RENATAK</td><td>48</td><td>2017-03-01</td><td>2017-03-06</td><td>1</td><td>0</td><td>RENATAK</td><td>1</td></tr>",
                            "<tr><td>1529</td><td>RENATAS</td><td>35</td><td>2017-02-13</td><td>2017-02-17</td><td>1</td><td>0</td><td>RENATAS</td><td>NULL</td></tr>",
                            "<tr><td>1374</td><td>robert2</td><td>118</td><td>2016-12-17</td><td>2016-12-22</td><td>1</td><td>0</td><td>robert2</td><td>NULL</td></tr>",
                            "<tr><td>1186</td><td>ROBERTI</td><td>58</td><td>2016-10-23</td><td>2016-10-29</td><td>1</td><td>0</td><td>ROBERTI</td><td>NULL</td></tr>",
                            "<tr><td>1384</td><td>roland1</td><td>84</td><td>2016-12-22</td><td>2016-12-29</td><td>1</td><td>0</td><td>roland1</td><td>NULL</td></tr>",
                            "<tr><td>858</td><td>sandor3</td><td>121</td><td>2016-05-25</td><td>2016-05-30</td><td>1</td><td>0</td><td>sandor3</td><td>NULL</td></tr>",
                            "<tr><td>1339</td><td>sandor4</td><td>120</td><td>2016-12-03</td><td>2016-12-09</td><td>1</td><td>0</td><td>sandor4</td><td>NULL</td></tr>",
                            "<tr><td>1156</td><td>sandor4</td><td>140</td><td>2016-10-15</td><td>2016-10-18</td><td>1</td><td>0</td><td>sandor4</td><td>1</td></tr>",
                            "<tr><td>1351</td><td>sara</td><td>38</td><td>2016-12-06</td><td>2016-12-10</td><td>1</td><td>0</td><td>sara</td><td>NULL</td></tr>",
                            "<tr><td>1508</td><td>SZILARDS</td><td>191</td><td>2017-02-08</td><td>2017-02-15</td><td>1</td><td>0</td><td>SZILARDS</td><td>NULL</td></tr>",
                            "<tr><td>1338</td><td>TAMASF</td><td>145</td><td>2016-12-02</td><td>2016-12-04</td><td>1</td><td>0</td><td>TAMASF</td><td>NULL</td></tr>",
                            "<tr><td>1251</td><td>tibor</td><td>184</td><td>2016-11-05</td><td>2016-11-09</td><td>1</td><td>0</td><td>tibor</td><td>NULL</td></tr>",
                            "<tr><td>881</td><td>tihamer</td><td>131</td><td>2016-05-30</td><td>2016-06-05</td><td>1</td><td>0</td><td>tihamer</td><td>NULL</td></tr>",
                            "<tr><td>669</td><td>tunde</td><td>173</td><td>2016-07-14</td><td>2016-07-21</td><td>1</td><td>0</td><td>tunde</td><td>NULL</td></tr>",
                            "<tr><td>709</td><td>valentin</td><td>172</td><td>2016-07-24</td><td>2016-07-29</td><td>1</td><td>0</td><td>valentin</td><td>NULL</td></tr>",
                            "<tr><td>790</td><td>veronika4</td><td>10</td><td>2016-08-16</td><td>2016-08-21</td><td>1</td><td>0</td><td>veronika4</td><td>NULL</td></tr>",
                            "<tr><td>610</td><td>VIKTORIAU</td><td>106</td><td>2016-04-30</td><td>2016-05-03</td><td>1</td><td>0</td><td>VIKTORIAU</td><td>NULL</td></tr>",
                            "<tr><td>1103</td><td>vivien3</td><td>87</td><td>2016-10-01</td><td>2016-10-04</td><td>1</td><td>0</td><td>vivien3</td><td>NULL</td></tr>",
                            "<tr><td>1230</td><td>zoltan4</td><td>182</td><td>2016-10-30</td><td>2016-11-06</td><td>1</td><td>0</td><td>zoltan4</td><td>NULL</td></tr>",
                            "<tr><td>1403</td><td>zoltan4</td><td>124</td><td>2016-12-29</td><td>2017-01-04</td><td>1</td><td>0</td><td>zoltan4</td><td>1</td></tr>",
                            "<tr><td>779</td><td>zoltan4</td><td>130</td><td>2016-08-15</td><td>2016-08-21</td><td>1</td><td>0</td><td>zoltan4</td><td>1</td></tr>",
                            "<tr><td>893</td><td>zoltan4</td><td>151</td><td>2016-06-03</td><td>2016-06-06</td><td>1</td><td>0</td><td>zoltan4</td><td>1</td></tr>",
                            "<tr><td>867</td><td>ZSOLTJ</td><td>175</td><td>2016-05-28</td><td>2016-06-03</td><td>1</td><td>0</td><td>ZSOLTJ</td><td>NULL</td></tr>",
                            "<tr><td>1428</td><td>zsuzsanna</td><td>126</td><td>2017-01-09</td><td>2017-01-16</td><td>1</td><td>0</td><td>zsuzsanna</td><td>NULL</td></tr>",
                            "<tr><td>1202</td><td>ZSUZSAV</td><td>52</td><td>2016-10-26</td><td>2016-10-28</td><td>1</td><td>0</td><td>ZSUZSAV</td><td>NULL</td></tr>",
                            "</table>"
                        ]
                    }
                }
            ],
            "execution_count": 4
        }
    ]
}